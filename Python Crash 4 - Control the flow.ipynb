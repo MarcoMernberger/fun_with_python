{
 "cells": [
  {
   "cell_type": "markdown",
   "id": "49049325-9ce3-4e7d-a75e-0590334d1c60",
   "metadata": {},
   "source": [
    "# Python Programming Crash Course - \n",
    "# Control the flow\n",
    "<br>\n",
    "<div>\n",
    "<img src=\"data/Python-logo-notext.svg\" width=\"200\"/>\n",
    "</div>\n",
    "\n",
    "\n",
    "So far, we know how to write scripts, use variables, know about data types and know about containers like lists and dictionaries.\n",
    "\n",
    "But still, all we did so far is to execute each statement one by one. Remember the lumberjack, where we printed each line with a new print statement.\n",
    "That does not appear to be too elegant. And it does have it's limits as well.\n",
    "\n",
    "Suppose we want our code to deal with different situations, different user input or to do something only, if certain criterias are met. What then? \n",
    "So let's talk about loops, conditional love and indentation.\n"
   ]
  },
  {
   "cell_type": "markdown",
   "id": "4bb4e3b7-99f0-46dc-bcea-19fe6627201a",
   "metadata": {},
   "source": [
    "## Conditional statements\n",
    "\n",
    "Conditional statements are statements that evaluate certain conditons and execute code, if a certain condition is met or not, or more\n",
    "precisely, if the statement is <font color='#3da831'>**True**</font> or <font color='#3da831'>**False**</font>.\n",
    "Hey, we already know how to do that! That's what boolean expressions are for!"
   ]
  },
  {
   "cell_type": "code",
   "execution_count": 1,
   "id": "0eb20419-dd87-4aa3-8d7e-f3f99bfad755",
   "metadata": {},
   "outputs": [
    {
     "name": "stdout",
     "output_type": "stream",
     "text": [
      "True\n",
      "False\n"
     ]
    }
   ],
   "source": [
    "# boolean expressions again ... \n",
    "\n",
    "johns_age = 2024 - 1939\n",
    "erics_age = 2024 - 1943\n",
    "is_john_older_than_eric = johns_age > erics_age\n",
    "print(is_john_older_than_eric)\n",
    "\n",
    "\n",
    "some_number = 15\n",
    "condition = some_number < 10\n",
    "print(condition)"
   ]
  },
  {
   "cell_type": "markdown",
   "id": "f6cea8e2-807c-43eb-8cb1-66a945057ca1",
   "metadata": {},
   "source": [
    "Now we need to use them.\n",
    "\n",
    "We want our program to do something, <font color='#3da831'>**if**</font> a condition is <font color='#3da831'>**True**</font> or maybe something <font color='#3da831'>**else**</font>, if it's <font color='#3da831'>**False**</font>. That's exactly how we write it!\n",
    "\n",
    "In Python you have the keywords <font color='#3da831'>**if**</font>, <font color='#3da831'>**elif**</font> and <font color='#3da831'>**else**</font> to define that.\n"
   ]
  },
  {
   "cell_type": "code",
   "execution_count": 3,
   "id": "0d45bf8c-9cd1-4f56-b448-536b0292361d",
   "metadata": {},
   "outputs": [],
   "source": [
    "# an if-statement\n",
    "some_number = -15\n",
    "if some_number > 0:\n",
    "    print(\"The number is positive!\")"
   ]
  },
  {
   "cell_type": "markdown",
   "id": "c7f0a626-7dfb-427f-a831-db9643d680e6",
   "metadata": {},
   "source": [
    "The basic syntax is:\n",
    "\n",
    "```Python\n",
    "if condition:\n",
    "    # code to execute if condition is true\n",
    "```\n",
    "\n",
    "You can follow an if statement, with an <font color='#3da831'>**else**</font> to take care of what should happen, if the condition is not true:"
   ]
  },
  {
   "cell_type": "code",
   "execution_count": 6,
   "id": "b28d8e4d-2b5c-4a07-acf9-d696b5b32869",
   "metadata": {},
   "outputs": [
    {
     "name": "stdout",
     "output_type": "stream",
     "text": [
      "The number is negative!\n"
     ]
    }
   ],
   "source": [
    "# an if-else statement\n",
    "some_number = 0\n",
    "if some_number > 0:\n",
    "    print(\"The number is positive!\")\n",
    "else:\n",
    "    print(\"The number is negative!\")"
   ]
  },
  {
   "cell_type": "markdown",
   "id": "54aab610-c55a-4267-a138-d651847fab30",
   "metadata": {},
   "source": [
    "Okay, what is wrong with the code above?\n",
    "It's not correct! What if some_number is zero? Let's fix this! "
   ]
  },
  {
   "cell_type": "code",
   "execution_count": 9,
   "id": "b5c72279-3add-4770-8df1-50c5ac9e602b",
   "metadata": {},
   "outputs": [
    {
     "name": "stdout",
     "output_type": "stream",
     "text": [
      "The number is neither positive nor negative!\n"
     ]
    }
   ],
   "source": [
    "# an if-elif-else statement\n",
    "some_number = 0\n",
    "if some_number > 0:\n",
    "    print(\"The number is positive!\")\n",
    "elif some_number == 0:\n",
    "    print(\"The number is neither positive nor negative!\")\n",
    "else:\n",
    "    print(\"The number is negative!\")"
   ]
  },
  {
   "cell_type": "markdown",
   "id": "aa429d11-4150-41be-b25d-143839449072",
   "metadata": {},
   "source": [
    "The general syntax is\n",
    "\n",
    "```Python\n",
    "if conditionA:\n",
    "    # code to execute if conditionA is true\n",
    "elif conditionB:\n",
    "    # code to execute if conditionB is true\n",
    "else:\n",
    "    # code to execute otherwise\n",
    "```\n",
    "\n",
    "Great, we learned another three important <font color='green'>**keywords**</font>!\n",
    "\n",
    "Here are some more .... <font color='#3da831'>**and**</font>, <font color='#3da831'>**or**</font> and <font color='#3da831'>**not**</font>!"
   ]
  },
  {
   "cell_type": "code",
   "execution_count": 14,
   "id": "8e6d8eba-c963-4c4a-b606-aa37308eafaa",
   "metadata": {},
   "outputs": [
    {
     "name": "stdout",
     "output_type": "stream",
     "text": [
      "Is eric older? False\n",
      "John is older than Eric!\n"
     ]
    }
   ],
   "source": [
    "# if something is not true\n",
    "eric_is_older_than_john = erics_age > johns_age\n",
    "print(\"Is eric older?\", eric_is_older_than_john)\n",
    "another_condition = True\n",
    "\n",
    "if not eric_is_older_than_john:\n",
    "    print(\"John is older than Eric!\")\n",
    "else:\n",
    "    print(\"Eric is older than John!\")\n"
   ]
  },
  {
   "cell_type": "markdown",
   "id": "c2a60a9f-2f22-41ab-a90e-7c46b9038308",
   "metadata": {},
   "source": [
    "The booolean operator <font color='#3da831'>**not**</font> is used to negate the condition. We also don't need a variable to define the condition, we can just plug in any boolean expression:"
   ]
  },
  {
   "cell_type": "code",
   "execution_count": 15,
   "id": "b97d4f6f-13da-41b0-b338-c3c8e1b32cc9",
   "metadata": {},
   "outputs": [
    {
     "name": "stdout",
     "output_type": "stream",
     "text": [
      "John is older than Eric!\n"
     ]
    }
   ],
   "source": [
    "if not erics_age > johns_age:\n",
    "    print(\"John is older than Eric!\")\n",
    "else:\n",
    "    print(\"Eric is older than John!\")"
   ]
  },
  {
   "cell_type": "markdown",
   "id": "ccae7181-230f-4bba-bb60-4d002c914d77",
   "metadata": {},
   "source": [
    "We can also use more complex conditions and patch them together:"
   ]
  },
  {
   "cell_type": "code",
   "execution_count": 16,
   "id": "6b0f308f-9b10-49a3-a8d0-fe60409c60b9",
   "metadata": {},
   "outputs": [
    {
     "name": "stdout",
     "output_type": "stream",
     "text": [
      "John is the oldest one!\n"
     ]
    }
   ],
   "source": [
    "michaels_age = 81\n",
    "if (not eric_is_older_than_john) and (johns_age > michaels_age):\n",
    "    print(\"John is the oldest one!\")\n",
    "elif eric_is_older_than_john or (michaels_age > johns_age):\n",
    "    print(\"Now Michael is oldest!\")\n",
    "else:\n",
    "    print(\"That must mean John and Michael are the same age ...\")"
   ]
  },
  {
   "cell_type": "markdown",
   "id": "9135c324-c8c2-476e-a6df-1ae279aaeaf7",
   "metadata": {},
   "source": [
    "We can also use as many conditions as we need:"
   ]
  },
  {
   "cell_type": "code",
   "execution_count": 22,
   "id": "acd32519-217f-44c7-8d34-9fb254ae74c4",
   "metadata": {},
   "outputs": [
    {
     "name": "stdout",
     "output_type": "stream",
     "text": [
      "First shalt thou take out the Holy Pin. Then shalt thou count to three, no more, no less.\n",
      "\n",
      "Once the number three, being the third number, be reached, then lobbest thou thy Holy Hand Grenade of Antioch towards thy foe!\n"
     ]
    }
   ],
   "source": [
    "# multiple ifs\n",
    "count = 3\n",
    "\n",
    "print(\"First shalt thou take out the Holy Pin. Then shalt thou count to three, no more, no less.\\n\")\n",
    "\n",
    "if count == 3:\n",
    "    print(\"Once the number three, being the third number, be reached, then lobbest thou thy Holy Hand Grenade of Antioch towards thy foe!\")\n",
    "elif count == 4:\n",
    "    print(\"Four shalt thou not count!\")\n",
    "elif count == 2:\n",
    "    print(\"Neither count thou two, excepting that thou then proceed to three!\")\n",
    "elif count == 5:\n",
    "    print(\"Five is right out!\")\n",
    "else:\n",
    "    print(\"Three shall be the number thou shalt count, and the number of the counting shall be three!\")\n",
    "    "
   ]
  },
  {
   "cell_type": "markdown",
   "id": "d6892505-7bb0-4268-95bd-ab8116457d5d",
   "metadata": {},
   "source": [
    "### Indentation\n",
    "\n",
    "You have probably noticed the <font color='green'>**indentation**</font> above. What's up with that?\n",
    "\n",
    "In order to structure the code, e.g. to tell which part of the code has to be executed conditionally, we use <font color='green'>**indentation**</font> in Python. \n",
    "Obviously it is neccessary to have some form of __syntax__ to structure the code. In some languages, this is done by using parentheses, here we use <font color='green'>**indentation**</font>.\n",
    "\n",
    "Regardless of the __syntax__, <font color='green'>**indentation**</font> is recommended in a lot of programming languages and it's good practice to structure code visually to improve readability. \n",
    "In Python however, <font color='green'>**indentation**</font> is mandatory, as it tells the computer, that this is a code segment, that is to be run only, if a certain condition is <font color='#3da831'>**True**</font>. \n",
    "\n",
    "Indentation in python is always 4 spaces.\n",
    "\n",
    "Example:"
   ]
  },
  {
   "cell_type": "code",
   "execution_count": 24,
   "id": "1a5fd613-0ca2-4544-a4b1-9fe5b4452347",
   "metadata": {},
   "outputs": [
    {
     "name": "stdout",
     "output_type": "stream",
     "text": [
      "do this always\n",
      "do this, if something isn't true\n",
      "do this anyways, regardless if something is true or not!\n"
     ]
    }
   ],
   "source": [
    "# indentation and how it works\n",
    "\n",
    "something_is_true = False\n",
    "print(\"do this always\")\n",
    "if something_is_true:\n",
    "    print(\"do this, because something is true ...\")\n",
    "    print(\"and do this as well, because something is true ...\")\n",
    "else:\n",
    "    print(\"do this, if something isn't true\")\n",
    "print(\"do this anyways, regardless if something is true or not!\")\n"
   ]
  },
  {
   "cell_type": "code",
   "execution_count": 28,
   "id": "101d9879-e802-4bcd-99e1-4924ded8c60c",
   "metadata": {},
   "outputs": [
    {
     "name": "stdout",
     "output_type": "stream",
     "text": [
      "do this always\n",
      "do this, because of condition_a ...\n",
      "do this anyways, as it is not indented\n"
     ]
    }
   ],
   "source": [
    "# what happens if both conditions are true?\n",
    "condition_a = True\n",
    "condition_b = True\n",
    "\n",
    "print(\"do this always\")\n",
    "if condition_a:\n",
    "    print(\"do this, because of condition_a ...\")\n",
    "elif condition_b:\n",
    "    print(\"rather do this if condition_a is not true but condition_b is true ...\")\n",
    "else:\n",
    "    print(\"do this, since neither condition_a, nor condition_b is true ...\")\n",
    "print(\"do this anyways, as it is not indented\")"
   ]
  },
  {
   "cell_type": "markdown",
   "id": "f338627e-7559-4a12-83b0-a8b2841e9cc5",
   "metadata": {},
   "source": [
    "Knowing about <font color='green'>**indentation**</font>, you can also easily see, how a nested <font color='#3da831'>**if**</font>-<font color='#3da831'>**else**</font> statement would work:"
   ]
  },
  {
   "cell_type": "code",
   "execution_count": 29,
   "id": "c0916232-5079-42fe-90d3-9272af5fab37",
   "metadata": {},
   "outputs": [
    {
     "name": "stdout",
     "output_type": "stream",
     "text": [
      "Eric and Michael are both youngest\n"
     ]
    }
   ],
   "source": [
    "# nested if else\n",
    "\n",
    "if johns_age > erics_age:\n",
    "    if erics_age > michaels_age:\n",
    "        print(\"Michael is youngest\")\n",
    "    elif erics_age == michaels_age:\n",
    "        print(\"Eric and Michael are both youngest\")\n",
    "    else:\n",
    "        print(\"Eric is youngest\")\n",
    "else:\n",
    "    print(\"John is not the oldest any more\")\n",
    "        "
   ]
  },
  {
   "cell_type": "markdown",
   "id": "ef316bd4-19e8-411e-8b63-2a116aa191e5",
   "metadata": {},
   "source": [
    "## Loops\n",
    "\n",
    "Suppose we want to do the same thing multiple times. Instead of writing a statement over and over again, we could just type the command once and tell the computer to repeat it. \n",
    "One of the three great virtues of a programmer is <font color='green'>**\"lazyness\"**</font>. It's much less work to say \"Do this x times\" than write x times \"Do this\". \n",
    "\n",
    "Hence the need for <font color='green'>**loops**</font>.\n",
    "\n",
    "### Conditional loops\n",
    "\n",
    "If we want to repeat a task until a certain criteria is met, we need <font color=\"green\">**conditonal loops**</font>. Let's see how that works!"
   ]
  },
  {
   "cell_type": "markdown",
   "id": "3b48feb8-fa18-4d44-a76d-f6d869e53d7c",
   "metadata": {},
   "source": [
    "### A stupid example\n",
    "\n",
    "Suppose we want to print the natural numbers from 1 to 10. How would we do it?\n",
    "With what we know so far, we could just print each number, but who would want that?\n",
    "\n",
    "Instead we can do this:"
   ]
  },
  {
   "cell_type": "code",
   "execution_count": 30,
   "id": "97689fe1-5e12-4557-98d4-4c18dcbf48f2",
   "metadata": {},
   "outputs": [
    {
     "name": "stdout",
     "output_type": "stream",
     "text": [
      "1\n",
      "2\n",
      "3\n",
      "4\n",
      "5\n",
      "6\n",
      "7\n",
      "8\n",
      "9\n",
      "10\n",
      "Done!\n"
     ]
    }
   ],
   "source": [
    "# print the numbers from 1 to 10\n",
    "\n",
    "current_number = 1\n",
    "while current_number <= 10:\n",
    "    print(current_number)\n",
    "    current_number = current_number + 1\n",
    "print(\"Done!\")"
   ]
  },
  {
   "cell_type": "markdown",
   "id": "bd9f88a0-af90-45e2-877d-0cede0548c83",
   "metadata": {},
   "source": [
    "What is going on?\n",
    "\n",
    "First we set an initial value, the `current_number`.\\\n",
    "At the beginning, it is 1, since we want to count from 1 to 10.\n",
    "Then we start a loop using another Python keyword: <font color='#3da831'>**while**</font>.\\\n",
    "<font color='#3da831'>**while**</font> tells the computer that the following statements have to be repeated, until a certain condition is met.\n",
    "\n",
    "In plain words:\\\n",
    "Let the `current_number` be 1.\\\n",
    "While the `current_number` is less than 10, print this `current_number`, then add 1 to it.\\\n",
    "When you are finished, print out \"Done!\".\n",
    "\n",
    "Apparently, for this to work, we need several things we need to be able to tell when it is finished, so again: <font color='green'>**boolean expressions**</font>!\n"
   ]
  },
  {
   "cell_type": "markdown",
   "id": "f2155148-6ccf-42c8-a884-b0cde0f4a0a4",
   "metadata": {},
   "source": [
    "### <font color='#3da831'>**for**</font> Loops\n",
    "\n",
    "A while loop has a potential drawback: If your condition is always true, it will never stop!\\\n",
    "This is why this line is very important:\n",
    "```python\n",
    "current_number = 1\n",
    "while current_number <= 10:\n",
    "    print(current_number)\n",
    "    current_number = current_number + 1  # <-- this line stands between you and infinity!!!!\n",
    "```\n",
    "\n",
    "A <font color='#3da831'>**for**</font> loop on the other hand is a loop, that is executed only a certain number of times. This can be specified by the <font color='green'>**build-in function**</font> **`range()`** which generates a sequence of numbers.\\\n",
    "\n",
    "A <font color='#3da831'>**for**</font> loop can iterate over a range of numbers, a list or a sequence and to do something for each element it encounters. This is specified using the <font color='#3da831'>**in**</font> keyword.\n",
    "\n",
    "So we could rewrite our \"Count to ten\" function like this:"
   ]
  },
  {
   "cell_type": "code",
   "execution_count": 32,
   "id": "7b657480-7112-486e-a913-2f418da24a74",
   "metadata": {},
   "outputs": [
    {
     "name": "stdout",
     "output_type": "stream",
     "text": [
      "1\n",
      "2\n",
      "3\n",
      "4\n",
      "5\n",
      "6\n",
      "7\n",
      "8\n",
      "9\n",
      "10\n",
      "Done!\n"
     ]
    }
   ],
   "source": [
    "# print the numbers from 1 to 10\n",
    "\n",
    "for current_number in range(10):  # range gives the first 10 numbers, from 0 to 9\n",
    "    print(current_number+1)\n",
    "print(\"Done!\")"
   ]
  },
  {
   "cell_type": "markdown",
   "id": "43ea1979-98bf-4233-b2cb-dc0d42135bd7",
   "metadata": {},
   "source": [
    "Notice that this is a line shorter! We don't have to set a starting value for the current number.\n",
    "Instead, the start value would be the first element of the range we supplied\n",
    "\n",
    "**`range()`** takes at least a single argument, specifying the <font color=\"green\">**upper limit**</font> of the range. If we just provide this, it will start at zero and end below this <font color=\"green\">**upper limit**</font>!"
   ]
  },
  {
   "cell_type": "code",
   "execution_count": 33,
   "id": "18683f5c-877e-4cc2-b228-5afe6d234742",
   "metadata": {},
   "outputs": [
    {
     "name": "stdout",
     "output_type": "stream",
     "text": [
      "0\n",
      "1\n",
      "2\n",
      "3\n",
      "4\n",
      "5\n",
      "6\n",
      "7\n",
      "8\n",
      "9\n"
     ]
    }
   ],
   "source": [
    "# what does range?\n",
    "\n",
    "for number in range(10):\n",
    "    print(number)"
   ]
  },
  {
   "cell_type": "markdown",
   "id": "5e294eec-986d-4871-88c7-7cd01c3cb1e8",
   "metadata": {},
   "source": [
    "Since we wanted to prtint the numbers from 1 to 10 instead, we had to add 1 to the number we printed!\n",
    "However, you can also specify a <font color=\"green\">**lower limit**</font> for the range, so this code will also work:"
   ]
  },
  {
   "cell_type": "code",
   "execution_count": 34,
   "id": "f1cad0d0-6195-4da6-8a4c-74faef0b8143",
   "metadata": {},
   "outputs": [
    {
     "name": "stdout",
     "output_type": "stream",
     "text": [
      "1\n",
      "2\n",
      "3\n",
      "4\n",
      "5\n",
      "6\n",
      "7\n",
      "8\n",
      "9\n",
      "10\n",
      "Done!\n"
     ]
    }
   ],
   "source": [
    "# or alternatively\n",
    "for current_number in range(1, 11):  # range gives the numbers, from 1 to 10\n",
    "    print(current_number)\n",
    "print(\"Done!\")"
   ]
  },
  {
   "cell_type": "markdown",
   "id": "4415528f-7b92-4a84-a846-3a6f739d5bba",
   "metadata": {},
   "source": [
    "We can even specify a <font color=\"green\">**step**</font> for the range!"
   ]
  },
  {
   "cell_type": "code",
   "execution_count": 35,
   "id": "3dd25ff3-111f-4e48-a09d-c24890218ec9",
   "metadata": {},
   "outputs": [
    {
     "name": "stdout",
     "output_type": "stream",
     "text": [
      "2\n",
      "4\n",
      "6\n",
      "8\n",
      "10\n",
      "Done!\n"
     ]
    }
   ],
   "source": [
    "# count all even numbers up to 10\n",
    "for current_number in range(2, 11, 2):  # range gives the even numbers, from 2 to 10, because of the last argument!\n",
    "    print(current_number)\n",
    "print(\"Done!\")"
   ]
  },
  {
   "cell_type": "markdown",
   "id": "ea663dec-17e2-4968-91ef-fcbb093ccfc0",
   "metadata": {},
   "source": [
    "I mentioned above, that for loops <font color=\"green\">**iterate**</font> over something, in this case a range of numbers.\n",
    "In Python, this is therefore called an <font color=\"green\">**iterable**</font>!\n",
    "\n",
    "<font color=\"green\">**Iterables**</font> are everything you can iterate over, simple as that. That can be a range of numbers, but it could also be a <font color=\"green\">**list**</font>, as you can iterate over the elements of a list:"
   ]
  },
  {
   "cell_type": "code",
   "execution_count": 36,
   "id": "4c3274b0-2813-4afa-95a7-a636e1056c28",
   "metadata": {},
   "outputs": [
    {
     "name": "stdout",
     "output_type": "stream",
     "text": [
      "John Cleese\n",
      "Terry Gilliam\n",
      "Eric Idle\n",
      "Michael Palin\n",
      "Graham Chapman\n",
      "Terry Jones\n"
     ]
    }
   ],
   "source": [
    "# iterate over a list\n",
    "the_monty_pythons = [\"John Cleese\", \"Terry Gilliam\", \"Eric Idle\", \"Michael Palin\", \"Graham Chapman\", \"Terry Jones\"]\n",
    "\n",
    "for name in the_monty_pythons:\n",
    "    print(name)"
   ]
  },
  {
   "cell_type": "markdown",
   "id": "041712fd-55da-4f39-ab2a-b6083e83433a",
   "metadata": {},
   "source": [
    "So apparently, we can <font color=\"green\">**iterate**</font> over all the Monty Python names in the list by using\n",
    "<font color=\"#3da831\">**in**</font>. But you can do even more with that, you can use the <font color=\"#3da831\">**in keyword**</font> for checking, if a name is in the list as well:"
   ]
  },
  {
   "cell_type": "code",
   "execution_count": 37,
   "id": "53ca029e-0e1f-4c21-a266-0397a71003c8",
   "metadata": {},
   "outputs": [
    {
     "name": "stdout",
     "output_type": "stream",
     "text": [
      "Is John Cleese a Monty Python member?\n",
      "Yes!\n"
     ]
    }
   ],
   "source": [
    "# what's in a list?\n",
    "\n",
    "print(\"Is John Cleese a Monty Python member?\")\n",
    "john_in_list = \"John Cleese\" in the_monty_pythons\n",
    "if john_in_list:\n",
    "    print(\"Yes!\")\n",
    "else:\n",
    "    print(\"Nope!\")"
   ]
  },
  {
   "cell_type": "code",
   "execution_count": 38,
   "id": "c9653d64-d106-465e-ae16-b4a2ed212d57",
   "metadata": {},
   "outputs": [
    {
     "name": "stdout",
     "output_type": "stream",
     "text": [
      "False\n"
     ]
    }
   ],
   "source": [
    "print(\"Terry\" in the_monty_pythons)"
   ]
  },
  {
   "cell_type": "code",
   "execution_count": 39,
   "id": "7946b48c-4168-4b4c-aea0-8d18f7ebac14",
   "metadata": {},
   "outputs": [
    {
     "name": "stdout",
     "output_type": "stream",
     "text": [
      "True\n"
     ]
    }
   ],
   "source": [
    "print(\"Graham Chapman\" in the_monty_pythons)"
   ]
  },
  {
   "cell_type": "markdown",
   "id": "c10bbff0-5288-4d5a-870d-318fe71ce521",
   "metadata": {},
   "source": [
    "<font color=\"green\">**Lists**</font> are not the only <font color=\"green\">**Iterables**</font> in Python, there are lots of them.\n",
    "You could also <font color=\"green\">**iterate**</font> over <font color=\"green\">**tuples**</font>, <font color=\"green\">**dictionaries**</font> and <font color=\"green\">**sets**</font>:"
   ]
  },
  {
   "cell_type": "code",
   "execution_count": 40,
   "id": "9bfa4244-eebb-4008-be8e-6bafc3b51fce",
   "metadata": {},
   "outputs": [
    {
     "name": "stdout",
     "output_type": "stream",
     "text": [
      "John Cleese "
     ]
    }
   ],
   "source": [
    "# iterate over tuples\n",
    "\n",
    "johns_name = (\"John\", \"Cleese\")\n",
    "for name in johns_name:\n",
    "    print(name, end=\" \")"
   ]
  },
  {
   "cell_type": "code",
   "execution_count": 41,
   "id": "b373b6c3-706d-461c-8b75-dec7489f07f1",
   "metadata": {},
   "outputs": [
    {
     "name": "stdout",
     "output_type": "stream",
     "text": [
      "Terry\n",
      "Michael\n",
      "John\n"
     ]
    }
   ],
   "source": [
    "# iterate over sets\n",
    "\n",
    "monty_names_set = set([\"John\", \"Terry\", \"Michael\", \"Terry\"])\n",
    "for name in monty_names_set:\n",
    "    print(name)"
   ]
  },
  {
   "cell_type": "code",
   "execution_count": 42,
   "id": "0610c550-ae13-4b0c-8ba0-84743201c3a2",
   "metadata": {},
   "outputs": [
    {
     "name": "stdout",
     "output_type": "stream",
     "text": [
      "Cleese\n",
      "Idle\n",
      "Chapman\n",
      "Palin\n",
      "Jones\n",
      "Gilliam\n"
     ]
    }
   ],
   "source": [
    "# iterate over dicts\n",
    "monty_names = {\n",
    "    \"Cleese\": \"John\", \n",
    "    \"Idle\": \"Eric\",\n",
    "    \"Chapman\": \"Graham\", \n",
    "    \"Palin\": \"Micahel\",\n",
    "    \"Jones\": \"Terry\",\n",
    "    \"Gilliam\": \"Terry\"\n",
    "}\n",
    "\n",
    "for name in monty_names:\n",
    "    print(name)"
   ]
  },
  {
   "cell_type": "markdown",
   "id": "e39afead-7837-4add-818b-c05f6d779f1e",
   "metadata": {},
   "source": [
    "What happens?\n",
    "\n",
    "<details>\n",
    "    <summary><font color=\"orange\"><b>Click me!</b></font></summary>\n",
    "    When you iterate over a dictionary like that, you actually iterate over the keys of the dictionary!\n",
    "</details>\n",
    "\n",
    "\\\n",
    "If you need the values instead, you can do this:"
   ]
  },
  {
   "cell_type": "code",
   "execution_count": 43,
   "id": "964e65a2-9fc6-45f1-9661-352fb6840b3f",
   "metadata": {},
   "outputs": [
    {
     "name": "stdout",
     "output_type": "stream",
     "text": [
      "John\n",
      "Eric\n",
      "Graham\n",
      "Micahel\n",
      "Terry\n",
      "Terry\n"
     ]
    }
   ],
   "source": [
    "# iterate over values\n",
    "for key in monty_names:\n",
    "    print(monty_names[key])"
   ]
  },
  {
   "cell_type": "markdown",
   "id": "fab43434-2690-480b-bfae-9b2a7ff458b1",
   "metadata": {},
   "source": [
    "What about <font color=\"green\">**strings**</font>? Can we iterate over a <font color=\"green\">**string**</font>?"
   ]
  },
  {
   "cell_type": "code",
   "execution_count": 44,
   "id": "30aef3a6-667d-4201-81c0-09fabb64611a",
   "metadata": {},
   "outputs": [
    {
     "name": "stdout",
     "output_type": "stream",
     "text": [
      "M\n",
      "o\n",
      "n\n",
      "t\n",
      "y\n",
      " \n",
      "P\n",
      "y\n",
      "t\n",
      "h\n",
      "o\n",
      "n\n",
      "'\n",
      "s\n",
      " \n",
      "F\n",
      "l\n",
      "y\n",
      "i\n",
      "n\n",
      "g\n",
      " \n",
      "C\n",
      "i\n",
      "r\n",
      "c\n",
      "u\n",
      "s\n"
     ]
    }
   ],
   "source": [
    "# a string\n",
    "\n",
    "for letter in \"Monty Python's Flying Circus\":\n",
    "    print(letter)"
   ]
  },
  {
   "cell_type": "markdown",
   "id": "58a25d46-c7f6-4d02-a5ea-20aa635c9d8c",
   "metadata": {},
   "source": [
    "A side remark:\n",
    "\n",
    "Checking if an element is <font color=\"#3da831\">**in**</font> an <font color=\"green\">**iterable**</font> or a <font color=\"green\">**container**</font> just works the same:"
   ]
  },
  {
   "cell_type": "code",
   "execution_count": null,
   "id": "a0e88c99-7f1f-476f-91d0-6279ec30717c",
   "metadata": {},
   "outputs": [],
   "source": [
    "# is it in a dict\n",
    "print(\"Cleese\" in monty_names)\n",
    "\n",
    "# is it in a set\n",
    "print(\"John\" in monty_names_set)\n",
    "\n",
    "# is it in a string\n",
    "print(\"Monty\" in \"Monty Python\")"
   ]
  },
  {
   "cell_type": "markdown",
   "id": "2b71fbd9-ca0e-4115-8e4e-c555e28e398a",
   "metadata": {},
   "source": [
    "Sometimes you also want to not only <font color=\"green\">**iterate**</font> over the elements within an <font color=\"green\">**iterable**</font>, you also need to now the <font color=\"green\">**index**</font> of the element.\\\n",
    "For this, the <font color=\"green\">**build-in function**</font> **`enumerate()`** comes in handy. **`enumerate()`** returns the index an the element itself each time in a <font color=\"green\">**loop</font>**</font>:"
   ]
  },
  {
   "cell_type": "code",
   "execution_count": 45,
   "id": "a695af37-4f91-485a-9436-f6d544e70cbd",
   "metadata": {},
   "outputs": [
    {
     "name": "stdout",
     "output_type": "stream",
     "text": [
      "0 John Cleese\n",
      "1 Terry Gilliam\n",
      "2 Eric Idle\n",
      "3 Michael Palin\n",
      "4 Graham Chapman\n",
      "5 Terry Jones\n"
     ]
    }
   ],
   "source": [
    "# enumerate()\n",
    "for index, name in enumerate(the_monty_pythons):\n",
    "    print(index, name)"
   ]
  },
  {
   "cell_type": "markdown",
   "id": "57174cf2-cd3c-4ddc-b0da-564858a536a2",
   "metadata": {},
   "source": [
    "You could also use the **`range()`** function again to <font color=\"green\">**iterate**</font> over the list above and then access the element via it's index.\\\n",
    "But for this, you need to know the length of the <font color=\"green\">**iterable**</font>. You can get the length of any object in python using the <font color=\"green\">**build-in function**</font> **`len()`**."
   ]
  },
  {
   "cell_type": "code",
   "execution_count": 46,
   "id": "780df27c-1f90-4686-873a-4841abd1f880",
   "metadata": {},
   "outputs": [
    {
     "name": "stdout",
     "output_type": "stream",
     "text": [
      "0 John Cleese\n",
      "1 Terry Gilliam\n",
      "2 Eric Idle\n",
      "3 Michael Palin\n",
      "4 Graham Chapman\n",
      "5 Terry Jones\n"
     ]
    }
   ],
   "source": [
    "# using len\n",
    "for index in range(len(the_monty_pythons)):\n",
    "    print(index, the_monty_pythons[index])"
   ]
  },
  {
   "cell_type": "markdown",
   "id": "c593111a-27a5-4049-8f80-a82da1978850",
   "metadata": {},
   "source": [
    "## Refining the loop\n",
    "\n",
    "### <font color=\"green\">**Continue**</font> the loop\n",
    "What if we have a <font color=\"green\">**loop**</font> but we don't want to \"do the thing\" for every element we encounter?\n",
    "\n",
    "We can skip an iteration and start again with the next value using <font color=\"#3da831\">**continue**</font>, another <font color=\"green\">**keyword**</font>:\n"
   ]
  },
  {
   "cell_type": "code",
   "execution_count": 47,
   "id": "083dda25-5625-477c-bd0c-329a59056fde",
   "metadata": {},
   "outputs": [
    {
     "name": "stdout",
     "output_type": "stream",
     "text": [
      "Terry Jones is a Monty Python Terry\n",
      "Terry Gilliam is a Monty Python Terry\n"
     ]
    }
   ],
   "source": [
    "# get print only Terrys\n",
    "for name in monty_names:\n",
    "    if monty_names[name] != \"Terry\":\n",
    "        continue\n",
    "    print(monty_names[name], name, \"is a Monty Python Terry\")"
   ]
  },
  {
   "cell_type": "markdown",
   "id": "e85270ee-7268-452a-afd3-137b48fd5d77",
   "metadata": {},
   "source": [
    "Okay, that example is not very elegant, as we could have just done this instead:"
   ]
  },
  {
   "cell_type": "code",
   "execution_count": 48,
   "id": "094ecfc8-4303-403e-8659-efb2663a26da",
   "metadata": {},
   "outputs": [
    {
     "name": "stdout",
     "output_type": "stream",
     "text": [
      "Terry Jones is a Monty Python Terry\n",
      "Terry Gilliam is a Monty Python Terry\n"
     ]
    }
   ],
   "source": [
    "# get print only Terrys\n",
    "for name in monty_names:\n",
    "    if monty_names[name] == \"Terry\":\n",
    "        print(monty_names[name], name, \"is a Monty Python Terry\")"
   ]
  },
  {
   "cell_type": "markdown",
   "id": "c9af5698-31d3-4a12-ac29-80b159bb329d",
   "metadata": {},
   "source": [
    "There are many ways to do things in Python, usually you want to keep it simple.\n",
    "\n",
    "Another not so trivial example is this: We have already seen that a <font color=\"green\">**list**</font> can contain different data types. That is somewhat special with Python, there is no need for all elements of a list to be of the same type (as opposed to some other programming languages).\n",
    "\n",
    "Suppose we have a <font color=\"green\">**list**</font> of mixed data types and want to perform an action only on some elements of a cetain type:"
   ]
  },
  {
   "cell_type": "code",
   "execution_count": 51,
   "id": "317434a3-89df-4588-a634-653b6efe53e4",
   "metadata": {},
   "outputs": [
    {
     "name": "stdout",
     "output_type": "stream",
     "text": [
      "4\n",
      "20\n",
      "12\n"
     ]
    }
   ],
   "source": [
    "\n",
    "a_mixed_list = [1, 4, 5, \"12\", 20, True, \"A dead parrot\", 12]\n",
    "\n",
    "# print all even numbers\n",
    "for element in a_mixed_list:\n",
    "    if not isinstance(element, int):\n",
    "        continue\n",
    "    if element % 2 == 0:\n",
    "        print(element)\n",
    "        "
   ]
  },
  {
   "cell_type": "markdown",
   "id": "ddb455a9-52d1-441b-9d6c-aea48b6bebc9",
   "metadata": {},
   "source": [
    "Here, we use <font color=\"green\">**continue**</font> to catch elements, on which the <font color=\"purple\">**%**</font> operator is not defined, such as <font color=\"green\">**strings**</font>, because that would lead to an error.\n",
    "\n",
    "Since <font color=\"green\">**continue**</font> interrupts the current iteration, an element, that is not an <font color=\"green\">**int**</font>\n",
    "will never reach the line, where the modulo operation occurs."
   ]
  },
  {
   "cell_type": "markdown",
   "id": "630e1a50-4242-4faf-88c3-b37f73e3f3a5",
   "metadata": {},
   "source": [
    "### <font color=\"green\">**Break**</font> the loop\n",
    "\n",
    "Sometimes you don't need to <font color=\"green\">**iterate**</font> through the whole <font color=\"green\">**iterateble**</font> in order to complete the task. In this case, you can leave the loop using <font color=\"#3da831\">**break**</font>."
   ]
  },
  {
   "cell_type": "code",
   "execution_count": 53,
   "id": "263ccfd3-45b2-43e9-a19f-4f2fa4ae61fa",
   "metadata": {},
   "outputs": [
    {
     "name": "stdout",
     "output_type": "stream",
     "text": [
      "current number = 13\n",
      "current number = 13\n",
      "current number = 24\n",
      "current number = 45\n",
      "current number = 32\n",
      "Exceeding 100, let's break the loop!\n"
     ]
    }
   ],
   "source": [
    "# find out, if the sum of a list is larger than 100\n",
    "\n",
    "some_numbers = [13, 13, 24, 45, 32, 34, 234, 3, 23, 27, 65, 233]\n",
    "running_sum = 0\n",
    "for number in some_numbers:\n",
    "    print(\"current number =\", number)\n",
    "    running_sum = running_sum + number\n",
    "    if running_sum > 100:\n",
    "        print(\"Exceeding 100, let's break the loop!\")\n",
    "        break\n",
    "  "
   ]
  },
  {
   "cell_type": "markdown",
   "id": "1b12bbc2-0d46-4c35-9a0c-737b9384dd54",
   "metadata": {},
   "source": [
    "Remember the problem with <font color=\"green\">**while**</font> loops? If your stop condition is never true, it never stops!\\\n",
    "That can be harmful, for example it might consume all your processing power!\\\n",
    "Therefore, <font color=\"#3da831\">**break**</font> is a good thing to include to stop a <font color=\"green\">**while**</font> loop, just in case!"
   ]
  },
  {
   "cell_type": "code",
   "execution_count": 54,
   "id": "94e57458-e25e-496e-9ffe-1b0cfcd6a004",
   "metadata": {},
   "outputs": [
    {
     "name": "stdout",
     "output_type": "stream",
     "text": [
      "My eyes are blue!\n",
      "My eyes are blue!\n",
      "My eyes are blue!\n",
      "My eyes are blue!\n",
      "My eyes are blue!\n"
     ]
    }
   ],
   "source": [
    "# no infinity loop\n",
    "\n",
    "iteration = 0\n",
    "while True:\n",
    "    print(\"My eyes are blue!\")\n",
    "    iteration = iteration + 1\n",
    "    if iteration >= 5:\n",
    "        break"
   ]
  },
  {
   "cell_type": "markdown",
   "id": "e053fa91-1890-43b1-86bb-6bee141b6270",
   "metadata": {},
   "source": [
    "That might come in handy if you don't know, what will happen in advance, e.g. if you don't know a user input:"
   ]
  },
  {
   "cell_type": "code",
   "execution_count": 56,
   "id": "fe6e7d0c-8288-4958-9298-8f9b0270143e",
   "metadata": {},
   "outputs": [
    {
     "name": "stdin",
     "output_type": "stream",
     "text": [
      "Say my name! Heisenberg\n"
     ]
    },
    {
     "name": "stdout",
     "output_type": "stream",
     "text": [
      "You're damn right!\n"
     ]
    }
   ],
   "source": [
    "# Say my name !\n",
    "\n",
    "name = input(\"Say my name!\")\n",
    "iteration = 0\n",
    "while name != \"Heisenberg\":\n",
    "    print(\"Nope!\")\n",
    "    name = input(\"Say my name!\")\n",
    "    iteration = iteration + 1\n",
    "    if iteration >= 2:\n",
    "        print(\"Three strikes, you're out!\")\n",
    "        break\n",
    "if name == \"Heisenberg\":\n",
    "    print(\"You're damn right!\")"
   ]
  },
  {
   "cell_type": "markdown",
   "id": "16410ae3-4cf6-4eaa-b5ab-82d7f91cc85f",
   "metadata": {},
   "source": [
    "### No thanks, I'll <font color=\"#3da831\">**pass**</font>\n",
    "\n",
    "Sometimes you need to have a statement somewhere so that your *syntax* is correct, but you don't want to do anything.\n",
    "That's the case for <font color=\"#3da831\">**if**</font>-<font color=\"#3da831\">**else**</font> statemenrts for example, after an\n",
    "<font color=\"#3da831\">**if**</font> or <font color=\"#3da831\">**else**</font>, you must put an indented statement in the next line!\n",
    "\n",
    "If you don't want anything to happen, there is another keyword called <font color=\"#3da831\">**pass**</font> that you can put in instead.\n",
    "\n"
   ]
  },
  {
   "cell_type": "code",
   "execution_count": 57,
   "id": "bd191430-f33d-4a02-87a1-ab319c1f9d15",
   "metadata": {},
   "outputs": [
    {
     "name": "stdout",
     "output_type": "stream",
     "text": [
      "0\n",
      "3\n",
      "6\n",
      "9\n",
      "12\n",
      "15\n",
      "18\n",
      "21\n",
      "24\n",
      "27\n"
     ]
    }
   ],
   "source": [
    "# print all numbers divisible by three\n",
    "for number in range(30):\n",
    "    if number % 3 != 0:\n",
    "        pass\n",
    "    else:\n",
    "        print(number)"
   ]
  },
  {
   "cell_type": "markdown",
   "id": "4366c832-c640-4de2-a66a-c046fbcb7fc0",
   "metadata": {},
   "source": [
    "The difference between <font color=\"#3da831\">**pass**</font> and <font color=\"#3da831\">**continue**</font> is, that the latter only\n",
    "works inside a <font color=\"green\">**loop**</font>\\\n",
    "and will immediately start with the next iteration, while <font color=\"#3da831\">**pass**</font> will just do nothing (thereby allowing the iteration to continue)\\\n",
    "and you can use it outside loops as well.\n"
   ]
  },
  {
   "cell_type": "markdown",
   "id": "77d75fee-2de1-4ee0-a9b2-ea2e8f82427b",
   "metadata": {},
   "source": [
    "# Summary\n",
    "\n",
    "So now you should know:\n",
    "\n",
    " - What is indentation and why do you need it?\n",
    " - How to use the **`range()`** function\n",
    " - How do write conditional statements\n",
    " - How to use if, else and elif\n",
    " - What are loops?\n",
    " - What does **`enumerate()`** do?\n",
    " - What to know the length of something?\n",
    " - How to write conditional loops?\n",
    " - How to write **while** loops\n",
    " - How to use **for** loops\n",
    " - How does the keyword **in** work\n",
    " - What does **break**, **continue** and **pass** mean?\n",
    "\n"
   ]
  },
  {
   "cell_type": "markdown",
   "id": "646bfcbf-3197-4c9b-b8d5-cc7c5f19f826",
   "metadata": {},
   "source": [
    "\n",
    "# Exercises\n"
   ]
  },
  {
   "cell_type": "markdown",
   "id": "0aff86d0-1ab4-44b8-a388-0d23a7e3aac7",
   "metadata": {},
   "source": [
    "## Exercise 1:\n",
    "\n",
    "Write a script that counts the sum of the first 100 natural numbers and prints the result.\n"
   ]
  },
  {
   "cell_type": "code",
   "execution_count": null,
   "id": "b592cebf-5c5f-47a1-800e-dea9946ac201",
   "metadata": {},
   "outputs": [],
   "source": []
  },
  {
   "cell_type": "markdown",
   "id": "df34a570-113e-40af-bd48-01b34cf5a965",
   "metadata": {},
   "source": [
    "## Exercise 2:\n",
    "\n",
    "Write code that checks if a given year is a leap year!"
   ]
  },
  {
   "cell_type": "code",
   "execution_count": null,
   "id": "feb29463-8e47-4b57-a7ef-9f1c7ba1da87",
   "metadata": {},
   "outputs": [],
   "source": []
  },
  {
   "cell_type": "markdown",
   "id": "75a8c748-3118-4258-a07b-464d12eaf773",
   "metadata": {},
   "source": [
    "## Exercise 3\n",
    "\n",
    "Write code that takecounts the number of vowels in a string."
   ]
  },
  {
   "cell_type": "code",
   "execution_count": null,
   "id": "f2d667d8-ba77-48cf-a075-703704bcb172",
   "metadata": {},
   "outputs": [],
   "source": []
  },
  {
   "cell_type": "markdown",
   "id": "2ca6c36d-9221-4371-a3d4-16983c63b67d",
   "metadata": {},
   "source": [
    "## Exercise 4\n",
    "\n",
    "Create a guessing game where the user has to guess a number between 1 and 100. However, limit the number of attempts to 5 and indicate how many atempts remain. If the user fails to guess the correct number within 5 attempts, print \"Game Over!\" and end, otherwise let him know he has won.\n",
    "\n",
    "Hint: Assume the hidden number is given, since we don't know how to generate random numbers yet."
   ]
  },
  {
   "cell_type": "code",
   "execution_count": null,
   "id": "6498af5d-2340-4a2c-88f9-05e0cbceb119",
   "metadata": {},
   "outputs": [],
   "source": []
  },
  {
   "cell_type": "markdown",
   "id": "c686dc26-23c8-43f0-a01a-11bca2f1ac29",
   "metadata": {},
   "source": [
    "## Exercise 5\n",
    "\n",
    "Write a program that prints out all prime numbers from 1 to 100."
   ]
  },
  {
   "cell_type": "code",
   "execution_count": null,
   "id": "fe3bccd4-2f01-4373-be75-d456ea40d92a",
   "metadata": {},
   "outputs": [],
   "source": []
  },
  {
   "cell_type": "markdown",
   "id": "5f4a7d48-cfc4-4af5-bbd0-cbd25ef55e92",
   "metadata": {},
   "source": [
    "## Exercise 6:\n",
    "\n",
    "In mathematics, the Fibonacci sequence is a sequence in which each number is the sum of the two preceding ones. \n",
    "Numbers that are part of the Fibonacci sequence are known as Fibonacci numbers. The sequence commonly starts from 0 and 1.\n",
    "\n",
    "Write code that prints out the Fibonacci numbers "
   ]
  },
  {
   "cell_type": "code",
   "execution_count": null,
   "id": "6f4c9f42-b810-44d3-9039-5289672b11ae",
   "metadata": {},
   "outputs": [],
   "source": []
  },
  {
   "cell_type": "markdown",
   "id": "fd0a6423-4ab3-4021-b993-267188f867b6",
   "metadata": {},
   "source": [
    "## Exercise 7:\n",
    "\n",
    "Create a program that checks if a given string is a palindrome (reads the same forwards and backwards), ignoring spaces, punctuation and cases.\n",
    "Hint: Use loops, continue and break to solve this. You might also find **`enumerate()`** and **`len()`** helpful, depending on your solution.\n",
    "\n",
    "Test your program with this: \"Eva, can I see bees in a cave?\"\n"
   ]
  },
  {
   "cell_type": "code",
   "execution_count": null,
   "id": "1190948a-79f1-48d8-8782-114370aba4d7",
   "metadata": {},
   "outputs": [],
   "source": []
  },
  {
   "cell_type": "markdown",
   "id": "0e0165c5-22b9-4939-a8bf-12ab0838c5af",
   "metadata": {
    "jp-MarkdownHeadingCollapsed": true
   },
   "source": [
    "< [3 - Am I your type?](Python%20Crash%203%20-%20Am%20I%20your%20type.ipynb) | [Contents](Python%20Crash%20ToC.ipynb) | [5 - Classy and functional](Python%20Crash%205%20-%20Classy%20and%20functional.ipynb) >"
   ]
  }
 ],
 "metadata": {
  "kernelspec": {
   "display_name": "Python 3 (ipykernel)",
   "language": "python",
   "name": "python3"
  },
  "language_info": {
   "codemirror_mode": {
    "name": "ipython",
    "version": 3
   },
   "file_extension": ".py",
   "mimetype": "text/x-python",
   "name": "python",
   "nbconvert_exporter": "python",
   "pygments_lexer": "ipython3",
   "version": "3.12.3"
  }
 },
 "nbformat": 4,
 "nbformat_minor": 5
}
