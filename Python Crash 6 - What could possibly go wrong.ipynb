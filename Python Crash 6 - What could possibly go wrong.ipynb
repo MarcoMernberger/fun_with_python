{
 "cells": [
  {
   "cell_type": "markdown",
   "id": "2a65cf27-bdf4-4dd1-88ed-1c0a5541dd7c",
   "metadata": {},
   "source": [
    "# Python Programming Crash Course - \n",
    "# What could possibly go wrong?\n",
    "<br>\n",
    "<div>\n",
    "<img src=\"data/Python-logo-notext.svg\" width=\"200\"/>\n",
    "</div>\n",
    "\n",
    "## Introduction\n",
    "\n",
    "You have already seen a lot of programming concepts and basics in a very short amount of time. \n",
    "For Python in particular, but these concepts translate to other languages as well. And now you may ask: \n",
    "\n",
    "**Why on earth did you tell us all these things?**  &#x1F600;\n",
    "\n",
    "In the next sessions, we will see, how you can actually use Python to analyze your data interactively, store and export the results in a reasonable way even if you have large amounts of data and create colorful figures and visualizations yourself.\n",
    "\n",
    "Most of the time, you will just need to be able to use some methods/functions that come with the packages.\n",
    "But sometimes, the result you actually want is not readily available upon the push of a button and it will require you to do some coding yourself.\n",
    "\n",
    "Moreover, if you use Python for data analysis instead of doing everything manually with Prism, Excel or whatever, you can reuse your code the next time, when you repeat your experiments and you don't have to do the same thing over and over again.\n",
    "\n",
    "That can save you a lot of time.\n",
    "However, you must be able to write code that is correct and does exactly what you intend!\n",
    "\n",
    "Today is about what you can do to make sure you get correct code and what you can do if you still end up with an error message.\n",
    "\n",
    "## What can go wrong?\n",
    "\n",
    "You have already seen some <font color=\"green\">**error**</font> messages in the previous notebooks as examples. \n",
    "And if you do some coding yourself, you will see more (if not, you're not trying hard enough)!\n",
    "\n",
    "\n",
    "\n",
    "Basically, there are three types of <font color=\"green\">**errors**</font>:\n",
    "\n",
    "- <font color=\"green\">**Syntax Errors**</font>: These occur, when your code is not written according to the rules of the python language.\n",
    "- <font color=\"green\">**Runtime Errors**</font>: These occur during runtime and are typically due to logical mistakes or unexpected input.\n",
    "- <font color=\"green\">**Semantic Errors**</font>: This happens when your code produces incorrect results due to misunderstanding of the programming language.\n",
    "- <font color=\"green\">**Logical Errors**</font>: This happens when your code runs perfectly but does not produce the result you intended.\n",
    "\n",
    "\n",
    "### 1. <font color=\"green\">**Syntax Errors**</font>\n",
    "\n",
    "These are your stereotypical spelling mistakes and as such are quite easy to spot. It happens when your code does not comply to the languages syntax rules.\n",
    "Your code simply will not run until you fix all of them. If you attempt to run the code, it will fail immediately with a <font color=\"salmon\">**SyntaxError**</font>, even if there is no code to be run."
   ]
  },
  {
   "cell_type": "code",
   "execution_count": 1,
   "id": "63f9064d-24d8-4d4f-8556-c9aa693cea53",
   "metadata": {},
   "outputs": [
    {
     "ename": "SyntaxError",
     "evalue": "unterminated string literal (detected at line 2) (3125793600.py, line 2)",
     "output_type": "error",
     "traceback": [
      "\u001b[0;36m  Cell \u001b[0;32mIn[1], line 2\u001b[0;36m\u001b[0m\n\u001b[0;31m    a = \"This is a Syntax error, as this literal is not terminated\u001b[0m\n\u001b[0m        ^\u001b[0m\n\u001b[0;31mSyntaxError\u001b[0m\u001b[0;31m:\u001b[0m unterminated string literal (detected at line 2)\n"
     ]
    }
   ],
   "source": [
    "# quotes\n",
    "a = \"This is a Syntax error, as this literal is not terminated"
   ]
  },
  {
   "cell_type": "code",
   "execution_count": null,
   "id": "10edaf0f-01fd-4f7e-9087-a3a8e5668351",
   "metadata": {},
   "outputs": [],
   "source": [
    "# strange symbols\n",
    "a = (1, 2; 3)  # this is a syntax error because of the ;"
   ]
  },
  {
   "cell_type": "code",
   "execution_count": null,
   "id": "7133fd27-e447-4c28-a4fb-6034a51724da",
   "metadata": {},
   "outputs": [],
   "source": [
    "# brackets\n",
    "a = ((1, 2, 3)  # this is a syntax error because you must close the brackets"
   ]
  },
  {
   "cell_type": "code",
   "execution_count": null,
   "id": "29084050-cfcb-405a-9b54-2cc0b950948c",
   "metadata": {},
   "outputs": [],
   "source": [
    "def myfunction:(self):  # this is an error because that first colon\n",
    "    pass"
   ]
  },
  {
   "cell_type": "markdown",
   "id": "129d4e90-29dd-4c7f-8199-a86b206b685b",
   "metadata": {},
   "source": [
    "Luckily, the <font color=\"green\">**syntax highlighting**</font> will give you usually enough clues to spot these. \n",
    "Also, with the help <font color=\"green\">**code completion**</font>, these mistakes usually do not occur very often."
   ]
  },
  {
   "cell_type": "markdown",
   "id": "32be1877-d432-426c-8dc6-9d659732a16f",
   "metadata": {},
   "source": [
    "### 2. <font color=\"green\">**Runtime Errors**</font>\n",
    "\n",
    "<font color=\"green\">**Runtime Errors**</font> will occur, once you run the program and something unexpected happens (therefore during <font color=\"green\">**runtime**</font>). This may be due to an unexpected input, a missing variable, an undefined operation (e.g. division by zero) and so on.\n",
    "This will cause an interruption and your program will fail with an <font color=\"green\">**exception**</font>."
   ]
  },
  {
   "cell_type": "code",
   "execution_count": 2,
   "id": "8b6ed30f-a557-43b2-8123-c3b415580c87",
   "metadata": {},
   "outputs": [
    {
     "name": "stdout",
     "output_type": "stream",
     "text": [
      "9\n"
     ]
    },
    {
     "ename": "TypeError",
     "evalue": "unsupported operand type(s) for ** or pow(): 'str' and 'int'",
     "output_type": "error",
     "traceback": [
      "\u001b[0;31m---------------------------------------------------------------------------\u001b[0m",
      "\u001b[0;31mTypeError\u001b[0m                                 Traceback (most recent call last)",
      "Cell \u001b[0;32mIn[2], line 10\u001b[0m\n\u001b[1;32m      7\u001b[0m \u001b[38;5;28mprint\u001b[39m(nine)\n\u001b[1;32m      9\u001b[0m \u001b[38;5;66;03m# this will not\u001b[39;00m\n\u001b[0;32m---> 10\u001b[0m nine \u001b[38;5;241m=\u001b[39m \u001b[43mpower2\u001b[49m\u001b[43m(\u001b[49m\u001b[38;5;124;43m\"\u001b[39;49m\u001b[38;5;124;43m3\u001b[39;49m\u001b[38;5;124;43m\"\u001b[39;49m\u001b[43m)\u001b[49m\n\u001b[1;32m     11\u001b[0m \u001b[38;5;28mprint\u001b[39m(nine)\n",
      "Cell \u001b[0;32mIn[2], line 3\u001b[0m, in \u001b[0;36mpower2\u001b[0;34m(number)\u001b[0m\n\u001b[1;32m      2\u001b[0m \u001b[38;5;28;01mdef\u001b[39;00m \u001b[38;5;21mpower2\u001b[39m(number):\n\u001b[0;32m----> 3\u001b[0m     \u001b[38;5;28;01mreturn\u001b[39;00m \u001b[43mnumber\u001b[49m\u001b[38;5;241;43m*\u001b[39;49m\u001b[38;5;241;43m*\u001b[39;49m\u001b[38;5;241;43m2\u001b[39;49m\n",
      "\u001b[0;31mTypeError\u001b[0m: unsupported operand type(s) for ** or pow(): 'str' and 'int'"
     ]
    }
   ],
   "source": [
    "# define a power function\n",
    "def power2(number):\n",
    "    return number**2\n",
    "\n",
    "# this will work\n",
    "nine = power2(3)\n",
    "print(nine)\n",
    "\n",
    "# this will not\n",
    "nine = power2(\"3\")\n",
    "print(nine)"
   ]
  },
  {
   "cell_type": "markdown",
   "id": "21550498-a02f-4b8d-9847-d22f91793fb8",
   "metadata": {},
   "source": [
    "#### Exceptions\n",
    "\n",
    "An <font color=\"green\">**exception**</font>. is an event that occurs when an error is encountered, i.e. during the execution of a program that disrupts the normal flow of the program. In Python, color=\"green\">**exceptions**</font> are triggered automatically when an error occurs. \n",
    "\n",
    "\n",
    "This usually means the program stops and an error message is displayed. We call that  \"an <font color=\"green\">**exception**</font> has been <font color=\"green\">**raised**</font>\".\n",
    "\n",
    "#### Types \n",
    "\n",
    "There are many types of <font color=\"green\">**runtime errors**</font>. \n",
    "Some of the more commons you may encounter are:\n",
    "\n",
    "- <font color=\"salmon\">**ZeroDivisionError**</font> - you divide by zero \n",
    "- <font color=\"salmon\">**TypeError**</font> - your program encountered an incorrect data type (e.g. math on strings)\n",
    "- <font color=\"salmon\">**ValueError**</font> - correct data type but inappropriate value (e.g. log of a negative number)\n",
    "- <font color=\"salmon\">**FileNotFoundError**</font> - you try to access a file that does not exist"
   ]
  },
  {
   "cell_type": "code",
   "execution_count": null,
   "id": "08b366b6-33ad-45d2-a58c-053983995e00",
   "metadata": {},
   "outputs": [],
   "source": [
    "# this produces a ZeroDivisionError\n",
    "result = 1 / 0"
   ]
  },
  {
   "cell_type": "code",
   "execution_count": null,
   "id": "b5596112-3126-4985-9eae-1ddc66182498",
   "metadata": {},
   "outputs": [],
   "source": [
    "# this produces a TypeError\n",
    "result = 5 + \"5\""
   ]
  },
  {
   "cell_type": "code",
   "execution_count": null,
   "id": "45c1c115-0232-446d-bddb-a14e41374467",
   "metadata": {},
   "outputs": [],
   "source": [
    "# this produces a ValueError\n",
    "result = int(\"I am a wrong value\")"
   ]
  },
  {
   "cell_type": "code",
   "execution_count": null,
   "id": "87104069-da65-459c-8d13-543e7520f89a",
   "metadata": {},
   "outputs": [],
   "source": [
    "# this produces a FileNotFoundError\n",
    "open(\"Non-existing file\", \"r\")"
   ]
  },
  {
   "cell_type": "markdown",
   "id": "817c6cda-f2c7-4b8a-b764-1525452b5024",
   "metadata": {},
   "source": [
    "### 3. <font color=\"green\">**Semantic/Logical Errors**</font>\n",
    "\n",
    "<font color=\"green\">**Runtime Errors**</font> and <font color=\"green\">**Syntax Errors**</font> are somewhat easy to spot. Sometimes it takes time to figure out, what went wrong, but at least you notice. The most insidious types of error are the ones that you don't notice. \n",
    "\n",
    "<font color=\"green\">**Semantic Errors**</font> and <font color=\"green\">**Logical Errors**</font> are those that do not cause your program to fail. Tere is no <font color=\"green\">**exception**</font>, it just does not do what you intended. Best case, you notice it. Worst case, you don't.\n",
    "\n",
    "<font color=\"green\">**Semantic Errors**</font> occur due a misunderstanding of the Python semantics (hence the name), <font color=\"green\">**Logical Errors**</font> arise from faulty logic or a fault in the algorithm.\n",
    "\n",
    "In other words, if you tell Python to do something wrong, it will happily do something wrong.\n",
    "\n",
    "Real world examples:\n",
    "- <font color=\"green\">**Semantic Errors**</font> - \"My favourite color is Pizza\"\n",
    "- <font color=\"green\">**Logic Errors**</font> - \"All birds have wings. Therefore this fly is a bird!\""
   ]
  },
  {
   "cell_type": "code",
   "execution_count": 4,
   "id": "c68c0d69-a6b3-42ee-9047-24fcc31c74f9",
   "metadata": {},
   "outputs": [
    {
     "name": "stdout",
     "output_type": "stream",
     "text": [
      "The average is 32.6\n"
     ]
    }
   ],
   "source": [
    "# a semantic error\n",
    "\n",
    "def calculate_average(numbers):\n",
    "    total = sum(numbers)\n",
    "    average = total // len(numbers)\n",
    "    return average\n",
    "\n",
    "numbers = [10, 25, 32, 44, 52]\n",
    "average = calculate_average(numbers)\n",
    "print(\"The average is\", average)"
   ]
  },
  {
   "cell_type": "code",
   "execution_count": 7,
   "id": "dd950c1a-5afd-426c-a445-83e48d756c1e",
   "metadata": {},
   "outputs": [
    {
     "name": "stdout",
     "output_type": "stream",
     "text": [
      "The area is  8\n"
     ]
    }
   ],
   "source": [
    "# a logical error\n",
    "\n",
    "def calculate_rectangle_area(length, width):\n",
    "    area = length * width\n",
    "    return area\n",
    "\n",
    "width = 5\n",
    "length = 3\n",
    "area = calculate_rectangle_area(length, width)\n",
    "print(\"The area is \", area)"
   ]
  },
  {
   "cell_type": "markdown",
   "id": "799e76eb-cd7b-48d0-8464-52d4317f8386",
   "metadata": {},
   "source": [
    "## How to read error messages\n",
    "\n",
    "What can you do when an <font color=\"green\">**exception**</font> arises?\n",
    "Luckily, Python is kind enough to provide you a quite verbose error message detailing what and where it went wrong.\n",
    "This is called a <font color=\"green\">**traceback**</font> and it can be somewhat cryptic:"
   ]
  },
  {
   "cell_type": "code",
   "execution_count": 10,
   "id": "e2a4b455-1524-47b4-bff4-78f92e7b9b7d",
   "metadata": {},
   "outputs": [
    {
     "ename": "TypeError",
     "evalue": "unsupported operand type(s) for ** or pow(): 'str' and 'int'",
     "output_type": "error",
     "traceback": [
      "\u001b[0;31m---------------------------------------------------------------------------\u001b[0m",
      "\u001b[0;31mTypeError\u001b[0m                                 Traceback (most recent call last)",
      "Cell \u001b[0;32mIn[10], line 17\u001b[0m\n\u001b[1;32m     14\u001b[0m \u001b[38;5;66;03m# this will not\u001b[39;00m\n\u001b[1;32m     15\u001b[0m numbers \u001b[38;5;241m=\u001b[39m [\u001b[38;5;241m1\u001b[39m, \u001b[38;5;241m2\u001b[39m, \u001b[38;5;241m3\u001b[39m, \u001b[38;5;241m4\u001b[39m, \u001b[38;5;241m5\u001b[39m]\n\u001b[0;32m---> 17\u001b[0m result \u001b[38;5;241m=\u001b[39m \u001b[43msum_of_squares\u001b[49m\u001b[43m(\u001b[49m\u001b[43mnumbers\u001b[49m\u001b[43m)\u001b[49m\n",
      "Cell \u001b[0;32mIn[10], line 6\u001b[0m, in \u001b[0;36msum_of_squares\u001b[0;34m(numbers)\u001b[0m\n\u001b[1;32m      4\u001b[0m \u001b[38;5;28;01mfor\u001b[39;00m number \u001b[38;5;129;01min\u001b[39;00m numbers:\n\u001b[1;32m      5\u001b[0m     number_as_a_string \u001b[38;5;241m=\u001b[39m \u001b[38;5;28mstr\u001b[39m(number)\n\u001b[0;32m----> 6\u001b[0m     sum_of_squares \u001b[38;5;241m=\u001b[39m sum_of_squares \u001b[38;5;241m+\u001b[39m \u001b[43mpower2\u001b[49m\u001b[43m(\u001b[49m\u001b[43mnumber_as_a_string\u001b[49m\u001b[43m)\u001b[49m\n\u001b[1;32m      7\u001b[0m \u001b[38;5;28;01mreturn\u001b[39;00m sum_of_squares\n",
      "Cell \u001b[0;32mIn[10], line 11\u001b[0m, in \u001b[0;36mpower2\u001b[0;34m(number)\u001b[0m\n\u001b[1;32m      9\u001b[0m \u001b[38;5;28;01mdef\u001b[39;00m \u001b[38;5;21mpower2\u001b[39m(number):\n\u001b[1;32m     10\u001b[0m     \u001b[38;5;124;03m\"\"\"This calculates number to the power of 2\"\"\"\u001b[39;00m\n\u001b[0;32m---> 11\u001b[0m     result \u001b[38;5;241m=\u001b[39m \u001b[43mnumber\u001b[49m\u001b[38;5;241;43m*\u001b[39;49m\u001b[38;5;241;43m*\u001b[39;49m\u001b[38;5;241;43m2\u001b[39;49m\n\u001b[1;32m     12\u001b[0m     \u001b[38;5;28;01mreturn\u001b[39;00m result\n",
      "\u001b[0;31mTypeError\u001b[0m: unsupported operand type(s) for ** or pow(): 'str' and 'int'"
     ]
    }
   ],
   "source": [
    "def sum_of_squares(numbers):\n",
    "    \"\"\"calculates the sum of squares for all numbers\"\"\"\n",
    "    sum_of_squares = 0\n",
    "    for number in numbers:\n",
    "        number_as_a_string = str(number)\n",
    "        sum_of_squares = sum_of_squares + power2(number_as_a_string)\n",
    "    return sum_of_squares\n",
    "\n",
    "def power2(number):\n",
    "    \"\"\"This calculates number to the power of 2\"\"\"\n",
    "    result = number**2\n",
    "    return result\n",
    "\n",
    "# this will not\n",
    "numbers = [1, 2, 3, 4, 5]\n",
    "\n",
    "result = sum_of_squares(numbers)"
   ]
  },
  {
   "cell_type": "markdown",
   "id": "d4521e8b-6127-4b33-8c5d-4a9652a685da",
   "metadata": {},
   "source": [
    "As you see, the error only occurs, when we actually run the function (Runtime Error!).\n",
    "When a runtime error occurs, Python stops the execution of your program and prints out the <font color=\"green\">**traceback**</font> to give you enough information to see, where and why exactly your error occured.\n",
    "\n",
    "#### How do you read it?\n",
    "\n",
    "- Start at the bottom\\\n",
    "  The last line of the <font color=\"green\">**traceback**</font> tells you, what kind of exception occured and why.\n",
    "\n",
    "  _Example: This is a TypeError, since we try to do math on a string_\n",
    "- Go from bottom to top\\\n",
    "  Next, you're supposed to read the 5 lines above that. And the four lines after that. And so on. We read it from the bottom upwards. The lines above the last tell you where we were when the error occured, as indicated by the green arrow.\n",
    "\n",
    "  _Example: The error occured when we were in line 10._\n",
    "- Understand the call stack\\\n",
    "    Python stacks function calls onto each other to keep track where we are. This is called the <font color=\"green\">**call stack**</font>. The chunks in the message above list these stacked calls, with the most recent last (hence the \"most recent call last\" message in the first line). Because tracebacks represent lines in the call stack, they're also sometimes called a <font color=\"green\">**stack trace**</font>.\n",
    "  \n",
    "    _Example: We start with initializing the list \"numbers\", then we call the function \"sum_of_squares\". Inside the function \"sum_of_squares\", we call the function \"power2\". This is our stack of calls._\n",
    "- Go back down again\\\n",
    "  Once you understand the order of the calls and the nature of the <font color=\"green\">**exception**</font>, you need to figure out the location, where you can fix it. That's not necessarily the last call or the first, usually it's somewhere in between.\n",
    "\n",
    "  _Example: The power2 function itself is not wrong. The actual bug is passing it a string in line 6, so we need to fix that._\n",
    "  "
   ]
  },
  {
   "cell_type": "markdown",
   "id": "306b7390-8d6c-4a4b-96f3-a8bfbf32e52f",
   "metadata": {},
   "source": [
    "# Catching errors\n",
    "\n",
    "There are more types of errors and you can actually even define your own custom type of error, but they all work in the same manner.\n",
    "\n",
    "However, since an <font color=\"green\">**exception**</font> is an event that occurs upon encountering an error and is triggered by Python, we can actually do something with it.\n",
    "\n",
    "If you can anticipate at what point an error might occur, you can tell Python to try to execute the code but in case an error occurs, you can intercept the error and do something about it, instead of just letting the program crash.\n",
    "\n",
    "This is done using the reserved keywords <font color=\"green\">**try**</font> and <font color=\"green\">**except**</font>."
   ]
  },
  {
   "cell_type": "code",
   "execution_count": 13,
   "id": "66ee8c69-81cc-4804-98de-0627c01a4b37",
   "metadata": {},
   "outputs": [
    {
     "name": "stdout",
     "output_type": "stream",
     "text": [
      "25\n",
      "An error has occurred\n"
     ]
    }
   ],
   "source": [
    "# the power function again\n",
    "def power2(number):\n",
    "    try:\n",
    "        result = number ** 2\n",
    "        return result\n",
    "    except:\n",
    "        print(\"An error has occurred\")\n",
    "\n",
    "result = power2(5)\n",
    "print(result)\n",
    "result = power2(\"5\")"
   ]
  },
  {
   "cell_type": "markdown",
   "id": "2ddaec8d-7fd3-48a9-8c49-5deb73246f09",
   "metadata": {},
   "source": [
    "What happens?\n",
    "<details>\n",
    "    <summary><font color=\"orange\"><b>Click me!</b></font></summary>\n",
    "    In the first call, the function \"tries\" to calculate the result and it works. Only the try-part is executed. <br />\n",
    "    In the second call, it tries again, but an error occurs. Instead of printing the Traceback and terminating, the Exception is caught and the code in the except-part is executed instead.\n",
    "</details>"
   ]
  },
  {
   "cell_type": "markdown",
   "id": "341620c9-ded0-4d3a-964c-1dea20a7016c",
   "metadata": {},
   "source": [
    "If you want, you can print out the message and still raise the exception using the keyword <font color=\"green\">**raise**</font>."
   ]
  },
  {
   "cell_type": "code",
   "execution_count": 15,
   "id": "b2c5487b-9f67-4ed1-abf8-9a61fc6fd190",
   "metadata": {},
   "outputs": [
    {
     "name": "stdout",
     "output_type": "stream",
     "text": [
      "5 <class 'str'>\n",
      "the number supplied is wrong\n"
     ]
    },
    {
     "ename": "TypeError",
     "evalue": "unsupported operand type(s) for ** or pow(): 'str' and 'int'",
     "output_type": "error",
     "traceback": [
      "\u001b[0;31m---------------------------------------------------------------------------\u001b[0m",
      "\u001b[0;31mTypeError\u001b[0m                                 Traceback (most recent call last)",
      "Cell \u001b[0;32mIn[15], line 11\u001b[0m\n\u001b[1;32m      8\u001b[0m         \u001b[38;5;28mprint\u001b[39m(\u001b[38;5;124m\"\u001b[39m\u001b[38;5;124mthe number supplied is wrong\u001b[39m\u001b[38;5;124m\"\u001b[39m)\n\u001b[1;32m      9\u001b[0m         \u001b[38;5;28;01mraise\u001b[39;00m\n\u001b[0;32m---> 11\u001b[0m result \u001b[38;5;241m=\u001b[39m \u001b[43mpower2\u001b[49m\u001b[43m(\u001b[49m\u001b[38;5;124;43m\"\u001b[39;49m\u001b[38;5;124;43m5\u001b[39;49m\u001b[38;5;124;43m\"\u001b[39;49m\u001b[43m)\u001b[49m\n",
      "Cell \u001b[0;32mIn[15], line 5\u001b[0m, in \u001b[0;36mpower2\u001b[0;34m(number)\u001b[0m\n\u001b[1;32m      3\u001b[0m \u001b[38;5;28;01mtry\u001b[39;00m:\n\u001b[1;32m      4\u001b[0m     \u001b[38;5;28mprint\u001b[39m(number, \u001b[38;5;28mtype\u001b[39m(number))\n\u001b[0;32m----> 5\u001b[0m     result \u001b[38;5;241m=\u001b[39m \u001b[43mnumber\u001b[49m\u001b[43m \u001b[49m\u001b[38;5;241;43m*\u001b[39;49m\u001b[38;5;241;43m*\u001b[39;49m\u001b[43m \u001b[49m\u001b[38;5;241;43m2\u001b[39;49m\n\u001b[1;32m      6\u001b[0m     \u001b[38;5;28;01mreturn\u001b[39;00m result\n\u001b[1;32m      7\u001b[0m \u001b[38;5;28;01mexcept\u001b[39;00m:\n",
      "\u001b[0;31mTypeError\u001b[0m: unsupported operand type(s) for ** or pow(): 'str' and 'int'"
     ]
    }
   ],
   "source": [
    "# the power function again\n",
    "def power2(number):\n",
    "    try:\n",
    "        print(number, type(number))\n",
    "        result = number ** 2\n",
    "        return result\n",
    "    except:\n",
    "        print(\"the number supplied is wrong\")\n",
    "        raise\n",
    "        \n",
    "result = power2(\"5\")"
   ]
  },
  {
   "cell_type": "markdown",
   "id": "fdf4e8f6-55f6-406e-9227-035352d47432",
   "metadata": {},
   "source": [
    "## How do I fix my code?\n",
    "\n",
    "Fixing an error is easy, once you understand what's going on. Getting there however is not so easy at all. If it's a <font color=\"green\">**Runtime Error**</font> or <font color=\"green\">**Syntax Error**</font>, you at least get some information about it, but the logical errors are even harder to understand.\n",
    "\n",
    "What can you do if your code is bugged?\n",
    "How do you fix it? \n",
    "\n",
    "### learn to read the error messages\n",
    "\n",
    "As you have seen above, in Python, error message are quite readable and tell you a lot. In most cases enough to solve the problem.\n",
    "\n",
    "### use print statements\n",
    "\n",
    "The most basic debugging technique ... if you're unsure what the value of a variable is at a certain point in your code, just put in a print statement and check.\n",
    "\n",
    "### Use a rubber duck!\n",
    "\n",
    "There is a phenomenon where you can look at your code for hours and not see a single error. It looks perfect!\n",
    "As soon as you start explaining what your code is supposed to do to someone else, you immediately see where you went wrong.\n",
    "That works, even if you tell it to a rubber duck and this is why I have one on my desk!\n",
    "\n",
    "### Use a debugger\n",
    "\n",
    "Sometimes, errors are hard to spot, so you might want to follow the execution of your code step-by-step and see, at each point, what is exactly going on, what are the values of my variables, and so on.\n",
    "For this, you can use tools called debugger. They allow you to go through your program step-by-step and inspect the variables at runtime.\n",
    "Very useful tools, but out of scope for a python crash course.\n",
    "\n",
    "### Ask an AI\n",
    "\n",
    "Yes, you can actually ask chatGPT, what the problem of your code is.\n",
    "That brings us to another topic!"
   ]
  },
  {
   "cell_type": "markdown",
   "id": "0f1f8a2f-fe48-4d78-8e5a-a8233eac8b27",
   "metadata": {},
   "source": [
    "# Using chatGPT\n",
    "\n",
    "You might ask yourself: Can't I just create code with chatGPT?\n",
    "\n",
    "Actually, you can. chatGPT is able to produce code in different programming languages, including Python.\n",
    "The AI can in fact produce useful code. However, it can also follow the white rabbit, get lost and produce completely unsuable garbage. You can even make it doubt itself.\n",
    "\n",
    "<br>\n",
    "<div>\n",
    "<img src=\"data/a_complex_task.svg\" width=\"800\"/>\n",
    "</div>\n",
    "\n",
    "\n",
    "\n",
    "What followed was flood of code that looked impressive. However, when trying to execute it, it did not produce a reasonable result:\n",
    "\n",
    "<br>\n",
    "<div>\n",
    "<img src=\"data/a_complex_task_result.svg\" width=\"800\"/>\n",
    "</div>\n",
    "\n",
    "\n",
    "\n",
    "\n",
    "\n",
    "\n",
    "What it can do exceedingly well is assisting people with specific coding tasks or routines, rather than building complex applications.\n",
    "\n",
    "\n",
    "\n",
    "<br>\n",
    "<div>\n",
    "<img src=\"data/an_average_function.svg\" width=\"800\"/>\n",
    "</div>"
   ]
  },
  {
   "cell_type": "markdown",
   "id": "1a028354-8932-46cd-b7f2-56cecf6607ff",
   "metadata": {},
   "source": [
    "## What can we use chatGPT for?\n",
    "\n",
    "### 1. Use it to generate smaller code snippets\n",
    "\n",
    "chatGPT works best, if you have a very refined and simple task. The more complex your code should be, the more likely it will produce garbage.\n",
    "However, things like the exercises we had in this course should be easy prey. \n",
    "\n",
    "\n",
    "### 2.  Use it to get a better understanding of code you encounter\n",
    "\n",
    "chatGPT can interpret well documented code and might help you understand things. If you encounter code you understand, ask chatGPT, what the code does.\n",
    "\n",
    "<br>\n",
    "<div>\n",
    "<img src=\"data/a_person_prompt.svg\" width=\"800\"/>\n",
    "</div>\n",
    "\n",
    "<br>\n",
    "<div>\n",
    "<img src=\"data/a_person.svg\" width=\"800\"/>\n",
    "</div>"
   ]
  },
  {
   "cell_type": "markdown",
   "id": "b0359cfe-313c-439e-9de7-53acc656f7af",
   "metadata": {},
   "source": [
    "### 2. Use it to debug your code\n",
    "\n",
    "chatGPT, can you tell me what's wrong with my code? The AI does a pretty good job at finding bugs in your code.\n",
    "If you have a function, that does not do what you think it should, chatGPT can help you find the errors.\n",
    "\n",
    "<br>\n",
    "<div>\n",
    "<img src=\"data/debugged_prompt.svg\" width=\"800\"/>\n",
    "</div>\n",
    "\n",
    "<br>\n",
    "<div>\n",
    "<img src=\"data/debugged.svg\" width=\"800\"/>\n",
    "</div>\n",
    "\n",
    "You can even post a Traceback and ask it to explain it to you.\n",
    "\n",
    "<br>\n",
    "<div>\n",
    "<img src=\"data/traceback_prompt.svg\" width=\"800\"/>\n",
    "</div>\n",
    "\n",
    "<br>\n",
    "<div>\n",
    "<img src=\"data/traceback.svg\" width=\"800\"/>\n",
    "</div>"
   ]
  },
  {
   "cell_type": "markdown",
   "id": "eeb02d32-f5ed-475f-bcba-635666144f14",
   "metadata": {},
   "source": [
    "### 3. Use it to find out what code library would be best suited for your task\n",
    "\n",
    "Working with Python or any other programming language to analyze data involves making use of special code libraries that are not part of the basic language. In python, these libraries are called packages. If you're unsure what package you could use for a specific task, ask chatGPT!\n",
    "\n",
    "<br>\n",
    "<div>\n",
    "<img src=\"data/libraries.svg\" width=\"800\"/>\n",
    "</div>\n",
    "\n",
    "<br>\n",
    "<div>\n",
    "<img src=\"data/libraries2.svg\" width=\"800\"/>\n",
    "</div>"
   ]
  },
  {
   "cell_type": "markdown",
   "id": "a8dd66a1-23e7-4083-b6bd-70d0e384a6a3",
   "metadata": {},
   "source": [
    "### 4. Use it to generate example code\n",
    "\n",
    "chatGPT can generate code effectively. But it's not good at tweaking or modifying the code. \n",
    "The solution you get might not do exactly, what you need. Usually you also have to maintain your code, that is adapt to changes.\n",
    "Programming languages usually evolve over time and what works today might not work in the future. The more recent the changes are, the less likely chatGPT is to know about it!!!\n",
    "\n",
    "That means if you want to keep using your code, be up-to-date and use the latest features you need to be able to modify, adapt and maintain it's usability yourself.\n",
    "So treat the code you get as an example on how you can do something, then adapt it."
   ]
  },
  {
   "cell_type": "markdown",
   "id": "dfaf8710-bddb-4621-ba01-c6069ceed014",
   "metadata": {},
   "source": [
    "## What to keep in mind ...\n",
    "\n",
    "So what are the major points to keep in mind when using chatGPT?\n",
    "\n",
    "It is a so-called large language model (LLM) trained on vast amounts of text data and it is further trained by the interaction with us.\n",
    "You don't need to know how that works, but the gist of it:\n",
    "\n",
    "- an LLM is in essence a chatbot\n",
    "- it's a <font color=\"green\">**probabilistic model**</font> that <font color=\"green\">**predicts**</font> how your conversation will most likely continue (Next-token-prediction)\n",
    "- the quality of its output depends on the training data\n",
    "- LLMs are <font color=\"green\">**non-deterministic**</font>, i.e. the output chatGPT generates will vary with repeatedly posting the same request\n",
    "\n",
    "What does that mean?\n",
    "\n",
    "#### 1. Can we trust the code it generates?\n",
    "\n",
    "Can you trust the code it produces? Hell no!!!"
   ]
  },
  {
   "cell_type": "code",
   "execution_count": 18,
   "id": "f435cb79-7e3d-4672-9c03-fd7c8fa654f1",
   "metadata": {},
   "outputs": [
    {
     "name": "stdout",
     "output_type": "stream",
     "text": [
      "The 1th number in the Fibonacci sequence (using iteration) is: 1\n"
     ]
    }
   ],
   "source": [
    "# Can you generate code that \n",
    "# returns the n-th number of the Fibonacci sequence?\n",
    "\n",
    "def fibonacci_iterative(n):\n",
    "    if n < 0:\n",
    "        return \"Invalid input. n must be a positive integer.\"\n",
    "\n",
    "    a, b = 0, 1\n",
    "    for _ in range(2, n):\n",
    "        a, b = b, a + b\n",
    "    return b\n",
    "\n",
    "# Example usage\n",
    "n = 1\n",
    "print(f\"The {n}th number in the Fibonacci sequence (using iteration) is:\", fibonacci_iterative(n))\n"
   ]
  },
  {
   "cell_type": "markdown",
   "id": "7848bf76-e92e-4d06-8e4d-150296617335",
   "metadata": {},
   "source": [
    "But that's also true for a human programmer! Try to understand the code it produces and verify it.\n",
    "\n",
    "LLMs can provide incorrect answers, they are not infallible. However, they are trained to optimize accuracy so the answers they provide will nevertheless appear convincing, even if they are incorrect.\n",
    "Therefore, be critical about it.\n",
    "\n",
    "Why can they be wrong? Because of the quality of the training data, insufficient context provided or the fact that they are non-deterministic.\n",
    "That means you simply might be unlucky.\n",
    "\n",
    "<br>\n",
    "<div>\n",
    "<img src=\"data/it_lies_it_flies.svg\" width=\"800\"/>\n",
    "</div>\n",
    "\n",
    "   "
   ]
  },
  {
   "cell_type": "markdown",
   "id": "c16027ad-a46f-477b-b52d-90c8ff4169b1",
   "metadata": {},
   "source": [
    "#### 2. Be clear and conscise\n",
    "\n",
    "How does chatGPT understand the context of a sentence, a text, a piece of code? Actually it doesn't! \n",
    "\n",
    "Be mindful of your words! Narrow down your request and be precise when formulating your request. Think about, what task you want to perform.\n",
    "If you need a function, think about the parameters you are going to pass and what you want to get out.\n",
    "Then think about how you properly describe the routine you want it to generate.\n",
    "For this, the programming concepts that you have seen should help!\n",
    "\n",
    "An example: Assume we want to write a function that counts all even numbers from 0 to 10 ... \n",
    "\n",
    "<br>\n",
    "<div>\n",
    "<img src=\"data/something.svg\" width=\"800\"/>\n",
    "</div>\n",
    "<br>\n",
    "<div>\n",
    "<img src=\"data/something_answer.svg\" width=\"800\"/>\n",
    "</div>\n",
    "\n",
    "Well, apparently, there is nothing wrong with the code, which is correct. However, if we want to know, why it does not do, what we expected, we have to be clearer:\n",
    "\n",
    "<br>\n",
    "<div>\n",
    "<img src=\"data/even_numbers_better_question.svg\" width=\"800\"/>\n",
    "</div>"
   ]
  },
  {
   "cell_type": "markdown",
   "id": "a6ea5439-5d1d-4ec0-ada1-d0fa11704aac",
   "metadata": {},
   "source": [
    "#### 3. Provide context!\n",
    "\n",
    "Remember I said something about using meaningful and descriptive names for functions and variables and use comments to document complicated parts? It's important to make your code readable by other programmers. That also holds true for AI. By doing so, you provide context for chatGPT to better predict a correct answer.\n",
    "\n",
    "What happens, if I post the same question as above, but now I provide a different name for the fuction and a single comment?\n",
    "\n",
    "<br>\n",
    "<div>\n",
    "<img src=\"data/even_numbers.svg\" width=\"800\"/>\n",
    "</div>"
   ]
  },
  {
   "cell_type": "markdown",
   "id": "1a0ea4c1-2521-4275-92e1-1b80f53e0ae0",
   "metadata": {},
   "source": [
    "#### 4. Try to limit the code you post as much as you can\n",
    "\n",
    "ChatGPT has a limited message length it can work on, that means there's an upper limit on the lines of code you can use. Moreover, the larger and confusing your code is, the harder it is to infer the purpose of the code.\n",
    "\n",
    "Try to limit your question to a small code snippet, which makes it easier to analyze. "
   ]
  },
  {
   "cell_type": "markdown",
   "id": "087cdb5f-40f2-4df2-a49c-096ccaf7d534",
   "metadata": {},
   "source": [
    "# Summary\n",
    "\n",
    "Now you should know:\n",
    " - What kind of errors you might encounter\n",
    " - What a traceback is and how to use it\n",
    " - How to use chatGPT\n",
    " - Why it is important to be precise\n",
    " - Have an tiny idea about the limitations of AI\n",
    " - What does return, def and class mean?"
   ]
  },
  {
   "cell_type": "markdown",
   "id": "7dae769e-942a-467f-a719-4ec1d08bd1ae",
   "metadata": {},
   "source": [
    "# Exercise 1\n",
    "\n",
    "Create example code that produces the error types mentioned above."
   ]
  },
  {
   "cell_type": "markdown",
   "id": "667835fe-660a-4f2c-8c34-8aa2153bf9f2",
   "metadata": {},
   "source": [
    "# Exercise 2\n",
    "\n",
    "Solve the exercises from last session using chatGPT. See if you can figure out the difference."
   ]
  },
  {
   "cell_type": "code",
   "execution_count": null,
   "id": "f03be6a3-b274-4106-942c-e6142b6b32f8",
   "metadata": {},
   "outputs": [],
   "source": [
    "# Exercise 3\n",
    "\n",
    "def calculate_something():\n",
    "    for number in [20, 10, 0, -10, -20]:\n",
    "        re200 /)    \n",
    "def print_x_is_10(x):\n",
    "    \"\"\"Is x equal to 10?\"\"\"\n",
    "    if x = 10:\n",
    "        print(\"x is equal to 10\")\n",
    "\n",
    "\n",
    "def print_numbers_from_1_to_10():\n",
    "    \"\"\"print numbers from 0 to 10\"\"\"\n",
    "    for i in range(10):\n",
    "       print(i)\n",
    "\n",
    "\n",
    "def create_a_list():\n",
    "    \"\"\"return a list\"\"\"\n",
    "    a_list = [1, 2, 3]\n",
    "    a_list.add(4)\n",
    "    return a_list\n",
    "    "
   ]
  },
  {
   "cell_type": "markdown",
   "id": "9d2c5693-f9cf-4c35-a6e5-b68b25981bd2",
   "metadata": {},
   "source": [
    "# Exercise 4\n",
    "\n",
    "Logical/Semantic errors ... Fix the error! (Without chatGPT ^^)"
   ]
  },
  {
   "cell_type": "code",
   "execution_count": null,
   "id": "26d26ca7-9503-4f27-9df0-e60fd5a95299",
   "metadata": {},
   "outputs": [],
   "source": [
    "def calculate_average(nums):\n",
    "    \"\"\"Calculates the average of a list of numbers\"\"\"\n",
    "    total = 0\n",
    "    for num in nums:\n",
    "        total = total + num\n",
    "    average = total / len(num)\n",
    "\n",
    "def is_prime(n):\n",
    "    \"\"\"\n",
    "    Check if a number is prime.\n",
    "    \"\"\"\n",
    "    if n < 1:\n",
    "        return False\n",
    "    for i in range(2, n):\n",
    "        if n % i == 0:\n",
    "            return False\n",
    "    return True\n",
    "\n",
    "def calculate_average(nums):\n",
    "    \"\"\"Calculates the average of a list of numbers\"\"\"\n",
    "    total = 0\n",
    "    for num in nums:\n",
    "        total = total + num\n",
    "    average = total / len(num)\n",
    "\n",
    "def power(numbers, exponent):\n",
    "    \"\"\"Calculates the sum of powers of 'exponent' over a range of numbers\"\"\"\n",
    "    result = 0\n",
    "    for base in numbers:\n",
    "        result = result + exponent ** base\n",
    "    return result"
   ]
  },
  {
   "cell_type": "markdown",
   "id": "99185a79-3184-4ac9-b14e-78f3246ea2f5",
   "metadata": {},
   "source": [
    "< [5 - Classy and functional](Python%20Crash%205%20-%20Classy%20and%20functional.ipynb) | [Contents](Python%20Crash%20ToC.ipynb) | [7 - Numbers and the matrix](Python%20Crash%207%20-%20Numbers%20and%20the%20matrix.ipynb) >"
   ]
  }
 ],
 "metadata": {
  "kernelspec": {
   "display_name": "Python 3 (ipykernel)",
   "language": "python",
   "name": "python3"
  },
  "language_info": {
   "codemirror_mode": {
    "name": "ipython",
    "version": 3
   },
   "file_extension": ".py",
   "mimetype": "text/x-python",
   "name": "python",
   "nbconvert_exporter": "python",
   "pygments_lexer": "ipython3",
   "version": "3.11.0"
  }
 },
 "nbformat": 4,
 "nbformat_minor": 5
}
