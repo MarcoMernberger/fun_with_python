{
 "cells": [
  {
   "cell_type": "markdown",
   "id": "49049325-9ce3-4e7d-a75e-0590334d1c60",
   "metadata": {},
   "source": [
    "# Python Programming Crash Course - \n",
    "# Am I your type?\n",
    "<br>\n",
    "<div>\n",
    "<img src=\"data/Python-logo-notext.svg\" width=\"200\"/>\n",
    "</div>\n",
    "\n",
    "This part is about data types.\n",
    "We have seen in the last notebook, that some expressions produce different output:"
   ]
  },
  {
   "cell_type": "code",
   "execution_count": 1,
   "id": "4c247d29-28ad-4f53-b9b2-72c4fa1a3cbf",
   "metadata": {},
   "outputs": [
    {
     "name": "stdout",
     "output_type": "stream",
     "text": [
      "16 / 4  = 4.0\n",
      "16 // 4 = 4\n"
     ]
    }
   ],
   "source": [
    "div_16 = 16 / 4\n",
    "div_floor_16 = 16 // 4\n",
    "\n",
    "print(\"16 / 4  =\", div_16)\n",
    "print(\"16 // 4 =\", div_floor_16)"
   ]
  },
  {
   "cell_type": "markdown",
   "id": "c97ab1ea-8836-43f7-b8a3-0909757e84a1",
   "metadata": {},
   "source": [
    "While the result is the same, the printed output looks different. That is, because the above expressions return different data types:\\\n",
    "The first expression is a <font color=\"green\">**floating point number**</font>, the second is an <font color=\"green\">**integer**</font>.\n",
    "\n",
    "What's up with that?\n"
   ]
  },
  {
   "cell_type": "markdown",
   "id": "f05a8130-bb4f-49d8-a0f8-7a605f8be342",
   "metadata": {},
   "source": [
    "# Basic Data Types\n",
    "\n",
    "Every value in python has a data type, be it a character, a number or a logical expression. \n",
    "\n",
    "So our two variables div_16 and div_floor_16 have different types! How can we tell?\n"
   ]
  },
  {
   "cell_type": "code",
   "execution_count": 2,
   "id": "7af3c26d-3528-48e0-adb6-5038f0431da1",
   "metadata": {},
   "outputs": [
    {
     "name": "stdout",
     "output_type": "stream",
     "text": [
      "4.0 \n",
      " 4\n"
     ]
    }
   ],
   "source": [
    "print(div_16, \"\\n\", div_floor_16)"
   ]
  },
  {
   "cell_type": "markdown",
   "id": "be776015-a0ed-405a-a180-cda8790589c0",
   "metadata": {},
   "source": [
    "Remember that there are <font color='green'>**build-in functions**</font> in Python? You already ḱnow **`print()`**, **`input()`**, **`open()`** and **`help()`**.\\\n",
    "Here's another one: **`type()`**.\n",
    "\n",
    "**`type()`** tells you, what <font color='green'>**type**</font> a certain object has. Remember that Python is an <font color='green'>**object-oriented**</font> language?\n",
    "That mean everything is an <font color='green'>**object**</font>. And every <font color='green'>**object**</font> has a <font color='green'>**type**</font>.\n",
    "\n",
    "Another useful one is **`isinstance()`** which tests, if a certain variable/expression belongs to a certain type.\n",
    "\n",
    "Try to find out the types of these variables:\n",
    "\n",
    "```python\n",
    "div_floor_16\n",
    "\n",
    "div_16\n",
    "```"
   ]
  },
  {
   "cell_type": "code",
   "execution_count": 3,
   "id": "340c9119-94fe-4736-a552-18ee4e808815",
   "metadata": {},
   "outputs": [
    {
     "data": {
      "text/plain": [
       "int"
      ]
     },
     "execution_count": 3,
     "metadata": {},
     "output_type": "execute_result"
    }
   ],
   "source": [
    "type(16 // 4)"
   ]
  },
  {
   "cell_type": "code",
   "execution_count": 4,
   "id": "1dcd2c0b-6c05-4093-912c-2b34f5f02e6b",
   "metadata": {},
   "outputs": [
    {
     "data": {
      "text/plain": [
       "int"
      ]
     },
     "execution_count": 4,
     "metadata": {},
     "output_type": "execute_result"
    }
   ],
   "source": [
    "type(div_floor_16)"
   ]
  },
  {
   "cell_type": "code",
   "execution_count": 5,
   "id": "756f8f84-7ee1-4e0e-977d-fa96118c94b7",
   "metadata": {},
   "outputs": [
    {
     "data": {
      "text/plain": [
       "float"
      ]
     },
     "execution_count": 5,
     "metadata": {},
     "output_type": "execute_result"
    }
   ],
   "source": [
    "type(div_16)"
   ]
  },
  {
   "cell_type": "markdown",
   "id": "c9701ab3-19bd-4e60-b144-158ae4646e52",
   "metadata": {},
   "source": [
    "## 1. Python Numbers\n",
    "\n",
    "Numerical values in Python belong to three basic data types:\n",
    "\n",
    "### Integer numbers (<font color='green'>**int**</font>)\n",
    "\n",
    "An <font color='green'>**int**</font> is a natural number, such as <font color='3da831'>10</font> or <font color='3da831'>-5</font> or <font color='3da831'>0</font>."
   ]
  },
  {
   "cell_type": "code",
   "execution_count": 6,
   "id": "64d7554e-dc58-4d91-bb6a-875d2a7b8570",
   "metadata": {},
   "outputs": [
    {
     "data": {
      "text/plain": [
       "int"
      ]
     },
     "execution_count": 6,
     "metadata": {},
     "output_type": "execute_result"
    }
   ],
   "source": [
    "# what is the type of the literal 10?\n",
    "type(10)"
   ]
  },
  {
   "cell_type": "code",
   "execution_count": 9,
   "id": "64a7436b-793b-4314-9370-8a90101e2607",
   "metadata": {},
   "outputs": [
    {
     "data": {
      "text/plain": [
       "False"
      ]
     },
     "execution_count": 9,
     "metadata": {},
     "output_type": "execute_result"
    }
   ],
   "source": [
    "# what is the type of x = 14\n",
    "x = 14\n",
    "type(x)\n",
    "isinstance(x, float)"
   ]
  },
  {
   "cell_type": "markdown",
   "id": "bb6e8872-b833-4941-8ef6-2253cb780347",
   "metadata": {},
   "source": [
    "### Floating point numbers (<font color='green'>**float**</font>)\n",
    "\n",
    "A <font color='green'>**float**</font> is a real number (with a decimal point), such as <font color='3da831'>2.3</font> or <font color='#3da831'>3.141592653589793</font>.\n",
    "\n",
    "You can even use scientific notation: <font color='#3da831'>1.48e-2</font> or <font color='#3da831'>2.1e+12</font>"
   ]
  },
  {
   "cell_type": "code",
   "execution_count": 10,
   "id": "37e45dc2-70a2-4e16-abc1-887f2025c1e6",
   "metadata": {},
   "outputs": [
    {
     "data": {
      "text/plain": [
       "float"
      ]
     },
     "execution_count": 10,
     "metadata": {},
     "output_type": "execute_result"
    }
   ],
   "source": [
    "# what is the type of \n",
    "pi = 3.141592653589793\n",
    "type(pi)"
   ]
  },
  {
   "cell_type": "code",
   "execution_count": 12,
   "id": "047e63ed-fdbb-4994-b568-9ec95ea184d7",
   "metadata": {},
   "outputs": [
    {
     "name": "stdout",
     "output_type": "stream",
     "text": [
      "0.0148 <class 'float'>\n"
     ]
    }
   ],
   "source": [
    "# what is the type of 2.1e-3?\n",
    "x = 1.48e-2\n",
    "print(x, type(x))\n"
   ]
  },
  {
   "cell_type": "code",
   "execution_count": 13,
   "id": "b52347fb-419f-468e-a218-b49064b2809d",
   "metadata": {},
   "outputs": [
    {
     "data": {
      "text/plain": [
       "float"
      ]
     },
     "execution_count": 13,
     "metadata": {},
     "output_type": "execute_result"
    }
   ],
   "source": [
    "type(x)"
   ]
  },
  {
   "cell_type": "code",
   "execution_count": 14,
   "id": "7ed37c43-f33e-44a1-9d52-a6cc4ae79c44",
   "metadata": {},
   "outputs": [
    {
     "data": {
      "text/plain": [
       "float"
      ]
     },
     "execution_count": 14,
     "metadata": {},
     "output_type": "execute_result"
    }
   ],
   "source": [
    "type(3602879701896397 / 2 ** 55)"
   ]
  },
  {
   "cell_type": "markdown",
   "id": "0224c93e-6a43-49b2-9a3e-7d646c25973d",
   "metadata": {},
   "source": [
    "### Complex numbers (<font color='green'>**complex**</font>)\n",
    "\n",
    "These are also complex numbers such as $\\sqrt{-1}$ or <font color='#3da831'>2+3i</font>, which would be of type <font color='green'>**complex**</font>.\\\n",
    "(But you will not need them, so ... )\n",
    "\n",
    "Guess the type:\n",
    "\n",
    "```Python\n",
    "x = 15\n",
    "y = 2.0\n",
    "z = x ** y\n",
    "u = x * y\n",
    "v = 14 / 2\n",
    "w = 15 ** 2\n",
    "t = 15.0 ** 2\n",
    "15 + 4.0\n",
    "```"
   ]
  },
  {
   "cell_type": "code",
   "execution_count": 18,
   "id": "b7e799b5-3921-4d2b-8f61-265262e6bb66",
   "metadata": {},
   "outputs": [
    {
     "name": "stdout",
     "output_type": "stream",
     "text": [
      "225.0 <class 'float'>\n",
      "30.0 <class 'float'>\n",
      "225 <class 'int'>\n"
     ]
    }
   ],
   "source": [
    "# what's the type of ...\n",
    "x = 15\n",
    "y = 2.0\n",
    "z = x ** y\n",
    "u = x * y\n",
    "v = 14 / 2\n",
    "w = 15 ** 2\n",
    "t = 15.0 ** 2\n",
    "15 + 4.0\n",
    "print(z, type(z))\n",
    "print(u, type(u))\n",
    "print(w, type(w))"
   ]
  },
  {
   "cell_type": "markdown",
   "id": "43fb334a-a133-49e3-b045-c927505fc87d",
   "metadata": {},
   "source": [
    "## 2. Logicals \n",
    "\n",
    "To represent, wether something is true or not we need logical values.\n",
    "\n",
    "#### Bools (<font color='green'>**bool**</font>) \n",
    "\n",
    "A <font color='green'>**bool**</font> is one of the logical values <font color='#3da831'>**True**</font> and <font color='#3da831'>**False**</font>.\n",
    "\n",
    "Now now know what the keywords <font color='#3da831'>**True**</font> and <font color='#3da831'>**False**</font> mean."
   ]
  },
  {
   "cell_type": "code",
   "execution_count": 19,
   "id": "d4d698e3-b344-4bdd-96ab-2aece8196798",
   "metadata": {},
   "outputs": [
    {
     "data": {
      "text/plain": [
       "bool"
      ]
     },
     "execution_count": 19,
     "metadata": {},
     "output_type": "execute_result"
    }
   ],
   "source": [
    "# What's the type of the literals True and False?\n",
    "type(True)"
   ]
  },
  {
   "cell_type": "code",
   "execution_count": 20,
   "id": "0b945a98-57bd-4812-8aa8-472e440f51cc",
   "metadata": {},
   "outputs": [
    {
     "data": {
      "text/plain": [
       "bool"
      ]
     },
     "execution_count": 20,
     "metadata": {},
     "output_type": "execute_result"
    }
   ],
   "source": [
    "# What's the type of x = 14 <= 12?\n",
    "x = 14 <= 12\n",
    "type(x)"
   ]
  },
  {
   "cell_type": "markdown",
   "id": "4a7f87c1-1542-444d-84b9-032eac4880c7",
   "metadata": {},
   "source": [
    "## 3. Nothing at all \n",
    "\n",
    "Sometimes you need to represent nothing, e.g. for a value, that does not (yet) exist or a function that\n",
    "does not give you a meaningful result.\n",
    "\n",
    "#### NoneType (<font color='green'>**None**</font>)\n",
    "\n",
    "This represents the absence of a value or a null value, denoted by the literal <font color='#3da831'>**None**</font>."
   ]
  },
  {
   "cell_type": "code",
   "execution_count": 21,
   "id": "c07efd15-f774-4343-86ee-294aabd223cf",
   "metadata": {},
   "outputs": [
    {
     "data": {
      "text/plain": [
       "NoneType"
      ]
     },
     "execution_count": 21,
     "metadata": {},
     "output_type": "execute_result"
    }
   ],
   "source": [
    "# None\n",
    "type(None)"
   ]
  },
  {
   "cell_type": "code",
   "execution_count": 23,
   "id": "caf2a365-1faf-4a28-b79b-1d5f486909e3",
   "metadata": {},
   "outputs": [
    {
     "name": "stdout",
     "output_type": "stream",
     "text": [
      "Hello!\n"
     ]
    },
    {
     "data": {
      "text/plain": [
       "NoneType"
      ]
     },
     "execution_count": 23,
     "metadata": {},
     "output_type": "execute_result"
    }
   ],
   "source": [
    "# what is the type of print(\"Hello!\")\n",
    "x = print(\"Hello!\")\n",
    "x = None\n",
    "type(x)"
   ]
  },
  {
   "cell_type": "markdown",
   "id": "a304fddf-fba0-491e-af1a-c290e6e05b02",
   "metadata": {},
   "source": [
    "## 4. Python Strings\n",
    "\n",
    "Unicode characters, sequences of characters or simply all sorts of text are represented by <font color='green'>**Strings**</font>.\n",
    "\n",
    "### Strings (<font color='green'>**string**</font>)\n",
    "\n",
    "A <font color='green'>**string**</font> is a sequence of unicode characters, surrounded by quotation marks, such as <font color='salmon'>\"Hello, World!\"</font>\n",
    "\n",
    "You can use single quotes, double quotes and triple quotes for multiline strings.\n",
    "\n",
    "You can do lot's of things with Strings, actually!"
   ]
  },
  {
   "cell_type": "code",
   "execution_count": 26,
   "id": "793307a1-02c6-4201-87e4-3ca23601c263",
   "metadata": {},
   "outputs": [
    {
     "data": {
      "text/plain": [
       "str"
      ]
     },
     "execution_count": 26,
     "metadata": {},
     "output_type": "execute_result"
    }
   ],
   "source": [
    "#my_name = \"Marco\"\n",
    "my_name = 'Marco'\n",
    "type(my_name)"
   ]
  },
  {
   "cell_type": "code",
   "execution_count": 27,
   "id": "895d84b1-43c9-4a08-9447-ecd4b68b2a33",
   "metadata": {},
   "outputs": [
    {
     "name": "stdout",
     "output_type": "stream",
     "text": [
      "Iam\n",
      "Arthur,\n",
      "King of the Britons\n",
      "\n"
     ]
    }
   ],
   "source": [
    "x = \"\"\"Iam\n",
    "Arthur,\n",
    "King of the Britons\n",
    "\"\"\"\n",
    "print(x)"
   ]
  },
  {
   "cell_type": "code",
   "execution_count": null,
   "id": "96c3574c-c146-46ed-88f5-216c7bd19e0d",
   "metadata": {},
   "outputs": [],
   "source": []
  },
  {
   "cell_type": "markdown",
   "id": "2bc75e0e-4f38-4566-b41e-998a7711163e",
   "metadata": {},
   "source": [
    "#### 3.1 Apply operators\n",
    "\n",
    "the <font color='green'>**operators**</font> we have encountered may be defined on different data types. \n",
    "You can apply for example <font color='purple'>**+**</font> also on strings:"
   ]
  },
  {
   "cell_type": "code",
   "execution_count": 29,
   "id": "ad76371a-22d2-4483-a680-81cf3a7067c1",
   "metadata": {},
   "outputs": [
    {
     "name": "stdout",
     "output_type": "stream",
     "text": [
      "Nobody expects the spanish Inquisition!!\n"
     ]
    }
   ],
   "source": [
    "a = \"Nobody\"\n",
    "b = \"expects\"\n",
    "inquisition = \" Inquisition!!\"\n",
    "\n",
    "spanish_inquisition = a + \" \" + b + \" the spanish\" + inquisition\n",
    "print(spanish_inquisition)"
   ]
  },
  {
   "cell_type": "code",
   "execution_count": 30,
   "id": "6da73841-fc33-4150-b882-de669e41c15b",
   "metadata": {},
   "outputs": [
    {
     "name": "stdout",
     "output_type": "stream",
     "text": [
      "spanish\n",
      "inquisition\n"
     ]
    }
   ],
   "source": [
    "print(\"spanish\\ninquisition\")"
   ]
  },
  {
   "cell_type": "markdown",
   "id": "c40aacc8-e000-4950-96c8-363ec2126ad5",
   "metadata": {},
   "source": [
    "#### 3.2 Escape special character meaning\n",
    "What if we need quotations marks in a string? \n",
    "\n",
    "You can use a backslash <font color='salmon'>**\\\\\\**</font> to escape the meaning of a special character or apply a special meaning to characters!"
   ]
  },
  {
   "cell_type": "code",
   "execution_count": 32,
   "id": "ea8ee160-bc53-41b8-ab85-e1ed74b1dfdc",
   "metadata": {},
   "outputs": [
    {
     "name": "stdout",
     "output_type": "stream",
     "text": [
      "I am \"Arthur\", king of the Britons!\n"
     ]
    }
   ],
   "source": [
    "this_does_work = \"I am \\\"Arthur\\\", king of the Britons!\"\n",
    "\n",
    "print(this_does_work)"
   ]
  },
  {
   "cell_type": "code",
   "execution_count": 33,
   "id": "9ad300e0-52b3-4d5f-a918-a8138e5793ab",
   "metadata": {},
   "outputs": [
    {
     "name": "stdout",
     "output_type": "stream",
     "text": [
      "I am Arthur,\n",
      " king of the Britons!\n"
     ]
    }
   ],
   "source": [
    "print(\"I am Arthur,\\n king of the Britons!\")"
   ]
  },
  {
   "cell_type": "markdown",
   "id": "b6f6a68e-a9a8-4ffa-bd01-1233e936e487",
   "metadata": {},
   "source": [
    "#### 3.3 <font color='green'>**Slicing**</font>\n",
    "\n",
    "As Strings are sequences of characters, we can easily select parts of that sequence or even single characters by specifrying the indices of the characters we want in squared brackets. This is called <font color='green'>**slicing**</font>.\n",
    "\n",
    "<font color='green'>**Slicing**</font> is how you select subsets of all kinds of sequences in python, not only strings. \n",
    "\n",
    "You will encounter this everywhere!"
   ]
  },
  {
   "cell_type": "code",
   "execution_count": 37,
   "id": "717f68cf-5476-480c-9166-358caaf967e6",
   "metadata": {},
   "outputs": [
    {
     "data": {
      "text/plain": [
       "'Nobody expects the spanish Inquisition!!'"
      ]
     },
     "execution_count": 37,
     "metadata": {},
     "output_type": "execute_result"
    }
   ],
   "source": [
    "spanish_inquisition"
   ]
  },
  {
   "cell_type": "markdown",
   "id": "990f326d-b06d-40c0-b1ef-bdf2064a52f3",
   "metadata": {},
   "source": [
    "<font color='red'>**Attention! In python, we do 0-indexing, so the first index number is always 0, not 1!**</font>"
   ]
  },
  {
   "cell_type": "markdown",
   "id": "531b2728-7d00-452d-8362-90f8f5575a28",
   "metadata": {},
   "source": [
    "You can specify a single index or a range:"
   ]
  },
  {
   "cell_type": "code",
   "execution_count": 38,
   "id": "694145c4-0d65-45e2-8033-e760360c89bd",
   "metadata": {},
   "outputs": [
    {
     "data": {
      "text/plain": [
       "'spanish'"
      ]
     },
     "execution_count": 38,
     "metadata": {},
     "output_type": "execute_result"
    }
   ],
   "source": [
    "spanish_inquisition[19:26]"
   ]
  },
  {
   "cell_type": "raw",
   "id": "e631adb3-ee0a-4c81-ad35-fda9150b2ffa",
   "metadata": {},
   "source": [
    "You can also select everything up to/from an index:"
   ]
  },
  {
   "cell_type": "code",
   "execution_count": 39,
   "id": "5fd3395f-e118-4fc2-a075-08eb9b5b9ee2",
   "metadata": {},
   "outputs": [
    {
     "name": "stdout",
     "output_type": "stream",
     "text": [
      "Nobody expects the spanish\n",
      "Inquisition!!\n"
     ]
    }
   ],
   "source": [
    "print(spanish_inquisition[:26])  # from beginning\n",
    "print(spanish_inquisition[27:])  # until end"
   ]
  },
  {
   "cell_type": "markdown",
   "id": "0523cdf2-89b9-485e-94de-d10fc763905c",
   "metadata": {},
   "source": [
    "You can even index from the end by using negative sings:"
   ]
  },
  {
   "cell_type": "code",
   "execution_count": 40,
   "id": "d96845d5-e776-462a-a4ec-bcc43cc6f7bc",
   "metadata": {},
   "outputs": [
    {
     "data": {
      "text/plain": [
       "'Inquisition!!'"
      ]
     },
     "execution_count": 40,
     "metadata": {},
     "output_type": "execute_result"
    }
   ],
   "source": [
    "spanish_inquisition[-13:]"
   ]
  },
  {
   "cell_type": "markdown",
   "id": "f81cfe4d-aacb-46c5-b472-9cacf1b1b577",
   "metadata": {},
   "source": [
    "The basic idea of <font color='green'>**slicing**</font> is to specify a start index, a stop index and optionally a step:\n",
    "\n",
    "```Python\n",
    "mystring[start:stop:step]\n",
    "```\n",
    "That means you can also retrieve every second letter:"
   ]
  },
  {
   "cell_type": "code",
   "execution_count": 41,
   "id": "c64db95b-a314-462a-942e-f65d24425f49",
   "metadata": {},
   "outputs": [
    {
     "name": "stdout",
     "output_type": "stream",
     "text": [
      "Nbd xet h pns nusto!\n"
     ]
    }
   ],
   "source": [
    "# print every second letter\n",
    "print(spanish_inquisition[::2])"
   ]
  },
  {
   "cell_type": "markdown",
   "id": "5789fbf3-aea6-4bc6-b538-1f64f23e2823",
   "metadata": {},
   "source": [
    "Or even use a negative step to reverse the order:"
   ]
  },
  {
   "cell_type": "code",
   "execution_count": 42,
   "id": "db62a76a-30ca-4840-b3ea-611781ff4256",
   "metadata": {},
   "outputs": [
    {
     "name": "stdout",
     "output_type": "stream",
     "text": [
      "!!noitisiuqnI hsinaps eht stcepxe ydoboN\n"
     ]
    }
   ],
   "source": [
    "# print the reverse order\n",
    "print(spanish_inquisition[::-1])"
   ]
  },
  {
   "cell_type": "markdown",
   "id": "46526818-d470-45e8-8232-0ada67d404a2",
   "metadata": {},
   "source": [
    "#### 3.4 Apply functions\n",
    "\n",
    "There are certain useful functions you can apply on strings, for example find the start of a certain word:"
   ]
  },
  {
   "cell_type": "code",
   "execution_count": 45,
   "id": "feb0bf8b-4240-44e5-a176-01842013f16d",
   "metadata": {},
   "outputs": [
    {
     "name": "stdout",
     "output_type": "stream",
     "text": [
      "27\n",
      "Inquisition!!\n"
     ]
    }
   ],
   "source": [
    "# find the start index of the word \"Inquisition\" in our message!\n",
    "index = spanish_inquisition.find(\"Inquisition\")\n",
    "print(index)\n",
    "print(spanish_inquisition[index:])"
   ]
  },
  {
   "cell_type": "markdown",
   "id": "d260847c-e90b-4821-91e5-131116116aff",
   "metadata": {},
   "source": [
    "Count the occurences of a substring using **`.count()`**:"
   ]
  },
  {
   "cell_type": "code",
   "execution_count": 48,
   "id": "cc9c0b2e-5d63-4583-9f63-ebc60bb31f6b",
   "metadata": {},
   "outputs": [
    {
     "name": "stdout",
     "output_type": "stream",
     "text": [
      "Nobody expects the spanish Inquisition!!\n"
     ]
    },
    {
     "data": {
      "text/plain": [
       "1"
      ]
     },
     "execution_count": 48,
     "metadata": {},
     "output_type": "execute_result"
    }
   ],
   "source": [
    "# count the occurences of substrings\n",
    "print(spanish_inquisition)\n",
    "spanish_inquisition.count(\"spanish\")\n"
   ]
  },
  {
   "cell_type": "markdown",
   "id": "56b9b980-8d07-4aee-baec-c686cd21728b",
   "metadata": {},
   "source": [
    "You can format a string using either **`.format()`** or a so-called <font color=\"green\">**f-string**</font>:"
   ]
  },
  {
   "cell_type": "code",
   "execution_count": null,
   "id": "a710e370-5905-480e-a973-3ba9487022cb",
   "metadata": {},
   "outputs": [],
   "source": []
  },
  {
   "cell_type": "code",
   "execution_count": 50,
   "id": "a2f7b01c-0bbd-4582-9b31-f81f0c9b66a0",
   "metadata": {},
   "outputs": [
    {
     "name": "stdout",
     "output_type": "stream",
     "text": [
      "Cardinal! Poke her with the soft cushions!\n",
      "Biggles! Poke her with the soft cushions!\n",
      "Cardinal! Poke her with the soft cushions!\n"
     ]
    }
   ],
   "source": [
    "# format the string\n",
    "cardinal = \"Cardinal\"\n",
    "poke_her = \"{}! Poke her with the soft cushions!\".format(cardinal)\n",
    "print(poke_her)\n",
    "poke_her = \"{}! Poke her with the soft cushions!\".format(\"Biggles\")\n",
    "print(poke_her)\n",
    "poke_her = \"{}! Poke her with the soft {}!\".format(cardinal, \"cushions\")\n",
    "print(poke_her)"
   ]
  },
  {
   "cell_type": "markdown",
   "id": "39c7aecc-9dbd-4fff-b29c-f9ce5e317589",
   "metadata": {},
   "source": [
    "Each occurence of curly brackets tells python, where to put the next argument of the format function."
   ]
  },
  {
   "cell_type": "code",
   "execution_count": 52,
   "id": "958c77c6-ea82-43c6-a703-535c8a060d61",
   "metadata": {},
   "outputs": [
    {
     "name": "stdout",
     "output_type": "stream",
     "text": [
      "Biggles! Fetch the comfy chair!\n"
     ]
    }
   ],
   "source": [
    "# f-string\n",
    "cardinal = \"Biggles\"\n",
    "fetch_chair = f\"{cardinal}! Fetch the comfy chair!\"\n",
    "print(fetch_chair)"
   ]
  },
  {
   "cell_type": "code",
   "execution_count": 55,
   "id": "84b84f39-4337-42d9-90e9-c18e01f9c085",
   "metadata": {},
   "outputs": [
    {
     "name": "stdout",
     "output_type": "stream",
     "text": [
      "3.00 shall be the number thou shalt count.\n"
     ]
    }
   ],
   "source": [
    "# f string numbers\n",
    "three = 3.000003\n",
    "holy_handgrenade = f\"{three} shall be the number thou shalt count.\"\n",
    "print(holy_handgrenade)"
   ]
  },
  {
   "cell_type": "markdown",
   "id": "ade5cb69-6452-4505-bf04-4ee012f40110",
   "metadata": {},
   "source": [
    "Change the case with **`.upper()`** or **`.lower()`**::"
   ]
  },
  {
   "cell_type": "code",
   "execution_count": 57,
   "id": "7389d920-e40e-48a4-bc1c-8cbbf3610301",
   "metadata": {},
   "outputs": [
    {
     "name": "stdout",
     "output_type": "stream",
     "text": [
      "NOBODY EXPECTS THE SPANISH INQUISITION!!\n",
      "nobody expects the spanish inquisition!!\n"
     ]
    }
   ],
   "source": [
    "# upper case letters\n",
    "print(spanish_inquisition.upper())\n",
    "print(spanish_inquisition.lower())"
   ]
  },
  {
   "cell_type": "markdown",
   "id": "b8f5b6e4-0b44-4fdf-8da1-c2e047783339",
   "metadata": {},
   "source": [
    "Or replace some words with **`.replace()`**:"
   ]
  },
  {
   "cell_type": "code",
   "execution_count": 58,
   "id": "a9ec3943-3de8-4d5d-98b2-0cbff78f9bfd",
   "metadata": {},
   "outputs": [
    {
     "name": "stdout",
     "output_type": "stream",
     "text": [
      "I will not by this tobacco! It is scratched!\n"
     ]
    }
   ],
   "source": [
    "# Replace\n",
    "some_string = \"I will not by this record! It is scratched!\"\n",
    "some_string = some_string.replace(\"record\", \"tobacco\")\n",
    "print(some_string)"
   ]
  },
  {
   "cell_type": "markdown",
   "id": "22b5954a-b010-445a-bcb9-db1443bc969e",
   "metadata": {},
   "source": [
    "Of course there are more functions you can apply on strings. And how does that even work and what does that syntax mean?\n",
    "\n",
    "```Python\n",
    "some_string.upper()\n",
    "```\n",
    "\n",
    "We will get to that soon ... But now for something completely different!"
   ]
  },
  {
   "cell_type": "markdown",
   "id": "f9f7ae33-5fb5-4565-a7ae-cdc1494d7d03",
   "metadata": {},
   "source": [
    "# Casting"
   ]
  },
  {
   "cell_type": "code",
   "execution_count": 63,
   "id": "9d27ae15-c131-4f51-8f0d-4742ee321a4c",
   "metadata": {},
   "outputs": [
    {
     "name": "stdout",
     "output_type": "stream",
     "text": [
      "84\n"
     ]
    }
   ],
   "source": [
    "# What's the type of result = 84 + (84 < 100) ... and why?\n",
    "result = 84 + (84 > 100)\n",
    "print(result)"
   ]
  },
  {
   "cell_type": "markdown",
   "id": "8eb253fd-e336-4495-88ad-d2550edb7968",
   "metadata": {},
   "source": [
    "What happens?\n",
    "\n",
    "<details>\n",
    "    <summary><font color=\"orange\"><b>Click me!</b></font></summary>\n",
    "    The parenthesis has precedence, so (84 < 100) is True. We then add True to 84 which is apparently 85.<br>\n",
    "    The reason for this is because True and False can be interpreted as 1 and 0 in a binary setting.<br> \n",
    "    Python implicitly converts the bool type into an integer!\n",
    "</details>\n",
    "\n",
    "\\\n",
    "Obviously, we can change the data type. With the expression\n",
    "\n",
    "```Python\n",
    "result = 84 + (84 < 100)\n",
    "```\n",
    "we created a <font color='green'>**bool**</font> type (84 < 100) and then it's changed into an <font color='green'>**integer**</font>, so that 84 + (84 < 100) = 85 results in an <font color='green'>**integer**</font> again.\n",
    "\n",
    "The same thing happens here:\n",
    "\n",
    "```Python\n",
    "result = 16 / 4\n",
    "```\n",
    "Two <font color='green'>**integers**</font> are turned into a <font color='green'>**float**</font> by using the division operator!\n",
    "\n",
    "What happens implicitly is called <font color='green'>**casting**</font>. \n",
    "\n",
    "<font color='green'>**Casting**</font> means we change a data type of a variable to another one. As we have seen, this makes a lot of sense, if for example the result of a math operation, like division, leads to a decimal number or if we type in an expression involving different data types.\\\n",
    "We can also do this explicitly by using this syntax (as long as it makes any sense):\n",
    "\n",
    "**`int(x)`** \\\n",
    "**`float(x)`** \\\n",
    "**`bool(x)`** \\\n",
    "**`str(x)`**"
   ]
  },
  {
   "cell_type": "code",
   "execution_count": 64,
   "id": "38176048-0e99-462e-807f-b9570e4e4246",
   "metadata": {},
   "outputs": [
    {
     "name": "stdout",
     "output_type": "stream",
     "text": [
      "15 <class 'int'> cast to ...\n",
      "15.0 <class 'float'>\n",
      "True <class 'bool'>\n"
     ]
    }
   ],
   "source": [
    "# int to float\n",
    "my_int = 15\n",
    "print(my_int, type(my_int), \"cast to ...\")\n",
    "x = float(my_int)\n",
    "print(x, type(x))\n",
    "x = bool(my_int)\n",
    "print(x, type(x))"
   ]
  },
  {
   "cell_type": "code",
   "execution_count": 65,
   "id": "31fd8547-c557-45fb-bc7b-01cefcefd723",
   "metadata": {},
   "outputs": [
    {
     "name": "stdout",
     "output_type": "stream",
     "text": [
      "12.0 <class 'str'>\n"
     ]
    }
   ],
   "source": [
    "# float to int\n",
    "my_float = 12.0\n",
    "x = str(my_float)\n",
    "print(x, type(x))"
   ]
  },
  {
   "cell_type": "code",
   "execution_count": 66,
   "id": "4f277f9e-e090-4a4d-8225-d778ff7904dd",
   "metadata": {},
   "outputs": [
    {
     "name": "stdout",
     "output_type": "stream",
     "text": [
      "1 <class 'int'>\n"
     ]
    }
   ],
   "source": [
    "# bool to something\n",
    "my_bool = True\n",
    "x = int(my_bool)\n",
    "print(x, type(x))"
   ]
  },
  {
   "cell_type": "code",
   "execution_count": 69,
   "id": "6e47f560-9bc8-486c-903f-91f7074a7fd6",
   "metadata": {},
   "outputs": [
    {
     "name": "stdout",
     "output_type": "stream",
     "text": [
      "44 <class 'int'>\n"
     ]
    }
   ],
   "source": [
    "# str to something\n",
    "some_string = \"44\"\n",
    "x = int(some_string)\n",
    "print(x, type(x))\n"
   ]
  },
  {
   "cell_type": "code",
   "execution_count": 72,
   "id": "094838de-2ab0-4975-b10b-0077b00c5ba1",
   "metadata": {},
   "outputs": [
    {
     "name": "stdin",
     "output_type": "stream",
     "text": [
      "Give me a number and I'll add 15 to it! 20\n"
     ]
    },
    {
     "name": "stdout",
     "output_type": "stream",
     "text": [
      "Voila! 35\n"
     ]
    }
   ],
   "source": [
    "# example input: add \n",
    "number1 = 15\n",
    "number2 = int(input(\"Give me a number and I'll add 15 to it!\"))\n",
    "result = number1 + number2\n",
    "print(\"Voila!\", result)"
   ]
  },
  {
   "cell_type": "markdown",
   "id": "c706ecfc-5390-4171-ba42-f7124332e3e9",
   "metadata": {},
   "source": [
    "### Operations with different types\n",
    "\n",
    "Since we have different data types, it makes sense to define the <font color='green'>**operations**</font> we have on different types as well.\\\n",
    "We have seen this with strings, where <font color='#a71ed9'>**+**</font> means concatenate the words! Python will try to evaluate your expressions in a way that makes sense.\n",
    "That also means that you have to take care, because your expressions might result in unwanted behaviour."
   ]
  },
  {
   "cell_type": "code",
   "execution_count": 73,
   "id": "026dd9e0-5919-468a-9aa1-2622e6c8fd68",
   "metadata": {},
   "outputs": [
    {
     "name": "stdout",
     "output_type": "stream",
     "text": [
      "1 + 1 = 2\n",
      "1 + 1 = 11\n"
     ]
    }
   ],
   "source": [
    "# Addition\n",
    "print(\"1 + 1 =\", 1+1)\n",
    "print(\"1 + 1 =\", \"1\" + \"1\")"
   ]
  },
  {
   "cell_type": "markdown",
   "id": "7b0b6a2a-549d-4c8a-a6a3-5e9ed9dfc6c3",
   "metadata": {},
   "source": [
    "# Containers: Tuples, Lists and Dictionaries\n",
    "\n",
    "We can use <font color='green'>**variables**</font> to store values that may or may not change over time\n",
    "during the execution of our programs.\n",
    "\n",
    "But what if we need to store more than one value, for example the names of the months? Entries of a phone book?\n",
    "A couple of numbers? We would need to put multiple values in a so-called <font color='green'>**container**</font>!\n",
    "\n",
    "## Python <font color='green'>**Lists**</font>\n",
    "\n",
    "If we need to store a list of values, we can just do that: Use <font color='green'>**lists**</font>!\n",
    "\n",
    "A <font color='green'>**list**</font> is just an ordered sequence of values, just like <font color='green'>**strings**</font>, which are sequences of characters. The <font color='green'>**items**</font> in a list are numbered, again starting from zero. \n",
    "\n",
    "That means you can index them (<font color='red'>**0-based!**</font>), use <font color='green'>**slicing**</font>, add items to the list, remove them, reorder them, and so on. \n",
    "\n",
    "A <font color='green'>**list**</font> is enclosed by squared brackets and may contain anything, inclusing a mix of different data types. You can also create a list from a suitable input using **`list()`**, just like we did when casting one data type to another."
   ]
  },
  {
   "cell_type": "code",
   "execution_count": 1,
   "id": "a416a721-bd50-4a0e-9878-013db028d883",
   "metadata": {},
   "outputs": [
    {
     "name": "stdout",
     "output_type": "stream",
     "text": [
      "['John', 'Terry', 'Eric', 'Michael', 'Terry']\n",
      "[1, 2, 3, 4, 5, 6, 7, 8, 9, 10]\n",
      "['John', 1939, 4.5, True, False]\n",
      "[]\n",
      "['a', 'b', 'c']\n"
     ]
    }
   ],
   "source": [
    "# this is a valid list\n",
    "the_monty_pythons = [\"John\", \"Terry\", \"Eric\", \"Michael\", \"Terry\"]\n",
    "print(the_monty_pythons)\n",
    "\n",
    "# this is a list of numbers\n",
    "numbers_to_10 = [1, 2, 3, 4, 5, 6, 7, 8, 9, 10]\n",
    "print(numbers_to_10)\n",
    "\n",
    "# this is a list of mixed data types\n",
    "a_mixed_list = [\"John\", 1939, 4.5, True, False]\n",
    "print(a_mixed_list)\n",
    "\n",
    "# an empty list\n",
    "empty_list = []\n",
    "print(empty_list)\n",
    "\n",
    "# You can create a list from something create a list by casting ... \n",
    "a_list = list(\"abc\")\n",
    "print(a_list)"
   ]
  },
  {
   "cell_type": "markdown",
   "id": "940e89c4-0b8d-49b4-bc32-f15e9fa3a516",
   "metadata": {},
   "source": [
    "Again, you can use with <font color='green'>**slicing**</font> with lists:"
   ]
  },
  {
   "cell_type": "code",
   "execution_count": 2,
   "id": "4b6baa19-fffc-4b17-a2ce-57ce7ec2ea93",
   "metadata": {},
   "outputs": [
    {
     "name": "stdout",
     "output_type": "stream",
     "text": [
      "1\n"
     ]
    }
   ],
   "source": [
    "# slices\n",
    "print(numbers_to_10[0])"
   ]
  },
  {
   "cell_type": "code",
   "execution_count": 3,
   "id": "8eadc165-9296-4c5c-b210-3a48feb69a3c",
   "metadata": {},
   "outputs": [
    {
     "name": "stdout",
     "output_type": "stream",
     "text": [
      "[1, 2, 3, 4, 5]\n"
     ]
    }
   ],
   "source": [
    "# a range\n",
    "print(numbers_to_10[0:5])"
   ]
  },
  {
   "cell_type": "code",
   "execution_count": 4,
   "id": "ec23df41-8fc0-4840-a0db-428fb0e4ba2f",
   "metadata": {},
   "outputs": [
    {
     "name": "stdout",
     "output_type": "stream",
     "text": [
      "[3, 4, 5, 6, 7, 8]\n"
     ]
    }
   ],
   "source": [
    "# negative index\n",
    "print(numbers_to_10[2:-2])"
   ]
  },
  {
   "cell_type": "code",
   "execution_count": 5,
   "id": "ec6b5d08-6394-4e13-a321-99ffa41d33e5",
   "metadata": {},
   "outputs": [
    {
     "name": "stdout",
     "output_type": "stream",
     "text": [
      "[10, 9, 8, 7, 6, 5, 4, 3, 2, 1]\n"
     ]
    }
   ],
   "source": [
    "# reverse the order\n",
    "print(numbers_to_10[::-1])"
   ]
  },
  {
   "cell_type": "markdown",
   "id": "77950910-d4c1-4008-a599-5684bf9cb846",
   "metadata": {},
   "source": [
    "You can also modify lists. For example, add an item using **`.append()`**:"
   ]
  },
  {
   "cell_type": "code",
   "execution_count": 6,
   "id": "93fb5dfd-1733-4af0-b05a-2c5d16afd41d",
   "metadata": {},
   "outputs": [
    {
     "name": "stdout",
     "output_type": "stream",
     "text": [
      "['John', 'Terry', 'Eric', 'Michael', 'Terry']\n",
      "['John', 'Terry', 'Eric', 'Michael', 'Terry', 'Graham']\n"
     ]
    }
   ],
   "source": [
    "print(the_monty_pythons)\n",
    "the_monty_pythons.append(\"Graham\")\n",
    "print(the_monty_pythons)"
   ]
  },
  {
   "cell_type": "markdown",
   "id": "7b36bf43-9299-49ef-b73b-7ef04d76d7d4",
   "metadata": {},
   "source": [
    "Or, delete and entry using the keyword <font color='lightgreen'>**del**</font>:"
   ]
  },
  {
   "cell_type": "code",
   "execution_count": 7,
   "id": "515dcdb5-7180-45fa-8fb4-8d5e29948daf",
   "metadata": {},
   "outputs": [
    {
     "name": "stdout",
     "output_type": "stream",
     "text": [
      "['John', 'Terry', 'Eric', 'Michael', 'Terry', 'Graham']\n",
      "['Terry', 'Eric', 'Michael', 'Terry', 'Graham']\n"
     ]
    }
   ],
   "source": [
    "print(the_monty_pythons)\n",
    "del the_monty_pythons[0]\n",
    "print(the_monty_pythons)"
   ]
  },
  {
   "cell_type": "markdown",
   "id": "451b5fbe-d750-48c5-a752-a3aacc34125b",
   "metadata": {},
   "source": [
    "You can add two lists together by **`.extend()`**:"
   ]
  },
  {
   "cell_type": "code",
   "execution_count": 10,
   "id": "f028d77c-f40f-41c3-b876-69cf60a5f005",
   "metadata": {},
   "outputs": [
    {
     "name": "stdout",
     "output_type": "stream",
     "text": [
      "['John', 'Terry', 'Eric', 'Graham', 'Michael', 'Terry']\n"
     ]
    }
   ],
   "source": [
    "the_monty_pythons_1 = [\"John\", \"Terry\", \"Eric\"]\n",
    "the_monty_pythons_2 = [\"Graham\", \"Michael\", \"Terry\"]\n",
    "\n",
    "the_monty_pythons = the_monty_pythons_1\n",
    "the_monty_pythons.extend(the_monty_pythons_2)\n",
    "print(the_monty_pythons)\n",
    "\n"
   ]
  },
  {
   "cell_type": "markdown",
   "id": "9d5ea1d6-e217-4414-8e55-3e30c1494cb0",
   "metadata": {},
   "source": []
  },
  {
   "cell_type": "code",
   "execution_count": 11,
   "id": "af2f0aa9-f1ea-417e-aebf-3ebc67a406e6",
   "metadata": {},
   "outputs": [
    {
     "name": "stdout",
     "output_type": "stream",
     "text": [
      "['John', 1939, 4.5, True, False]\n",
      "['John', 1939, 4.5, True, 'Graham']\n"
     ]
    }
   ],
   "source": [
    "# replace an item\n",
    "a_mixed_list = [\"John\", 1939, 4.5, True, False]\n",
    "print(a_mixed_list)\n",
    "a_mixed_list[-1] = \"Graham\"\n",
    "print(a_mixed_list)"
   ]
  },
  {
   "cell_type": "markdown",
   "id": "d86cd37c-8aec-440f-8e4a-c6e3e9144354",
   "metadata": {},
   "source": [
    "You can also sort the list using **`sorted()`**:"
   ]
  },
  {
   "cell_type": "code",
   "execution_count": 14,
   "id": "85350b93-3715-4e32-9532-e931741d78fe",
   "metadata": {},
   "outputs": [
    {
     "name": "stdout",
     "output_type": "stream",
     "text": [
      "[3, 2, 5, 8, 0]\n",
      "[0, 2, 3, 5, 8]\n"
     ]
    }
   ],
   "source": [
    "another_list = [3, 2, 5, 8, 0]\n",
    "print(another_list)\n",
    "another_list = sorted(another_list)\n",
    "print(another_list)"
   ]
  },
  {
   "cell_type": "code",
   "execution_count": 16,
   "id": "6ab828f3-9d35-4c38-847b-e1823ba3b631",
   "metadata": {},
   "outputs": [
    {
     "data": {
      "text/plain": [
       "['Terry', 'Terry', 'Michael', 'John', 'Graham', 'Eric']"
      ]
     },
     "execution_count": 16,
     "metadata": {},
     "output_type": "execute_result"
    }
   ],
   "source": [
    "# sort a list\n",
    "sorted(the_monty_pythons)[::-1]"
   ]
  },
  {
   "cell_type": "markdown",
   "id": "e3dad147-81a9-4c03-8179-4ab4cc5e8c53",
   "metadata": {},
   "source": [
    "And if you're unsure how long the list is, use the build-in function **`len()`**:"
   ]
  },
  {
   "cell_type": "code",
   "execution_count": 17,
   "id": "b3d3a88a-66b1-4581-87ad-f76ab4107be6",
   "metadata": {},
   "outputs": [
    {
     "name": "stdout",
     "output_type": "stream",
     "text": [
      "6\n"
     ]
    }
   ],
   "source": [
    "# length \n",
    "print(len(the_monty_pythons))"
   ]
  },
  {
   "cell_type": "markdown",
   "id": "f4c7d18c-e3d6-439d-8f71-6d6334286a16",
   "metadata": {},
   "source": [
    "What type would a list have? Let's find out!"
   ]
  },
  {
   "cell_type": "code",
   "execution_count": 18,
   "id": "aa43212d-bb15-4858-823e-af35be81462f",
   "metadata": {},
   "outputs": [
    {
     "data": {
      "text/plain": [
       "list"
      ]
     },
     "execution_count": 18,
     "metadata": {},
     "output_type": "execute_result"
    }
   ],
   "source": [
    "# what's the type of the_monty_pythons?\n",
    "type(the_monty_pythons)"
   ]
  },
  {
   "cell_type": "markdown",
   "id": "92108ea3-6e39-4695-88fa-f0c23dbda744",
   "metadata": {},
   "source": [
    "So apparently the basic data types are not the only types we can encounter !"
   ]
  },
  {
   "cell_type": "markdown",
   "id": "e32fc650-ce84-43a3-9047-278da9dfc5db",
   "metadata": {},
   "source": [
    "## Python <font color='green'>**Tuples**</font>\n",
    "\n",
    "A <font color='green'>**tuple**</font> is just like a list, but you can't change the values. The values that you give it first are the values that you are stuck with for the rest of the program. That means <font color='green'>**del**</font> and <font color='green'>**.append()**</font> as with lists will not work!\\\n",
    "Again, each value is numbered starting from zero:"
   ]
  },
  {
   "cell_type": "code",
   "execution_count": 19,
   "id": "006a3420-8f8e-4a81-8b1e-08e9ecb0cd44",
   "metadata": {},
   "outputs": [
    {
     "name": "stdout",
     "output_type": "stream",
     "text": [
      "('John', 'Cleese')\n",
      "('John', 'Cleese', 1939)\n",
      "()\n",
      "(1, 2, 3, 4, 5)\n"
     ]
    }
   ],
   "source": [
    "# this is a valid tuple\n",
    "johns_name = (\"John\", \"Cleese\")\n",
    "print(johns_name)\n",
    "# this is, too\n",
    "johns_name_and_birthyear = (\"John\", \"Cleese\", 1939)\n",
    "print(johns_name_and_birthyear)\n",
    "# an empty tuple\n",
    "an_empty_tuple = ()\n",
    "print(an_empty_tuple)\n",
    "\n",
    "# create a tuple from a list\n",
    "a_tuple_from_a_list = tuple([1, 2, 3, 4, 5])\n",
    "print(a_tuple_from_a_list)"
   ]
  },
  {
   "cell_type": "markdown",
   "id": "3a111c11-851f-4280-9304-9d1068531bba",
   "metadata": {},
   "source": [
    "The <font color='green'>**indexing**</font> works as with lists, you can just grab elements from a tuple via <font color='green'>**indexing**</font> or <font color='green'>**slicing**</font>:"
   ]
  },
  {
   "cell_type": "code",
   "execution_count": 20,
   "id": "3cca7933-b980-4963-82e8-5c4910447b15",
   "metadata": {},
   "outputs": [
    {
     "name": "stdout",
     "output_type": "stream",
     "text": [
      "('John', 'Cleese')\n",
      "John\n",
      "Cleese\n",
      "('John', 'Cleese', 1939)\n",
      "1939\n"
     ]
    }
   ],
   "source": [
    "# slices\n",
    "print(johns_name)\n",
    "print(johns_name[0])\n",
    "print(johns_name[1])\n",
    "\n",
    "print(johns_name_and_birthyear)\n",
    "print(johns_name_and_birthyear[-1])\n"
   ]
  },
  {
   "cell_type": "code",
   "execution_count": 21,
   "id": "094c48ce-84c1-4335-b27b-3f17b834ca28",
   "metadata": {},
   "outputs": [
    {
     "name": "stdout",
     "output_type": "stream",
     "text": [
      "(1939, 'Cleese', 'John')\n"
     ]
    }
   ],
   "source": [
    "# reverse tuple\n",
    "print(johns_name_and_birthyear[::-1])"
   ]
  },
  {
   "cell_type": "markdown",
   "id": "b2fff01c-7a9d-4a96-89e4-382ba74bda72",
   "metadata": {},
   "source": [
    "What you can do, however, is <font color='green'>**unpacking**</font> a tuple:"
   ]
  },
  {
   "cell_type": "code",
   "execution_count": 22,
   "id": "19807e39-51d9-41e1-a512-a982069bc212",
   "metadata": {},
   "outputs": [
    {
     "name": "stdout",
     "output_type": "stream",
     "text": [
      "('John', 'Cleese')\n",
      "John\n",
      "Cleese\n"
     ]
    }
   ],
   "source": [
    "# unpack\n",
    "print(johns_name)\n",
    "firstname, surname = johns_name\n",
    "print(firstname)\n",
    "print(surname)"
   ]
  },
  {
   "cell_type": "code",
   "execution_count": 24,
   "id": "8a7a7e56-4528-4f9f-8648-382228666fc4",
   "metadata": {},
   "outputs": [
    {
     "name": "stdout",
     "output_type": "stream",
     "text": [
      "1\n",
      "2\n"
     ]
    }
   ],
   "source": []
  },
  {
   "cell_type": "markdown",
   "id": "65b4719c-0a55-4ee4-b3ca-b0a860138be0",
   "metadata": {},
   "source": [
    "Or join tuples using <font color='#a71ed9'>**+**</font>:"
   ]
  },
  {
   "cell_type": "code",
   "execution_count": 25,
   "id": "b4576caf-a43c-4c5d-b832-7ef2e075c8fa",
   "metadata": {},
   "outputs": [
    {
     "name": "stdout",
     "output_type": "stream",
     "text": [
      "('John', 'Cleese', 'Eric', 'Idle')\n"
     ]
    }
   ],
   "source": [
    "joined_tuple = ('John', 'Cleese') + (\"Eric\", \"Idle\")\n",
    "print(joined_tuple)"
   ]
  },
  {
   "cell_type": "markdown",
   "id": "9b8127bb-cc6a-4960-af9b-657af2d0c8a0",
   "metadata": {},
   "source": [
    "Sorting them will turn them into a list!"
   ]
  },
  {
   "cell_type": "code",
   "execution_count": 27,
   "id": "8a1271c8-ab83-46c8-ac7c-3e8ac2d3189f",
   "metadata": {},
   "outputs": [
    {
     "name": "stdout",
     "output_type": "stream",
     "text": [
      "('Cleese', 'Eric', 'Idle', 'John')\n"
     ]
    }
   ],
   "source": [
    "joined_sorted = sorted(joined_tuple)\n",
    "joined_sorted = tuple(joined_sorted)\n",
    "print(joined_sorted)"
   ]
  },
  {
   "cell_type": "code",
   "execution_count": 28,
   "id": "a62acc6f-81da-4df7-99a9-d43607190dac",
   "metadata": {},
   "outputs": [
    {
     "data": {
      "text/plain": [
       "tuple"
      ]
     },
     "execution_count": 28,
     "metadata": {},
     "output_type": "execute_result"
    }
   ],
   "source": [
    "# the type\n",
    "type(johns_name)"
   ]
  },
  {
   "cell_type": "markdown",
   "id": "0547b2ea-d29e-404d-bab6-be9175ca3c2b",
   "metadata": {},
   "source": [
    "## Python <font color='green'>**Dictionaries**</font>\n",
    "\n",
    "What if we don't want to keep track of an index? what if we want to access a specific item? \n",
    "    \n",
    "Or if we want to store values associated with a certain word, like phonebook entries are associated with\n",
    "a persons name? That's what <font color='green'>**Dictionaries**</font> are for.\n",
    "\n",
    "A <font color='green'>**Dictionary**</font> are created using curly brackets. In a dictionary, you have no order and instead of a numerical index, index, you have a \"index\" of words, called <font color='green'>**keys**</font> and corresponding <font color='green'>**values**</font>. You can access the <font color='green'>**value**</font> with the <font color='green'>**key**</font>.\n",
    "\n",
    "The <font color='green'>**key**</font> must be unique!\n",
    "\n",
    "<font color='green'>**Dictionaries**</font> are mutable, so just like lists, you can add, remove or modify items. But unlike lists, they are unordered, so sorting or slicing will not work here!"
   ]
  },
  {
   "cell_type": "code",
   "execution_count": 29,
   "id": "c2230b19-1460-4120-8d5c-da5edc6974b6",
   "metadata": {},
   "outputs": [
    {
     "name": "stdout",
     "output_type": "stream",
     "text": [
      "{}\n",
      "{'John': 'Cleese', 'Eric': 'Idle', 'Graham': 'Chapman', 'Michael': 'Palin'}\n",
      "{'Terry': 'Jones', 'Eric': 'Idle'}\n"
     ]
    }
   ],
   "source": [
    "# empty\n",
    "empty_dict = {}\n",
    "print(empty_dict)\n",
    "\n",
    "# a valid dictionary\n",
    "monty_names = {\n",
    "    \"John\": \"Cleese\", \n",
    "    \"Eric\": \"Idle\",\n",
    "    \"Graham\": \"Chapman\", \n",
    "    \"Michael\": \"Palin\",\n",
    "}\n",
    "print(monty_names)\n",
    "\n",
    "# a dictioary from a list of tuples\n",
    "a_dict_from_list = dict([(\"Terry\", \"Jones\"), (\"Eric\", \"Idle\")])\n",
    "print(a_dict_from_list)"
   ]
  },
  {
   "cell_type": "code",
   "execution_count": 30,
   "id": "b961f21d-d338-49ab-ac6f-dc2656ef30d7",
   "metadata": {},
   "outputs": [
    {
     "name": "stdout",
     "output_type": "stream",
     "text": [
      "Cleese\n",
      "Chapman\n"
     ]
    }
   ],
   "source": [
    "# access an item\n",
    "print(monty_names[\"John\"])\n",
    "print(monty_names[\"Graham\"])"
   ]
  },
  {
   "cell_type": "code",
   "execution_count": 31,
   "id": "6005b70c-76cf-4528-8a5c-5dedf35e91f3",
   "metadata": {},
   "outputs": [
    {
     "name": "stdout",
     "output_type": "stream",
     "text": [
      "{'John': 'Cleese', 'Eric': 'Idle', 'Graham': 'Chapman', 'Michael': 'Palin', 'Terry': 'Gilliam'}\n"
     ]
    }
   ],
   "source": [
    "# add an item\n",
    "monty_names[\"Terry\"] = \"Gilliam\"\n",
    "print(monty_names)"
   ]
  },
  {
   "cell_type": "code",
   "execution_count": 32,
   "id": "e3a48c6b-9714-4a62-870f-ed2622eb0575",
   "metadata": {},
   "outputs": [
    {
     "name": "stdout",
     "output_type": "stream",
     "text": [
      "{'John': 'Cleese', 'Eric': 'Idle', 'Graham': 'Chapman', 'Michael': 'Palin', 'Terry': 'Jones'}\n"
     ]
    }
   ],
   "source": [
    "# add \"another\" Terry\n",
    "monty_names[\"Terry\"] = \"Jones\"\n",
    "print(monty_names)"
   ]
  },
  {
   "cell_type": "markdown",
   "id": "0d993957-da1a-4ac2-8f40-3a6a344d9c8d",
   "metadata": {},
   "source": [
    "Nope! If you try to add an existing key, you end up overwriting the entry!"
   ]
  },
  {
   "cell_type": "code",
   "execution_count": 33,
   "id": "afa5cd6f-36cb-4544-9797-1eff16bbc9b1",
   "metadata": {},
   "outputs": [
    {
     "name": "stdout",
     "output_type": "stream",
     "text": [
      "{'John': 'Cleese', 'Eric': 'Idle', 'Graham': 'Chapman', 'Michael': 'Palin'}\n"
     ]
    }
   ],
   "source": [
    "# remove an item\n",
    "del monty_names[\"Terry\"]\n",
    "print(monty_names)"
   ]
  },
  {
   "cell_type": "markdown",
   "id": "331969fd-c7d6-4730-95f8-ac0888560d0f",
   "metadata": {},
   "source": [
    "Again, we can update two dictionaries:"
   ]
  },
  {
   "cell_type": "code",
   "execution_count": 34,
   "id": "0fbdf584-e970-4f33-ac8d-e51b2f6e61e9",
   "metadata": {},
   "outputs": [
    {
     "name": "stdout",
     "output_type": "stream",
     "text": [
      "{'John': 'Cleese', 'Eric': 'Idle', 'Graham': 'Chapman', 'Michael': 'Palin', 'Terry': 'Jones'}\n"
     ]
    }
   ],
   "source": [
    "# update\n",
    "monty_names.update({\"Terry\": \"Jones\"})\n",
    "print(monty_names)"
   ]
  },
  {
   "cell_type": "markdown",
   "id": "6135d957-d576-4991-8bd8-d1d743cda038",
   "metadata": {},
   "source": [
    "You can also access the key-value pairs in a dictionary, as well as the keys or values separately, using **`.items()`**, **`.keys()`** or **`.values()`**:"
   ]
  },
  {
   "cell_type": "code",
   "execution_count": 36,
   "id": "4eabe4e9-0add-41c2-80e9-c2fb6f3b62a7",
   "metadata": {},
   "outputs": [
    {
     "name": "stdout",
     "output_type": "stream",
     "text": [
      "[('John', 'Cleese'), ('Eric', 'Idle'), ('Graham', 'Chapman'), ('Michael', 'Palin'), ('Terry', 'Jones')]\n"
     ]
    }
   ],
   "source": [
    "# access the items\n",
    "print(list(monty_names.items()))"
   ]
  },
  {
   "cell_type": "code",
   "execution_count": 38,
   "id": "c134f824-56c7-4ca6-a79a-a72cbe126a34",
   "metadata": {},
   "outputs": [
    {
     "name": "stdout",
     "output_type": "stream",
     "text": [
      "['John', 'Eric', 'Graham', 'Michael', 'Terry']\n"
     ]
    }
   ],
   "source": [
    "# access keys\n",
    "print(list(monty_names.keys()))"
   ]
  },
  {
   "cell_type": "code",
   "execution_count": 39,
   "id": "d1911115-6830-4af0-9233-1b6a8c45b3f4",
   "metadata": {},
   "outputs": [
    {
     "name": "stdout",
     "output_type": "stream",
     "text": [
      "dict_values(['Cleese', 'Idle', 'Chapman', 'Palin', 'Jones'])\n"
     ]
    }
   ],
   "source": [
    "# values\n",
    "print(monty_names.values())"
   ]
  },
  {
   "cell_type": "code",
   "execution_count": 41,
   "id": "1ec82328-fc78-47fc-8abf-4ee1bc0db823",
   "metadata": {},
   "outputs": [
    {
     "data": {
      "text/plain": [
       "dict"
      ]
     },
     "execution_count": 41,
     "metadata": {},
     "output_type": "execute_result"
    }
   ],
   "source": [
    "# and the type is ... \n",
    "type(monty_names)"
   ]
  },
  {
   "cell_type": "code",
   "execution_count": 42,
   "id": "cfc44c54-76ba-4810-b8cf-b9c0e9458459",
   "metadata": {},
   "outputs": [
    {
     "data": {
      "text/plain": [
       "[2, 3, 3, 3]"
      ]
     },
     "execution_count": 42,
     "metadata": {},
     "output_type": "execute_result"
    }
   ],
   "source": [
    "[2, 3, 3, 3]"
   ]
  },
  {
   "cell_type": "markdown",
   "id": "3dcf2f34-a951-49fb-9c6d-75e2c2d8f67f",
   "metadata": {},
   "source": [
    "## Python <font color='green'>**Sets**</font>\n",
    "\n",
    "Lists and Tuples may contain multiple occurences of the same value.\n",
    "But sometimes you want to have a container with every value occuring exactly once.\n",
    "\n",
    "At this point, <font color='green'>**Sets**</font> come in handy!\n",
    "Sets contain each value exactly once.\n",
    "\n",
    "A <font color='green'>**set**</font> is created by using the <font color='green'>**build-in**</font> **`set()`** function.\n",
    "\n",
    "Like lists and dictionaries, <font color='green'>**sets**</font> are mutable, so just like lists, you can add, remove or modify items. Like dictionaries, they are unordered.\n",
    "You can also do set operations (You know them from math) like union and intersection."
   ]
  },
  {
   "cell_type": "code",
   "execution_count": 44,
   "id": "fa815734-3647-4beb-8e64-057b3a08ad07",
   "metadata": {},
   "outputs": [
    {
     "name": "stdout",
     "output_type": "stream",
     "text": [
      "set()\n",
      "{'Terry', 'John', 'Michael'}\n"
     ]
    }
   ],
   "source": [
    "# empty\n",
    "empty_set = set()\n",
    "print(empty_set)\n",
    "\n",
    "# a valid set from a list\n",
    "monty_names_set = set([\"John\", \"Terry\", \"Michael\", \"Terry\"])\n",
    "print(monty_names_set)\n",
    "\n",
    "set_2 = {\"Terry\", \"Graham\"}"
   ]
  },
  {
   "cell_type": "code",
   "execution_count": 45,
   "id": "c1fb0a63-52d8-40fb-a428-ecc44707df47",
   "metadata": {},
   "outputs": [
    {
     "name": "stdout",
     "output_type": "stream",
     "text": [
      "{'Terry', 'John', 'Graham', 'Michael'}\n"
     ]
    }
   ],
   "source": [
    "# update\n",
    "monty_names_set.update({\"Terry\", \"Graham\"})\n",
    "print(monty_names_set)"
   ]
  },
  {
   "cell_type": "code",
   "execution_count": 46,
   "id": "67529660-822c-430b-b976-da5d293ec4a0",
   "metadata": {},
   "outputs": [
    {
     "name": "stdout",
     "output_type": "stream",
     "text": [
      "{'Terry', 'John', 'Eric', 'Graham', 'Michael'}\n"
     ]
    }
   ],
   "source": [
    "# add\n",
    "monty_names_set.add(\"Eric\")\n",
    "print(monty_names_set)"
   ]
  },
  {
   "cell_type": "code",
   "execution_count": 47,
   "id": "23c4d287-1149-4b02-95b7-9951ecc275b6",
   "metadata": {},
   "outputs": [
    {
     "name": "stdout",
     "output_type": "stream",
     "text": [
      "{'John', 'Eric', 'Graham', 'Michael'}\n"
     ]
    }
   ],
   "source": [
    "# remove\n",
    "monty_names_set.remove(\"Terry\")\n",
    "print(monty_names_set)"
   ]
  },
  {
   "cell_type": "markdown",
   "id": "0800c007-1d23-4394-959a-7d215cf0a2bb",
   "metadata": {},
   "source": [
    "We can perform set operations on them:"
   ]
  },
  {
   "cell_type": "code",
   "execution_count": 48,
   "id": "034eb359-17ac-4163-b2ed-9c63481257b4",
   "metadata": {},
   "outputs": [
    {
     "name": "stdout",
     "output_type": "stream",
     "text": [
      "{'Terry'}\n"
     ]
    }
   ],
   "source": [
    "#intersection\n",
    "monty_1_set = set({\"John\", \"Terry\", \"Graham\"})\n",
    "monty_2_set = set({\"Eric\", \"Terry\", \"Michael\"})\n",
    "\n",
    "monty_intersection = monty_1_set.intersection(monty_2_set)\n",
    "print(monty_intersection)"
   ]
  },
  {
   "cell_type": "code",
   "execution_count": 49,
   "id": "6ed0f924-d289-4a7c-b6bb-f6d5b917f1d9",
   "metadata": {},
   "outputs": [
    {
     "name": "stdout",
     "output_type": "stream",
     "text": [
      "{'Terry', 'John', 'Eric', 'Graham', 'Michael'}\n"
     ]
    }
   ],
   "source": [
    "# union\n",
    "monty_union = monty_1_set.union(monty_2_set)\n",
    "print(monty_union)"
   ]
  },
  {
   "cell_type": "code",
   "execution_count": 50,
   "id": "64a4040e-0777-408a-acd2-2eb0a8539fb3",
   "metadata": {},
   "outputs": [
    {
     "name": "stdout",
     "output_type": "stream",
     "text": [
      "{'Graham', 'John'}\n"
     ]
    }
   ],
   "source": [
    "monty_difference = monty_1_set.difference(monty_2_set)\n",
    "print(monty_difference)"
   ]
  },
  {
   "cell_type": "markdown",
   "id": "3b1bdce6-b6fb-4a8d-a0a6-0c4df3678751",
   "metadata": {},
   "source": [
    "# Summary\n",
    "\n",
    "So now you should know:\n",
    "\n",
    "- What are data types?\n",
    "- Which basic data types are available?\n",
    "- How to know the type\n",
    "- What is casting?\n",
    "- What is None?\n",
    "- What are strings?\n",
    "- What is slicing? And how do you use it?\n",
    "- How can you format strings?\n",
    "- What are Containers?\n",
    "- What are Lists, Tuples, Dictionaries and Sets?\n",
    "- What is the difference between them?\n",
    "- What can you do with them?\n"
   ]
  },
  {
   "cell_type": "markdown",
   "id": "646bfcbf-3197-4c9b-b8d5-cc7c5f19f826",
   "metadata": {},
   "source": [
    "\n",
    "# Exercises\n",
    "\n",
    "## Exercise 1:\n",
    "\n",
    "Write some code that \n",
    "- asks a user for a line from your favourite song\n",
    "- then counts the number of occurrences of each vocal\n",
    "- stores them in an appropriate data structure (what would be useful here?)\n",
    "- and prints it on screen."
   ]
  },
  {
   "cell_type": "code",
   "execution_count": null,
   "id": "8543e230-612a-440b-b6c9-6940e87b6665",
   "metadata": {},
   "outputs": [],
   "source": []
  },
  {
   "cell_type": "markdown",
   "id": "d3259860-f985-4cf0-b75c-cd1b72db06e0",
   "metadata": {},
   "source": [
    "## Exercise 2:\n",
    "\n",
    "Write a program that asks for a number as input.\n",
    "Then calculate the square of that number and print it out on screen."
   ]
  },
  {
   "cell_type": "code",
   "execution_count": null,
   "id": "79459e4c-2d7c-4ac9-be71-1e97b189e988",
   "metadata": {},
   "outputs": [],
   "source": []
  },
  {
   "cell_type": "markdown",
   "id": "752de0ba-6309-467a-b6c7-1bf595ff0969",
   "metadata": {},
   "source": [
    "## Exercise 3:\n",
    "    \n",
    "Create a dictionary which contains the names and birthdays of 5 people you know.\n",
    "Then add another person to the dictionary.\n",
    "Create a list of their names from the dictionary and print it. Then create a tuple of the birthdays and print it. "
   ]
  },
  {
   "cell_type": "code",
   "execution_count": null,
   "id": "62b88af7-4670-4f35-a6f5-be27115fa35c",
   "metadata": {},
   "outputs": [],
   "source": []
  },
  {
   "cell_type": "markdown",
   "id": "f8cbf5d9-e0e6-4955-8ef8-bb295fe5259d",
   "metadata": {},
   "source": [
    "## Exercise 4:\n",
    "\n",
    "Consider the following Python expressions. Determine the result and data type of each expression, then check if you were right by evaluating the expressions:\n",
    "\n",
    "    a) 5 * (10 + 3) / 2\n",
    "\n",
    "    b) \"Hello\" + \" \" + \"World\"\n",
    "\n",
    "    c) not (True or False)\n",
    "\n",
    "    d) len([\"apple\", \"banana\", \"cherry\"])\n",
    "\n",
    "    e) (\"apple\", \"banana\", \"cherry\")[1:]\n",
    "\n",
    "    f) {'name': 'John', 'age': 30}.keys()\n",
    "\n",
    "    g) '2 ** 3'\n",
    "\n",
    "    h) \"Python\"[::-1]\n",
    "\n",
    "    i) 10 > 5 and 5 < 3\n",
    "\n",
    "    j) (\"a\", \"b\", \"c\")[::-1]\n",
    "\n",
    "    k) len({'name': 'John', 'age': 30})\n",
    "\n",
    "    l) {1, 2, 3} | {3, 4, 5}\n",
    "\n",
    "    m) print(\"Hello!\")\n",
    "    "
   ]
  },
  {
   "cell_type": "code",
   "execution_count": null,
   "id": "63ed4c3b-ce93-4e9e-a654-ca545fe14fc8",
   "metadata": {},
   "outputs": [],
   "source": []
  },
  {
   "cell_type": "markdown",
   "id": "9172db20-a5ee-479e-aab5-1b8875f1bed5",
   "metadata": {},
   "source": [
    "## Exercise 5:    \n",
    "\n",
    "Consider the six variables below in the next cell.\n",
    "\n",
    "    a) What is the type of these variables?\n",
    "    b) Create a dictionary from these six tuples in a single line of code. What do you need for that?\n",
    "    c) Then write a single line of code to create a list of their names from that dictionary, sorted in reverse alphabetical order and print it.\n",
    "    d) Write a single line of code that prints the age of the oldest Monty Python from that dictionary.\n",
    "\n"
   ]
  },
  {
   "cell_type": "code",
   "execution_count": null,
   "id": "57566e66-9b1f-40f1-a4cd-39d557773391",
   "metadata": {},
   "outputs": [],
   "source": [
    "john = ('Cleese',  '1939')\n",
    "terry_g = ('Gilliam', '1940')\n",
    "graham = ('Chapman', '1941')\n",
    "terry_j = ('Jones', '1942')\n",
    "eric = ('Idle', '1943')\n",
    "michael = ('Palin', '1943')\n",
    "\n",
    "# line 1 - create a dictionary\n",
    "\n",
    "# line 2 - print surnames in reverse alphabetical order\n",
    "\n",
    "# line 3 - print the age of the oldest member"
   ]
  },
  {
   "cell_type": "markdown",
   "id": "17b83572-9e37-483d-a6fe-3e6e0af7d552",
   "metadata": {},
   "source": [
    "< [2 - Literally variable](Python%20Crash%202%20-%20Literally%20variable.ipynb) | [Contents](Python%20Crash%20ToC.ipynb) | [4 - Control the flow](Python%20Crash%204%20-%20Control%20the%20flow.ipynb) >"
   ]
  }
 ],
 "metadata": {
  "kernelspec": {
   "display_name": "Python 3 (ipykernel)",
   "language": "python",
   "name": "python3"
  },
  "language_info": {
   "codemirror_mode": {
    "name": "ipython",
    "version": 3
   },
   "file_extension": ".py",
   "mimetype": "text/x-python",
   "name": "python",
   "nbconvert_exporter": "python",
   "pygments_lexer": "ipython3",
   "version": "3.11.0"
  }
 },
 "nbformat": 4,
 "nbformat_minor": 5
}
