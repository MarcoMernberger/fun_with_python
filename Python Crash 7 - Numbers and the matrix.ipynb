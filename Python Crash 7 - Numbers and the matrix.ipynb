{
 "cells": [
  {
   "cell_type": "markdown",
   "id": "a9143943-0df9-4c2c-a87b-be1fd67f6ab6",
   "metadata": {},
   "source": [
    "# Python Programming Crash Course -\n",
    "# Numbers and the Matrix\n",
    "\n",
    "<br>\n",
    "<div>\n",
    "<img src=\"data/Python-logo-notext.svg\" width=\"200\"/>\n",
    "</div>\n",
    "\n",
    "\n",
    "## Introduction\n",
    "\n",
    "As we have seen, we can do math with basic Python just fine. However, it's not very efficient when you have large amounts of data.\\\n",
    "Or, if you want to do linear algebra, you will have a hard time doing that with basic Python.\n",
    "\n",
    "For such specialized tasks, you usually employ libraries or <font color=\"green\">**packages**</font> that offer more functionality than the <font color=\"green\">**build-in**</font> functions.\n",
    "\n",
    "The most basic package for working with numerical data in all parts of science and engioneering is <font color=\"green\">**NumPy**</font>. \n",
    "With the numpy package, you get a data structures that is optimized to deal with that: <font color=\"green\">**arrays**</font>.\n",
    "\n",
    "The benefits:\n",
    "\n",
    " - efficient mathematical operations on arrays/matrices\n",
    " - lots of mathematical functions\n",
    " - linear algebra operations\n",
    " - memory efficiency\n",
    " - random number generators\n",
    " - interoperability, since it is the basis for many other libraries (e.g. pandas)\n",
    " - integration with C++\n",
    "\n",
    "\n",
    "What is an <font color=\"green\">**array**</font>?\n",
    "\n",
    "An array is a central data structure of the <font color=\"green\">**NumPy**</font> library. It's like a <font color=\"green\">**vector**</font> or <font color=\"green\">**matrix**</font> from linear algebra.\n",
    "You can think of a <font color=\"green\">**vector**</font> as a list of numbers, but more efficient. An multi-dimensional <font color=\"green\">**array**</font> is a grid of values and it contains information about the raw data, how to locate an element, and how to interpret an element. Each element in an <font color=\"green\">**array**</font> is of the same type!\n",
    "That means an <font color=\"green\">**array**</font> has a data type which is referred to as <font color=\"green\">**dtype**</font>.\n",
    "\n",
    "The most likely form in which you encounter <font color=\"green\">**arrays**</font> is when it comes to columns in a <font color=\"green\">**table**</font>.\n",
    "When working with tabular data, we will use another package called <font color=\"green\">**pandas**</font>. This uses <font color=\"green\">**NumPy**</font> under the hood and you will see\n",
    "that numpy will also play a role when creating figures and plots because it has some useful functionality for this.\n",
    "\n",
    "If you use <font color=\"green\">**packages**</font>, you first have to import them using the keyword <font color=\"#3da831\">**import**</font>:"
   ]
  },
  {
   "cell_type": "code",
   "execution_count": 1,
   "id": "77b84105-a858-4853-b77f-b978a29188e1",
   "metadata": {},
   "outputs": [],
   "source": [
    "# import\n",
    "import numpy as np"
   ]
  },
  {
   "cell_type": "markdown",
   "id": "ef0b6e05-36d4-4ee2-81bd-3f58f72fc496",
   "metadata": {},
   "source": [
    "With the keyword <font color=\"#3da831\">**as**</font> you create an <font color=\"green\">**alias**</font> for the name numpy ... that's because we don't want to type so much! You can thereafter refer to it as np."
   ]
  },
  {
   "cell_type": "markdown",
   "id": "164d6d54-18c7-4948-b1e7-b815467d141e",
   "metadata": {},
   "source": [
    "## 1. Arrays\n",
    "\n",
    "<font color=\"green\">**Arrays**</font> are data structures that can be used to represent mathematical <font color=\"green\">**vectors**</font> or <font color=\"green\">**matrices**</font>. \n",
    "\n",
    "One-dimensional <font color=\"green\">**arrays**</font> are similar to <font color=\"green\">**lists**</font>, i.e. they can be used in a similar way. In fact, you can initialize an array with a <font color=\"green\">**list**</font>.\n",
    "\n",
    "But <font color=\"green\">**arrays**</font> can be multi-dimensional, hence we refer to them also as <font color=\"green\">**ndarray**</font>, meaning n-dimensional array.\n",
    "\n",
    "A quick reminder:\n",
    " - vector = 1D array\n",
    " - matrix = 2D array\n",
    "\n",
    "An array object can represent all of those.\n",
    "\n",
    "A 1D array is a <font color=\"green\">**vector**</font>:\n",
    "<br>\n",
    "<div>\n",
    "<img src=\"data/vector.svg\" width=\"200\"/>\n",
    "</div>\n",
    "\n",
    "\n",
    "A 2D array is a <font color=\"green\">**matrix**</font>:\n",
    "<br>\n",
    "<div>\n",
    "<img src=\"data/matrix.svg\" width=\"200\"/>\n",
    "</div>\n",
    "\n",
    "You can also have higher-dimensional <font color=\"green\">**arrays**</font>:\n",
    "\n",
    "<br>\n",
    "<div>\n",
    "<img src=\"data/tensor.svg\" width=\"600\"/>\n",
    "</div>\n",
    "\n",
    "\n",
    "\n",
    "Creating an <font color=\"green\">**array**</font> works with the function **array()**. Since this comes from the <font color=\"green\">**NumPy**</font> package which we imported, we would call it using the dot notation:\n",
    "\n",
    "```Python\n",
    "numpy.array()\n",
    "```\n",
    "\n",
    "And since we have used an <font color=\"green\">**alias**</font>, we can just type:\n",
    "\n",
    "```Python\n",
    "np.array()\n",
    "```\n",
    "\n",
    "This will work for all the <font color=\"green\">**NumPy**</font> functions."
   ]
  },
  {
   "cell_type": "code",
   "execution_count": 2,
   "id": "2b3de9bc-24e4-4614-940d-e81120ffa504",
   "metadata": {},
   "outputs": [
    {
     "data": {
      "text/plain": [
       "array([1, 2, 3, 4, 5, 6, 7])"
      ]
     },
     "execution_count": 2,
     "metadata": {},
     "output_type": "execute_result"
    }
   ],
   "source": [
    "# 1d array\n",
    "my_array = np.array([1, 2, 3, 4, 5, 6, 7])\n",
    "my_array"
   ]
  },
  {
   "cell_type": "code",
   "execution_count": 3,
   "id": "6d0847d2-9f9f-41e1-a993-818b4ff7be43",
   "metadata": {},
   "outputs": [
    {
     "data": {
      "text/plain": [
       "array([[ 1,  2,  3,  4],\n",
       "       [ 5,  6,  7,  8],\n",
       "       [ 9, 10, 11, 12]])"
      ]
     },
     "execution_count": 3,
     "metadata": {},
     "output_type": "execute_result"
    }
   ],
   "source": [
    "# 2d arrays\n",
    "my_2d_array = np.array(\n",
    "    [\n",
    "        [1, 2, 3, 4], \n",
    "        [5, 6, 7, 8], \n",
    "        [9, 10, 11, 12]\n",
    "    ]\n",
    ")\n",
    "my_2d_array"
   ]
  },
  {
   "cell_type": "markdown",
   "id": "8697d8c0-f21f-4bae-91f4-809b1bd3da65",
   "metadata": {},
   "source": [
    "We can access elements by <font color=\"green\">**indexing**</font> and <font color=\"green\">**slicing**</font>, same as with <font color=\"green\">**lists**</font>:\n",
    "\n",
    "<br>\n",
    "<div>\n",
    "<img src=\"data/slicing_numpy.svg\" width=\"900\"/>\n",
    "</div>\n"
   ]
  },
  {
   "cell_type": "code",
   "execution_count": 4,
   "id": "e67da7d3-ec3f-4bb8-8855-e2cb36768100",
   "metadata": {},
   "outputs": [
    {
     "name": "stdout",
     "output_type": "stream",
     "text": [
      "[1 2 3 4 5 6 7]\n"
     ]
    },
    {
     "data": {
      "text/plain": [
       "1"
      ]
     },
     "execution_count": 4,
     "metadata": {},
     "output_type": "execute_result"
    }
   ],
   "source": [
    "# index\n",
    "print(my_array)\n",
    "my_array[0]"
   ]
  },
  {
   "cell_type": "code",
   "execution_count": 5,
   "id": "4ad19a52-9906-4081-b9d1-1889f3ffe469",
   "metadata": {},
   "outputs": [
    {
     "data": {
      "text/plain": [
       "array([2, 3])"
      ]
     },
     "execution_count": 5,
     "metadata": {},
     "output_type": "execute_result"
    }
   ],
   "source": [
    "# slicing\n",
    "my_array[1:3]"
   ]
  },
  {
   "cell_type": "code",
   "execution_count": 6,
   "id": "df37ca5a-2b7f-45ad-8dc9-da7ce2325176",
   "metadata": {},
   "outputs": [
    {
     "data": {
      "text/plain": [
       "array([1, 2, 3, 4])"
      ]
     },
     "execution_count": 6,
     "metadata": {},
     "output_type": "execute_result"
    }
   ],
   "source": [
    "# indexing in 2d\n",
    "my_2d_array[0] # select a row"
   ]
  },
  {
   "cell_type": "code",
   "execution_count": 7,
   "id": "c3093c72-7810-4a40-8af0-5d23f09d64f1",
   "metadata": {},
   "outputs": [
    {
     "data": {
      "text/plain": [
       "6"
      ]
     },
     "execution_count": 7,
     "metadata": {},
     "output_type": "execute_result"
    }
   ],
   "source": [
    "# select an element\n",
    "my_2d_array[1][1]"
   ]
  },
  {
   "cell_type": "markdown",
   "id": "292f33b4-25a3-41c7-9e8c-82d1cc723df5",
   "metadata": {},
   "source": [
    "What attributes has an <font color=\"green\">**array**</font>?\n",
    "\n",
    "<font color=\"green\">**Arrays**</font> are fixed-sized containers, all elements have the same type, an <font color=\"green\">**array**</font> has a <font color=\"green\">**shape**</font>, i.e. the number of dimensions and elements.\\\n",
    "In a NumPy <font color=\"green\">**array**</font>, the dimensions are also reffered to by the term <font color=\"green\">**axis**</font>. \n",
    "\n",
    "Generally, axis = 0 refers to rows, axis = 1 refers to columns!\n",
    "\n",
    "\n",
    "<br>\n",
    "<div>\n",
    "<img src=\"data/axis_and_shape.png\" width=\"600\"/>\n",
    "</div>\n"
   ]
  },
  {
   "cell_type": "code",
   "execution_count": 8,
   "id": "e79a1925-1192-4440-87c9-959a333348d9",
   "metadata": {},
   "outputs": [
    {
     "name": "stdout",
     "output_type": "stream",
     "text": [
      "[1 2 3 4 5 6 7]\n",
      "(7,)\n"
     ]
    }
   ],
   "source": [
    "# shape \n",
    "print(my_array)\n",
    "print(my_array.shape)"
   ]
  },
  {
   "cell_type": "code",
   "execution_count": 9,
   "id": "d1f6ef82-f169-4138-8da0-d981ef229e95",
   "metadata": {},
   "outputs": [
    {
     "name": "stdout",
     "output_type": "stream",
     "text": [
      "[[ 1  2  3  4]\n",
      " [ 5  6  7  8]\n",
      " [ 9 10 11 12]]\n"
     ]
    },
    {
     "data": {
      "text/plain": [
       "(3, 4)"
      ]
     },
     "execution_count": 9,
     "metadata": {},
     "output_type": "execute_result"
    }
   ],
   "source": [
    "# this array is a 2d array and therefor has 2 axes\n",
    "print(my_2d_array)\n",
    "my_2d_array.shape"
   ]
  },
  {
   "cell_type": "markdown",
   "id": "e6a18c31-82f6-4f93-be8a-308967c1dc73",
   "metadata": {},
   "source": [
    "The attribute `size` tells you the number of elements:"
   ]
  },
  {
   "cell_type": "code",
   "execution_count": 10,
   "id": "b70dedf6-6a5c-4a03-9575-b863027fcf3f",
   "metadata": {},
   "outputs": [
    {
     "name": "stdout",
     "output_type": "stream",
     "text": [
      "[1 2 3 4 5 6 7]\n"
     ]
    },
    {
     "data": {
      "text/plain": [
       "7"
      ]
     },
     "execution_count": 10,
     "metadata": {},
     "output_type": "execute_result"
    }
   ],
   "source": [
    "# size\n",
    "print(my_array)\n",
    "my_array.size"
   ]
  },
  {
   "cell_type": "code",
   "execution_count": 11,
   "id": "f1d56bef-1c95-4bae-a3f7-1d1772c02395",
   "metadata": {},
   "outputs": [
    {
     "data": {
      "text/plain": [
       "12"
      ]
     },
     "execution_count": 11,
     "metadata": {},
     "output_type": "execute_result"
    }
   ],
   "source": [
    "my_2d_array.size"
   ]
  },
  {
   "cell_type": "markdown",
   "id": "156af90b-c428-4fc6-8927-e9c453ef0c6c",
   "metadata": {},
   "source": [
    "If you need the number of dimensions, you need `ndim`:"
   ]
  },
  {
   "cell_type": "code",
   "execution_count": 12,
   "id": "b56473ae-fb3f-40b8-9846-42324c6f5bd5",
   "metadata": {},
   "outputs": [
    {
     "data": {
      "text/plain": [
       "2"
      ]
     },
     "execution_count": 12,
     "metadata": {},
     "output_type": "execute_result"
    }
   ],
   "source": [
    "# ndim\n",
    "my_2d_array.ndim"
   ]
  },
  {
   "cell_type": "markdown",
   "id": "f598a543-2e19-4ec8-aadf-8ac53126cebc",
   "metadata": {},
   "source": [
    "Finally, the type of the elements and the whole <font color=\"green\">**array**</font> can be accessed by `dtype`:"
   ]
  },
  {
   "cell_type": "code",
   "execution_count": 13,
   "id": "68fb7133-76b4-4e5b-ba2c-2aec524584df",
   "metadata": {},
   "outputs": [
    {
     "name": "stdout",
     "output_type": "stream",
     "text": [
      "[1 2 3 4 5 6 7]\n"
     ]
    },
    {
     "data": {
      "text/plain": [
       "dtype('int64')"
      ]
     },
     "execution_count": 13,
     "metadata": {},
     "output_type": "execute_result"
    }
   ],
   "source": [
    "# what is the dtype?\n",
    "print(my_array)\n",
    "my_array.dtype"
   ]
  },
  {
   "cell_type": "markdown",
   "id": "2c4605e5-695d-4272-92d0-f39631601350",
   "metadata": {},
   "source": [
    "## 2. Creating arrays\n",
    "\n",
    "We have already created a 1D and 2D <font color=\"green\">**array**</font>using lists using **`np.array()`**:"
   ]
  },
  {
   "cell_type": "code",
   "execution_count": 15,
   "id": "d4144127-32fb-437b-9fee-3b184f7039b2",
   "metadata": {},
   "outputs": [
    {
     "name": "stdout",
     "output_type": "stream",
     "text": [
      "[1 2 3]\n"
     ]
    }
   ],
   "source": [
    "a = np.array([1, 2, 3])\n",
    "print(a)"
   ]
  },
  {
   "cell_type": "markdown",
   "id": "858032ea-ac12-4452-9953-ebae0fee3deb",
   "metadata": {},
   "source": [
    "But there are other ways:"
   ]
  },
  {
   "cell_type": "code",
   "execution_count": 16,
   "id": "a12e32f3-cb28-4365-ae95-50e6d502e879",
   "metadata": {},
   "outputs": [
    {
     "data": {
      "text/plain": [
       "array([0., 0., 0., 0., 0.])"
      ]
     },
     "execution_count": 16,
     "metadata": {},
     "output_type": "execute_result"
    }
   ],
   "source": [
    "# an array on zeros\n",
    "np.zeros(5)"
   ]
  },
  {
   "cell_type": "code",
   "execution_count": 17,
   "id": "9998f865-3bce-4b65-936b-28188845d905",
   "metadata": {},
   "outputs": [
    {
     "data": {
      "text/plain": [
       "array([1., 1., 1., 1., 1.])"
      ]
     },
     "execution_count": 17,
     "metadata": {},
     "output_type": "execute_result"
    }
   ],
   "source": [
    "# an array of ones\n",
    "np.ones(5)"
   ]
  },
  {
   "cell_type": "code",
   "execution_count": 18,
   "id": "7b3be230-0e83-4ce1-bc0f-b914f96af346",
   "metadata": {},
   "outputs": [
    {
     "data": {
      "text/plain": [
       "array([4.68990233e-310, 0.00000000e+000, 4.68881048e-310, 4.68881054e-310])"
      ]
     },
     "execution_count": 18,
     "metadata": {},
     "output_type": "execute_result"
    }
   ],
   "source": [
    "# an \"empty\" array - actually it's filled with random numbers\n",
    "np.empty(4)"
   ]
  },
  {
   "cell_type": "code",
   "execution_count": 22,
   "id": "5f801a8f-3deb-4360-aece-f9beb45b7a06",
   "metadata": {},
   "outputs": [
    {
     "data": {
      "text/plain": [
       "array([ 0,  1,  2,  3,  4,  5,  6,  7,  8,  9, 10])"
      ]
     },
     "execution_count": 22,
     "metadata": {},
     "output_type": "execute_result"
    }
   ],
   "source": [
    "# create an array from a range of values\n",
    "np.arange(11)"
   ]
  },
  {
   "cell_type": "code",
   "execution_count": 23,
   "id": "76044aca-c773-4783-89e1-97f2d25cdcde",
   "metadata": {},
   "outputs": [
    {
     "data": {
      "text/plain": [
       "array([ 1.  ,  3.25,  5.5 ,  7.75, 10.  ])"
      ]
     },
     "execution_count": 23,
     "metadata": {},
     "output_type": "execute_result"
    }
   ],
   "source": [
    "# create an array that is linearly spaced in an interval\n",
    "np.linspace(1, 10, 5)"
   ]
  },
  {
   "cell_type": "markdown",
   "id": "57ec4cef-5fc5-4ba8-8390-48da15785503",
   "metadata": {},
   "source": [
    "- **`np.zeros()`** creates an array of zeros\n",
    "- **`np.ones()`** creates an array of ones\n",
    "- **`np.empty()`** creates an empty array\n",
    "- **`np.arange()`** creates an array from a range of numbers. you specify that just like the **`range()`** function\n",
    "- **`np.linspace()`** creates an array of linearly spaced numbers in a given interval\n",
    "\n",
    "You need these functions often when you create figures, e.g. to initialize the x-axis values.\n",
    "\n",
    "You can even specify the dtype directly:"
   ]
  },
  {
   "cell_type": "code",
   "execution_count": 24,
   "id": "cdb24d61-30e3-4bea-885b-daaea53b68e8",
   "metadata": {},
   "outputs": [
    {
     "name": "stdout",
     "output_type": "stream",
     "text": [
      "[1. 1. 1. 1. 1.]\n",
      "float64\n"
     ]
    }
   ],
   "source": [
    "# default is float\n",
    "a = np.ones(5)\n",
    "print(a)\n",
    "print(a.dtype)"
   ]
  },
  {
   "cell_type": "code",
   "execution_count": 29,
   "id": "26ae076c-6035-46de-9f90-257107978fd7",
   "metadata": {},
   "outputs": [
    {
     "name": "stdout",
     "output_type": "stream",
     "text": [
      "[1 1 1 1 1]\n",
      "int64\n"
     ]
    }
   ],
   "source": [
    "# int\n",
    "a = np.ones(5, dtype=int)\n",
    "print(a)\n",
    "print(a.dtype)"
   ]
  },
  {
   "cell_type": "code",
   "execution_count": 28,
   "id": "f5133aee-5c00-4e1e-93d9-3bceae8e1af8",
   "metadata": {},
   "outputs": [
    {
     "data": {
      "text/plain": [
       "array([False, False, False, False, False])"
      ]
     },
     "execution_count": 28,
     "metadata": {},
     "output_type": "execute_result"
    }
   ],
   "source": [
    "# bool\n",
    "np.zeros(5, dtype=bool)"
   ]
  },
  {
   "cell_type": "markdown",
   "id": "82ad9b8a-9a72-4e6f-9209-36754eee36fd",
   "metadata": {},
   "source": [
    "## 3. Sorting elements\n",
    "\n",
    "<font color=\"green\">**Arrays**</font> can be sorted using **`np.sort()`**. The <font color=\"green\">**function**</font> returns a copy of the <font color=\"green\">**array**</font>, sorted in ascendng order."
   ]
  },
  {
   "cell_type": "code",
   "execution_count": 30,
   "id": "616aff95-4532-4aeb-b630-48cf82cbeaa0",
   "metadata": {},
   "outputs": [
    {
     "name": "stdout",
     "output_type": "stream",
     "text": [
      "[4 3 6 1 2 5]\n"
     ]
    },
    {
     "data": {
      "text/plain": [
       "array([1, 2, 3, 4, 5, 6])"
      ]
     },
     "execution_count": 30,
     "metadata": {},
     "output_type": "execute_result"
    }
   ],
   "source": [
    "sortme = np.array([4, 3, 6, 1, 2, 5])\n",
    "print(sortme)\n",
    "np.sort(sortme)"
   ]
  },
  {
   "cell_type": "code",
   "execution_count": 31,
   "id": "2187d753-e61e-4949-9dc1-2b2d20b0100d",
   "metadata": {},
   "outputs": [
    {
     "data": {
      "text/plain": [
       "array([4, 3, 6, 1, 2, 5])"
      ]
     },
     "execution_count": 31,
     "metadata": {},
     "output_type": "execute_result"
    }
   ],
   "source": [
    "# is sortme now a sorted array?\n",
    "sortme"
   ]
  },
  {
   "cell_type": "markdown",
   "id": "598e923b-0f5a-436b-9eb7-28034745f952",
   "metadata": {},
   "source": [
    "What about sorting 2D arrays?"
   ]
  },
  {
   "cell_type": "code",
   "execution_count": 32,
   "id": "8852beb8-377a-452f-ad4d-b7e06f147428",
   "metadata": {},
   "outputs": [
    {
     "name": "stdout",
     "output_type": "stream",
     "text": [
      "[[4 1 3 6]\n",
      " [4 3 5 6]\n",
      " [2 7 3 5]]\n"
     ]
    }
   ],
   "source": [
    "# create a 2d array\n",
    "sortme2d = np.array([[4, 1, 3, 6], [4, 3, 5, 6],  [2, 7, 3, 5]])\n",
    "print(sortme2d)"
   ]
  },
  {
   "cell_type": "code",
   "execution_count": 33,
   "id": "2ab6e00b-8189-4d52-b5a3-50d97e99cf8f",
   "metadata": {},
   "outputs": [
    {
     "data": {
      "text/plain": [
       "array([[1, 3, 4, 6],\n",
       "       [3, 4, 5, 6],\n",
       "       [2, 3, 5, 7]])"
      ]
     },
     "execution_count": 33,
     "metadata": {},
     "output_type": "execute_result"
    }
   ],
   "source": [
    "# sort it!\n",
    "np.sort(sortme2d)"
   ]
  },
  {
   "cell_type": "markdown",
   "id": "f606968e-a205-4bc1-a28f-d029025e6696",
   "metadata": {},
   "source": [
    "What happens if we call **`np.sort()`**?\n",
    "<details>\n",
    "    <summary><font color=\"orange\"><b>Click me!</b></font></summary>\n",
    "    The matrix is sorted along the last axis by default, that means \"by row\" in this case!\n",
    "    you can tell sort, which axis to sort, if you want for example sort it \"by column\".\n",
    "</details>\n"
   ]
  },
  {
   "cell_type": "code",
   "execution_count": 34,
   "id": "93c3cf59-a182-4917-9f0d-4cbed91592ef",
   "metadata": {},
   "outputs": [
    {
     "data": {
      "text/plain": [
       "array([[2, 1, 3, 5],\n",
       "       [4, 3, 3, 6],\n",
       "       [4, 7, 5, 6]])"
      ]
     },
     "execution_count": 34,
     "metadata": {},
     "output_type": "execute_result"
    }
   ],
   "source": [
    "# sort it top  to bottom\n",
    "np.sort(sortme2d, axis=0)"
   ]
  },
  {
   "cell_type": "markdown",
   "id": "34934c4d-18b7-43b3-afd5-7183aa9a5e43",
   "metadata": {},
   "source": [
    "Sometimes it is useful to not sort the <font color=\"green\">**array**</font> but to find out, at which index the element would be in a sorted <font color=\"green\">**array**</font>.\n",
    "\n",
    "This is done using the function **`np.argsort()`**."
   ]
  },
  {
   "cell_type": "code",
   "execution_count": 35,
   "id": "25235ef5-d62c-460c-8a72-c5ae10bdab90",
   "metadata": {},
   "outputs": [
    {
     "name": "stdout",
     "output_type": "stream",
     "text": [
      "[4 3 6 1 2 5]\n",
      "[1 2 3 4 5 6]\n"
     ]
    },
    {
     "data": {
      "text/plain": [
       "array([3, 4, 1, 0, 5, 2])"
      ]
     },
     "execution_count": 35,
     "metadata": {},
     "output_type": "execute_result"
    }
   ],
   "source": [
    "print(sortme)\n",
    "print(np.sort(sortme))\n",
    "np.argsort(sortme)"
   ]
  },
  {
   "cell_type": "markdown",
   "id": "6898dc8f-bb3b-42e4-ad2a-3d35d125a14d",
   "metadata": {},
   "source": [
    "## 4. Adding and removing elements\n",
    "\n",
    "Since <font color=\"green\">**arrays**</font> are of fixed size, you cannot simply add and remove elements, like we did with lists.\\\n",
    "But we can <font color=\"green\">**concatenate**</font> arrays and thereby create a new combined <font color=\"green\">**array**</font>!\n",
    "\n",
    "This is done with **`np.concatenate()`**."
   ]
  },
  {
   "cell_type": "code",
   "execution_count": 36,
   "id": "e1a16841-06b7-4367-af6b-57679df1b53f",
   "metadata": {},
   "outputs": [
    {
     "name": "stdout",
     "output_type": "stream",
     "text": [
      "[1 2 3 4 5 6 7]\n",
      "[22 23 24 25]\n"
     ]
    },
    {
     "data": {
      "text/plain": [
       "array([ 1,  2,  3,  4,  5,  6,  7, 22, 23, 24, 25])"
      ]
     },
     "execution_count": 36,
     "metadata": {},
     "output_type": "execute_result"
    }
   ],
   "source": [
    "# concatenate\n",
    "print(my_array)\n",
    "another_array = np.arange(22, 26)\n",
    "print(another_array)\n",
    "np.concatenate([my_array, another_array])"
   ]
  },
  {
   "cell_type": "code",
   "execution_count": 37,
   "id": "8153830d-4885-4987-bb72-51187cffcc12",
   "metadata": {},
   "outputs": [
    {
     "name": "stdout",
     "output_type": "stream",
     "text": [
      "[[ 1  2  3  4]\n",
      " [ 5  6  7  8]\n",
      " [ 9 10 11 12]]\n",
      "[[0. 0. 0. 0.]\n",
      " [0. 0. 0. 0.]]\n"
     ]
    },
    {
     "data": {
      "text/plain": [
       "array([[ 1.,  2.,  3.,  4.],\n",
       "       [ 5.,  6.,  7.,  8.],\n",
       "       [ 9., 10., 11., 12.],\n",
       "       [ 0.,  0.,  0.,  0.],\n",
       "       [ 0.,  0.,  0.,  0.]])"
      ]
     },
     "execution_count": 37,
     "metadata": {},
     "output_type": "execute_result"
    }
   ],
   "source": [
    "# concatenate 2d\n",
    "print(my_2d_array)\n",
    "another_array2 = np.zeros((2, 4))\n",
    "print(another_array2)\n",
    "np.concatenate((my_2d_array, another_array2))"
   ]
  },
  {
   "cell_type": "markdown",
   "id": "e79104b9-8811-414c-a543-7c7cd365bd33",
   "metadata": {},
   "source": [
    "What happened?\n",
    "\n",
    "<details>\n",
    "    <summary><font color=\"orange\"><b>Click me!</b></font></summary>\n",
    "    Concatenating integer arrays with float arrays works, but it changes the dtype to float for the new array.\n",
    "</details>\n"
   ]
  },
  {
   "cell_type": "code",
   "execution_count": 38,
   "id": "060d3c55-61ec-4489-9c08-1e10ce0e1ef9",
   "metadata": {},
   "outputs": [
    {
     "name": "stdout",
     "output_type": "stream",
     "text": [
      "[[ 1  2  3  4]\n",
      " [ 5  6  7  8]\n",
      " [ 9 10 11 12]]\n",
      "[[0. 0. 0. 0.]\n",
      " [0. 0. 0. 0.]\n",
      " [0. 0. 0. 0.]]\n"
     ]
    },
    {
     "data": {
      "text/plain": [
       "array([[ 1.,  2.,  3.,  4.,  0.,  0.,  0.,  0.],\n",
       "       [ 5.,  6.,  7.,  8.,  0.,  0.,  0.,  0.],\n",
       "       [ 9., 10., 11., 12.,  0.,  0.,  0.,  0.]])"
      ]
     },
     "execution_count": 38,
     "metadata": {},
     "output_type": "execute_result"
    }
   ],
   "source": [
    "# concatenate 2d\n",
    "print(my_2d_array)\n",
    "another_array2 = np.zeros((3, 4))\n",
    "print(another_array2)\n",
    "np.concatenate((my_2d_array, another_array2), axis=1)"
   ]
  },
  {
   "cell_type": "markdown",
   "id": "2d87830f-021a-4083-85c7-5f4f934fcba9",
   "metadata": {},
   "source": [
    "You can also stack them together vertically or horizontally using **`np.vstack()`** or **`np.hstack()`**."
   ]
  },
  {
   "cell_type": "code",
   "execution_count": 39,
   "id": "1946073b-c5ce-405b-9036-969cb7878b21",
   "metadata": {},
   "outputs": [
    {
     "name": "stdout",
     "output_type": "stream",
     "text": [
      "vector1 = [1 2 3 4]\n",
      "\n",
      "vector2 = [5 6 7 8]\n",
      "\n",
      "Matrix1 =\n",
      " [[1 2 3 4]\n",
      " [5 6 7 8]]\n",
      "\n",
      "Matrix2 =\n",
      " [[ 9 10 11 12]\n",
      " [13 14 15 16]]\n"
     ]
    }
   ],
   "source": [
    "vector1 = np.array([1, 2, 3, 4])\n",
    "vector2 = np.array([5, 6, 7, 8])\n",
    "matrix1 = np.array([[1, 2, 3, 4], [5, 6, 7, 8]])\n",
    "matrix2 = np.array([[9, 10, 11, 12], [13, 14, 15, 16]])\n",
    "\n",
    "print(\"vector1 =\", vector1)\n",
    "print(\"\\nvector2 =\", vector2)\n",
    "print(\"\\nMatrix1 =\\n\", matrix1)\n",
    "print(\"\\nMatrix2 =\\n\", matrix2)"
   ]
  },
  {
   "cell_type": "code",
   "execution_count": 40,
   "id": "1fbbb9b7-75d9-4beb-9a57-1e962790c21b",
   "metadata": {},
   "outputs": [
    {
     "data": {
      "text/plain": [
       "array([[1, 2, 3, 4],\n",
       "       [5, 6, 7, 8]])"
      ]
     },
     "execution_count": 40,
     "metadata": {},
     "output_type": "execute_result"
    }
   ],
   "source": [
    "# stack two \"rows\" onto each other:\n",
    "np.vstack((vector1, vector2))"
   ]
  },
  {
   "cell_type": "code",
   "execution_count": 41,
   "id": "b2fadaed-9e59-47f8-83d1-5bb9cf1840a5",
   "metadata": {},
   "outputs": [
    {
     "data": {
      "text/plain": [
       "array([1, 2, 3, 4, 5, 6, 7, 8])"
      ]
     },
     "execution_count": 41,
     "metadata": {},
     "output_type": "execute_result"
    }
   ],
   "source": [
    "# stack two \"rows\" next to each other\n",
    "np.hstack((vector1, vector2))"
   ]
  },
  {
   "cell_type": "code",
   "execution_count": 42,
   "id": "590c13ec-581e-4bcc-85af-a6696bb151de",
   "metadata": {},
   "outputs": [
    {
     "data": {
      "text/plain": [
       "array([[ 1,  2,  3,  4],\n",
       "       [ 5,  6,  7,  8],\n",
       "       [ 9, 10, 11, 12],\n",
       "       [13, 14, 15, 16]])"
      ]
     },
     "execution_count": 42,
     "metadata": {},
     "output_type": "execute_result"
    }
   ],
   "source": [
    "# stack two matrices onto each other\n",
    "np.vstack((matrix1, matrix2))"
   ]
  },
  {
   "cell_type": "code",
   "execution_count": 43,
   "id": "f78a648d-387d-4e8e-acf5-977e502c0280",
   "metadata": {},
   "outputs": [
    {
     "data": {
      "text/plain": [
       "array([[ 1,  2,  3,  4,  9, 10, 11, 12],\n",
       "       [ 5,  6,  7,  8, 13, 14, 15, 16]])"
      ]
     },
     "execution_count": 43,
     "metadata": {},
     "output_type": "execute_result"
    }
   ],
   "source": [
    "#stack 2 matrices nect to each other\n",
    "np.hstack((matrix1, matrix2))"
   ]
  },
  {
   "cell_type": "markdown",
   "id": "fa1eb2f8-5ae5-41d3-9342-4932d8be0d21",
   "metadata": {},
   "source": [
    "## 5. Reshaping\n",
    "\n",
    "what if we have values in an <font color=\"green\">**array**</font>, but it's not in the format we need? Can we change the shape of an array? Sure!\\\n",
    "This is done with the **`np.reshape()`** function. The values will remain the same but the structure will change.\n",
    "\n",
    "This is useful, if you want to create a 2D <font color=\"green\">**array**</font> from a 1D <font color=\"green\">**array**</font>:"
   ]
  },
  {
   "cell_type": "code",
   "execution_count": 44,
   "id": "36eb91b2-f799-40d2-97c7-eef87b7588f3",
   "metadata": {},
   "outputs": [
    {
     "name": "stdout",
     "output_type": "stream",
     "text": [
      "a_vector = [1 2 3 4 5 6 7 8]\n",
      "\n",
      "The new vector new_a =\n",
      " [[1 2]\n",
      " [3 4]\n",
      " [5 6]\n",
      " [7 8]]\n"
     ]
    }
   ],
   "source": [
    "a_vector = np.arange(1, 9)\n",
    "print(\"a_vector =\", a_vector)\n",
    "new_a = a_vector.reshape(4, 2)\n",
    "print(\"\\nThe new vector new_a =\\n\", new_a)"
   ]
  },
  {
   "cell_type": "markdown",
   "id": "43c91708-cbb9-4c6c-aa1b-925f0cfb0277",
   "metadata": {},
   "source": [
    "What happened?\n",
    "<details>\n",
    "    <summary><font color=\"orange\"><b>Click me!</b></font></summary>\n",
    "    The resulting reshaped array is a 2D array, a 4 by 2 matrix. You can also create a differently shaped array,\n",
    "\n",
    "    but you must make sure, that the number of elements does fit into the new shape!\n",
    "</details>\n"
   ]
  },
  {
   "cell_type": "code",
   "execution_count": 45,
   "id": "5bcfdb6a-fd3c-436c-8043-21b870b2606c",
   "metadata": {},
   "outputs": [
    {
     "data": {
      "text/plain": [
       "array([[1, 2, 3, 4],\n",
       "       [5, 6, 7, 8]])"
      ]
     },
     "execution_count": 45,
     "metadata": {},
     "output_type": "execute_result"
    }
   ],
   "source": [
    "# a 2 by 4 matrix\n",
    "a_vector.reshape(2, 4)"
   ]
  },
  {
   "cell_type": "code",
   "execution_count": 46,
   "id": "0858c8c0-e00a-4410-81cb-72a85c577486",
   "metadata": {},
   "outputs": [
    {
     "data": {
      "text/plain": [
       "array([[[1, 2],\n",
       "        [3, 4]],\n",
       "\n",
       "       [[5, 6],\n",
       "        [7, 8]]])"
      ]
     },
     "execution_count": 46,
     "metadata": {},
     "output_type": "execute_result"
    }
   ],
   "source": [
    "# a 2 by 2 by 2 (cubic) shape\n",
    "a_vector.reshape(2, 2, 2)"
   ]
  },
  {
   "cell_type": "code",
   "execution_count": 47,
   "id": "fa717124-3f7b-4de6-93fc-06fc24f50774",
   "metadata": {},
   "outputs": [
    {
     "data": {
      "text/plain": [
       "array([[1, 2, 3, 4, 5, 6, 7, 8]])"
      ]
     },
     "execution_count": 47,
     "metadata": {},
     "output_type": "execute_result"
    }
   ],
   "source": [
    "# reshape new_a as a row vector\n",
    "new_a.reshape(1, 8)"
   ]
  },
  {
   "cell_type": "code",
   "execution_count": 48,
   "id": "ef816282-b885-4dff-93d1-0c8b11a4e93d",
   "metadata": {},
   "outputs": [
    {
     "data": {
      "text/plain": [
       "array([[1],\n",
       "       [2],\n",
       "       [3],\n",
       "       [4],\n",
       "       [5],\n",
       "       [6],\n",
       "       [7],\n",
       "       [8]])"
      ]
     },
     "execution_count": 48,
     "metadata": {},
     "output_type": "execute_result"
    }
   ],
   "source": [
    "# reshape new_a as a column vector\n",
    "new_a.reshape(8, 1)"
   ]
  },
  {
   "cell_type": "markdown",
   "id": "002b4115-2390-499e-9299-b41896200d5d",
   "metadata": {},
   "source": [
    "Sometimes, we need to convert a 1D <font color=\"green\">**array**</font> into a 2D <font color=\"green\">**array**</font>. That means we need to add a new dimension.\n",
    "\n",
    "\n",
    "We can also add a new dimension, if we need to turn a 1D array into a 2D array. This can be done using **`expand_dims()`**. the parameter `axis` tells it where the <font color=\"green\">**axis**</font> should be. Or you can use `new_axis`."
   ]
  },
  {
   "cell_type": "code",
   "execution_count": 49,
   "id": "9ca7cad7-9149-4881-ba38-f658caa138bb",
   "metadata": {},
   "outputs": [
    {
     "name": "stdout",
     "output_type": "stream",
     "text": [
      "The original a_vector =  [1 2 3 4 5 6 7 8]\n",
      "The shape of a_vector is (8,)\n",
      "If we concatenate a_vector with itself, we get:\n",
      " [1 2 3 4 5 6 7 8 1 2 3 4 5 6 7 8]\n"
     ]
    }
   ],
   "source": [
    "# start with a single (row) array\n",
    "print(\"The original a_vector = \", a_vector)\n",
    "print(\"The shape of a_vector is\", a_vector.shape)\n",
    "print(\"If we concatenate a_vector with itself, we get:\\n\", np.concatenate((a_vector, a_vector)))\n"
   ]
  },
  {
   "cell_type": "code",
   "execution_count": 51,
   "id": "450ce108-51ca-4376-b848-1e283af0e872",
   "metadata": {},
   "outputs": [
    {
     "name": "stdout",
     "output_type": "stream",
     "text": [
      "A 1 by 8 matrix (2D array):\n",
      " [[1 2 3 4 5 6 7 8]]\n",
      "The shape is (1, 8)\n",
      "\n",
      "A 1 by 8 matrix (2D array):\n",
      " [[1 2 3 4 5 6 7 8]]\n",
      "The shape is (1, 8)\n",
      "\n",
      "A 1 by 8 matrix (2D array):\n",
      " [[1 2 3 4 5 6 7 8]]\n",
      "The shape is (1, 8)\n",
      "\n",
      "If we concatenate this matrix along axis 0 (rows) with row_vector_b, we get:\n",
      " [[ 1  2  3  4  5  6  7  8]\n",
      " [ 9 10 11 12 13 14 15 16]]\n",
      "\n",
      "Or if we concatenate this matrix along axis 1 (columns) and we get:\n",
      " [[ 1  2  3  4  5  6  7  8]\n",
      " [ 9 10 11 12 13 14 15 16]]\n"
     ]
    }
   ],
   "source": [
    "# create a \"row vector\"\n",
    "row_vector_a = np.expand_dims(a_vector, axis=0)\n",
    "print(\"A 1 by 8 matrix (2D array):\\n\", row_vector_a)\n",
    "print(\"The shape is\", row_vector_a.shape)\n",
    "\n",
    "# or use np.newaxis\n",
    "row_vector_a = a_vector[np.newaxis,:]\n",
    "print(\"\\nA 1 by 8 matrix (2D array):\\n\", row_vector_a)\n",
    "print(\"The shape is\", row_vector_a.shape)\n",
    "\n",
    "# or use None\n",
    "row_vector_a = a_vector[None,:]\n",
    "print(\"\\nA 1 by 8 matrix (2D array):\\n\", row_vector_a)\n",
    "print(\"The shape is\", row_vector_a.shape)\n",
    "\n",
    "row_vector_b = np.array([[9, 10, 11, 12, 13, 14, 15, 16]])\n",
    "\n",
    "# concatenate them\n",
    "print(\n",
    "    \"\\nIf we concatenate this matrix along axis 0 (rows) with row_vector_b, we get:\\n\", \n",
    "    np.concatenate((row_vector_a, row_vector_b))\n",
    ")\n",
    "print(\"\\nOr if we concatenate this matrix along axis 1 (columns) and we get:\\n\", \n",
    "      np.concatenate((row_vector_a, row_vector_b), axis=0))"
   ]
  },
  {
   "cell_type": "markdown",
   "id": "b37d124a-0696-4270-8e71-5a50a487248e",
   "metadata": {},
   "source": [
    "What happened?\n",
    "<details>\n",
    "    <summary><font color=\"orange\"><b>Click me!</b></font></summary>\n",
    "    Using `np.newaxis` or `None`with the slicing annotation just adds a new `axis`at this position. The result is the same.\n",
    "    All three methods add another dimension to the array!\n",
    "</details>\n",
    "\n",
    "We can also create a column vector by specifying the <font color=\"green\">**axis**</font> to add:"
   ]
  },
  {
   "cell_type": "code",
   "execution_count": 53,
   "id": "5a3ff987-9970-4296-b764-defd66216b00",
   "metadata": {},
   "outputs": [
    {
     "name": "stdout",
     "output_type": "stream",
     "text": [
      "A 8 by 1 matrix (2D array):\n",
      " [[1]\n",
      " [2]\n",
      " [3]\n",
      " [4]\n",
      " [5]\n",
      " [6]\n",
      " [7]\n",
      " [8]]\n",
      "The shape is (8, 1)\n",
      "\n",
      "A 8 by 1 matrix (2D array):\n",
      " [[1]\n",
      " [2]\n",
      " [3]\n",
      " [4]\n",
      " [5]\n",
      " [6]\n",
      " [7]\n",
      " [8]]\n",
      "The shape is (8, 1)\n",
      "\n",
      "If we concatenate these matrices along the row axis (0), we get:\n",
      " [[ 1]\n",
      " [ 2]\n",
      " [ 3]\n",
      " [ 4]\n",
      " [ 5]\n",
      " [ 6]\n",
      " [ 7]\n",
      " [ 8]\n",
      " [ 9]\n",
      " [10]\n",
      " [11]\n",
      " [12]\n",
      " [13]\n",
      " [14]\n",
      " [15]\n",
      " [16]]\n",
      "\n",
      "Or if we concatenate them along the column axis (1) and we get:\n",
      " [[ 1  9]\n",
      " [ 2 10]\n",
      " [ 3 11]\n",
      " [ 4 12]\n",
      " [ 5 13]\n",
      " [ 6 14]\n",
      " [ 7 15]\n",
      " [ 8 16]]\n"
     ]
    }
   ],
   "source": [
    "# create a column vector\n",
    "column_vector_a = np.expand_dims(a_vector, axis=1)\n",
    "print(\"A 8 by 1 matrix (2D array):\\n\", column_vector_a)\n",
    "print(\"The shape is\", column_vector_a.shape)\n",
    "\n",
    "column_vector_a = a_vector[:,None]\n",
    "print(\"\\nA 8 by 1 matrix (2D array):\\n\", column_vector_a)\n",
    "print(\"The shape is\", column_vector_a.shape)\n",
    "\n",
    "# concatenate them\n",
    "column_vector_b = np.array([\n",
    "    [9], \n",
    "    [10], \n",
    "    [11], \n",
    "    [12], \n",
    "    [13], \n",
    "    [14], \n",
    "    [15], \n",
    "    [16]\n",
    "    ]\n",
    ")\n",
    "\n",
    "print(\n",
    "    \"\\nIf we concatenate these matrices along the row axis (0), we get:\\n\", \n",
    "    np.concatenate((column_vector_a, column_vector_b), axis=0)\n",
    ")\n",
    "print(\"\\nOr if we concatenate them along the column axis (1) and we get:\\n\", \n",
    "      np.concatenate((column_vector_a, column_vector_b), axis=1)\n",
    "     )"
   ]
  },
  {
   "cell_type": "code",
   "execution_count": 54,
   "id": "e1c16b41-93bd-4054-ba0a-4cb550fc59e8",
   "metadata": {},
   "outputs": [
    {
     "name": "stdout",
     "output_type": "stream",
     "text": [
      "[[1 2 3 4 5 6 7 8]]\n",
      "(1, 8)\n",
      "This is a cube!\n",
      "[[[1 2 3 4 5 6 7 8]]]\n",
      "(1, 1, 8)\n"
     ]
    }
   ],
   "source": [
    "# you can always add another axis\n",
    "print(row_vector_a)\n",
    "print(row_vector_a.shape)\n",
    "a_in_3d = row_vector_a[None,:]\n",
    "print(\"This is a cube!\")\n",
    "print(a_in_3d)\n",
    "print(a_in_3d.shape)"
   ]
  },
  {
   "cell_type": "markdown",
   "id": "ff3838ea-8328-4374-829a-b460f7bb86fc",
   "metadata": {},
   "source": [
    "## 6. Selecting, <font color=\"green\">**boolean expressions**</font> and <font color=\"green\">**masking**</font>\n",
    "\n",
    "<font color=\"green\">**NumPy arrays**</font> can also be useful for <font color=\"green\">**filtering**</font> tables. We will see that later, when we get to the pandas package.\n",
    "You can use <font color=\"green\">**boolean expressions**</font> to select which elements to acess and retrieve, which is called <font color=\"green\">**masking**</font>.\n",
    "\n",
    "In <font color=\"green\">**NumPy**</font>, <font color=\"green\">**masking**</font> refers to the process of using <font color=\"green\">**boolean arrays (masks)**</font> to filter or manipulate values within an <font color=\"green\">**array**</font> based on certain conditions. <font color=\"green\">**Masks**</font> are <font color=\"green\">**arrays**</font> of <font color=\"green\">**boolean values**</font>, where each element indicates whether the corresponding element in the original <font color=\"green\">**array**</font> satisfies a condition.\n",
    "\n",
    "You can create a <font color=\"green\">**mask**</font> by applying a condition to an array. For example, you might want to create a <font color=\"green\">**mask**</font> that identifies all elements greater than a certain threshold."
   ]
  },
  {
   "cell_type": "code",
   "execution_count": 55,
   "id": "afcc5fb1-b2ad-45f6-9bd2-3ee950f560d4",
   "metadata": {},
   "outputs": [
    {
     "data": {
      "text/plain": [
       "array([1, 2, 3, 4, 5, 6, 7])"
      ]
     },
     "execution_count": 55,
     "metadata": {},
     "output_type": "execute_result"
    }
   ],
   "source": [
    "my_array"
   ]
  },
  {
   "cell_type": "code",
   "execution_count": 56,
   "id": "fc0b6c7b-3176-4bd5-9468-9b08d368791c",
   "metadata": {},
   "outputs": [
    {
     "name": "stdout",
     "output_type": "stream",
     "text": [
      "[False  True False  True False  True False]\n"
     ]
    }
   ],
   "source": [
    "# create a mask\n",
    "mask_even = my_array%2==0  # select only even numbers\n",
    "print(mask_even)"
   ]
  },
  {
   "cell_type": "code",
   "execution_count": 57,
   "id": "c236e385-a11c-4c00-9660-7cec38c36c83",
   "metadata": {},
   "outputs": [
    {
     "name": "stdout",
     "output_type": "stream",
     "text": [
      "[False False False  True  True  True  True]\n"
     ]
    }
   ],
   "source": [
    "# create another mask\n",
    "mask_larger_3 = my_array > 3  # select only number larger than 3\n",
    "print(mask_larger_3)"
   ]
  },
  {
   "cell_type": "markdown",
   "id": "7d320444-d09c-4df1-9afc-2f24fda2181f",
   "metadata": {},
   "source": [
    "If you create a <font color=\"green\">**mask**</font> using <font color=\"green\">**boolean expressions**</font>, you can use it to <font color=\"green\">**filter**</font> your <font color=\"green\">**array**</font>."
   ]
  },
  {
   "cell_type": "code",
   "execution_count": 58,
   "id": "fe1a31be-8767-44bd-99e1-aa0c575f1a24",
   "metadata": {},
   "outputs": [
    {
     "name": "stdout",
     "output_type": "stream",
     "text": [
      "[2 4 6]\n"
     ]
    }
   ],
   "source": [
    "# select only even numbers\n",
    "filtered_array = my_array[mask_even]\n",
    "print(filtered_array)"
   ]
  },
  {
   "cell_type": "code",
   "execution_count": 59,
   "id": "7d3db8c2-8ac5-4865-9914-bda51c47205e",
   "metadata": {},
   "outputs": [
    {
     "name": "stdout",
     "output_type": "stream",
     "text": [
      "[4 5 6 7]\n"
     ]
    }
   ],
   "source": [
    "# selct only numbers larger than 3\n",
    "filtered_array = my_array[mask_larger_3]\n",
    "print(filtered_array)"
   ]
  },
  {
   "cell_type": "markdown",
   "id": "fba0deac-9983-4e7a-a46e-0ca4169c304c",
   "metadata": {},
   "source": [
    "Of course, you can also plug in the <font color=\"green\">**boolean expression**</font> directly:"
   ]
  },
  {
   "cell_type": "code",
   "execution_count": 60,
   "id": "15b1a933-ed80-4b2f-b633-c1d8bf95084f",
   "metadata": {},
   "outputs": [
    {
     "name": "stdout",
     "output_type": "stream",
     "text": [
      "[2 4 6]\n"
     ]
    }
   ],
   "source": [
    "filtered_array = my_array[my_array%2==0]\n",
    "print(filtered_array)"
   ]
  },
  {
   "cell_type": "code",
   "execution_count": 65,
   "id": "e6cf006f-b0c5-498e-8e98-b02e008371cf",
   "metadata": {},
   "outputs": [
    {
     "name": "stdout",
     "output_type": "stream",
     "text": [
      "[False  True False  True False  True False]\n",
      "[False False False  True  True  True  True]\n"
     ]
    },
    {
     "data": {
      "text/plain": [
       "array([False, False, False,  True, False,  True, False])"
      ]
     },
     "execution_count": 65,
     "metadata": {},
     "output_type": "execute_result"
    }
   ],
   "source": [
    "print(mask_even)\n",
    "print(mask_larger_3)\n",
    "mask_even & mask_larger_3"
   ]
  },
  {
   "cell_type": "markdown",
   "id": "d1eb9d26-4f5d-4d27-b307-e7ad5ef8fd6c",
   "metadata": {},
   "source": [
    "If you have different filter criteria, you can join them logically or negate them. \n",
    "However, instead of using the <font color=\"green\">**boolean keywords**</font> <font color=\"#3da831\">**and**</font>, <font color=\"#3da831\">**or**</font> and <font color=\"#3da831\">**not**</font>, you must use <font color=\"green\">**bitwise operators**</font> here.\n",
    "\n",
    "|operator| meaning |\n",
    "|-|-|\n",
    "|<font color=\"#a71ed9\">**&**</font> | bitwise and|\n",
    "|<font color=\"#a71ed9\">**\\|**</font>| bitwise or|\n",
    "|<font color=\"#a71ed9\">**~**</font> | bitwise not|\n",
    "\n",
    "The reason for this is that we are evaluating our expressions <font color=\"green\">**element-wise**</font> on each element of an <font color=\"green\">**array**</font>!\n",
    "\n",
    "The <font color=\"green\">**boolean operators**</font> <font color=\"#3da831\">**and**</font>, <font color=\"#3da831\">**or**</font> and <font color=\"#3da831\">**not**</font> work on boolean expressions that evaluate to <font color=\"#3da831\">**True**</font> or <font color=\"#3da831\">**False**</font>. This is equivalent of comparing just a single element in an array.\n",
    "\n",
    "However, in our case, our conditions evaluate to an <font color=\"#3da831\">**array**</font> of <font color=\"#3da831\">**True**</font> and <font color=\"#3da831\">**False**</font>, i.e. they can be either <font color=\"#3da831\">**True**</font> or <font color=\"#3da831\">**False**</font> depending on the element we are looking at!"
   ]
  },
  {
   "cell_type": "code",
   "execution_count": 66,
   "id": "dcd9562b-f660-489a-8d35-f0a9e983fb6f",
   "metadata": {},
   "outputs": [
    {
     "name": "stdout",
     "output_type": "stream",
     "text": [
      "[4 6]\n"
     ]
    }
   ],
   "source": [
    "# combine filter criterions\n",
    "filtered_array = my_array[mask_even & mask_larger_3]\n",
    "print(filtered_array)"
   ]
  },
  {
   "cell_type": "code",
   "execution_count": 67,
   "id": "eb5a3520-1db2-46c4-82a9-db07f15e70b8",
   "metadata": {},
   "outputs": [
    {
     "name": "stdout",
     "output_type": "stream",
     "text": [
      "[2 4 5 6 7]\n"
     ]
    }
   ],
   "source": [
    "# combine filter criterions\n",
    "filtered_array = my_array[mask_even | mask_larger_3]\n",
    "print(filtered_array)"
   ]
  },
  {
   "cell_type": "code",
   "execution_count": 68,
   "id": "d3584e36-4980-44cf-bb03-d29f5dede17a",
   "metadata": {},
   "outputs": [
    {
     "name": "stdout",
     "output_type": "stream",
     "text": [
      "[1 3 5 7]\n"
     ]
    }
   ],
   "source": [
    "# select all uneven ones\n",
    "filtered_array = my_array[ ~mask_even ]\n",
    "print(filtered_array)"
   ]
  },
  {
   "cell_type": "code",
   "execution_count": 69,
   "id": "3156a7be-0884-4fc1-9498-617f8f5deb20",
   "metadata": {},
   "outputs": [
    {
     "name": "stdout",
     "output_type": "stream",
     "text": [
      "[5 7]\n"
     ]
    }
   ],
   "source": [
    "# select un-even ones greater than 4\n",
    "filtered_array = my_array[~(my_array%2==0) & (my_array>4)]\n",
    "print(filtered_array)"
   ]
  },
  {
   "cell_type": "markdown",
   "id": "b453b4ab-8e6c-43b7-8368-693c1d1f3563",
   "metadata": {},
   "source": [
    "## 7. Math with NumPy\n",
    "\n",
    "Let's do some calulations. The initial idea of NumPy is to be efficient and support linear algebra.\\\n",
    "Accordingly, the well-known Python operators are defined on arrays with vector calculations in mind.\n",
    "\n",
    "You can add/subtract/divide/multiply complete arrays element-wise, e.g. vector addition, ... .\\\n",
    "Or you can add/subtract/divide/multiply (by) a single value (<font color=\"green\">**scalar**</font>) <font color=\"green\">**element-wise**</font>.\n",
    "Both is done using our standard <font color=\"green\">**operators**</font> <font color=\"#a71ed9\">**+**</font>, <font color=\"#a71ed9\">**-**</font>, <font color=\"#a71ed9\">**\\***</font>, <font color=\"#a71ed9\">**/**</font>, <font color=\"#a71ed9\">**%**</font>, <font color=\"#a71ed9\">**//**</font> and <font color=\"#a71ed9\">**\\*\\***</font>.\n"
   ]
  },
  {
   "cell_type": "code",
   "execution_count": 70,
   "id": "3cfaf91c-47ec-44a3-9423-c271790c9a60",
   "metadata": {},
   "outputs": [
    {
     "name": "stdout",
     "output_type": "stream",
     "text": [
      "[1 2 3 4 5]\n",
      "[ 6  7  8  9 10]\n"
     ]
    }
   ],
   "source": [
    "a_array = np.array([1, 2, 3, 4, 5])\n",
    "b_array = np.arange(6, 11)\n",
    "print(a_array)\n",
    "print(b_array)"
   ]
  },
  {
   "cell_type": "code",
   "execution_count": 71,
   "id": "d45c4cc7-67c5-4456-adf6-936a0d57adb0",
   "metadata": {},
   "outputs": [
    {
     "data": {
      "text/plain": [
       "array([5, 6, 7, 8, 9])"
      ]
     },
     "execution_count": 71,
     "metadata": {},
     "output_type": "execute_result"
    }
   ],
   "source": [
    "# add a scalar\n",
    "a_array + 4"
   ]
  },
  {
   "cell_type": "code",
   "execution_count": 72,
   "id": "7223c08c-7fba-4fae-b0a6-7ca4d2a6f288",
   "metadata": {},
   "outputs": [
    {
     "data": {
      "text/plain": [
       "array([ 7,  9, 11, 13, 15])"
      ]
     },
     "execution_count": 72,
     "metadata": {},
     "output_type": "execute_result"
    }
   ],
   "source": [
    "# vector addition\n",
    "a_array + b_array"
   ]
  },
  {
   "cell_type": "code",
   "execution_count": 75,
   "id": "062b8c14-bda5-41a0-b39e-9e42477f65ee",
   "metadata": {},
   "outputs": [
    {
     "data": {
      "text/plain": [
       "array([-5, -5, -5, -5, -5])"
      ]
     },
     "execution_count": 75,
     "metadata": {},
     "output_type": "execute_result"
    }
   ],
   "source": [
    "# subtraction\n",
    "a_array - b_array"
   ]
  },
  {
   "cell_type": "code",
   "execution_count": 74,
   "id": "cef017f2-f896-4b8f-8c4a-abafe8c3493a",
   "metadata": {},
   "outputs": [
    {
     "data": {
      "text/plain": [
       "array([0.5, 1. , 1.5, 2. , 2.5])"
      ]
     },
     "execution_count": 74,
     "metadata": {},
     "output_type": "execute_result"
    }
   ],
   "source": [
    "# scalar division\n",
    "a_array / 2"
   ]
  },
  {
   "cell_type": "code",
   "execution_count": 73,
   "id": "5f71627b-20a5-40a9-9c3e-d11fbebb26dc",
   "metadata": {},
   "outputs": [
    {
     "data": {
      "text/plain": [
       "array([0.16666667, 0.28571429, 0.375     , 0.44444444, 0.5       ])"
      ]
     },
     "execution_count": 73,
     "metadata": {},
     "output_type": "execute_result"
    }
   ],
   "source": [
    "###### element-wise vector division\n",
    "a_array / b_array"
   ]
  },
  {
   "cell_type": "markdown",
   "id": "ce73b303-4091-45d0-9bee-7377274f1188",
   "metadata": {},
   "source": [
    "You get the idea, <font color=\"green\">**operators**</font> work <font color=\"green\">**element-wise**</font>, if you use them with <font color=\"green\">**arrays**</font> with appropriate dimensions and if you use a single number instead, it's a <font color=\"green\">**scalar**</font> operation!\n",
    "\n",
    "However, you must make sure that the <font color=\"green\">**array**</font> dimensions fit or they can be <font color=\"green\">**broadcasted**</font>!"
   ]
  },
  {
   "cell_type": "code",
   "execution_count": 76,
   "id": "2957c6fa-e85a-41b0-b1dd-779fe662fadb",
   "metadata": {},
   "outputs": [
    {
     "ename": "ValueError",
     "evalue": "operands could not be broadcast together with shapes (5,) (3,) ",
     "output_type": "error",
     "traceback": [
      "\u001b[0;31m---------------------------------------------------------------------------\u001b[0m",
      "\u001b[0;31mValueError\u001b[0m                                Traceback (most recent call last)",
      "Cell \u001b[0;32mIn[76], line 1\u001b[0m\n\u001b[0;32m----> 1\u001b[0m \u001b[43ma_array\u001b[49m\u001b[43m \u001b[49m\u001b[38;5;241;43m+\u001b[39;49m\u001b[43m \u001b[49m\u001b[43mnp\u001b[49m\u001b[38;5;241;43m.\u001b[39;49m\u001b[43marray\u001b[49m\u001b[43m(\u001b[49m\u001b[43m[\u001b[49m\u001b[38;5;241;43m1\u001b[39;49m\u001b[43m,\u001b[49m\u001b[43m \u001b[49m\u001b[38;5;241;43m2\u001b[39;49m\u001b[43m,\u001b[49m\u001b[43m \u001b[49m\u001b[38;5;241;43m3\u001b[39;49m\u001b[43m]\u001b[49m\u001b[43m)\u001b[49m\n",
      "\u001b[0;31mValueError\u001b[0m: operands could not be broadcast together with shapes (5,) (3,) "
     ]
    }
   ],
   "source": [
    "a_array + np.array([1, 2, 3])"
   ]
  },
  {
   "cell_type": "markdown",
   "id": "eafe1622-65d2-4145-915b-b4a3833b5f74",
   "metadata": {},
   "source": [
    "## 8. <font color=\"green\">**Broadcasting**</font>\n",
    "\n",
    "Okay, what the hell means <font color=\"green\">**broadcasting**</font>?\n",
    "\n",
    "<font color=\"green\">**Broadcasting**</font> in <font color=\"green\">**NumPy**</font> is a powerful mechanism that allows arrays of different shapes to be combined in arithmetic operations. It enables efficient computation without the need for explicit copying of data or manual alignment of <font color=\"green\">**array**</font> shapes. Broadcasting follows a set of rules to determine how the shapes of the input <font color=\"green\">**arrays**</font> should be aligned during operations.\n",
    "\n",
    "The key concept behind <font color=\"green\">**broadcasting**</font> is extending smaller <font color=\"green\">**arrays**</font> to match the shape of larger <font color=\"green\">**arrays**</font> so that they can be operated on <font color=\"green\">**element-wise**</font>. This is achieved by automatically replicating the smaller array's elements along the dimensions where they differ from the larger array's shape.\n",
    "\n",
    "The basic rules are:\n",
    "\n",
    "1. If the <font color=\"green\">**arrays**</font> have different numbers of dimensions, the <font color=\"green\">**shape**</font> of the one with fewer dimensions is _padded_ with ones on its left side.\n",
    "2. If the <font color=\"green\">**shape**</font> of any dimension in the input <font color=\"green\">**arrays**</font> does not match, the array with shape equal to 1 in that dimension is stretched to match the other shape.\n",
    "3. If in any dimension the sizes disagree and neither is equal to 1, an <font color=\"green\">**error**</font> is <font color=\"green\">**raised**</font>."
   ]
  },
  {
   "cell_type": "code",
   "execution_count": 78,
   "id": "e9e2e97f-5963-4c5e-8f43-7f0b68b71a3c",
   "metadata": {},
   "outputs": [
    {
     "name": "stdout",
     "output_type": "stream",
     "text": [
      "[[11 22 33]\n",
      " [14 25 36]]\n"
     ]
    }
   ],
   "source": [
    "x = np.array([[1, 2, 3],\n",
    "              [4, 5, 6]])\n",
    "\n",
    "y = np.array([10, 20, 30])\n",
    "\n",
    "# Performing element-wise addition\n",
    "result = x + y\n",
    "\n",
    "print(result)\n"
   ]
  },
  {
   "cell_type": "markdown",
   "id": "67607fcc-0558-45be-96fe-d591cd23ed19",
   "metadata": {},
   "source": [
    "What happens?\n",
    "\n",
    "<details>\n",
    "    <summary><font color=\"orange\"><b>Click me!</b></font></summary>\n",
    "    In this example, x has shape (2, 3) and y has shape (3,). According to the broadcasting rules:\n",
    "    The shape of y is padded with ones on the left side to match the number of dimensions of x. So, y effectively becomes (1, 3).\n",
    "    Since the dimensions along the second axis (axis 1) don't match, y is stretched to match the shape of x along that axis.\n",
    "    Finally, element-wise addition is performed.\n",
    "</details>\n",
    "\n",
    "So <font color=\"green\">**broadcasting**</font>, in essence is that <font color=\"green\">**NumPy**</font> can sometimes infer your meaning, even if you try to add arrays with different <font color=\"green\">**shapes**</font>."
   ]
  },
  {
   "cell_type": "markdown",
   "id": "c6f26131-9a60-4256-8ca0-556c4ecf9a05",
   "metadata": {},
   "source": [
    "## 9. More math and functions\n",
    "\n",
    "<font color=\"green\">**NumPy**</font> offers a ton of mathematical functions beyond basic arithmetics. Whatever mathematical calculation you need to do, you can do it with <font color=\"green\">**NumPy**</font>.\n",
    "\n",
    "- Basic Mathematical Operations\n",
    "- Trigonometric Functions\n",
    "- Hyperbolic Functions\n",
    "- Rounding and Absolute Functions\n",
    "- Statistical Functions\n",
    "- Linear Algebra Functions\n",
    "- Random Number Generation"
   ]
  },
  {
   "cell_type": "code",
   "execution_count": 79,
   "id": "60aec99a-7617-46f2-995f-66df7639b4c6",
   "metadata": {},
   "outputs": [
    {
     "name": "stdout",
     "output_type": "stream",
     "text": [
      "[1 2 3 4 5]\n",
      "[ 6  7  8  9 10]\n"
     ]
    }
   ],
   "source": [
    "print(a_array)\n",
    "print(b_array)"
   ]
  },
  {
   "cell_type": "markdown",
   "id": "64183d93-007b-457d-8042-c2eebea72266",
   "metadata": {},
   "source": [
    "### Basic math formulas"
   ]
  },
  {
   "cell_type": "code",
   "execution_count": 80,
   "id": "99cd4596-811d-4c76-82a4-06b6bf760a23",
   "metadata": {},
   "outputs": [
    {
     "data": {
      "text/plain": [
       "array([0.        , 0.69314718, 1.09861229, 1.38629436, 1.60943791])"
      ]
     },
     "execution_count": 80,
     "metadata": {},
     "output_type": "execute_result"
    }
   ],
   "source": [
    "# natural logarithm\n",
    "np.log(a_array)"
   ]
  },
  {
   "cell_type": "code",
   "execution_count": 81,
   "id": "c9e1b73f-d999-40dd-9b13-7a70788de7df",
   "metadata": {},
   "outputs": [
    {
     "data": {
      "text/plain": [
       "array([0.        , 0.30103   , 0.47712125, 0.60205999, 0.69897   ])"
      ]
     },
     "execution_count": 81,
     "metadata": {},
     "output_type": "execute_result"
    }
   ],
   "source": [
    "# log 10\n",
    "np.log10(a_array)"
   ]
  },
  {
   "cell_type": "code",
   "execution_count": 82,
   "id": "1074ca5c-bbe8-4395-8580-f11e992b4957",
   "metadata": {},
   "outputs": [
    {
     "data": {
      "text/plain": [
       "array([0.        , 1.        , 1.5849625 , 2.        , 2.32192809])"
      ]
     },
     "execution_count": 82,
     "metadata": {},
     "output_type": "execute_result"
    }
   ],
   "source": [
    "# log 2\n",
    "np.log2(a_array)"
   ]
  },
  {
   "cell_type": "code",
   "execution_count": 83,
   "id": "c3e7a32d-5590-4e7e-b7ee-5447926f779e",
   "metadata": {},
   "outputs": [
    {
     "data": {
      "text/plain": [
       "array([  2.71828183,   7.3890561 ,  20.08553692,  54.59815003,\n",
       "       148.4131591 ])"
      ]
     },
     "execution_count": 83,
     "metadata": {},
     "output_type": "execute_result"
    }
   ],
   "source": [
    "# exponential\n",
    "np.exp(a_array)"
   ]
  },
  {
   "cell_type": "code",
   "execution_count": 86,
   "id": "1332450e-0b6c-4aec-83ff-7bf717bb3a29",
   "metadata": {},
   "outputs": [
    {
     "data": {
      "text/plain": [
       "array([  1,   8,  27,  64, 125])"
      ]
     },
     "execution_count": 86,
     "metadata": {},
     "output_type": "execute_result"
    }
   ],
   "source": [
    "# power\n",
    "np.power(a_array, 3)"
   ]
  },
  {
   "cell_type": "code",
   "execution_count": 87,
   "id": "f538f375-ceb1-4be7-802e-a79bdeebab0d",
   "metadata": {},
   "outputs": [
    {
     "data": {
      "text/plain": [
       "array([1.        , 1.41421356, 1.73205081, 2.        , 2.23606798])"
      ]
     },
     "execution_count": 87,
     "metadata": {},
     "output_type": "execute_result"
    }
   ],
   "source": [
    "# square root\n",
    "np.sqrt(a_array)"
   ]
  },
  {
   "cell_type": "code",
   "execution_count": 88,
   "id": "2576bf93-84b9-4835-8ac2-b6fd9d86ded3",
   "metadata": {},
   "outputs": [
    {
     "data": {
      "text/plain": [
       "15"
      ]
     },
     "execution_count": 88,
     "metadata": {},
     "output_type": "execute_result"
    }
   ],
   "source": [
    "# sum\n",
    "np.sum(a_array)"
   ]
  },
  {
   "cell_type": "markdown",
   "id": "f6ee9894-1a07-466a-b4b5-4189f338c378",
   "metadata": {},
   "source": [
    "### Statistics"
   ]
  },
  {
   "cell_type": "code",
   "execution_count": 89,
   "id": "c71ba63d-e530-4e3a-824a-8a2bc53bd34e",
   "metadata": {},
   "outputs": [
    {
     "data": {
      "text/plain": [
       "3.0"
      ]
     },
     "execution_count": 89,
     "metadata": {},
     "output_type": "execute_result"
    }
   ],
   "source": [
    "# mean\n",
    "np.mean(a_array)"
   ]
  },
  {
   "cell_type": "code",
   "execution_count": 90,
   "id": "a6e75469-f450-44be-b1b7-bdb2ab9d286b",
   "metadata": {},
   "outputs": [
    {
     "data": {
      "text/plain": [
       "8.0"
      ]
     },
     "execution_count": 90,
     "metadata": {},
     "output_type": "execute_result"
    }
   ],
   "source": [
    "# median\n",
    "np.median(b_array)"
   ]
  },
  {
   "cell_type": "code",
   "execution_count": 91,
   "id": "e546f4d6-22b4-4353-b06a-aaffb82dc03e",
   "metadata": {},
   "outputs": [
    {
     "data": {
      "text/plain": [
       "1.4142135623730951"
      ]
     },
     "execution_count": 91,
     "metadata": {},
     "output_type": "execute_result"
    }
   ],
   "source": [
    "# standard deviation\n",
    "np.std(a_array)"
   ]
  },
  {
   "cell_type": "code",
   "execution_count": 92,
   "id": "3d6c0f47-ef6e-457f-8339-ec7cfca303c0",
   "metadata": {},
   "outputs": [
    {
     "name": "stdout",
     "output_type": "stream",
     "text": [
      "1\n",
      "5\n"
     ]
    }
   ],
   "source": [
    "# min man\n",
    "print(np.min(a_array))\n",
    "print(np.max(a_array))"
   ]
  },
  {
   "cell_type": "code",
   "execution_count": 93,
   "id": "36de2db3-1e3d-4f29-86a9-6ac7dda7f924",
   "metadata": {},
   "outputs": [
    {
     "data": {
      "text/plain": [
       "2.0"
      ]
     },
     "execution_count": 93,
     "metadata": {},
     "output_type": "execute_result"
    }
   ],
   "source": [
    "# variance\n",
    "np.var(a_array)"
   ]
  },
  {
   "cell_type": "code",
   "execution_count": 94,
   "id": "268e9289-9fc0-44cd-9ec0-68f8ad4a7961",
   "metadata": {},
   "outputs": [
    {
     "data": {
      "text/plain": [
       "1.5314789170422551"
      ]
     },
     "execution_count": 94,
     "metadata": {},
     "output_type": "execute_result"
    }
   ],
   "source": [
    "np.log10(34)"
   ]
  },
  {
   "cell_type": "markdown",
   "id": "63b17003-dd8f-43a2-88f5-45f5685e957b",
   "metadata": {},
   "source": [
    "### Rounding and absolute"
   ]
  },
  {
   "cell_type": "code",
   "execution_count": 98,
   "id": "c1022730-3d2c-41c4-adbc-91e0b5ea2581",
   "metadata": {},
   "outputs": [
    {
     "name": "stdout",
     "output_type": "stream",
     "text": [
      "5.0\n",
      "4.0\n",
      "5.0\n"
     ]
    }
   ],
   "source": [
    "# round, floor and ceil\n",
    "print(np.round(4.6))\n",
    "print(np.floor(4.6))\n",
    "print(np.ceil(4.2))"
   ]
  },
  {
   "cell_type": "code",
   "execution_count": 99,
   "id": "b7c9add0-d22c-416e-ab28-ae715ba83121",
   "metadata": {},
   "outputs": [
    {
     "name": "stdout",
     "output_type": "stream",
     "text": [
      "[1 2 3 4 5]\n"
     ]
    }
   ],
   "source": [
    "# absolute\n",
    "print(\n",
    "    np.abs(\n",
    "        np.array([-1, 2, -3, 4, -5])\n",
    "    )\n",
    ")"
   ]
  },
  {
   "cell_type": "markdown",
   "id": "22996ac9-e7e0-4fdb-a54c-7ec8db2ff83f",
   "metadata": {},
   "source": [
    "### Random numbers\n",
    "\n",
    "Sometimes you need a random number, e.g. to create a jitter in a jitter plot. A so-called <font color=\"green\">**random number generator**</font>!\n",
    "<font color=\"green\">**NumPy**</font> offers some functions to generate random numbers:"
   ]
  },
  {
   "cell_type": "code",
   "execution_count": 117,
   "id": "6b03f87b-b027-409a-9035-462650173a21",
   "metadata": {},
   "outputs": [
    {
     "data": {
      "text/plain": [
       "0.10960654294276995"
      ]
     },
     "execution_count": 117,
     "metadata": {},
     "output_type": "execute_result"
    }
   ],
   "source": [
    "# generate a random number from a uniform distribution\n",
    "\n",
    "# a single number between 0 and 1\n",
    "np.random.rand()"
   ]
  },
  {
   "cell_type": "code",
   "execution_count": 122,
   "id": "cce5d8d3-3703-4652-8184-fd73f303794c",
   "metadata": {},
   "outputs": [
    {
     "data": {
      "text/plain": [
       "array([[0.35860582, 0.08958341, 0.09200314],\n",
       "       [0.05220264, 0.74676567, 0.94978286]])"
      ]
     },
     "execution_count": 122,
     "metadata": {},
     "output_type": "execute_result"
    }
   ],
   "source": [
    "# a random array\n",
    "np.random.rand(2, 3)"
   ]
  },
  {
   "cell_type": "code",
   "execution_count": 139,
   "id": "d15f861d-632e-4e87-8199-39846ca8f667",
   "metadata": {},
   "outputs": [
    {
     "data": {
      "text/plain": [
       "0.8702439939082629"
      ]
     },
     "execution_count": 139,
     "metadata": {},
     "output_type": "execute_result"
    }
   ],
   "source": [
    "# random numbers from a standard normal distribution\n",
    "np.random.randn()"
   ]
  },
  {
   "cell_type": "code",
   "execution_count": 143,
   "id": "7ab1e70c-8666-43df-aecf-56cc6a7564ac",
   "metadata": {},
   "outputs": [
    {
     "data": {
      "text/plain": [
       "array([[-0.69020833,  0.86029539,  0.45922823]])"
      ]
     },
     "execution_count": 143,
     "metadata": {},
     "output_type": "execute_result"
    }
   ],
   "source": [
    "# a normal distributed random array\n",
    "np.random.randn(1, 3)"
   ]
  },
  {
   "cell_type": "code",
   "execution_count": 157,
   "id": "9a99d929-9a3a-431c-a0e7-1105f475d885",
   "metadata": {},
   "outputs": [
    {
     "name": "stdout",
     "output_type": "stream",
     "text": [
      "8\n",
      "-7\n"
     ]
    }
   ],
   "source": [
    "# random integers\n",
    "print(np.random.randint(10))  # from 0 to 10\n",
    "print(np.random.randint(-20, 10))  # from -20 to 10"
   ]
  },
  {
   "cell_type": "code",
   "execution_count": 158,
   "id": "8a5da802-d046-4e81-9aa0-58686e0f7701",
   "metadata": {},
   "outputs": [
    {
     "name": "stdout",
     "output_type": "stream",
     "text": [
      "[[8 2 5]\n",
      " [3 4 3]]\n",
      "[[  1  -2   0 -11]\n",
      " [ -5   3   6   1]\n",
      " [ -8 -17  -3   4]]\n"
     ]
    }
   ],
   "source": [
    "# an array thereof\n",
    "print(np.random.randint(10, size=(2, 3)))  # from 0 to 10\n",
    "print(np.random.randint(-20, 10, (3, 4)))  # from -20 to 10\n"
   ]
  },
  {
   "cell_type": "markdown",
   "id": "89ce0fbc-45b0-4c04-b8e9-eff474d44cac",
   "metadata": {},
   "source": [
    "# Summary\n",
    "\n",
    "now you should now:\n",
    "\n",
    "- what are packages\n",
    "- what is NumPy\n",
    "- What are arrays? How do you create them?\n",
    "- How can you calculate with arrays?\n",
    "- What is masking? \n",
    "- How do you filter arrays?\n",
    "- How can you create random numbers?\n"
   ]
  },
  {
   "cell_type": "markdown",
   "id": "5abe4b35-bf60-43dd-ae55-2987b3ab0264",
   "metadata": {},
   "source": [
    "## Exercise 1\n",
    "\n",
    "Create a 1D array of length 10 that contains only the literal True as elements, using a single line of code.\n",
    "Do the same for the Literal False.\n"
   ]
  },
  {
   "cell_type": "markdown",
   "id": "c926fcb9-1b4d-4a77-97b2-c4caf755547d",
   "metadata": {},
   "source": [
    "## Exercise 2\n",
    "\n",
    "Create a 1D array of length 10 that contains unordered random numbers, then sort them in descending order."
   ]
  },
  {
   "cell_type": "markdown",
   "id": "e6652a14-538d-4018-94e0-0d18f97b6e09",
   "metadata": {},
   "source": [
    "## Exercise 3\n",
    "\n",
    "Create a 3x3 matrix with random integers between 1 and 10. Replace all odd numbers with -1."
   ]
  },
  {
   "cell_type": "markdown",
   "id": "19fe3cc0-764c-4c45-be80-03dcb0a1326a",
   "metadata": {},
   "source": [
    "## Exercise 4\n",
    "\n",
    "create an array with 20 random integers. Write a function that finds all elements that are divisible by both 3 and 5."
   ]
  },
  {
   "cell_type": "markdown",
   "id": "e139cb24-1c25-4048-8742-b3a25f4befbb",
   "metadata": {},
   "source": [
    "## Exercise 5\n",
    "\n",
    "Given a 1D array arr1 of shape (5,) and a 2D array arr2 of shape (5, 3), add arr1 to each row of arr2 without using loops."
   ]
  },
  {
   "cell_type": "markdown",
   "id": "4600ae42-d53c-492a-af28-fdfaf1c2eddf",
   "metadata": {},
   "source": [
    "## Exercise 6\n",
    "\n",
    "Create this 2D vector and access the indicated elements with slicing.\n",
    "\n",
    "<br>\n",
    "<div>\n",
    "<img src=\"data/exercise_slice.svg\" width=\"600\"/>\n",
    "</div>\n"
   ]
  },
  {
   "cell_type": "markdown",
   "id": "9d7e04ff-7b6d-4116-a605-c1b64e2e23a1",
   "metadata": {},
   "source": [
    "## Exercise 7\n",
    "\n",
    "Create a 1D array with random integers. Find the sum of all elements that are greater than the mean of the array."
   ]
  },
  {
   "cell_type": "markdown",
   "id": "f1609097-1fff-4b6f-be0b-9c676e93ffb3",
   "metadata": {},
   "source": [
    "## Exercise 8\n",
    "\n",
    "Create two arrays a and b of the same shape with random integers. Compute the element-wise maximum, minimum and sum of the two arrays."
   ]
  },
  {
   "cell_type": "markdown",
   "id": "bf450b08-fcda-48f2-a9c0-cd4405ed77de",
   "metadata": {},
   "source": [
    "## Exercise 9\n",
    "\n",
    "Create a 2D array of shape (4, 6) with consecutive integers starting from 1. Reshape it into a 3D array of shape (2, 3, 4)."
   ]
  },
  {
   "cell_type": "markdown",
   "id": "9e78c056-479e-4de2-924d-4b3fd4867bdf",
   "metadata": {},
   "source": [
    "## Exercise 10\n",
    "\n",
    "Create a 2D array of shape (5, 4) with random integers. Compute the mean and standard deviation of each column."
   ]
  },
  {
   "cell_type": "markdown",
   "id": "fc13d2af-411d-4233-a69a-99a6db25d84c",
   "metadata": {},
   "source": [
    "< [6 - What could possibly go wrong?](Python%20Crash%206%20-%20What%20could%20possibly%20go%20wrong.ipynb) | [Contents](Python%20Crash%20ToC.ipynb) | [8 - Everyone loves pandas](Python%20Crash%208%20-%20Everyone%20loves%20pandas.ipynb) >"
   ]
  }
 ],
 "metadata": {
  "kernelspec": {
   "display_name": "Python 3 (ipykernel)",
   "language": "python",
   "name": "python3"
  },
  "language_info": {
   "codemirror_mode": {
    "name": "ipython",
    "version": 3
   },
   "file_extension": ".py",
   "mimetype": "text/x-python",
   "name": "python",
   "nbconvert_exporter": "python",
   "pygments_lexer": "ipython3",
   "version": "3.12.3"
  }
 },
 "nbformat": 4,
 "nbformat_minor": 5
}
