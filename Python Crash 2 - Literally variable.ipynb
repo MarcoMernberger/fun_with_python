{
 "cells": [
  {
   "cell_type": "markdown",
   "id": "49049325-9ce3-4e7d-a75e-0590334d1c60",
   "metadata": {},
   "source": [
    "# Python Programming Crash Course - \n",
    "# Literally variable\n",
    "<br>\n",
    "<div>\n",
    "<img src=\"data/Python-logo-notext.svg\" width=\"200\"/>\n",
    "</div>\n"
   ]
  },
  {
   "cell_type": "markdown",
   "id": "f17c2e97-8ee2-4c52-aaf8-c60fa29df591",
   "metadata": {},
   "source": [
    "Okay, so now we can evaluate expressions and write one-liner \"programs\". So what? We want to write multi-line programs or <font color='green'>**Scripts**</font>.\n",
    "\n",
    "## Writing scripts\n",
    "\n",
    "<font color='green'>**Scripts**</font> are basically just sets of instructions that the computer can execute in consecutive order.\n",
    "\n",
    "You can write such a script in a jupyter notebook, but if you want to send it to someone?\n",
    "Fortunately, writing programs in Python is very easy. Since python scripts are basically text files, you can just put it in a text file with the <font color='green'>**.py**</font> extension. \n",
    "\n",
    "Run the following script: \n",
    "\n",
    "```Python\n",
    "print(\"I'm a lumberjack, and I'm okay\")\n",
    "print(\"I sleep all night and I work all day\")\n",
    "print(\"He's a lumberjack, and he's okay\")\n",
    "print(\"He sleeps all night and he works all day\")\n",
    "print(\"I cut down trees, I eat my lunch\")\n",
    "print(\"I go to the lavatory\")\n",
    "print(\"On Wednesdays I go shoppin'\")\n",
    "print(\"And have buttered scones for tea\")\n",
    "```"
   ]
  },
  {
   "cell_type": "code",
   "execution_count": 11,
   "id": "a44a907d-7632-42aa-b330-a2da4793d3dd",
   "metadata": {},
   "outputs": [
    {
     "name": "stdout",
     "output_type": "stream",
     "text": [
      "I'm a lumberjack, and I'm okay\n",
      "I sleep all night and I work all day\n",
      "He's a lumberjack, and he's okay\n",
      "He sleeps all night and he works all day\n",
      "I cut down trees, I eat my lunch\n",
      "I go to the lavatory\n",
      "On Wednesdays I go shoppin'\n",
      "And have buttered scones for tea\n"
     ]
    }
   ],
   "source": [
    "# a simple multi-line script\n",
    "print(\"I'm a lumberjack, and I'm okay\")\n",
    "print(\"I sleep all night and I work all day\")\n",
    "print(\"He's a lumberjack, and he's okay\")\n",
    "print(\"He sleeps all night and he works all day\")\n",
    "print(\"I cut down trees, I eat my lunch\")\n",
    "print(\"I go to the lavatory\")\n",
    "print(\"On Wednesdays I go shoppin'\")\n",
    "print(\"And have buttered scones for tea\")"
   ]
  },
  {
   "cell_type": "markdown",
   "id": "f010a34e-0709-47ef-b31d-228055ea92d7",
   "metadata": {},
   "source": [
    "As you can see, it prints each line in consecutive order.\n",
    "\n",
    "Now put it in a text file \"lumberjack.py\" in your local folder, summon a command line terminal, go to the folder and type:\n",
    "\n",
    "```bash\n",
    "python lumberjack.py\n",
    "```\n",
    "\n",
    "See what it does?\n",
    "\n",
    "Python files are just text files that contain Python code to be executed by the computer."
   ]
  },
  {
   "cell_type": "code",
   "execution_count": 12,
   "id": "4aaab78a-6713-494a-b544-500cae97ba10",
   "metadata": {},
   "outputs": [
    {
     "name": "stdout",
     "output_type": "stream",
     "text": [
      "I'm a lumberjack, and I'm okay\n",
      "I sleep all night and I work all day\n",
      "He's a lumberjack, and he's okay\n",
      "He sleeps all night and he works all day\n",
      "I cut down trees, I eat my lunch\n",
      "I go to the lavatory\n",
      "On Wednesdays I go shoppin'\n",
      "And have buttered scones for tea\n"
     ]
    }
   ],
   "source": [
    "# run from here\n",
    "%run lumberjack.py"
   ]
  },
  {
   "cell_type": "code",
   "execution_count": 13,
   "id": "79e519dc-7bb8-44eb-964e-1684c0c5b3ef",
   "metadata": {},
   "outputs": [
    {
     "name": "stdout",
     "output_type": "stream",
     "text": [
      "I'm a lumberjack, and I'm okay\n",
      "I sleep all night and I work all day\n",
      "He's a lumberjack, and he's okay\n",
      "He sleeps all night and he works all day\n",
      "I cut down trees, I eat my lunch\n",
      "I go to the lavatory\n",
      "On Wednesdays I go shoppin'\n",
      "And have buttered scones for tea\n"
     ]
    }
   ],
   "source": [
    "!python lumberjack.py"
   ]
  },
  {
   "cell_type": "markdown",
   "id": "bb6af2b4-b7f6-438f-b8ba-50e6a9c60eb1",
   "metadata": {},
   "source": [
    "## Input and more on I/O\n",
    "\n",
    "Using **`print()`** we can create output.\n",
    "Let's get some input as well. You can do that using another <font color=\"green\">**build-in function**</font>: **`input()`**."
   ]
  },
  {
   "cell_type": "code",
   "execution_count": 14,
   "id": "b4efbe37-301c-4112-b8c3-d80ab94f9f5d",
   "metadata": {},
   "outputs": [
    {
     "name": "stdin",
     "output_type": "stream",
     "text": [
      "What are you? a lumberjack\n"
     ]
    },
    {
     "name": "stdout",
     "output_type": "stream",
     "text": [
      "I'm a lumberjack and I'm okay!\n"
     ]
    }
   ],
   "source": [
    "# get user input\n",
    "what = input(\"What are you?\")\n",
    "print(\"I'm\", what, \"and I'm okay!\")"
   ]
  },
  {
   "cell_type": "markdown",
   "id": "5be4843f-e946-4717-831d-6129b9c1af27",
   "metadata": {},
   "source": [
    "Using the build in **`input()`** function, you can let the user enter an input and assign it to a variable."
   ]
  },
  {
   "cell_type": "markdown",
   "id": "af3c13c7-3ff7-4e91-a9aa-8f97b55380db",
   "metadata": {},
   "source": [
    "But input and output can also mean writing something to a file or read a file.\n",
    "\n",
    "For this you need **`open()`**."
   ]
  },
  {
   "cell_type": "code",
   "execution_count": 19,
   "id": "11edce6b-52d4-41bc-ae74-fb85ac1d8617",
   "metadata": {},
   "outputs": [
    {
     "name": "stdout",
     "output_type": "stream",
     "text": [
      "# a simple script\n",
      "\n",
      "print(\"I'm a lumberjack, and I'm okay\")\n",
      "\n"
     ]
    }
   ],
   "source": [
    "# read something\n",
    "my_file = open(\"lumberjack.py\", \"r\")\n",
    "line1 = my_file.readline()\n",
    "line2 = my_file.readline()\n",
    "my_file.close()\n",
    "print(line1)\n",
    "print(line2)"
   ]
  },
  {
   "cell_type": "code",
   "execution_count": 20,
   "id": "cde212c7-d6d1-491f-a89d-9f9c78495d5c",
   "metadata": {},
   "outputs": [],
   "source": [
    "# write something\n",
    "my_file = open(\"somefile.txt\", \"w\")\n",
    "my_file.write(\"I'm a data scientist!\")\n",
    "my_file.close()"
   ]
  },
  {
   "cell_type": "markdown",
   "id": "c2e919b9-d047-4b17-a207-7c1f9a47ee30",
   "metadata": {},
   "source": [
    "**`open()`** let's you open a file and either read it or write it. \n",
    "\n",
    "If you want to read, you use\n",
    "```Python\n",
    "open(\"lumberjack.py\", \"r\")\n",
    "```\n",
    "if you want to write, you replace that \"r\" with \"w\":\n",
    "\n",
    "```Python\n",
    "open(\"lumberjack.py\", \"w\")\n",
    "```\n",
    "Obviously, if you open something, you better close it when you're done!"
   ]
  },
  {
   "cell_type": "markdown",
   "id": "b65664c6-27b3-486a-bd02-8e2f15763705",
   "metadata": {},
   "source": [
    "## Variables and Literals\n",
    "\n",
    "In the last part, we used a variable for the first time! Before that, we were just typing in expressions.\n",
    "\n",
    "With simple math expressions, we did something like this:"
   ]
  },
  {
   "cell_type": "code",
   "execution_count": 26,
   "id": "0ee7c3f3-3fb9-463b-bcb3-275df6dcc50d",
   "metadata": {},
   "outputs": [
    {
     "name": "stdout",
     "output_type": "stream",
     "text": [
      "22.5 22.5\n"
     ]
    }
   ],
   "source": [
    "# a literal plus another literal\n",
    "sumx = 30 + 15\n",
    "sumx = sumx / 2\n",
    "print(sumx, sumy)"
   ]
  },
  {
   "cell_type": "markdown",
   "id": "fc7a4023-9202-40f8-a67d-9acacc2d0641",
   "metadata": {},
   "source": [
    "\n",
    "That just gives the result as an output and then it's gone. If we want to work with the value, we need to store it.\n",
    "\n",
    "A <font color='green'>**variable**</font> stores a value, that can later be looked at or manipulated. The actual\n",
    "value, that is directly represented in the code is called a <font color='green'>**literal**</font>.\n",
    "\n",
    "In the example above, 15 and 30 would be literals, and <font color='purple'>**+**</font> is called an <font color='green'>**operator**</font>!\n",
    "\n",
    "You assign a value to a variable using the <font color='purple'>**=**</font> <font color='green'>**operator**</font>.\n"
   ]
  },
  {
   "cell_type": "code",
   "execution_count": 27,
   "id": "761d9616-6dd1-4987-a06d-d4c52c6cc534",
   "metadata": {},
   "outputs": [
    {
     "name": "stdout",
     "output_type": "stream",
     "text": [
      "How old is John Cleese?\n",
      "John Cleese was born in 1939\n",
      "This year is 2024\n",
      "That means John is 85 years old\n",
      "Next year, hopefully, he'll be 86\n"
     ]
    }
   ],
   "source": [
    "# A script using variables\n",
    "print(\"How old is John Cleese?\")\n",
    "birth_year = 1939\n",
    "this_year = 2024\n",
    "print(\"John Cleese was born in\", birth_year)\n",
    "print(\"This year is\", this_year)\n",
    "johns_age = this_year - birth_year\n",
    "print(\"That means John is\", johns_age, \"years old\")\n",
    "johns_age = johns_age + 1\n",
    "print(\"Next year, hopefully, he'll be\", johns_age)\n",
    "\n"
   ]
  },
  {
   "cell_type": "markdown",
   "id": "460cdcca-7215-4174-a319-1e7f3774f51a",
   "metadata": {},
   "source": [
    "A <font color='green'>**variable**</font> can be named as you wish. But there are some rules and conventions:\n",
    "    \n",
    " - must start always with letter\n",
    " - may not contain operator symbols\n",
    " - may only contain alphanumeric numbers and underscores \"_\"\n",
    " - may not be a reserved <font color='green'>**keyword**</font> \n",
    "\n",
    "Currently (python 3.12), there are 36 <font color='green'>**keywords**</font> that have a special meaning and \n",
    "cannot be used as variable names:\n",
    "\n",
    "**Keywords in Python**\n",
    "\n",
    "|     |     |     |     |\n",
    "|:----|:----|:----|:----|\n",
    "| **`False`** | **`break`** | **`for`** | **`not`** |\n",
    "| **`None`**  | **`class`** | **`from`** | **`or`** |\n",
    "| **`True`**  | **`continue`** | **`global`** | **`pass`** |\n",
    "| **`__peg_parser__`** |**`def`** | **`if`** | **`raise`** |\n",
    "| **`and`** | **`del`** | **`import`** | **`return`** |\n",
    "| **`as`** | **`elif`** | **`in`** | **`try`** |\n",
    "| **`assert`** | **`else`** | **`is`** | **`while`** |\n",
    "| **`async`** | **`except`** | **`lambda`** | **`with`** |\n",
    "| **`await`** | **`finally`** | **`nonlocal`** |  **`yield`**  |\n",
    "\n",
    "We will during this course find out what most of these <font color='green'>**keywords**</font> mean and when to use them.\n",
    "Stay tuned!"
   ]
  },
  {
   "cell_type": "code",
   "execution_count": 28,
   "id": "d5040c32-3fc5-4b63-9270-a873b884dc9f",
   "metadata": {},
   "outputs": [
    {
     "name": "stdout",
     "output_type": "stream",
     "text": [
      "\n",
      "Here is a list of the Python keywords.  Enter any keyword to get more help.\n",
      "\n",
      "False               class               from                or\n",
      "None                continue            global              pass\n",
      "True                def                 if                  raise\n",
      "and                 del                 import              return\n",
      "as                  elif                in                  try\n",
      "assert              else                is                  while\n",
      "async               except              lambda              with\n",
      "await               finally             nonlocal            yield\n",
      "break               for                 not                 \n",
      "\n"
     ]
    }
   ],
   "source": [
    "# If you don't know your keywords ...\n",
    "help(\"keywords\")"
   ]
  },
  {
   "cell_type": "markdown",
   "id": "52c94031-d75c-4c21-b626-829d5f469f5c",
   "metadata": {},
   "source": [
    "You should always use meaningful names, if it's a variable that you use later, so\n",
    "\n",
    "```python\n",
    "birth_year = 1939\n",
    "```\n",
    "is better than \n",
    "```python\n",
    "x = 1939\n",
    "```\n",
    "<font color='#a71ed9'>**=**</font>"
   ]
  },
  {
   "cell_type": "markdown",
   "id": "25811a0a-97a1-461f-818f-6229da756d80",
   "metadata": {
    "tags": []
   },
   "source": [
    "## Operators\n",
    "\n",
    "What are operators in python?\n",
    "\n",
    "Operators are special symbols in Python that carry out <font color='green'>**arithmetic**</font> (as seen above) or <font color='green'>**logical**</font> computation.\\\n",
    "The value that the operator operates on is called the <font color='green'>**operand**</font>.\n",
    "\n",
    "If we want to do something with values, we need to know the <font color='green'>**operators**</font>\n",
    "\n",
    "#### Arithmetic Operations in Python:\n",
    "\n",
    "| symbol | operation | example |\n",
    "| - | - | - |\n",
    "|<font color='#a71ed9'><b>+</b></font> |addition | 6 + 3 |\n",
    "|<font color='#a71ed9'><b>-</b></font> |subtraction | 6 - 3|\n",
    "|<font color='#a71ed9'><b>*</b></font> | multiplication | 6 * 3|\n",
    "|<font color='#a71ed9'><b>/</b></font> | division | 6 / 3|\n",
    "|<font color='#a71ed9'><b>//</b></font> | floor division | 5 // 3|\n",
    "|<font color='#a71ed9'><b>%</b></font> | remainder | 6 % 3|\n",
    "|<font color='#a71ed9'><b>**</b></font>| exponentiation | 6 ** 3|"
   ]
  },
  {
   "cell_type": "markdown",
   "id": "46cb1765-bd33-4a15-9a06-3aeb51eb37b8",
   "metadata": {},
   "source": [
    "#### Order of operations\n",
    "\n",
    "Remember that thing called order of operation that they taught in maths? \n",
    "\n",
    "This applies in Python, too, it's called <font color=green>**order of precedence**</font>. Here it is, if you need reminding:<br>\n",
    "\n",
    "1. Parentheses `()`\n",
    "2. Exponents `**`\n",
    "3. Multiplication `*`, division `/` and remainder `%`\n",
    "4. Addition `+` and subtraction `-`\n"
   ]
  },
  {
   "cell_type": "markdown",
   "id": "a9feb54d-8d1c-4a6d-a689-d4db2d9ba10d",
   "metadata": {},
   "source": [
    "So what is\n",
    "```python\n",
    "12 * 3 + 4 - (23 // (7 - 2))\n",
    "```\n",
    "\n",
    "And what is the order of evaluation?"
   ]
  },
  {
   "cell_type": "code",
   "execution_count": 29,
   "id": "f231d0d3-4893-4424-8601-d46ab701e8d8",
   "metadata": {},
   "outputs": [
    {
     "data": {
      "text/plain": [
       "36"
      ]
     },
     "execution_count": 29,
     "metadata": {},
     "output_type": "execute_result"
    }
   ],
   "source": [
    "12 * 3 + 4 - (23 // (7 - 2))"
   ]
  },
  {
   "cell_type": "markdown",
   "id": "6c76af46-eaa7-4066-87d1-486423bc0485",
   "metadata": {},
   "source": [
    "But there is not only arithmetic, you also sometimes need to compare things or find out, if something is the truth.\n",
    "\n",
    "#### Comparative and Logic Operations in Python:\n",
    "\n",
    "| symbol | operation | example | usage | \n",
    "| - | - | - | - |\n",
    "| <font color='#a71ed9'>**==**</font> | equality | `a == b` | is a equal to b? |\n",
    "| <font color='#a71ed9'>**!=**</font> | inequality | `a != b` | is a unequal to b? |\n",
    "| <font color='#a71ed9'>**>**</font> | greater | `a > b` | is a larger than b? |\n",
    "| <font color='#a71ed9'>**<**</font> | lower | `a < b` | is a smaller than b? |\n",
    "| <font color='#a71ed9'>**and**</font> | logical and | `a and b` | are a and b both true? | \n",
    "| <font color='#a71ed9'>**or**</font> | logical or | `a or b` | is either a or b true? |\n",
    "| <font color='#a71ed9'>**not**</font> | logical not | `not b` | is b not true? |\n",
    "| <font color='#a71ed9'>**&**</font> | bitwise and | `1&1` | are all the bits true? |\n",
    "| <font color='#a71ed9'>**\\|**</font> | bitwise or | `0\\|1` | is any bit true? |\n",
    "| <font color='#a71ed9'>**~**</font> | bitwise not | `~b` | is b not true? |\n"
   ]
  },
  {
   "cell_type": "markdown",
   "id": "555026d2-3d49-4d3f-b9b5-b57a4372eed1",
   "metadata": {},
   "source": [
    "We have to figure in these operators in the <font color=green>**order of precedence**</font> as well.\n",
    "\n",
    "So here's a more comprehensive list of <font color=green>**precedences**</font>\n",
    "\n",
    "<br>\n",
    "<div>\n",
    "<img src=\"data/1 YFEPvz5rHtCn1nmzEcfVAw.webp\" width=\"600\"/>\n",
    "</div>"
   ]
  },
  {
   "cell_type": "markdown",
   "id": "83961fdf-bb45-4d0c-a9ef-12ee0a6e32a7",
   "metadata": {},
   "source": [
    "\n"
   ]
  },
  {
   "cell_type": "code",
   "execution_count": 35,
   "id": "adf55e94-3b52-47dc-93cd-834ae6ee5933",
   "metadata": {},
   "outputs": [
    {
     "name": "stdout",
     "output_type": "stream",
     "text": [
      "True\n",
      "True\n"
     ]
    }
   ],
   "source": [
    "# equal\n",
    "x = 4 == 4\n",
    "print(x) #equal\n",
    "\n",
    "x = 4 != 3\n",
    "print(x)"
   ]
  },
  {
   "cell_type": "code",
   "execution_count": 36,
   "id": "f6438ad2-d4e5-466e-9185-18f4e464b8d6",
   "metadata": {},
   "outputs": [
    {
     "name": "stdout",
     "output_type": "stream",
     "text": [
      "True\n",
      "True\n"
     ]
    }
   ],
   "source": [
    "# lower than\n",
    "x = 3 > 2  # greater\n",
    "print(x)\n",
    "\n",
    "x = 3 < 4  # lower\n",
    "print(x)"
   ]
  },
  {
   "cell_type": "code",
   "execution_count": 38,
   "id": "f3942efa-2db5-45c6-9f95-0ef1718aff2a",
   "metadata": {},
   "outputs": [
    {
     "name": "stdout",
     "output_type": "stream",
     "text": [
      "True\n"
     ]
    }
   ],
   "source": [
    "x = 3 >= 3\n",
    "print(x)"
   ]
  },
  {
   "cell_type": "code",
   "execution_count": 45,
   "id": "29df18d2-ba31-4370-98d3-e19cd46fd8fd",
   "metadata": {},
   "outputs": [
    {
     "name": "stdout",
     "output_type": "stream",
     "text": [
      "True\n",
      "False\n",
      "True\n",
      "False\n",
      "True\n"
     ]
    }
   ],
   "source": [
    "# andornot\n",
    "three_larger_two = 3 > 2\n",
    "three_larger_5 = 3 > 5\n",
    "\n",
    "print(three_larger_two)\n",
    "print(three_larger_5)\n",
    "\n",
    "both_true = three_larger_two or three_larger_5\n",
    "print(both_true)\n",
    "\n",
    "print(three_larger_5)\n",
    "the_opposite = not three_larger_5\n",
    "print(the_opposite)"
   ]
  },
  {
   "cell_type": "markdown",
   "id": "ae0cc86c-029e-4def-868a-f9eaed67a1bd",
   "metadata": {},
   "source": [
    "## What to do with variables and operators\n",
    "\n",
    "Great! Let's do something with variables!"
   ]
  },
  {
   "cell_type": "code",
   "execution_count": 46,
   "id": "6b0402db-a4a0-41e2-8499-ace0e4f0d235",
   "metadata": {},
   "outputs": [],
   "source": [
    "johns_birth_year = 1939\n",
    "grahams_birth_year = 1941\n",
    "erics_birth_year = 1943\n",
    "michaels_birth_year = 1943\n",
    "terry_gilliams_birth_year = 1940\n",
    "terry_jones_birth_year = 1942\n",
    "today = 2024"
   ]
  },
  {
   "cell_type": "markdown",
   "id": "b8c7f00f-936c-41d2-90b3-e6f85b5683e0",
   "metadata": {},
   "source": [
    "Is John older than Eric? And how old are they?"
   ]
  },
  {
   "cell_type": "code",
   "execution_count": 47,
   "id": "a5f4e2ce-07fc-466b-bcbe-85b08b4c44f7",
   "metadata": {},
   "outputs": [
    {
     "name": "stdout",
     "output_type": "stream",
     "text": [
      "John is 85\n",
      "Eric is 81\n",
      "Is John older? True\n"
     ]
    }
   ],
   "source": [
    "johns_age = today - johns_birth_year\n",
    "erics_age = today - erics_birth_year\n",
    "is_john_older = johns_age > erics_age\n",
    "\n",
    "print(\"John is\", johns_age)\n",
    "print(\"Eric is\", erics_age)\n",
    "print(\"Is John older?\", is_john_older)"
   ]
  },
  {
   "cell_type": "markdown",
   "id": "9ece6c70-1dd7-4de6-9bc1-6bf9d1a6269e",
   "metadata": {},
   "source": [
    "The expression \n",
    "\n",
    "```python\n",
    "johns_age > erics_age\n",
    "```\n",
    "is called a <font color='green'>**boolean expression**</font>!\n",
    "\n",
    "## Boolean Expressions\n",
    "\n",
    "As we have seen, things like this:\n",
    "\n",
    "```Python\n",
    "johns_age = 2024 - johns_birth_year\n",
    "```\n",
    "\n",
    "are called expressions. Expressions are a combination of values, variables, operators and also function calls.\n",
    "If the operators in question are logical or boolean operators, we call it a boolean expression.\\\n",
    "A boolean expression evaluates to either <font color='#3da831'>**True**</font> or <font color='#3da831'>**False**</font>."
   ]
  },
  {
   "cell_type": "markdown",
   "id": "c4322fbc-9bc2-44e0-8a2e-c170027e90af",
   "metadata": {},
   "source": [
    "Is Terry younger than Graham? How old are they?"
   ]
  },
  {
   "cell_type": "code",
   "execution_count": 48,
   "id": "e5018241-193d-4c17-8d22-ea47d3e17ff3",
   "metadata": {},
   "outputs": [
    {
     "name": "stdout",
     "output_type": "stream",
     "text": [
      "Terry's age is 84\n",
      "Graham_s age is 83\n",
      "Is Terry younger? False\n"
     ]
    }
   ],
   "source": [
    "terry_age = today - terry_gilliams_birth_year\n",
    "grahams_age = today - grahams_birth_year\n",
    "is_graham_older = grahams_age > terry_age\n",
    "\n",
    "print(\"Terry's age is\", terry_age)\n",
    "print(\"Graham_s age is\", grahams_age)\n",
    "print(\"Is Terry younger?\", is_graham_older)"
   ]
  },
  {
   "cell_type": "markdown",
   "id": "6d757125-d53b-43e0-829a-296d817e159f",
   "metadata": {},
   "source": [
    "Is Michael as old as Eric?"
   ]
  },
  {
   "cell_type": "code",
   "execution_count": 50,
   "id": "f1b3a228-15c9-47ba-914d-1a2273962b39",
   "metadata": {},
   "outputs": [
    {
     "name": "stdout",
     "output_type": "stream",
     "text": [
      "Is Michael as old as Eric? True\n"
     ]
    }
   ],
   "source": [
    "same_age = michaels_birth_year == erics_birth_year\n",
    "print(\"Is Michael as old as Eric?\", same_age)"
   ]
  },
  {
   "cell_type": "markdown",
   "id": "a5aa5084-a349-45d5-b8d4-2ff08481ae74",
   "metadata": {},
   "source": [
    "Are Terry and John together older than Eric and Graham together?"
   ]
  },
  {
   "cell_type": "code",
   "execution_count": 51,
   "id": "464c8fe4-9d00-4657-b9f8-dbc07774f4df",
   "metadata": {},
   "outputs": [
    {
     "name": "stdout",
     "output_type": "stream",
     "text": [
      "Are Terry and John together older than Eric and Graham together? True\n"
     ]
    }
   ],
   "source": [
    "tj_versus_eg = (terry_age + johns_age) > (erics_age + grahams_age)\n",
    "\n",
    "print(\"Are Terry and John together older than Eric and Graham together?\", tj_versus_eg)"
   ]
  },
  {
   "cell_type": "markdown",
   "id": "bba3705a-02df-46ee-8be5-726bbdbc6584",
   "metadata": {},
   "source": [
    "Let's practice some precedences:\n",
    "\n",
    "What is the order of precedence here and what result do we get?\n",
    "\n",
    "```python\n",
    "result = 10 + 5 * 8 / 2 * 3\n",
    "\n",
    "result = (10 + 5) * 8 / 2\n",
    "\n",
    "result = terrys_age + grahams_age > johns_age \n",
    "\n",
    "result = (10 + 5) * (20 / 4) + (8 % 3) ** 2\n",
    "\n",
    "x = 5\n",
    "y = 10\n",
    "z = 15\n",
    "result = x < y and y > z or z == 15\n",
    "\n",
    "result = True or False and not True\n",
    "```"
   ]
  },
  {
   "cell_type": "code",
   "execution_count": 53,
   "id": "46cf1d3e-966a-47a5-9cb9-7bbb56a8a96e",
   "metadata": {},
   "outputs": [
    {
     "name": "stdout",
     "output_type": "stream",
     "text": [
      "True\n"
     ]
    }
   ],
   "source": [
    "result = terry_age + grahams_age > johns_age \n",
    "print(result)"
   ]
  },
  {
   "cell_type": "code",
   "execution_count": 54,
   "id": "25596bff-a800-471a-aea7-6f2906a5c6e6",
   "metadata": {},
   "outputs": [
    {
     "name": "stdout",
     "output_type": "stream",
     "text": [
      "True\n"
     ]
    }
   ],
   "source": [
    "x = 5\n",
    "y = 10\n",
    "z = 15\n",
    "result = x < y and y > z or z == 15\n",
    "print(result)"
   ]
  },
  {
   "cell_type": "markdown",
   "id": "a8f2a097-e475-40df-93f2-f055687a0242",
   "metadata": {},
   "source": [
    "And now for something completely different!\n",
    "\n",
    "Let's try some more operators, let's try division:\n",
    "\n",
    "Remember the operators <font color='#a71ed9'>**/**</font>, <font color='#a71ed9'>**//**</font> and <font color='#a71ed9'>**%**</font>?\n",
    "\n",
    "What's the difference?\n",
    "\n",
    "What is \n",
    "\n",
    "```python\n",
    "What is 13 / 4? What is 13 // 4? What is 13 % 4? \n",
    "```\n",
    "\n",
    "Are they the same?"
   ]
  },
  {
   "cell_type": "code",
   "execution_count": 55,
   "id": "be9b4f09-d281-4fa3-b590-0e03e305ca6d",
   "metadata": {},
   "outputs": [
    {
     "name": "stdout",
     "output_type": "stream",
     "text": [
      "3.25\n",
      "3\n",
      "1\n"
     ]
    }
   ],
   "source": [
    "print(13 / 4)\n",
    "print(13 // 4)\n",
    "print(13 % 4)"
   ]
  },
  {
   "cell_type": "markdown",
   "id": "70ae171d-e521-4a0d-a0db-d16daee00230",
   "metadata": {},
   "source": [
    "What about this?\n",
    "\n",
    "```python\n",
    "What is 16 / 4? \n",
    "What is 16 // 4 ?\n",
    "```\n",
    "\n",
    "Are these two expressions the same?"
   ]
  },
  {
   "cell_type": "code",
   "execution_count": 57,
   "id": "4c247d29-28ad-4f53-b9b2-72c4fa1a3cbf",
   "metadata": {},
   "outputs": [
    {
     "name": "stdout",
     "output_type": "stream",
     "text": [
      "4.0\n",
      "4\n",
      "Is it the same True\n"
     ]
    }
   ],
   "source": [
    "x = 16 / 4\n",
    "print(x)\n",
    "x2 = 16 // 4\n",
    "print(x2)\n",
    "the_same = x == x2\n",
    "print(\"Is it the same\", the_same)"
   ]
  },
  {
   "cell_type": "markdown",
   "id": "c97ab1ea-8836-43f7-b8a3-0909757e84a1",
   "metadata": {},
   "source": [
    "Allright, the result is 4, sure ... but what about the decimal point <font color='green'>_**4.0**_</font>? \n",
    "\n",
    "This brings us to data types ... Which we will deal with in the next session!   "
   ]
  },
  {
   "cell_type": "markdown",
   "id": "0b17f22d-2409-4d23-b3d5-70681a659535",
   "metadata": {},
   "source": [
    "# Summary\n",
    "\n",
    "So now you should know:\n",
    "\n",
    " - What is a script?\n",
    " - How to get user input?\n",
    " - How can we run scripts outside of Jupyter?\n",
    " - How to create files, write files and and read from them?\n",
    " - What is a variable?\n",
    " - How to be creative with naming variables!\n",
    " - What is a literal?\n",
    " - What is an expression?\n",
    " - What are operators and how are they used?\n",
    " - Which operator has precedence over another?\n",
    " - What is a boolean expression?\n",
    " - What are keywords?"
   ]
  },
  {
   "cell_type": "markdown",
   "id": "646bfcbf-3197-4c9b-b8d5-cc7c5f19f826",
   "metadata": {},
   "source": [
    "\n",
    "# Exercises\n",
    "\n",
    "## Exercise 1:\n",
    "\n",
    "What is the mean age of all Monty Python members? (Neglecting for now the exact day of birth, as above!)"
   ]
  },
  {
   "cell_type": "code",
   "execution_count": null,
   "id": "8543e230-612a-440b-b6c9-6940e87b6665",
   "metadata": {},
   "outputs": [],
   "source": []
  },
  {
   "cell_type": "markdown",
   "id": "f8cbf5d9-e0e6-4955-8ef8-bb295fe5259d",
   "metadata": {},
   "source": [
    "## Exercise 2:\n",
    "\n",
    "Guess the output and evaluate the following expressions, considering operator precedence:\n",
    "\n",
    "    a) 2 + 3 * 4\n",
    "\n",
    "    b) (2 + 3) * 4\n",
    "\n",
    "    c) 2 * 3 ** 2\n",
    "\n",
    "    d) 2 + 3 // 2\n",
    "\n",
    "    e) 10 / 2 + 5\n",
    "\n",
    "    f) print(10 > 5 and 5 < 3)\n",
    "\n",
    "    g) print(3 + 4 * 5 > 5 * 2 + 3)\n",
    "\n",
    "    h) print(10 != 5 or 3 > 5)\n",
    "\n",
    "    i) print(not (3 < 5 and 2 < 1))"
   ]
  },
  {
   "cell_type": "code",
   "execution_count": null,
   "id": "63ed4c3b-ce93-4e9e-a654-ca545fe14fc8",
   "metadata": {},
   "outputs": [],
   "source": []
  },
  {
   "cell_type": "markdown",
   "id": "9172db20-a5ee-479e-aab5-1b8875f1bed5",
   "metadata": {},
   "source": [
    "## Exercise 3:    \n",
    "\n",
    "Rewrite the following expressions to make them more readable by explicitly specifying the operator precedence using parentheses:\n",
    "\n",
    "    a) result = 3 + 4 * 5 / 2\n",
    "\n",
    "    b) result = 10 > 5 and 5 < 3 or 3 + 4 * 5 > 5 * 2 + 3\n",
    "\n",
    "    c) result = 3 * 2 ** 2 - 1\n",
    "\n",
    "    d) result = 3 + 5 * 2 // 4\n"
   ]
  },
  {
   "cell_type": "code",
   "execution_count": null,
   "id": "57566e66-9b1f-40f1-a4cd-39d557773391",
   "metadata": {},
   "outputs": [],
   "source": []
  },
  {
   "cell_type": "markdown",
   "id": "d4574f73-8d66-4166-b830-7b9e90753f0b",
   "metadata": {},
   "source": [
    "## Exercise 4:\n",
    "\n",
    "What is the result here? Can you guess why?\n",
    "\n",
    "result = terrys_age + (grahams_age < johns_age) "
   ]
  },
  {
   "cell_type": "code",
   "execution_count": null,
   "id": "5205a871-69bd-48b5-bf43-114f880c1179",
   "metadata": {},
   "outputs": [],
   "source": []
  },
  {
   "cell_type": "markdown",
   "id": "72107859-eb95-4639-b408-92346538eef7",
   "metadata": {},
   "source": [
    "## Exercise 5:\n",
    "\n",
    "Create a file called \"poem.py\" from the cell below that contains a script that asks your name and then prints out a greeting followed by your favourite poem on screen.\n",
    "\n",
    "Then run it from within this notebook!"
   ]
  },
  {
   "cell_type": "code",
   "execution_count": null,
   "id": "8366eb74-43e6-44b2-b4ff-b8da72364104",
   "metadata": {},
   "outputs": [],
   "source": []
  },
  {
   "cell_type": "markdown",
   "id": "0e0165c5-22b9-4939-a8bf-12ab0838c5af",
   "metadata": {},
   "source": [
    "< [1 - Hail Jupyter](Python%20Crash%201%20-%20Hail%20Jupyter.ipynb) | [Contents](Python%20Crash%20ToC.ipynb) | [3 - Am I your type?](Python%20Crash%203%20-%20Am%20I%20your%20type.ipynb) >"
   ]
  }
 ],
 "metadata": {
  "kernelspec": {
   "display_name": "Python 3 (ipykernel)",
   "language": "python",
   "name": "python3"
  },
  "language_info": {
   "codemirror_mode": {
    "name": "ipython",
    "version": 3
   },
   "file_extension": ".py",
   "mimetype": "text/x-python",
   "name": "python",
   "nbconvert_exporter": "python",
   "pygments_lexer": "ipython3",
   "version": "3.12.3"
  }
 },
 "nbformat": 4,
 "nbformat_minor": 5
}
