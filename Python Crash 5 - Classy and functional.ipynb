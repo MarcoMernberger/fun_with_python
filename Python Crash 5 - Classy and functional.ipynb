{
 "cells": [
  {
   "cell_type": "markdown",
   "id": "18617401-f5c4-4d13-823b-504b01f8dc2c",
   "metadata": {},
   "source": [
    "# Python Programming Crash Course - 101\n",
    "# Classy and functional\n",
    "\n",
    "<br>\n",
    "<div>\n",
    "<img src=\"data/Python-logo-notext.svg\" width=\"200\"/>\n",
    "</div>\n",
    "\n",
    "## Introduction\n",
    "\n",
    "So far, we have mainly been typing commands in a cell and executing them, calling it a program.\n",
    "While this is nice and very useful to try things out and interactively \"play\" with your data, there is more to programming than writing procedural scripts (i.e. the step by step execution of instructions). \n",
    "\n",
    "One major bummer about it: Your script will probably just work for one specific task in a specific environment.\n",
    "Worst-case is, you will have to write a new script with every new task.\n",
    "\n",
    "But you might want to reuse things you already did and not write them again.\n",
    "\n",
    "According to Larry Wall, the three virtues of a good programmer are:\n",
    "\n",
    "- <font color=\"green\">**Laziness**</font>: The quality that makes you go to great effort to reduce overall energy expenditure. It makes you write labor-saving programs that other people will find useful and document what you wrote so you don't have to answer so many questions about it.\n",
    "\n",
    "- <font color=\"green\">**Impatience**</font>: The anger you feel when the computer is being lazy. This makes you write programs that don't just react to your needs, but actually anticipate them. Or at least pretend to.\n",
    "\n",
    "- <font color=\"green\">**Hubris**</font>: The quality that makes you write (and maintain) programs that other people won't want to say bad things about.\n",
    "\n",
    "This chapter is mainly about <font color=\"green\">**Laziness**</font>!\n",
    "\n",
    "You have already written code that does something fancy or useful. Now you don't want to do it again and again. This is what <font color=\"green\">**functions**</font> are for.\n",
    "You have already seen some <font color=\"green\">**functions**</font> in action, such as **`print()`** or **`type()`** and how often you need them. Now we talk about what functions actually are and how you can create your own functions.\n",
    "\n",
    "## Functions\n",
    "\n",
    "If we want to do purposeful programming, this involves user input. You want a program to dynamically react to different user input and that requires functions.\n",
    "\n",
    "What are functions? \n",
    "\n",
    "In effect, functions are little self-contained programs that perform a specific task and that you can utilize in your larger programs. This saves time, effort and allows you to write one piece of code that you can reuse whenever you need this specific task. You use a function by \"calling\" it.\n",
    "\n",
    "\n",
    "### 1. Calling a function\n",
    "\n",
    "Remember our print statements? We were actually calling the print() function. So in general, calling a function looks like this:\n",
    "\n",
    "```python\n",
    "function()\n",
    "```\n",
    "or\n",
    "\n",
    "```python\n",
    "function(argument1, argument2, ...)\n",
    "```\n",
    "So you're calling a function in a script by writing its name, followed by closed parentheses that enclose an optional\n",
    "number of arguments.\n",
    "\n",
    "We have done this before with the **`print()`** function:"
   ]
  },
  {
   "cell_type": "code",
   "execution_count": 1,
   "id": "a994cad5-b0ae-48a1-b561-9a2a4899f268",
   "metadata": {},
   "outputs": [
    {
     "name": "stdout",
     "output_type": "stream",
     "text": [
      "I am here for an argument! This is an argument!\n"
     ]
    }
   ],
   "source": [
    "print(\"I am here for an argument!\", \"This is an argument!\")"
   ]
  },
  {
   "cell_type": "markdown",
   "id": "c3243af8-5052-4616-81a3-977ba724319c",
   "metadata": {},
   "source": [
    "### 2. Defining a function\n",
    "\n",
    "If you want to define a function, you use the reserved keyword <font color='#4CAF50'>**def**</font>. A minimal example should look like this:\n",
    "\n",
    "```python\n",
    "def function_name():  # this is the signature of a function\n",
    "    some code goes here ... # this is the body of a function\n",
    "```\n",
    "\n",
    "The first line is called a functions <font color=\"green\">**signature**</font>.\n",
    "The actual code of the function follows this line and is called the functions <font color=\"green\">**body**</font>.\\\n",
    "To mark the body of a function, we use again <font color=\"green\">**indentation**</font>, just as we did to structure our loops previously.\n",
    "That means any code that follows a signature and is indented belongs to the functions body."
   ]
  },
  {
   "cell_type": "code",
   "execution_count": 2,
   "id": "d1c0d2c3-2803-4c40-8d20-2abb88736c9f",
   "metadata": {},
   "outputs": [
    {
     "name": "stdout",
     "output_type": "stream",
     "text": [
      "Hello there\n"
     ]
    }
   ],
   "source": [
    "# write a function that prints \"Hello there!\"\n",
    "\n",
    "def hello():\n",
    "    print(\"Hello there\")\n",
    "\n",
    "    # try it\n",
    "hello()"
   ]
  },
  {
   "cell_type": "markdown",
   "id": "a729b3f2-fcf7-4ddd-90d0-3c27b25766ca",
   "metadata": {},
   "source": [
    "You can give <font color=\"green\">**arguments**</font> to a function when calling it. To be able to do that, you must specify them in the signature as <font color=\"green\">**parameters**</font>.\n",
    "\n",
    "If you want your function to take some <font color=\"green\">**arguments**</font>, it should look like this:\n",
    "\n",
    "```python\n",
    "def function_name(parameter_1, parameter_2):  # the signature\n",
    "    some code goes here ... # the body\n",
    "```\n",
    "\n",
    "The  <font color=\"green\">**parameters**</font> define what  <font color=\"green\">**arguments**</font> you can or need to supply to a <font color=\"green\">**function**</font>."
   ]
  },
  {
   "cell_type": "code",
   "execution_count": 3,
   "id": "8b788b8a-60c6-4649-a2bb-0980568d56a9",
   "metadata": {},
   "outputs": [
    {
     "name": "stdout",
     "output_type": "stream",
     "text": [
      "100\n"
     ]
    }
   ],
   "source": [
    "# Write a function that takes a number and prints out the square of this number\n",
    "\n",
    "def square(number):\n",
    "    result = number ** 2\n",
    "    print(result)\n",
    "\n",
    "# try it\n",
    "square(10)"
   ]
  },
  {
   "cell_type": "code",
   "execution_count": 4,
   "id": "54788b5b-de77-4bb5-9b44-a9e920e48cbe",
   "metadata": {},
   "outputs": [
    {
     "name": "stdout",
     "output_type": "stream",
     "text": [
      "8\n"
     ]
    }
   ],
   "source": [
    "# Write a function, that takes two numbers, \n",
    "# adds them together and prints them on screen\n",
    "\n",
    "def add(number1, number2):\n",
    "    result = number1 + number2\n",
    "    print(result)\n",
    "    \n",
    "# try it\n",
    "add(3, 5)"
   ]
  },
  {
   "cell_type": "markdown",
   "id": "1beaf135-47cc-459e-bae8-ad942a081897",
   "metadata": {},
   "source": [
    "### 3. Return values\n",
    "\n",
    "A  <font color=\"green\">**function**</font> might return a value but it does not have to. \n",
    "The **`print()`** function for example just prints something on screen and does return nothing. And nothing, as we already know, is  <font color=\"#4CAF50\">**None**</font>.\n",
    "Also, the function we defined above just printthe result, but do not return a value.\n",
    "\n",
    "If you want a function to return something, you use the reserved <font color=\"green\">**keyword**</font> <font color='#4CAF50'>**return**</font> at the end of the function:\n",
    "\n",
    "```python\n",
    "def function_name(parameter_name_1, parameter_name_2):\n",
    "    # some code goes here ...\n",
    "    return something\n",
    "```\n"
   ]
  },
  {
   "cell_type": "code",
   "execution_count": 5,
   "id": "6792ec40-1a76-4921-85c4-579b1eb5ad0e",
   "metadata": {},
   "outputs": [
    {
     "name": "stdout",
     "output_type": "stream",
     "text": [
      "100\n",
      "None\n"
     ]
    }
   ],
   "source": [
    "# what does our square function return?\n",
    "\n",
    "result = square(10)\n",
    "print(result)"
   ]
  },
  {
   "cell_type": "markdown",
   "id": "ff1e71c7-f268-44d3-b179-512066f514c3",
   "metadata": {},
   "source": [
    "Let's modify our functions to return the result rather than print it on screen:"
   ]
  },
  {
   "cell_type": "code",
   "execution_count": 6,
   "id": "3902f037-1454-4304-9f61-d83fa6aaa9a6",
   "metadata": {},
   "outputs": [
    {
     "name": "stdout",
     "output_type": "stream",
     "text": [
      "100\n"
     ]
    }
   ],
   "source": [
    "# return the square of a number\n",
    "def square(number):\n",
    "    result = number ** 2\n",
    "    return result\n",
    "\n",
    "# try it\n",
    "result = square(10)\n",
    "print(result)"
   ]
  },
  {
   "cell_type": "code",
   "execution_count": 7,
   "id": "483c3538-4f57-4889-a30d-891026ae3e17",
   "metadata": {},
   "outputs": [
    {
     "name": "stdout",
     "output_type": "stream",
     "text": [
      "25\n"
     ]
    }
   ],
   "source": [
    "# add two numbers and return \n",
    "def add_2_numbers(number1, number2):\n",
    "    result = number1 + number2\n",
    "    return result\n",
    "\n",
    "# let's try it out!\n",
    "added_numbers = add_2_numbers(12, 13)\n",
    "print(added_numbers)"
   ]
  },
  {
   "cell_type": "markdown",
   "id": "37bbac46-ad36-4005-ad93-04e89e9e65fd",
   "metadata": {},
   "source": [
    "### 4. Parameters and arguments\n",
    "\n",
    "The <font color=\"green\">**parameters**</font> of a function are variables that are specified in the signature. \n",
    "In the example above, that would be the numbers:\n",
    "\n",
    "```python\n",
    "def add_2_numbers(number1, number2):\n",
    "    # number1 is a parameter, number2 is another one\n",
    "    result = number1 + number2\n",
    "    return result\n",
    "```"
   ]
  },
  {
   "cell_type": "markdown",
   "id": "42159e54-f8d2-429a-b671-24d3f52a471d",
   "metadata": {},
   "source": [
    "#### 4.1. Parameters with default values\n",
    "\n",
    "Sometimes it makes sense to provide an <font color=\"green\">**default value**</font> to a <font color=\"green\">**parameter**</font>. you can do that by specifying the value in the signature, like this:\n",
    "\n",
    "```python\n",
    "def function_name(parameter1 = \"default value\"):\n",
    "    # some code goes here ...\n",
    "    return something\n",
    "```\n",
    "\n",
    "Let's create a function, that calculates the exponential of a number, but calculates the square by default:"
   ]
  },
  {
   "cell_type": "code",
   "execution_count": 9,
   "id": "71326b53-87d5-45d1-a513-29cb52dd1ffb",
   "metadata": {},
   "outputs": [
    {
     "name": "stdout",
     "output_type": "stream",
     "text": [
      "100\n",
      "1000\n"
     ]
    }
   ],
   "source": [
    "# define exponential with default exponent 2\n",
    "\n",
    "def exponential(base, exponent = 2):\n",
    "    result = base ** exponent\n",
    "    return result\n",
    "\n",
    "print(exponential(10))\n",
    "print(exponential(10, 3))\n"
   ]
  },
  {
   "cell_type": "markdown",
   "id": "7665ec11-da37-4b0a-b268-60a546bf1310",
   "metadata": {},
   "source": [
    "#### 4.2. How to pass arguments\n",
    "\n",
    "When you <font color=\"green\">**call**</font> a function, you must specify the actual values for the <font color=\"green\">**parameters**</font>. \n",
    "\n",
    "You can do this either by position (what we did above):\n",
    "\n",
    "```python\n",
    "added_numbers = add_2_numbers(12, 13)\n",
    "```\n",
    "In this case, 12 and 13 are referred to as <font color=\"green\">**arguments**</font>.\n",
    "\n",
    "Or we can specify them by name: \n",
    "\n",
    "```python\n",
    "added_numbers = add_2_numbers(number1=12, number2=13)\n",
    "```\n",
    "In the second case, we say these are <font color=\"green\">**keyword arguments**</font>, since we provide a keyword (the parameter name) and the argument (the actual value for the parameter).\\\n",
    "Both is correct syntax."
   ]
  },
  {
   "cell_type": "code",
   "execution_count": 10,
   "id": "77967ed1-b23c-48e5-8f01-6b8181010bfe",
   "metadata": {},
   "outputs": [
    {
     "name": "stdout",
     "output_type": "stream",
     "text": [
      "I am here for an argument!\n",
      "\n",
      "I am here for a keyword argument!\n"
     ]
    }
   ],
   "source": [
    "# print argument\n",
    "print(\"I am here for an argument!\\n\")\n",
    "\n",
    "print(\"I am here for a \", end=\"keyword argument\")\n",
    "# print keyword argument\n",
    "print(\"!\")"
   ]
  },
  {
   "cell_type": "code",
   "execution_count": 13,
   "id": "f8a0488c-43c6-4215-b107-f9d5a70ceb5e",
   "metadata": {},
   "outputs": [
    {
     "name": "stdout",
     "output_type": "stream",
     "text": [
      "1000\n"
     ]
    }
   ],
   "source": [
    "# use exponential\n",
    "base = 10\n",
    "result = exponential(10, exponent=3)\n",
    "print(result)"
   ]
  },
  {
   "cell_type": "markdown",
   "id": "5a395134-45c2-4d7c-be22-2498e68ed8b0",
   "metadata": {},
   "source": [
    "If you do specify it by name, the order of arguments does not matter:"
   ]
  },
  {
   "cell_type": "code",
   "execution_count": 15,
   "id": "d40fe9bc-9fd9-4dd7-91aa-c478f243d85d",
   "metadata": {},
   "outputs": [
    {
     "name": "stdout",
     "output_type": "stream",
     "text": [
      "100\n",
      "1024\n",
      "100\n",
      "1024\n"
     ]
    }
   ],
   "source": [
    "# try positional arguments 10 ^ 2\n",
    "result_10_2 = exponential(10, 2)  \n",
    "print(result_10_2)\n",
    "\n",
    "# try positional arguments 2 ^ 10\n",
    "result_2_10 = exponential(2, 10)  \n",
    "print(result_2_10)\n",
    "\n",
    "# try keyword arguments\n",
    "result_10_2 = exponential(base=10, exponent=2)\n",
    "print(result_10_2)\n",
    "\n",
    "# try keyword arguments\n",
    "result_2_10 = exponential(exponent=10, base=2)\n",
    "print(result_2_10)"
   ]
  },
  {
   "cell_type": "markdown",
   "id": "0f986eeb-1a8a-437e-8ae2-a7252791003c",
   "metadata": {},
   "source": [
    "<details>\n",
    "    <summary><font color=\"orange\"><b>Click me!</b></font></summary>\n",
    "    In the first two examples, the computer assigns the arguments to the parameters in the order they are given.\n",
    "    In the latter two examples, that assignment is done by naming the parameters explicitly and the order does not matter.\n",
    "</details>\n",
    "\n",
    "Apparently, it's possible to pass <font color=\"green\">**arguments**</font> in order __and__ <font color=\"green\">**keyword arguments**</font> in a function call.\n",
    "However, if you choose to do that, <font color=\"green\">**keyword arguments**</font> always come last.\\\n",
    "<font color=\"red\"> A keyword argument can not be followed by a non-keyword argument</font>!"
   ]
  },
  {
   "cell_type": "code",
   "execution_count": 21,
   "id": "0e7f62b3-294e-4c2f-ab41-eaeee090e7b9",
   "metadata": {},
   "outputs": [
    {
     "name": "stdout",
     "output_type": "stream",
     "text": [
      "100\n"
     ]
    }
   ],
   "source": [
    "# correct\n",
    "print(exponential(10, exponent=2))\n",
    "\n",
    "# incorrect\n",
    "#print(exponential(10, base=2))\n"
   ]
  },
  {
   "cell_type": "markdown",
   "id": "d639cb2e-05f2-4ea8-be97-80aedd078e71",
   "metadata": {},
   "source": [
    "#### 4.3. What about data types?\n",
    "\n",
    "Since python is a very non-restrictive language, the <font color=\"green\">**type**</font> of the parameters can be anything!\n",
    "In other programming languages, it is often mandatory to specify the specific type of the parameter when defining a function (e.g. int for adding 2 integers).\n",
    "In Python, you can do this (and it is encouraged for readability) but you don't need to do it.\n",
    "\n",
    "While that is nice (we like our freedom!), it means that you have to make sure that your function body can deal with\n",
    "whatever <font color=\"green\">**arguments**</font> you throw at them.\n",
    "\n",
    "Let's look at our addition function again:"
   ]
  },
  {
   "cell_type": "code",
   "execution_count": 22,
   "id": "3511a663-f659-48cd-bec6-11fb65e19a26",
   "metadata": {},
   "outputs": [
    {
     "name": "stdout",
     "output_type": "stream",
     "text": [
      "Adding integers:  18\n",
      "Adding floats:  3.7\n",
      "Adding strings:  1020\n"
     ]
    }
   ],
   "source": [
    "def add_2_numbers(number1, number2):\n",
    "    result = number1 + number2\n",
    "    return result\n",
    "\n",
    "# add two integers\n",
    "res = add_2_numbers(5, 13)\n",
    "print(\"Adding integers: \", res)\n",
    "\n",
    "# add two floats\n",
    "res = add_2_numbers(1.5, 2.2)\n",
    "print(\"Adding floats: \", res)\n",
    "\n",
    "# add two strings\n",
    "res = add_2_numbers(\"10\", \"20\")\n",
    "print(\"Adding strings: \", res)\n"
   ]
  },
  {
   "cell_type": "markdown",
   "id": "e472cc0c-6459-4fbd-9998-d55acf953173",
   "metadata": {},
   "source": [
    "<details>\n",
    "    <summary><font color=\"orange\"><b>Click me!</b></font></summary>\n",
    "    All these inputs work, because the + operator is defined for integers, floats and strings, so the computer knows what to do with them.\n",
    "    The first two are added mathematically, while strings are just concatenated. Seems resonable, right?\n",
    "</details>\n",
    "\n",
    "If you supply an argument which type won't work with whatever your function does, this will lead to an error:"
   ]
  },
  {
   "cell_type": "code",
   "execution_count": 25,
   "id": "1ea4b87e-2780-4871-83f4-7bc6d967976f",
   "metadata": {},
   "outputs": [
    {
     "name": "stdout",
     "output_type": "stream",
     "text": [
      "10 to the power of 2= 100\n",
      "2.5 to the power of 2= 6.25\n",
      "1.5 + 10 = 11.5\n"
     ]
    },
    {
     "ename": "TypeError",
     "evalue": "can only concatenate str (not \"int\") to str",
     "output_type": "error",
     "traceback": [
      "\u001b[0;31m---------------------------------------------------------------------------\u001b[0m",
      "\u001b[0;31mTypeError\u001b[0m                                 Traceback (most recent call last)",
      "Cell \u001b[0;32mIn[25], line 16\u001b[0m\n\u001b[1;32m     13\u001b[0m \u001b[38;5;28mprint\u001b[39m(\u001b[38;5;124m\"\u001b[39m\u001b[38;5;124m1.5 + 10 =\u001b[39m\u001b[38;5;124m\"\u001b[39m, res)\n\u001b[1;32m     15\u001b[0m \u001b[38;5;66;03m# What is add_2_numbers(1.5, 10) 3.5 + 10?\u001b[39;00m\n\u001b[0;32m---> 16\u001b[0m res \u001b[38;5;241m=\u001b[39m \u001b[43madd_2_numbers\u001b[49m\u001b[43m(\u001b[49m\u001b[38;5;124;43m\"\u001b[39;49m\u001b[38;5;124;43m1.5\u001b[39;49m\u001b[38;5;124;43m\"\u001b[39;49m\u001b[43m,\u001b[49m\u001b[43m \u001b[49m\u001b[38;5;241;43m10\u001b[39;49m\u001b[43m)\u001b[49m\n\u001b[1;32m     17\u001b[0m \u001b[38;5;28mprint\u001b[39m(\u001b[38;5;124m\"\u001b[39m\u001b[38;5;124m'\u001b[39m\u001b[38;5;124m1.5\u001b[39m\u001b[38;5;124m'\u001b[39m\u001b[38;5;124m + 10 =\u001b[39m\u001b[38;5;124m\"\u001b[39m, res)\n",
      "Cell \u001b[0;32mIn[22], line 2\u001b[0m, in \u001b[0;36madd_2_numbers\u001b[0;34m(number1, number2)\u001b[0m\n\u001b[1;32m      1\u001b[0m \u001b[38;5;28;01mdef\u001b[39;00m \u001b[38;5;21madd_2_numbers\u001b[39m(number1, number2):\n\u001b[0;32m----> 2\u001b[0m     result \u001b[38;5;241m=\u001b[39m \u001b[43mnumber1\u001b[49m\u001b[43m \u001b[49m\u001b[38;5;241;43m+\u001b[39;49m\u001b[43m \u001b[49m\u001b[43mnumber2\u001b[49m\n\u001b[1;32m      3\u001b[0m     \u001b[38;5;28;01mreturn\u001b[39;00m result\n",
      "\u001b[0;31mTypeError\u001b[0m: can only concatenate str (not \"int\") to str"
     ]
    }
   ],
   "source": [
    "## exponential ...\n",
    "res = exponential(base=10, exponent=2)\n",
    "print(\"10 to the power of 2=\", res)\n",
    "\n",
    "res = exponential(2.5, 2)\n",
    "print(\"2.5 to the power of 2=\", res)\n",
    "\n",
    "#res = exponential(\"2.5\", \"2\")\n",
    "#print(\"`2.5` to the power of `2`=\", res)\n",
    "\n",
    "# What is add_2_numbers(1.5, 10) 3.5 + 10?\n",
    "res = add_2_numbers(1.5, 10)\n",
    "print(\"1.5 + 10 =\", res)\n",
    "\n",
    "# What is add_2_numbers(1.5, 10) 3.5 + 10?\n",
    "#res = add_2_numbers(\"1.5\", 10)\n",
    "#print(\"'1.5' + 10 =\", res)\n"
   ]
  },
  {
   "cell_type": "markdown",
   "id": "9118fa7b-d215-4aa5-8537-026a1908b134",
   "metadata": {},
   "source": [
    "### 4.5 Arbitrary number of arguments\n",
    "\n",
    "You have used the print function extensively so far. Have you noticed that it apparently takes an arbitrary number of <font color=\"green\">**arguments**</font>?"
   ]
  },
  {
   "cell_type": "code",
   "execution_count": 26,
   "id": "cccf9e70-e8b9-48d5-b718-c000f77448ae",
   "metadata": {},
   "outputs": [
    {
     "name": "stdout",
     "output_type": "stream",
     "text": [
      "I am Arthur, King of the Britons!\n",
      "I am Arthur, King of the Britons!\n",
      "I am Arthur, King of the Britons!\n"
     ]
    }
   ],
   "source": [
    "print(\"I am Arthur, King of the Britons!\")  # take 1 argument\n",
    "print(\"I am Arthur,\", \"King of the Britons!\")  # take 2 arguments\n",
    "print(\"I am Arthur,\", \"King\", \"of the Britons!\")  # take 3 arguments"
   ]
  },
  {
   "cell_type": "markdown",
   "id": "e5132d02-6995-4a66-890f-53449570ad5c",
   "metadata": {},
   "source": [
    "Apparently, it is possible to pass an arbitrary number of <font color=\"green\">**arguments**</font> to a function!\n",
    "\n",
    "If you are not sure how many <font color=\"green\">**parameters**</font> a function will take at runtime, \n",
    "you can look it up in the Python documentation or check its signature directly:"
   ]
  },
  {
   "cell_type": "code",
   "execution_count": 27,
   "id": "ae64af5d-29f9-4aa5-86e5-9fbaf1c18a7a",
   "metadata": {},
   "outputs": [
    {
     "name": "stdout",
     "output_type": "stream",
     "text": [
      "Help on built-in function print in module builtins:\n",
      "\n",
      "print(*args, sep=' ', end='\\n', file=None, flush=False)\n",
      "    Prints the values to a stream, or to sys.stdout by default.\n",
      "    \n",
      "    sep\n",
      "      string inserted between values, default a space.\n",
      "    end\n",
      "      string appended after the last value, default a newline.\n",
      "    file\n",
      "      a file-like object (stream); defaults to the current sys.stdout.\n",
      "    flush\n",
      "      whether to forcibly flush the stream.\n",
      "\n"
     ]
    }
   ],
   "source": [
    "help(print)"
   ]
  },
  {
   "cell_type": "markdown",
   "id": "19137db3-992f-4b57-bb06-8c0d95aabcb4",
   "metadata": {},
   "source": [
    "The first <font color=\"green\">**parameter**</font>\n",
    "```Python\n",
    "*args\n",
    "```\n",
    "indicates, that you can pass an arbitrary number of arguments. "
   ]
  },
  {
   "cell_type": "markdown",
   "id": "eb135f7a-454b-4fc1-8692-330711e7eb38",
   "metadata": {},
   "source": [
    "## 4.6 Local and global variables\n",
    "\n",
    "Sometimes, <font color=\"green\">**functions**</font> alone still don't cut it, as there are a couple of limitations.\n",
    "\n",
    "For example, they don't store any information, as for example a variable does.\n",
    "Everything that goes on during a function call is immediately forgotten, once the function has been executed, they only return the end result. If you call it again, everything starts again from scratch.\n",
    "\n",
    "<font color=\"red\">**That means, variables inside a function only exist __locally__ inside the function!**</font>"
   ]
  },
  {
   "cell_type": "code",
   "execution_count": 28,
   "id": "10888ada-e9dc-4117-8fa5-c5a719a35dd1",
   "metadata": {},
   "outputs": [
    {
     "name": "stdout",
     "output_type": "stream",
     "text": [
      "result_12 within the function = 25\n",
      "25\n"
     ]
    },
    {
     "ename": "NameError",
     "evalue": "name 'result_12' is not defined",
     "output_type": "error",
     "traceback": [
      "\u001b[0;31m---------------------------------------------------------------------------\u001b[0m",
      "\u001b[0;31mNameError\u001b[0m                                 Traceback (most recent call last)",
      "Cell \u001b[0;32mIn[28], line 10\u001b[0m\n\u001b[1;32m      8\u001b[0m res \u001b[38;5;241m=\u001b[39m add_2_numbers(\u001b[38;5;241m12\u001b[39m, \u001b[38;5;241m13\u001b[39m)\n\u001b[1;32m      9\u001b[0m \u001b[38;5;28mprint\u001b[39m(res)\n\u001b[0;32m---> 10\u001b[0m \u001b[38;5;28mprint\u001b[39m(\u001b[38;5;124m\"\u001b[39m\u001b[38;5;124mresult_12 outside the function =\u001b[39m\u001b[38;5;124m\"\u001b[39m, \u001b[43mresult_12\u001b[49m)\n",
      "\u001b[0;31mNameError\u001b[0m: name 'result_12' is not defined"
     ]
    }
   ],
   "source": [
    "# local versus global variables\n",
    "\n",
    "def add_2_numbers(number1, number2):\n",
    "    result_12 = number1 + number2  # this is a local variable\n",
    "    print(\"result_12 within the function =\", result_12)\n",
    "    return result_12\n",
    "\n",
    "res = add_2_numbers(12, 13)\n",
    "print(res)\n",
    "print(\"result_12 outside the function =\", result_12)"
   ]
  },
  {
   "cell_type": "markdown",
   "id": "da75141c-4cd1-4a67-b714-98d70bf36f2d",
   "metadata": {},
   "source": [
    "So what if you want to store some values or variables, that are created <font color=\"green\">**locally**</font> within the function? \n",
    "\n",
    "We have so far seen that the behavior of <font color=\"green\">**functions**</font> is affected by the <font color=\"green\">**arguments**</font> we pass from outside. But suppose you want a function to affect a <font color=\"green\">**global**</font> variable, that exists outside the function? "
   ]
  },
  {
   "cell_type": "code",
   "execution_count": 29,
   "id": "08fba0ed-3131-4bb0-a2af-1606909ca47e",
   "metadata": {},
   "outputs": [
    {
     "name": "stdout",
     "output_type": "stream",
     "text": [
      "result within the function = 25\n",
      "result outside the function = 1\n"
     ]
    }
   ],
   "source": [
    "# try to affect a variable outside a function\n",
    "\n",
    "def add_2_numbers(number1, number2):\n",
    "    result = number1 + number2  # this is a local variable\n",
    "    print(\"result within the function =\", result)\n",
    "    return result\n",
    "\n",
    "result = 1  # this is a global variable\n",
    "add_2_numbers(12, 13)\n",
    "print(\"result outside the function =\", result)"
   ]
  },
  {
   "cell_type": "markdown",
   "id": "d05c210f-bfb2-4139-bd26-5134a17ed050",
   "metadata": {},
   "source": [
    "Affecting <font color=\"green\">**variables**</font> outside the function does not work directly.\n",
    "\n",
    "Also, you might have many <font color=\"green\">**functions**</font> that are related to each other and interact with each other a lot. Then it would be great to have a way to group them together.\n",
    "\n",
    "For all these purposes, classes come in handy.\n"
   ]
  },
  {
   "cell_type": "markdown",
   "id": "69a0b135-d5fd-41a9-8516-4442dbab33b2",
   "metadata": {},
   "source": [
    "## Classes\n",
    "\n",
    "Remember that Python is an object-oriented language? What that means is that everything is an <font color=\"green\">**object**</font> in Python and \n",
    "<font color=\"green\">**objects**</font> are realized as <font color=\"green\">**classes**</font>.\n",
    "\n",
    "With <font color=\"green\">**classes**</font> you can:\n",
    "\n",
    "- represent real-world entities or objects\n",
    "- associate functions with these objects\n",
    "- store values/variables created inside a function\n",
    "- write functions that can affect variables outside of themselves\n",
    "- group related or interacting functions together\n",
    "- reuse code effectively\n",
    "\n",
    "The main idea of <font color=\"green\">**classes**</font> is to to model a real-world entity or <font color=\"green\">**object**</font> in your code with all the relevant information about it. You can also add some functions to apply certain operations on your objects.\\\n",
    "Let's see what <font color=\"green\">**classes**</font> are and how you can create your own as well.\n",
    "\n",
    "### 1. What is a class?\n",
    "\n",
    "A <font color=\"green\">**class**</font> is essentially a _**blueprint**_ for creating these objects.\n",
    "That is the principle of the object-oriented programming (oop) paradigm.\n",
    "For a programmer, an object is simply a model of something, a collection of data (<font color=\"green\">**attributes**</font>) and associated behaviour (<font color=\"green\">**methods**</font>).\n",
    "\n",
    "<br>\n",
    "<div style=\"background-color:white;\">\n",
    "<img src=\"data/classes_in_a_nutshell.svg\" width=\"600\"/>\n",
    "</div>\n",
    "\n",
    "What does that mean? For example, since we're into biology, we could represent _**genes**_ using a <font color=\"green\">**class**</font>. A _**gene**_ has a _**name**_, _**chromosome**_, _**start**_ and _**stop**_ position. These could be our relevant data, or <font color=\"green\">**attributes**</font>. A gene can also be _**transcribed**_ which we could consider our behaviour or <font color=\"green\">**method**</font>.\n",
    "\n",
    "If you create a specific object with python, this is called an <font color=\"green\">**instance**</font> of the class.\n",
    "\n",
    "To get back to our gene example, consider _**p53**_. _**p53**_ would be a specific <font color=\"green\">**instance**</font> of our <font color=\"green\">**class**</font> _**gene**_.\n",
    "\n",
    "### 2. How do I create a class?\n",
    "\n",
    "As you might guess at this point, there is a reserved keyword to define a class: <font color='#4CAF50'>**class**</font>\n",
    "\n",
    "Defining a class should look like this:\n",
    "\n",
    "```python\n",
    "class MyClass:\n",
    "    # some statements \n",
    "```\n",
    "But what about this statements? What statements?\n",
    "\n",
    "Let's see how that looks with a real example!"
   ]
  },
  {
   "cell_type": "code",
   "execution_count": 30,
   "id": "23e9c2bb-f6ab-4464-87d5-f90ee6029091",
   "metadata": {},
   "outputs": [],
   "source": [
    "# very basic and useless class\n",
    "\n",
    "class Person:\n",
    "    description = \"I am a Person\""
   ]
  },
  {
   "cell_type": "markdown",
   "id": "da635d51-f2a5-4af7-89f3-3e11e53a0df5",
   "metadata": {},
   "source": [
    "First of all, no code has actually been executed. This is just a decription of what a _**Person**_ is, our blueprint.\\\n",
    "Again, we use <font color=\"green\">**indentation**</font> to tell the computer that everything that follows after the <font color=\"green\">**class**</font> definition line belongs to the <font color=\"green\">**class**</font>.\\\n",
    "That means \"description\" is an <font color=\"green\">**attribute**</font> of the <font color=\"green\">**class**</font>. Let's create actual objects, so-called <font color=\"green\">**instances**</font> of the <font color=\"green\">**class**</font>:"
   ]
  },
  {
   "cell_type": "code",
   "execution_count": 32,
   "id": "3009319c-3853-4ddf-bb50-592b68945039",
   "metadata": {},
   "outputs": [
    {
     "name": "stdout",
     "output_type": "stream",
     "text": [
      "I am a Person\n",
      "I am a Person\n"
     ]
    }
   ],
   "source": [
    "# create an instance\n",
    "a_person = Person()\n",
    "print(a_person.description)\n",
    "\n",
    "# create another instance\n",
    "another_person = Person()\n",
    "print(another_person.description)"
   ]
  },
  {
   "cell_type": "markdown",
   "id": "fa1ed379-5ce8-4e36-871b-78ccf74a2431",
   "metadata": {},
   "source": [
    "We create an instance from this blueprint by using the <font color=\"green\">**class**</font> name, followed by parentheses.\n",
    "This is called <font color=\"green\">**instantiation**</font>.\n",
    "Since \"description\" is an <font color=\"green\">**attribute**</font> of the class, each <font color=\"green\">**instance**</font> has a description and we can access it using the dot notation seen here:\\\n",
    "**`<instance>.<attribute>`**\n",
    "\n",
    "Obviously, this <font color=\"green\">**class**</font> is not very useful, since the description <font color=\"green\">**attribute**</font> is the same for each person. Different persons would have different <font color=\"green\">**attributes**</font>, for example a first name and a surname. So we need a way to create persons with different <font color=\"green\">**attributes**</font>!\\\n",
    "For this, Python provides a special method to <font color=\"green\">**initialize**</font> the attributes of an <font color=\"green\">**instance**</font>:"
   ]
  },
  {
   "cell_type": "code",
   "execution_count": 34,
   "id": "fcfc3f1b-553f-469f-8d31-e0c5c0f0d007",
   "metadata": {},
   "outputs": [],
   "source": [
    "# A Person as a class\n",
    "\n",
    "class Person:\n",
    "    description = \"I am a Person\"\n",
    "\n",
    "    def __init__(self, firstname, surname):\n",
    "        \"\"\"This is a constructor\"\"\"\n",
    "        self.firstname = firstname\n",
    "        self.surname = surname\n",
    "        "
   ]
  },
  {
   "cell_type": "markdown",
   "id": "52d78e21-b85a-42fe-8ac3-30884894bc47",
   "metadata": {},
   "source": [
    "The special function **`__init__()`** here\n",
    "\n",
    "```python\n",
    "def __init__(self, firstname, surname):\n",
    "    \"\"\"This is a constructor\"\"\"\n",
    "    self.firstname = firstname\n",
    "    self.surname = surname\n",
    "```\n",
    "is called a <font color=\"green\">**constructor**</font>. As the name implies, this function is called when you _initialize_ a new <font color=\"green\">**instance**</font>, from the <font color=\"green\">**class**</font> blueprint. \n",
    "As each person has it's own first name and surname and we want to be able to tell the computer these, we need them as <font color=\"green\">**parameters**</font>  for the **`__init__()`** function.\n",
    "\n",
    "The word <font color=\"#3c82fa\">**self**</font> has a special meaning. <font color=\"#3c82fa\">**self**</font> is how we refer to things in an <font color=\"green\">**instance**</font> from within itself.\\\n",
    "<font color=\"#3c82fa\">**self**</font> is always the first parameter in the **`__init__()`** function. Inside the **`__init__()`** function, we use <font color=\"#3c82fa\">**self**</font>**.**<font color=\"#3c82fa\">**firstname**</font> and <font color=\"#3c82fa\">**self**</font>**.**<font color=\"#3c82fa\">**surname**</font> to tell the computer that every instance (<font color=\"#3c82fa\">**self**</font>) has a firstname and a surname <font color=\"green\">**attribute**</font> and we _initialize_ them with the arguments given to **`__init__()`**.\n",
    "\n"
   ]
  },
  {
   "cell_type": "code",
   "execution_count": 35,
   "id": "c86d37d4-004e-47a5-a7cc-66f192c591ce",
   "metadata": {},
   "outputs": [
    {
     "name": "stdout",
     "output_type": "stream",
     "text": [
      "My name is John Cleese\n",
      "I am a Person\n",
      "My name is Eric Idle\n",
      "I am a Person\n"
     ]
    }
   ],
   "source": [
    "# create an instance\n",
    "cleese = Person(\"John\", \"Cleese\")\n",
    "\n",
    "print(\"My name is\", cleese.firstname, cleese.surname)\n",
    "print(cleese.description)\n",
    "\n",
    "# create another instance\n",
    "idle = Person(\"Eric\", \"Idle\")\n",
    "print(\"My name is\", idle.firstname, idle.surname)\n",
    "print(idle.description)\n"
   ]
  },
  {
   "cell_type": "markdown",
   "id": "9530ef22-43f7-4878-9f38-71b41ed38260",
   "metadata": {},
   "source": [
    "When creating an <font color=\"green\">**instance**</font>, we need to pass the <font color=\"green\">**arguments**</font> for the **`__init__()`** function, with the exception of <font color=\"#3c82fa\">**self**</font>.\\\n",
    "Then we can access the <font color=\"green\">**attributes**</font> of that <font color=\"green\">**instance**</font> we've created.\n",
    "Notice that \"description\" is the same for all <font color=\"green\">**instances**</font> or a <font color=\"green\">**class**</font>.\\\n",
    "Hence it is called a <font color=\"green\">**class attribute**</font>.\n",
    "\"firstname\" and \"surname\" however, are proper <font color=\"green\">**attributes**</font> of the <font color=\"green\">**instances**</font>."
   ]
  },
  {
   "cell_type": "code",
   "execution_count": 37,
   "id": "3abf24cb-cfe5-4054-b66a-95b74a24d30e",
   "metadata": {},
   "outputs": [
    {
     "name": "stdout",
     "output_type": "stream",
     "text": [
      "My name is G Chapman\n",
      "My name is Graham Chapman\n"
     ]
    }
   ],
   "source": [
    "# access attributes\n",
    "chapman = Person(\"G\", \"Chapman\")\n",
    "print(\"My name is\", chapman.firstname, chapman.surname)\n",
    "\n",
    "chapman.firstname = \"Graham\"\n",
    "print(\"My name is\", chapman.firstname, chapman.surname)"
   ]
  },
  {
   "cell_type": "markdown",
   "id": "100e6933-010c-49a0-a93b-332ab9b04f5c",
   "metadata": {},
   "source": [
    "We can get also set a new value for the <font color=\"green\">**attribute**</font> by accessing it directly once we have an <font color=\"green\">**instance**</font>.\n",
    "Okay, we have <font color=\"green\">**attributes**</font>, but what about <font color=\"green\">**methods**</font>? Let's add some behaviour to the class:"
   ]
  },
  {
   "cell_type": "code",
   "execution_count": 38,
   "id": "a0be0896-ee30-4e9f-afee-b75ba86e2d27",
   "metadata": {},
   "outputs": [],
   "source": [
    "# a class with methods\n",
    "\n",
    "class Person:\n",
    "    description = \"I am a Person\"\n",
    "\n",
    "    def __init__(self, firstname, surname):\n",
    "        \"\"\"This is a constructor\"\"\"\n",
    "        self.firstname = firstname\n",
    "        self.surname = surname\n",
    "\n",
    "    def say_hello(self):\n",
    "        print(\"Hello there!\")\n"
   ]
  },
  {
   "cell_type": "markdown",
   "id": "f578baf2-5e55-4519-ba6e-911903258275",
   "metadata": {},
   "source": [
    "You can add a function to a <font color=\"green\">**class**</font> by defining it on the first level of indentation. As with the **`__init__()`** function, the first parameter of such a function must be <font color=\"green\">**self**</font>. A function that belongs to a class is called a <font color=\"green\">**method**</font>.\n",
    "\n",
    "If we want to call a <font color=\"green\">**method**</font> on an <font color=\"green\">**instance**</font>, we use the dot notation that you have seen before:\\\n",
    "**`<instance>.<method()>`**"
   ]
  },
  {
   "cell_type": "code",
   "execution_count": 40,
   "id": "29c9106a-5795-4a8f-896c-78f5b21f0cb5",
   "metadata": {},
   "outputs": [
    {
     "name": "stdout",
     "output_type": "stream",
     "text": [
      "Hello there!\n"
     ]
    },
    {
     "data": {
      "text/plain": [
       "'ttt something'"
      ]
     },
     "execution_count": 40,
     "metadata": {},
     "output_type": "execute_result"
    }
   ],
   "source": [
    "# call a method\n",
    "\n",
    "obiwan = Person(\"Obiwan\", \"Kenobi\")\n",
    "obiwan.say_hello()\n"
   ]
  },
  {
   "cell_type": "markdown",
   "id": "fa2e8ba5-6813-4348-8484-aec5270c0034",
   "metadata": {},
   "source": [
    "### 3. How do classes work?\n",
    "\n",
    "Since <font color=\"#3c82fa\">**self**</font> represents the <font color=\"green\">**instance**</font> itself and we have that as a\n",
    "parameter for any method inside the <font color=\"green\">**class**</font>, we can access every <font color=\"green\">**attribute**</font> or <font color=\"green\">**method**</font> that belongs to the <font color=\"green\">**instance**</font> from within.\n",
    "We do this by using the dot notation just as we would from outside but prepending self instead:\\\n",
    "<font color=\"#3c82fa\">**`self.<attribute>`**</font>\\\n",
    "    or\\\n",
    "<font color=\"#3c82fa\">**`self.<method>`**</font>.\n",
    "\n",
    "Let's add some more functionality to our class:"
   ]
  },
  {
   "cell_type": "code",
   "execution_count": 41,
   "id": "78ae21d2-7578-414f-9fb7-5add2467a5f4",
   "metadata": {},
   "outputs": [],
   "source": [
    "class Person:\n",
    "    description = \"I am a Person\"\n",
    "\n",
    "    def __init__(self, firstname, surname):\n",
    "        \"\"\"This is a constructor\"\"\"\n",
    "        self.firstname = firstname\n",
    "        self.surname = surname\n",
    "\n",
    "    def say_my_name(self):\n",
    "        \"\"\"prints the full name\"\"\"\n",
    "        print(\"My name is\", self.firstname, self.surname)\n",
    "\n",
    "    def what_am_i(self):\n",
    "        \"\"\"prints a description\"\"\"\n",
    "        print(self.description)\n"
   ]
  },
  {
   "cell_type": "code",
   "execution_count": 42,
   "id": "6a31d721-b6ef-46b5-bd6d-7e3e5857c8d9",
   "metadata": {},
   "outputs": [
    {
     "name": "stdout",
     "output_type": "stream",
     "text": [
      "My name is Walter White\n",
      "I am a Person\n"
     ]
    }
   ],
   "source": [
    "# create instances, call methods\n",
    "walter = Person(\"Walter\", \"White\")\n",
    "walter.say_my_name()\n",
    "walter.what_am_i()"
   ]
  },
  {
   "cell_type": "markdown",
   "id": "72a88e55-1ab5-4b45-b2a0-9a154cdcaa6a",
   "metadata": {},
   "source": [
    "By using <font color=\"#3c82fa\">**self**</font>, the methods can refer to the <font color=\"green\">**attributes**</font> initialized in the **`__init()__`** function.\\\n",
    "We now have a way to access <font color=\"green\">**variables**</font> created within another function outside of the function itself!\\\n",
    "Let's add some more functionalily to our <font color=\"green\">**class**</font> and change \"the say_my_name\" function:"
   ]
  },
  {
   "cell_type": "code",
   "execution_count": 44,
   "id": "0a7f59da-0970-499d-ad72-0bb0497a8cfd",
   "metadata": {},
   "outputs": [],
   "source": [
    "# add a method with return value\n",
    "\n",
    "class Person:\n",
    "    description = \"I am a Person\"\n",
    "\n",
    "    def __init__(self, firstname, surname):\n",
    "        \"\"\"This is a constructor\"\"\"\n",
    "        self.firstname = firstname\n",
    "        self.surname = surname\n",
    "\n",
    "    def say_my_name(self):\n",
    "        \"\"\"prints the full name\"\"\"\n",
    "        print(\"My name is\", self.full_name())\n",
    "\n",
    "    def what_am_i(self):\n",
    "        \"\"\"prints a description\"\"\"\n",
    "        print(self.description)\n",
    "\n",
    "    def full_name(self):\n",
    "        \"\"\"returns the full name as a string\"\"\"\n",
    "        return self.firstname + \" \" + self.surname\n",
    "    "
   ]
  },
  {
   "cell_type": "markdown",
   "id": "7e6264ba-526c-4248-9fb8-080ccc0c38fb",
   "metadata": {},
   "source": [
    "You can also access and call <font color=\"green\">**methods**</font> from within the <font color=\"green\">**instance**</font>!"
   ]
  },
  {
   "cell_type": "code",
   "execution_count": 45,
   "id": "4832c3e0-1b4e-4129-a354-7a7b9f840759",
   "metadata": {},
   "outputs": [
    {
     "name": "stdout",
     "output_type": "stream",
     "text": [
      "My name is Walter White\n"
     ]
    }
   ],
   "source": [
    "# add height\n",
    "walter = Person(\"Walter\", \"White\")\n",
    "walter.say_my_name()"
   ]
  },
  {
   "cell_type": "markdown",
   "id": "41de9b88-1736-457e-991f-f465f736ec5d",
   "metadata": {},
   "source": [
    "What happens?\n",
    "<details>\n",
    "    <summary><font color=\"orange\"><b>Click me!</b></font></summary>\n",
    "    We called the method say_my_name() which prints an introduction on screen.<br />\n",
    "    In this example, say_my_name() calls another method of the class, full_name(), which returns the full name as a string, and then prints it out.<br />\n",
    "        So we see, we call call class methods inside the class by referring to self.<br />\n",
    "</details>"
   ]
  },
  {
   "cell_type": "markdown",
   "id": "0a49f388-a2c6-49a7-82e0-32b820f5dafe",
   "metadata": {},
   "source": [
    "And you also can change and manipulate <font color=\"green\">**attributes**</font> from anywhere inside the <font color=\"green\">**instance**</font>:"
   ]
  },
  {
   "cell_type": "code",
   "execution_count": 46,
   "id": "bec37cc0-0ae5-41f3-ab8e-6211a136dd7b",
   "metadata": {},
   "outputs": [],
   "source": [
    "# A class representing a person\n",
    "\n",
    "class Person:\n",
    "    description = \"I am a Person\"\n",
    "\n",
    "    def __init__(self, firstname, surname):\n",
    "        \"\"\"This is a constructor\"\"\"\n",
    "        self.firstname = firstname\n",
    "        self.surname = surname\n",
    "\n",
    "    def say_my_name(self):\n",
    "        \"\"\"prints the full name\"\"\"\n",
    "        print(\"My name is\", self.full_name())\n",
    "\n",
    "    def what_am_i(self):\n",
    "        \"\"\"prints a description\"\"\"\n",
    "        print(self.description)\n",
    "\n",
    "    def full_name(self):\n",
    "        \"\"\"returns the full name as a string\"\"\"\n",
    "        return self.firstname + \" \" + self.surname\n",
    "\n",
    "    def alter_ego(self, firstname, surname, description):\n",
    "        \"\"\"changes the description, first name and last name\"\"\"\n",
    "        self.description = description\n",
    "        self.firstname = firstname\n",
    "        self.surname = surname"
   ]
  },
  {
   "cell_type": "code",
   "execution_count": 47,
   "id": "db40d7e6-3f3b-41db-a7c9-e9d53b0d2ef6",
   "metadata": {},
   "outputs": [
    {
     "name": "stdout",
     "output_type": "stream",
     "text": [
      "My name is Walter White\n",
      "I am a Person\n"
     ]
    }
   ],
   "source": [
    "# another silly example\n",
    "walter = Person(\"Walter\", \"White\")\n",
    "\n",
    "# say my name\n",
    "walter.say_my_name()\n",
    "walter.what_am_i()"
   ]
  },
  {
   "cell_type": "code",
   "execution_count": 48,
   "id": "dd7e3738-0a3a-441b-80ee-94fe03cae5c4",
   "metadata": {},
   "outputs": [
    {
     "name": "stdout",
     "output_type": "stream",
     "text": [
      "My name is Heisenberg !\n",
      "I'm the cook!\n"
     ]
    }
   ],
   "source": [
    "# disguise \n",
    "walter.alter_ego(\"Heisenberg\", \"!\", \"I'm the cook!\")\n",
    "\n",
    "# say my name!\n",
    "walter.say_my_name()\n",
    "\n",
    "# what am I\n",
    "walter.what_am_i()"
   ]
  },
  {
   "cell_type": "markdown",
   "id": "05b7c2d4-6d80-4487-9c7e-85aa219e3570",
   "metadata": {},
   "source": [
    "What happens?\n",
    "<details>\n",
    "    <summary><font color=\"orange\"><b>Click me!</b></font></summary>\n",
    "     We call the alter_ego method with three arguments: firstname, surname and description.<br />\n",
    "     In the alter_ego function, the attributes self.firstname and self.surname are overwritten.<br />\n",
    "     Notice that we can also refer to descripion using self. <br />\n",
    "    You can even change the class attribute \"description\". However, this change will only affect this instance, not the description of the class itself! \n",
    "</details>\n",
    "\n"
   ]
  },
  {
   "cell_type": "markdown",
   "id": "639c7993-84b7-41e3-b7e9-38664b21aadd",
   "metadata": {},
   "source": [
    "### 3. Inheritance\n",
    "\n",
    "Above I highlighted the great virtue of <font color=\"green\">**Laziness**</font>. Suppose you have written some fancy code for a specific purpose. Now you need to do something different but similar. Instead of writing new code from scratch (never repeat yourself!), you can reuse what you already have!\n",
    "\n",
    "Let's come back to the gene example and suppose in addition to genes, you need to do something with transcription factor binding sites. It's obvious, that genes and TF binding sites are somewhat related concepts:\\\n",
    "Both are genomic regions, defined by at least a chromosome, a start and a stop.\\\n",
    "A gene could be considered a special case of a genomic region, right?\n",
    "So we could define a basic <font color=\"green\">**class**</font> that models a genomic region and takes care of the commonalities of genes and TF binding sites. Then, we could create genes and TF binding sites as specialized cases of that <font color=\"green\">**class**</font> that only add the stuff that is specific for a gene or a TF binding site. \n",
    "\n",
    "When we do this sort of thing, that is called <font color=\"green\">**inheritance**</font>.\n",
    "\n",
    "And now for another silly example: Monty Python members! \n",
    "\n",
    "The members of Monty Python are persons, so our <font color=\"#3c82fa\">**Person**</font> <font color=\"green\">**class**</font> above could be considered the basic case, while a Monty Python member is a special case of a person. That allows us to model Monty Python members quite easily:"
   ]
  },
  {
   "cell_type": "code",
   "execution_count": 49,
   "id": "e8aa2f12-0724-457d-9041-0198ad71c1f0",
   "metadata": {},
   "outputs": [],
   "source": [
    "# create a MontyPython\n",
    "class MontyPython(Person):\n",
    "    \"\"\"A Subclass of Person\"\"\"\n",
    "    description = \"I am a Monty Python!\"\n"
   ]
  },
  {
   "cell_type": "markdown",
   "id": "fc256fda-5c48-4d2a-978c-eee5c6767054",
   "metadata": {},
   "source": [
    "This creates a new class <font color=\"#3c82fa\">**MontyPython**</font> as a special case of <font color=\"#3c82fa\">**Person**</font>.\n",
    "\n",
    "By appending another class name in parentheses after the class declaration, we tell the computer that \n",
    "the class <font color=\"#3c82fa\">**MontyPython**</font> is a <font color=\"green\">**sub-class**</font>, <font color=\"green\">**derived class**</font> or <font color=\"green\">**child class**</font> of <font color=\"#3c82fa\">**Person**</font>. A special case.\n",
    "Likewise, <font color=\"#3c82fa\">**Person**</font> is considered a <font color=\"green\">**super-class**</font> or <font color=\"green\">**parent class**</font> of <font color=\"#3c82fa\">**MontyPython**</font>. The generalized case.\n",
    "\n",
    "When you do this, the <font color=\"green\">**child class inherits**</font> all <font color=\"green\">**attributes**</font> and <font color=\"green\">**methods**</font> of the <font color=\"green\">**parent class**</font>\\\n",
    "without the need to define them again. You can access these attributes in the same manner as you would in the <font color=\"green\">**super-class**</font>.\n",
    "\n",
    "But, since this is a _new_ class, you can add functions, attributes or even redefine the methods/attributes from the parent.\n",
    "In this case, we redefined the description.\n",
    "\n",
    "Let's see, what that does:"
   ]
  },
  {
   "cell_type": "code",
   "execution_count": 50,
   "id": "ba7f3868-4791-46a8-be9d-36b15d9ca635",
   "metadata": {},
   "outputs": [
    {
     "name": "stdout",
     "output_type": "stream",
     "text": [
      "My name is John Cleese\n",
      "I am a Monty Python!\n",
      "My name is Eric Idle\n",
      "I am a Monty Python!\n",
      "My name is Walter White\n",
      "I am a Person\n"
     ]
    }
   ],
   "source": [
    "# create some monty pythons\n",
    "cleese = MontyPython(\"John\", \"Cleese\")\n",
    "idle = MontyPython(\"Eric\", \"Idle\")\n",
    "walter = Person(\"Walter\", \"White\")\n",
    "\n",
    "cleese.say_my_name()\n",
    "cleese.what_am_i()\n",
    "\n",
    "idle.say_my_name()\n",
    "idle.what_am_i()\n",
    "\n",
    "# compare to a normal person\n",
    "walter.say_my_name()\n",
    "walter.what_am_i()"
   ]
  },
  {
   "cell_type": "markdown",
   "id": "5aed8309-d977-470c-9133-73845f2e24bd",
   "metadata": {},
   "source": [
    "What happens?\n",
    "<details>\n",
    "    <summary><font color=\"orange\"><b>Click me!</b></font></summary>\n",
    "    Without any further declaration, we can see that attributes and methods defined in the parent class Person<br />\n",
    "    also exist in the child class MontyPython.<br />\n",
    "    We can call methods as we did before without the need to type the while code again.\n",
    "    Since walter is just a person, this change does not affect him\n",
    "</details>"
   ]
  },
  {
   "cell_type": "markdown",
   "id": "52e1c723-efa5-4b20-8e7e-7c695c82c679",
   "metadata": {},
   "source": [
    "What if you want to add something?\n",
    "\n",
    "Let's add an attribute to our Monty Pythons:"
   ]
  },
  {
   "cell_type": "code",
   "execution_count": 51,
   "id": "17bda3b5-c924-4f04-8523-1eebf93560b4",
   "metadata": {},
   "outputs": [],
   "source": [
    "# create a MontyPython class with roles the actor played\n",
    "class MontyPython(Person):\n",
    "    \"\"\"A Subclass of Person\"\"\"\n",
    "    \n",
    "    description = \"I am a Monty Python!\"\n",
    "\n",
    "    def __init__(self, firstname, surname, roles = None):  # the default value for roles is None\n",
    "        self.firstname = firstname\n",
    "        self.surname = surname\n",
    "        if roles is None:\n",
    "            self.roles = []  # roles is a list\n",
    "        else:\n",
    "            self.roles = roles  \n",
    "        \n"
   ]
  },
  {
   "cell_type": "markdown",
   "id": "89900249-f3ff-4a61-b6ef-f59c8831d44d",
   "metadata": {},
   "source": [
    "If we want to initialize our <font color=\"green\">**MontyPython**</font> objects with additional <font color=\"green\">**parameters**</font>, we have to redefine the parents **`__init__()`** function.\n",
    "This is simply done my defining the function again in the new <font color=\"green\">**class**</font>. It will automatically replace the parents <font color=\"green\">**method**</font>.\n",
    "\n",
    "All other <font color=\"green\">**methods**</font> will stay the same."
   ]
  },
  {
   "cell_type": "code",
   "execution_count": 54,
   "id": "88fcfa07-ecb4-46c4-8f08-5e8ea3fd2469",
   "metadata": {},
   "outputs": [
    {
     "name": "stdout",
     "output_type": "stream",
     "text": [
      "['Sir Lancelot', 'Reg']\n"
     ]
    }
   ],
   "source": [
    "# initialize cleese\n",
    "cleese = MontyPython(\"John\", \"Cleese\", [\"Sir Lancelot\", \"Reg\"])\n",
    "print(cleese.roles)"
   ]
  },
  {
   "cell_type": "markdown",
   "id": "b3860bf9-323c-4c03-b704-9a876e13318a",
   "metadata": {},
   "source": [
    "We have sucessfully redefined the **`__init__()`** function for the new class <font color=\"#3c82fa\">**MontyPython**</font>. However, the first three lines are actually the same\n",
    "as in the **`__init__()`** of the parent function:\n",
    "\n",
    "```python\n",
    "class Person:\n",
    "\n",
    "    def __init__(self, firstname, surname, height):\n",
    "        \"\"\"This is a constructor\"\"\"\n",
    "        self.firstname = firstname\n",
    "        self.surname = surname\n",
    "```\n",
    "\n",
    "So we did repeat ourselves! Wouldn't it be better to just \"do the same thing as in the parent class and add some new lines!\"?\n",
    "\n",
    "Luckily, we can just do that: \n",
    "By using another special function **`super()`**, we can access the <font color=\"green\">**parent class**</font>!\\\n",
    "Thus, we can call the parent <font color=\"green\">**constructor**</font> first and then add our additional lines, shortening our **`__init__()`** function like this:\n"
   ]
  },
  {
   "cell_type": "code",
   "execution_count": 55,
   "id": "88c9ee9d-2a55-4a05-b97c-c711a7991e77",
   "metadata": {},
   "outputs": [],
   "source": [
    "# create a MontyPython class with roles the actor played\n",
    "\n",
    "class MontyPython(Person):\n",
    "    \"\"\"A Subclass of Person\"\"\"\n",
    "    \n",
    "    description = \"I am a Monty Python!\"\n",
    "\n",
    "    def __init__(self, firstname, surname, roles = None):  # the default value for roles is None\n",
    "        super().__init__(firstname, surname)  # call the parent constructor first\n",
    "        if roles is None:\n",
    "            self.roles = []  # roles is a list\n",
    "        else:\n",
    "            self.roles = roles  \n"
   ]
  },
  {
   "cell_type": "code",
   "execution_count": 56,
   "id": "f47e6804-7517-481f-93cb-f73319fa8782",
   "metadata": {},
   "outputs": [
    {
     "name": "stdout",
     "output_type": "stream",
     "text": [
      "['Sir Lancelot', 'Reg']\n"
     ]
    }
   ],
   "source": [
    "cleese = MontyPython(\"John\", \"Cleese\", [\"Sir Lancelot\", \"Reg\"])\n",
    "print(cleese.roles)"
   ]
  },
  {
   "cell_type": "markdown",
   "id": "ffc3ca23-d314-46cc-a918-0fb75a6c862e",
   "metadata": {},
   "source": [
    "Let's add some functions:"
   ]
  },
  {
   "cell_type": "code",
   "execution_count": 57,
   "id": "26052cdb-171a-4296-840e-78409b1cefe0",
   "metadata": {},
   "outputs": [],
   "source": [
    "# a sub class with added functionality        \n",
    "\n",
    "class MontyPython(Person):\n",
    "    \"\"\"A Subclass of Person\"\"\"\n",
    "    \n",
    "    description = \"I am a Monty Python!\"\n",
    "\n",
    "    def __init__(self, firstname, surname, roles = None):  # the default value for roles is None\n",
    "        super().__init__(firstname, surname)  # call the parent constructor first\n",
    "        if roles is None:\n",
    "            self.roles = []  # initialize roles is a list\n",
    "        else:\n",
    "            self.roles = roles  # set roles to whatever was passed to __init__\n",
    "\n",
    "    def add_role(self, character):\n",
    "        \"\"\"adds another character to the roles\"\"\"\n",
    "        self.roles.append(character)\n",
    "\n",
    "    def print_roles(self):\n",
    "        \"\"\"prints the roles this person has played\"\"\"\n",
    "        print(\"Roles of\", self.full_name(), \":\", self.roles)"
   ]
  },
  {
   "cell_type": "code",
   "execution_count": 58,
   "id": "4e990dff-5fd3-4106-97db-45be478c29aa",
   "metadata": {},
   "outputs": [
    {
     "name": "stdout",
     "output_type": "stream",
     "text": [
      "Roles of John Cleese : ['Sir Lancelot', 'Reg']\n",
      "Roles of Graham Chapman : ['Arthur, King of the Britons', 'Brian']\n",
      "Roles of John Cleese : ['Sir Lancelot', 'Reg', 'Centurion']\n",
      "Roles of Graham Chapman : ['Arthur, King of the Britons', 'Brian', 'Biggus Dickus']\n"
     ]
    }
   ],
   "source": [
    "# initialize cleese and chapman\n",
    "cleese = MontyPython(\"John\", \"Cleese\", [\"Sir Lancelot\", \"Reg\"])\n",
    "graham = MontyPython(\"Graham\", \"Chapman\", [\"Arthur, King of the Britons\", \"Brian\"])\n",
    "\n",
    "# print roles\n",
    "cleese.print_roles()\n",
    "graham.print_roles()\n",
    "\n",
    "# add a role\n",
    "cleese.add_role(\"Centurion\")\n",
    "graham.add_role(\"Biggus Dickus\")\n",
    "\n",
    "# print roles\n",
    "cleese.print_roles()\n",
    "graham.print_roles()\n",
    "\n"
   ]
  },
  {
   "cell_type": "code",
   "execution_count": 59,
   "id": "16313b4a-1c85-4812-afba-bf43c41f0cbd",
   "metadata": {},
   "outputs": [
    {
     "ename": "AttributeError",
     "evalue": "'Person' object has no attribute 'print_roles'",
     "output_type": "error",
     "traceback": [
      "\u001b[0;31m---------------------------------------------------------------------------\u001b[0m",
      "\u001b[0;31mAttributeError\u001b[0m                            Traceback (most recent call last)",
      "Cell \u001b[0;32mIn[59], line 2\u001b[0m\n\u001b[1;32m      1\u001b[0m \u001b[38;5;66;03m# this does not work\u001b[39;00m\n\u001b[0;32m----> 2\u001b[0m \u001b[43mwalter\u001b[49m\u001b[38;5;241;43m.\u001b[39;49m\u001b[43mprint_roles\u001b[49m()\n",
      "\u001b[0;31mAttributeError\u001b[0m: 'Person' object has no attribute 'print_roles'"
     ]
    }
   ],
   "source": [
    "# this does not work\n",
    "walter.print_roles()"
   ]
  },
  {
   "cell_type": "markdown",
   "id": "698e4d41-64d9-46ed-af3e-04f8609fea2f",
   "metadata": {},
   "source": [
    "What happens?\n",
    "<details>\n",
    "    <summary><font color=\"orange\"><b>Click me!</b></font></summary>\n",
    "    cleese and graham now have additional functions that are exclusive to the MontyPython class but do not exist in the parent class.<br />\n",
    "    When trying to access them with a Person object, it fails with an Error.\n",
    "</details>"
   ]
  },
  {
   "cell_type": "markdown",
   "id": "c370d768-eb2f-4093-a49f-fa00f289b827",
   "metadata": {},
   "source": [
    "We can also override <font color=\"green\">**methods**</font> of the <font color=\"green\">**parent class**</font>:\n"
   ]
  },
  {
   "cell_type": "code",
   "execution_count": 60,
   "id": "5f6f3375-9e02-46c0-889c-4c428410eab4",
   "metadata": {},
   "outputs": [],
   "source": [
    "# override alter_ego\n",
    "\n",
    "class MontyPython(Person):\n",
    "    \"\"\"A Subclass of Person\"\"\"\n",
    "    \n",
    "    description = \"I am a Monty Python!\"\n",
    "\n",
    "    def __init__(self, firstname, surname, roles = None):  # the default value for roles is None\n",
    "        super().__init__(firstname, surname)  # call the parent constructor first\n",
    "        if roles is None:\n",
    "            self.roles = []  # initialize roles is a list\n",
    "        else:\n",
    "            self.roles = roles  # set roles to whatever was passed to __init__\n",
    "\n",
    "    def add_role(self, character):\n",
    "        \"\"\"adds another character to the roles\"\"\"\n",
    "        self.roles.append(character)\n",
    "\n",
    "    def print_roles(self):\n",
    "        \"\"\"prints the roles this person has played\"\"\"\n",
    "        print(\"Roles of\", self.full_name(), \":\", self.roles)\n",
    "        \n",
    "    def alter_ego(self, index):\n",
    "        \"\"\"changes the first name and last name\"\"\"\n",
    "        self.firstname = self.roles[index]\n",
    "        self.surname = \"\"\n",
    "        \n",
    "    def get_parent_description(self):\n",
    "        print(super().description)"
   ]
  },
  {
   "cell_type": "code",
   "execution_count": 61,
   "id": "b827b448-1759-48fe-910d-7acf44d62a31",
   "metadata": {},
   "outputs": [
    {
     "name": "stdout",
     "output_type": "stream",
     "text": [
      "My name is Sir Lancelot \n",
      "My name is Brian \n",
      "My name is Heisenberg !\n"
     ]
    }
   ],
   "source": [
    "# initialize cleese and chapman\n",
    "cleese = MontyPython(\"John\", \"Cleese\", [\"Sir Lancelot\", \"Reg\", \"Centurion\"])\n",
    "graham = MontyPython(\"Graham\", \"Chapman\", [\"Arthur, King of the Britons\", \"Brian\", \"Biggus Dickus\"])\n",
    "heisenberg = Person(\"Walter\", \"White\")\n",
    "\n",
    "# print roles\n",
    "cleese.alter_ego(0)\n",
    "graham.alter_ego(1)\n",
    "heisenberg.alter_ego(\"Heisenberg\", \"!\", \"\")\n",
    "\n",
    "# say my name\n",
    "cleese.say_my_name()\n",
    "graham.say_my_name()\n",
    "heisenberg.say_my_name()"
   ]
  },
  {
   "cell_type": "markdown",
   "id": "d27a691c-b02a-45bd-b142-286209c1bfa5",
   "metadata": {},
   "source": [
    "What happens?\n",
    "<details>\n",
    "    <summary><font color=\"orange\"><b>Click me!</b></font></summary>\n",
    "    We have redefined the alter_ego function for the new class. It replaces the old function but an instance of the parent class will still have the original function.\n",
    "</details>"
   ]
  },
  {
   "cell_type": "markdown",
   "id": "e50c10da-bd68-4762-b2ef-1457ae4120ea",
   "metadata": {
    "tags": []
   },
   "source": [
    "# Summary\n",
    "\n",
    "Now you should know:\n",
    " - What functions are in python and how to  use them\n",
    " - What does return, def and class mean?\n",
    " - what are arguments? What are parameters?\n",
    " - What is a keyword argument?\n",
    " - how to create a function\n",
    " - what is a local variable and a global one?\n",
    " - What are classes?\n",
    " - What is a constructor?\n",
    " - How can you write a basic class?\n",
    " - What is inheritance?\n",
    " - Howe can you use ineritance to improve our life"
   ]
  },
  {
   "cell_type": "markdown",
   "id": "c7c3e9d3-7432-46d8-9eed-4753f7610e4e",
   "metadata": {},
   "source": [
    "# Exercise 1\n",
    "\n",
    "What is the return value of the print function?\n"
   ]
  },
  {
   "cell_type": "markdown",
   "id": "7ca1cb5c-e983-4a9b-9f86-404477cb23ea",
   "metadata": {},
   "source": [
    "# Exercise 2\n",
    "\n",
    "Write a function that takes a positive number as an input and returns all prime numbers up to this number.\n",
    "Test it out!"
   ]
  },
  {
   "cell_type": "markdown",
   "id": "4629cedb-35b5-46e9-a1b4-6fa6171c1351",
   "metadata": {},
   "source": [
    "# Exercise 3\n",
    "\n",
    "Implement a \"calculator\" function, that takes two numbers and calculates any of our basic arithmetic operation on them."
   ]
  },
  {
   "cell_type": "markdown",
   "id": "9db3b685-1450-460b-a9ab-b25921f166fe",
   "metadata": {},
   "source": [
    "# Exercise 4\n",
    "\n",
    "Program another calculator, this time using a class for this. The calculator should be able to store intermediate results and perform\n",
    "basic arithmetics like a real calculator. Add a function named final_result() that prints out the final result and resets the calculator when called."
   ]
  },
  {
   "cell_type": "markdown",
   "id": "8516e393-002a-422e-b3d2-b33e99c05a76",
   "metadata": {},
   "source": [
    "# Exercise 5\n",
    "\n",
    "Model genomic regions, genes and transcription factor binding sites using classes without repeating yourself.\n",
    "Add attributes and at least one method (e.g. transcribe()) that would be common or different between those classes. What comes to mind?\n",
    "\n",
    "Create then example instances of these classses to test your code.\n",
    "\n",
    "Hint: Don't write any complicated methods! It's enough to indicate what the methods are supposed to do! \n"
   ]
  },
  {
   "cell_type": "markdown",
   "id": "22f4afc7-9cec-46a7-a538-b97ae681ab8d",
   "metadata": {},
   "source": [
    "< [4 - Control the flow](Python%20Crash%204%20-%20Control%20the%20flow.ipynb) | [Contents](Python%20Crash%20ToC.ipynb) | [6 - What could possibly go wrong?](Python%20Crash%206%20-%20What%20could%20possibly%20go%20wrong?.ipynb) >"
   ]
  }
 ],
 "metadata": {
  "kernelspec": {
   "display_name": "Python 3 (ipykernel)",
   "language": "python",
   "name": "python3"
  },
  "language_info": {
   "codemirror_mode": {
    "name": "ipython",
    "version": 3
   },
   "file_extension": ".py",
   "mimetype": "text/x-python",
   "name": "python",
   "nbconvert_exporter": "python",
   "pygments_lexer": "ipython3",
   "version": "3.11.0"
  }
 },
 "nbformat": 4,
 "nbformat_minor": 5
}
