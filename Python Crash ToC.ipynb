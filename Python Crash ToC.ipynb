{
 "cells": [
  {
   "cell_type": "markdown",
   "id": "db266e6a-ef51-47d3-af39-f8721c6eac99",
   "metadata": {},
   "source": [
    "# Python Programming Crash Course \n",
    "# Table of Content\n",
    "<br>\n",
    "<div>\n",
    "<img src=\"data/Python-logo-notext.svg\" width=\"200\"/>\n",
    "</div>\n",
    "\n",
    "By __[Marco Mernberger](https://github.com/MarcoMernberger)__<br>\n",
    "__[Institute of molecular Oncology](https://www.uni-marburg.de/en/fb20/departments/zti/imo)__<br>\n",
    "\n",
    "## Contents\n",
    "### __[Python Crash 1 - Hail Jupyter](Python%20Crash%201%20-%20Hail%20Jupyter.ipynb)__\n",
    "### __[Python Crash 2 - Literally variable](Python%20Crash%202%20-%20Literally%20variable.ipynb)__\n",
    "### __[Python Crash 3 - Am I your type?](Python%20Crash%203%20-%20Am%20I%20your%20type.ipynb)__\n",
    "### __[Python Crash 4 - Control the flow](Python%20Crash%204%20-%20Control%20the%20flow.ipynb)__\n",
    "### __[Python Crash 5 - Classy and functional](Python%20Crash%205%20-%20Classy%20and%20functional.ipynb)__\n",
    "### __[Python Crash 6 - What could possibly go wrong?](Python%20Crash%206%20-%20What%20could%20possibly%20go%20wrong?.ipynb)__\n",
    "### __[Python Crash 7 - Numbers and the matrix](Python%20Crash%207%20-%20Numbers%20and%20the%20matrix.ipynb)__\n",
    "### __[Python Crash 8 - Everyone loves pandas](Python%20Crash%208%20-%20Everyone%20loves%20pandas.ipynb)__\n",
    "### __[Python Crash 9 - Lego brick figures](Python%20Crash%209%20-%20Lego%20brick%20figures.ipynb)__\n",
    "### __[Python Crash 10 - Born at sea](Python%20Crash%2010%20-%20Born%20at%20sea.ipynb)__"
   ]
  }
 ],
 "metadata": {
  "kernelspec": {
   "display_name": "Python 3 (ipykernel)",
   "language": "python",
   "name": "python3"
  },
  "language_info": {
   "codemirror_mode": {
    "name": "ipython",
    "version": 3
   },
   "file_extension": ".py",
   "mimetype": "text/x-python",
   "name": "python",
   "nbconvert_exporter": "python",
   "pygments_lexer": "ipython3",
   "version": "3.12.3"
  }
 },
 "nbformat": 4,
 "nbformat_minor": 5
}
