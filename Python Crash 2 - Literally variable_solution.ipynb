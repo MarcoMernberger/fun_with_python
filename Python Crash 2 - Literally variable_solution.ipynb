{
 "cells": [
  {
   "cell_type": "markdown",
   "id": "49049325-9ce3-4e7d-a75e-0590334d1c60",
   "metadata": {},
   "source": [
    "# Python Programming Crash Course - \n",
    "# Literally variable\n",
    "<br>\n",
    "<div>\n",
    "<img src=\"data/Python-logo-notext.svg\" width=\"200\"/>\n",
    "</div>\n"
   ]
  },
  {
   "cell_type": "markdown",
   "id": "f17c2e97-8ee2-4c52-aaf8-c60fa29df591",
   "metadata": {},
   "source": [
    "Okay, so now we can evaluate expressions and write one-liner \"programs\". So what? We want to write multi-line programs or <font color='green'>**Scripts**</font>.\n",
    "\n",
    "## Writing scripts\n",
    "\n",
    "<font color='green'>**Scripts**</font> are basically just sets of instructions that the computer can execute in consecutive order.\n",
    "\n",
    "You can write such a script in a jupyter notebook, but if you want to send it to someone?\n",
    "Fortunately, writing programs in Python is very easy. Since python scripts are basically text files, you can just put it in a text file with the <font color='green'>**.py**</font> extension. \n",
    "\n",
    "Run the following script: "
   ]
  },
  {
   "cell_type": "code",
   "execution_count": 2,
   "id": "a44a907d-7632-42aa-b330-a2da4793d3dd",
   "metadata": {},
   "outputs": [
    {
     "name": "stdout",
     "output_type": "stream",
     "text": [
      "I'm a lumberjack, and I'm okay\n",
      "I sleep all night and I work all day\n",
      "He's a lumberjack, and he's okay\n",
      "He sleeps all night and he works all day\n",
      "I cut down trees, I eat my lunch\n",
      "I go to the lavatory\n",
      "On Wednesdays I go shoppin'\n",
      "And have buttered scones for tea\n"
     ]
    }
   ],
   "source": [
    "# a simple multi-line script\n",
    "print(\"I'm a lumberjack, and I'm okay\")\n",
    "print(\"I sleep all night and I work all day\")\n",
    "print(\"He's a lumberjack, and he's okay\")\n",
    "print(\"He sleeps all night and he works all day\")\n",
    "print(\"I cut down trees, I eat my lunch\")\n",
    "print(\"I go to the lavatory\")\n",
    "print(\"On Wednesdays I go shoppin'\")\n",
    "print(\"And have buttered scones for tea\")"
   ]
  },
  {
   "cell_type": "markdown",
   "id": "f010a34e-0709-47ef-b31d-228055ea92d7",
   "metadata": {},
   "source": [
    "As you can see, it prints each line in consecutive order.\n",
    "\n",
    "Now put it in a text file \"lumberjack.py\" in your local folder, summon a command line terminal, go to the folder and type:\n",
    "\n",
    "```bash\n",
    "python lumberjack.py\n",
    "```\n",
    "\n",
    "See what it does?\n",
    "\n",
    "Python files are just text files that contain Python code to be executed by the computer."
   ]
  },
  {
   "cell_type": "code",
   "execution_count": 3,
   "id": "4aaab78a-6713-494a-b544-500cae97ba10",
   "metadata": {},
   "outputs": [],
   "source": [
    "# run from here"
   ]
  },
  {
   "cell_type": "markdown",
   "id": "bb6af2b4-b7f6-438f-b8ba-50e6a9c60eb1",
   "metadata": {},
   "source": [
    "## Input and more on I/O\n",
    "\n",
    "Using **`print()`** we can create output.\n",
    "Let's get some input as well. You can do that using another <font color=\"green\">**build-in function**</font>: **`input()`**."
   ]
  },
  {
   "cell_type": "code",
   "execution_count": 4,
   "id": "b4efbe37-301c-4112-b8c3-d80ab94f9f5d",
   "metadata": {},
   "outputs": [
    {
     "name": "stdin",
     "output_type": "stream",
     "text": [
      "What are you? sdf\n"
     ]
    },
    {
     "name": "stdout",
     "output_type": "stream",
     "text": [
      "I'm sdf and I'm okay!\n"
     ]
    }
   ],
   "source": [
    "what = input(\"What are you?\")\n",
    "print(\"I'm\", what, \"and I'm okay!\")"
   ]
  },
  {
   "cell_type": "markdown",
   "id": "5be4843f-e946-4717-831d-6129b9c1af27",
   "metadata": {},
   "source": [
    "Using the build in **`input()`** function, you can let the user enter an input and assign it to a variable."
   ]
  },
  {
   "cell_type": "markdown",
   "id": "af3c13c7-3ff7-4e91-a9aa-8f97b55380db",
   "metadata": {},
   "source": [
    "But input and output can also mean writing something to a file or read a file.\n",
    "\n",
    "For this you need **`open()`**."
   ]
  },
  {
   "cell_type": "code",
   "execution_count": 10,
   "id": "11edce6b-52d4-41bc-ae74-fb85ac1d8617",
   "metadata": {},
   "outputs": [
    {
     "name": "stdout",
     "output_type": "stream",
     "text": [
      "# a simple script\n",
      "\n"
     ]
    }
   ],
   "source": [
    "# read something\n",
    "my_file = open(\"lumberjack.py\", \"r\")  # read\n",
    "line = my_file.readline()\n",
    "my_file.close()\n",
    "print(line)"
   ]
  },
  {
   "cell_type": "code",
   "execution_count": 11,
   "id": "cde212c7-d6d1-491f-a89d-9f9c78495d5c",
   "metadata": {},
   "outputs": [],
   "source": [
    "# write something\n",
    "my_file = open(\"lumberjack2.py\", \"w\")\n",
    "my_file.write(\"Something\")\n",
    "my_file.close()"
   ]
  },
  {
   "cell_type": "markdown",
   "id": "c2e919b9-d047-4b17-a207-7c1f9a47ee30",
   "metadata": {},
   "source": [
    "**`open()`** let's you open a file and either read it or write it. \n",
    "\n",
    "If you want to read, you use\n",
    "```Python\n",
    "open(\"lumberjack.py\", \"r\")\n",
    "```\n",
    "if you want to write, you replace that \"r\" with \"w\":\n",
    "\n",
    "```Python\n",
    "open(\"lumberjack.py\", \"w\")\n",
    "```\n",
    "Obviously, if you open something, you better close it when you're done!"
   ]
  },
  {
   "cell_type": "markdown",
   "id": "b65664c6-27b3-486a-bd02-8e2f15763705",
   "metadata": {},
   "source": [
    "## Variables and Literals\n",
    "\n",
    "In the last part, we used a variable for the first time! Before that, we were just typing in expressions.\n",
    "\n",
    "With simple math expressions, we did something like this:"
   ]
  },
  {
   "cell_type": "code",
   "execution_count": 29,
   "id": "0ee7c3f3-3fb9-463b-bcb3-275df6dcc50d",
   "metadata": {},
   "outputs": [
    {
     "data": {
      "text/plain": [
       "45"
      ]
     },
     "execution_count": 29,
     "metadata": {},
     "output_type": "execute_result"
    }
   ],
   "source": [
    "15 + 30  # a literal plus another literal"
   ]
  },
  {
   "cell_type": "markdown",
   "id": "fc7a4023-9202-40f8-a67d-9acacc2d0641",
   "metadata": {},
   "source": [
    "\n",
    "That just gives the result as an output and then it's gone. If we want to work with the value, we need to store it.\n",
    "\n",
    "A <font color='green'>**variable**</font> stores a value, that can later be looked at or manipulated. The actual\n",
    "value, that is directly represented in the code is called a <font color='green'>**literal**</font>.\n",
    "\n",
    "In the example above, 15 and 30 would be literals, and <font color='purple'>**+**</font> is called an <font color='green'>**operator**</font>!\n",
    "\n",
    "You assign a value to a variable using the <font color='purple'>**=**</font> <font color='green'>**operator**</font>.\n"
   ]
  },
  {
   "cell_type": "code",
   "execution_count": 5,
   "id": "761d9616-6dd1-4987-a06d-d4c52c6cc534",
   "metadata": {},
   "outputs": [
    {
     "name": "stdout",
     "output_type": "stream",
     "text": [
      "How old is John Cleese?\n",
      "John Cleese was born in 1939 ...\n",
      "Now we're in year 2024 ...\n",
      "That means John Cleese is about 85 years old!\n",
      "Next year, hopefully, he will turn 86 !\n"
     ]
    }
   ],
   "source": [
    "# A script using variables\n",
    "print(\"How old is John Cleese?\")\n",
    "birth_year = 1939\n",
    "this_year = 2024\n",
    "print(\"John Cleese was born in\", birth_year, \"...\")\n",
    "print(\"Now we're in year\", this_year, \"...\")\n",
    "johns_age = this_year - birth_year\n",
    "print(\"That means John Cleese is about\", johns_age, \"years old!\")\n",
    "johns_age = johns_age + 1\n",
    "print(\"Next year, hopefully, he will turn\", johns_age, \"!\")"
   ]
  },
  {
   "cell_type": "markdown",
   "id": "460cdcca-7215-4174-a319-1e7f3774f51a",
   "metadata": {},
   "source": [
    "A <font color='green'>**variable**</font> can be named as you wish. But there are some rules and conventions:\n",
    "    \n",
    " - must start always with letter\n",
    " - may not contain operator symbols\n",
    " - may only contain alphanumeric numbers and underscores \"_\"\n",
    " - may not be a reserved <font color='green'>**keyword**</font> \n",
    "\n",
    "Currently (python 3.12), there are 36 <font color='green'>**keywords**</font> that have a special meaning and \n",
    "cannot be used as variable names:\n",
    "\n",
    "**Keywords in Python**\n",
    "\n",
    "|     |     |     |     |\n",
    "|:----|:----|:----|:----|\n",
    "| **`False`** | **`break`** | **`for`** | **`not`** |\n",
    "| **`None`**  | **`class`** | **`from`** | **`or`** |\n",
    "| **`True`**  | **`continue`** | **`global`** | **`pass`** |\n",
    "| **`__peg_parser__`** |**`def`** | **`if`** | **`raise`** |\n",
    "| **`and`** | **`del`** | **`import`** | **`return`** |\n",
    "| **`as`** | **`elif`** | **`in`** | **`try`** |\n",
    "| **`assert`** | **`else`** | **`is`** | **`while`** |\n",
    "| **`async`** | **`except`** | **`lambda`** | **`with`** |\n",
    "| **`await`** | **`finally`** | **`nonlocal`** |  **`yield`**  |\n",
    "\n",
    "We will during this course find out what most of these <font color='green'>**keywords**</font> mean and when to use them.\n",
    "Stay tuned!"
   ]
  },
  {
   "cell_type": "code",
   "execution_count": 7,
   "id": "d5040c32-3fc5-4b63-9270-a873b884dc9f",
   "metadata": {},
   "outputs": [
    {
     "name": "stdout",
     "output_type": "stream",
     "text": [
      "\n",
      "Here is a list of the Python keywords.  Enter any keyword to get more help.\n",
      "\n",
      "False               class               from                or\n",
      "None                continue            global              pass\n",
      "True                def                 if                  raise\n",
      "and                 del                 import              return\n",
      "as                  elif                in                  try\n",
      "assert              else                is                  while\n",
      "async               except              lambda              with\n",
      "await               finally             nonlocal            yield\n",
      "break               for                 not                 \n",
      "\n"
     ]
    }
   ],
   "source": [
    "# If you don't know your keywords ...\n",
    "help(\"keywords\")"
   ]
  },
  {
   "cell_type": "markdown",
   "id": "52c94031-d75c-4c21-b626-829d5f469f5c",
   "metadata": {},
   "source": [
    "You should always use meaningful names, if it's a variable that you use later, so\n",
    "\n",
    "```python\n",
    "birth_year = 1939\n",
    "```\n",
    "is better than \n",
    "```python\n",
    "x = 1939\n",
    "```\n",
    "<font color='#a71ed9'>**=**</font>"
   ]
  },
  {
   "cell_type": "markdown",
   "id": "25811a0a-97a1-461f-818f-6229da756d80",
   "metadata": {
    "tags": []
   },
   "source": [
    "## Operators\n",
    "\n",
    "What are operators in python?\n",
    "\n",
    "Operators are special symbols in Python that carry out <font color='green'>**arithmetic**</font> (as seen above) or <font color='green'>**logical**</font> computation.\\\n",
    "The value that the operator operates on is called the <font color='green'>**operand**</font>.\n",
    "\n",
    "If we want to do something with values, we need to know the <font color='green'>**operators**</font>\n",
    "\n",
    "#### Arithmetic Operations in Python:\n",
    "\n",
    "| symbol | operation | example |\n",
    "| - | - | - |\n",
    "|<font color='#a71ed9'><b>+</b></font> |addition | 6 + 3 |\n",
    "|<font color='#a71ed9'><b>-</b></font> |subtraction | 6 - 3|\n",
    "|<font color='#a71ed9'><b>*</b></font> | multiplication | 6 * 3|\n",
    "|<font color='#a71ed9'><b>/</b></font> | division | 6 / 3|\n",
    "|<font color='#a71ed9'><b>//</b></font> | floor division | 5 // 3|\n",
    "|<font color='#a71ed9'><b>%</b></font> | remainder | 6 % 3|\n",
    "|<font color='#a71ed9'><b>**</b></font>| exponentiation | 6 ** 3|"
   ]
  },
  {
   "cell_type": "markdown",
   "id": "46cb1765-bd33-4a15-9a06-3aeb51eb37b8",
   "metadata": {},
   "source": [
    "#### Order of operations\n",
    "\n",
    "Remember that thing called order of operation that they taught in maths? \n",
    "\n",
    "This applies in Python, too, it's called <font color=green>**order of precedence**</font>. Here it is, if you need reminding:<br>\n",
    "\n",
    "1. Parentheses `()`\n",
    "2. Exponents `**`\n",
    "3. Multiplication `*`, division `/` and remainder `%`\n",
    "4. Addition `+` and subtraction `-`\n"
   ]
  },
  {
   "cell_type": "markdown",
   "id": "a9feb54d-8d1c-4a6d-a689-d4db2d9ba10d",
   "metadata": {},
   "source": [
    "So what is\n",
    "```python\n",
    "12 * 3 + 4 - (23 // (7 - 2))\n",
    "```\n",
    "\n",
    "And what is the order of evaluation?"
   ]
  },
  {
   "cell_type": "markdown",
   "id": "6c76af46-eaa7-4066-87d1-486423bc0485",
   "metadata": {},
   "source": [
    "But there is not only arithmetic, you also sometimes need to compare things or find out, if something is the truth.\n",
    "\n",
    "#### Comparative and Logic Operations in Python:\n",
    "\n",
    "| symbol | operation | example | usage | \n",
    "| - | - | - | - |\n",
    "| <font color='#a71ed9'>**==**</font> | equality | `a == b` | is a equal to b? |\n",
    "| <font color='#a71ed9'>**!=**</font> | inequality | `a != b` | is a unequal to b? |\n",
    "| <font color='#a71ed9'>**>**</font> | greater | `a > b` | is a larger than b? |\n",
    "| <font color='#a71ed9'>**<**</font> | lower | `a < b` | is a smaller than b? |\n",
    "| <font color='#a71ed9'>**and**</font> | logical and | `a and b` | are a and b both true? | \n",
    "| <font color='#a71ed9'>**or**</font> | logical or | `a or b` | is either a or b true? |\n",
    "| <font color='#a71ed9'>**not**</font> | logical not | `not b` | is b not true? |\n",
    "| <font color='#a71ed9'>**&**</font> | bitwise and | `1&1` | are all the bits true? |\n",
    "| <font color='#a71ed9'>**\\|**</font> | bitwise or | `0\\|1` | is any bit true? |\n",
    "| <font color='#a71ed9'>**~**</font> | bitwise not | `~b` | is b not true? |\n"
   ]
  },
  {
   "cell_type": "markdown",
   "id": "555026d2-3d49-4d3f-b9b5-b57a4372eed1",
   "metadata": {},
   "source": [
    "We have to figure in these operators in the <font color=green>**order of precedence**</font> as well.\n",
    "\n",
    "So here's a more comprehensive list of <font color=green>**precedences**</font>\n",
    "\n",
    "<br>\n",
    "<div>\n",
    "<img src=\"data/1 YFEPvz5rHtCn1nmzEcfVAw.webp\" width=\"600\"/>\n",
    "</div>"
   ]
  },
  {
   "cell_type": "markdown",
   "id": "ae0cc86c-029e-4def-868a-f9eaed67a1bd",
   "metadata": {},
   "source": [
    "## What to do with variables and operators\n",
    "\n",
    "Great! Let's do something with variables!"
   ]
  },
  {
   "cell_type": "code",
   "execution_count": 6,
   "id": "6b0402db-a4a0-41e2-8499-ace0e4f0d235",
   "metadata": {},
   "outputs": [],
   "source": [
    "johns_birth_year = 1939\n",
    "grahams_birth_year = 1941\n",
    "erics_birth_year = 1943\n",
    "michaels_birth_year = 1943\n",
    "terry_gilliams_birth_year = 1940\n",
    "terry_jones_birth_year = 1942\n",
    "today = 2024"
   ]
  },
  {
   "cell_type": "markdown",
   "id": "b8c7f00f-936c-41d2-90b3-e6f85b5683e0",
   "metadata": {},
   "source": [
    "Is John older than Eric? And how old are they?"
   ]
  },
  {
   "cell_type": "code",
   "execution_count": 13,
   "id": "a5f4e2ce-07fc-466b-bcbe-85b08b4c44f7",
   "metadata": {},
   "outputs": [
    {
     "name": "stdout",
     "output_type": "stream",
     "text": [
      "John's age is: 85\n",
      "Eric's age is: 81\n",
      "Is john older? True\n"
     ]
    }
   ],
   "source": [
    "johns_age = today - johns_birth_year\n",
    "erics_age = today - erics_birth_year\n",
    "is_john_older = johns_age > erics_age\n",
    "print(\"John's age is:\", johns_age)\n",
    "print(\"Eric's age is:\", erics_age)\n",
    "print(\"Is john older?\", is_john_older)"
   ]
  },
  {
   "cell_type": "markdown",
   "id": "dce1c547-2d80-4498-bd0b-3ed584a7f34a",
   "metadata": {},
   "source": [
    "The expression \n",
    "\n",
    "```python\n",
    "johns_age > erics_age\n",
    "```\n",
    "is called a <font color='green'>**boolean expression**</font>, it is either <font color='#3da831'>**True**</font> or <font color='#3da831'>**False**</font>.\n",
    "\\\n",
    "Is Terry younger than Graham? How old are they?"
   ]
  },
  {
   "cell_type": "code",
   "execution_count": 12,
   "id": "e5018241-193d-4c17-8d22-ea47d3e17ff3",
   "metadata": {},
   "outputs": [
    {
     "name": "stdout",
     "output_type": "stream",
     "text": [
      "Terry's age is: 84\n",
      "Graham's age is: 83\n",
      "Is Terry younger? False\n"
     ]
    }
   ],
   "source": [
    "terrys_age = today - terry_gilliams_birth_year\n",
    "grahams_age = today - grahams_birth_year\n",
    "is_graham_older = terrys_age < grahams_age\n",
    "print(\"Terry's age is:\", terrys_age)\n",
    "print(\"Graham's age is:\", grahams_age)\n",
    "print(\"Is Terry younger?\", is_graham_older)"
   ]
  },
  {
   "cell_type": "markdown",
   "id": "6d757125-d53b-43e0-829a-296d817e159f",
   "metadata": {},
   "source": [
    "Is Michael as old as Eric?"
   ]
  },
  {
   "cell_type": "code",
   "execution_count": 23,
   "id": "f1b3a228-15c9-47ba-914d-1a2273962b39",
   "metadata": {},
   "outputs": [
    {
     "name": "stdout",
     "output_type": "stream",
     "text": [
      "Is Michael as old as Eric? True\n"
     ]
    }
   ],
   "source": [
    "same_age = michaels_birth_year == erics_birth_year\n",
    "\n",
    "print(\"Is Michael as old as Eric?\", same_age)"
   ]
  },
  {
   "cell_type": "markdown",
   "id": "a5aa5084-a349-45d5-b8d4-2ff08481ae74",
   "metadata": {},
   "source": [
    "Are Terry and John together older than Eric and Graham together?"
   ]
  },
  {
   "cell_type": "code",
   "execution_count": 24,
   "id": "464c8fe4-9d00-4657-b9f8-dbc07774f4df",
   "metadata": {},
   "outputs": [
    {
     "name": "stdout",
     "output_type": "stream",
     "text": [
      "Well, are they? True\n"
     ]
    }
   ],
   "source": [
    "tj_versus_eg = (terrys_age + johns_age) > (erics_age + grahams_age)\n",
    "print(\"Well, are they?\", tj_versus_eg)"
   ]
  },
  {
   "cell_type": "markdown",
   "id": "bba3705a-02df-46ee-8be5-726bbdbc6584",
   "metadata": {},
   "source": [
    "Let's practice some precedences:\n",
    "\n",
    "What is the order of precedence here and what result do we get?\n",
    "\n",
    "```python\n",
    "result = 10 + 5 * 8 / 2 * 3\n",
    "\n",
    "result = (10 + 5) * 8 / 2\n",
    "\n",
    "result = terrys_age + grahams_age > johns_age \n",
    "\n",
    "result = (10 + 5) * (20 / 4) + (8 % 3) ** 2\n",
    "\n",
    "x = 5\n",
    "y = 10\n",
    "z = 15\n",
    "result = x < y and y > z or z == 15\n",
    "\n",
    "result = True or False and not True\n",
    "```"
   ]
  },
  {
   "cell_type": "code",
   "execution_count": 39,
   "id": "46cf1d3e-966a-47a5-9cb9-7bbb56a8a96e",
   "metadata": {},
   "outputs": [
    {
     "data": {
      "text/plain": [
       "True"
      ]
     },
     "execution_count": 39,
     "metadata": {},
     "output_type": "execute_result"
    }
   ],
   "source": []
  },
  {
   "cell_type": "markdown",
   "id": "a8f2a097-e475-40df-93f2-f055687a0242",
   "metadata": {},
   "source": [
    "And now for something completely different!\n",
    "\n",
    "Let's try some more operators, let's try division:\n",
    "\n",
    "Remember the operators <font color='#a71ed9'>**/**</font>, <font color='#a71ed9'>**//**</font> and <font color='#a71ed9'>**%**</font>?\n",
    "\n",
    "What's the difference?\n",
    "\n",
    "What is \n",
    "\n",
    "```python\n",
    "What is 13 / 4? What is 13 // 4? What is 13 % 4? \n",
    "```\n",
    "\n",
    "Are they the same?"
   ]
  },
  {
   "cell_type": "code",
   "execution_count": 44,
   "id": "be9b4f09-d281-4fa3-b590-0e03e305ca6d",
   "metadata": {},
   "outputs": [
    {
     "name": "stdout",
     "output_type": "stream",
     "text": [
      "13 / 4 = 3.25\n",
      "13 // 4 = 3\n",
      "13 % 4 = 1\n",
      "Are they the same? False\n"
     ]
    }
   ],
   "source": [
    "div_13 = 13 / 4\n",
    "div_floor_13 = 13 // 4\n",
    "div_remainder_13 = 13 % 3\n",
    "\n",
    "are_all_equal = div_13 == div_floor_13 == div_remainder_13\n",
    "\n",
    "print(\"13 / 4 =\", div_13)\n",
    "print(\"13 // 4 =\", div_floor_13)\n",
    "print(\"13 % 4 =\", div_remainder_13)\n",
    "\n",
    "print(\"Are they the same?\", are_all_equal)"
   ]
  },
  {
   "cell_type": "markdown",
   "id": "70ae171d-e521-4a0d-a0db-d16daee00230",
   "metadata": {},
   "source": [
    "What about this?\n",
    "\n",
    "```python\n",
    "What is 16 / 4? \n",
    "What is 16 // 4 ?\n",
    "```\n",
    "\n",
    "Are these two expressions the same?"
   ]
  },
  {
   "cell_type": "code",
   "execution_count": 55,
   "id": "4c247d29-28ad-4f53-b9b2-72c4fa1a3cbf",
   "metadata": {},
   "outputs": [
    {
     "name": "stdout",
     "output_type": "stream",
     "text": [
      "16 / 4  = 4.0\n",
      "16 // 4 = 4\n",
      "\n",
      "Are they the same? True\n"
     ]
    }
   ],
   "source": [
    "div_16 = 16 / 4\n",
    "div_floor_16 = 16 // 4\n",
    "\n",
    "print(\"16 / 4  =\", div_16)\n",
    "print(\"16 // 4 =\", div_floor_16)\n",
    "\n",
    "div_equals_floor_div = div_16 == div_floor_16 \n",
    "\n",
    "print(\"\\nAre they the same?\", div_equals_floor_div)"
   ]
  },
  {
   "cell_type": "markdown",
   "id": "c97ab1ea-8836-43f7-b8a3-0909757e84a1",
   "metadata": {},
   "source": [
    "Allright, the result is 4, sure ... but what about the decimal point <font color='green'>_**4.0**_</font>? \n",
    "\n",
    "This brings us to data types ... Which we will deal with in the next session!   "
   ]
  },
  {
   "cell_type": "markdown",
   "id": "646bfcbf-3197-4c9b-b8d5-cc7c5f19f826",
   "metadata": {},
   "source": [
    "\n",
    "# Exercises\n",
    "\n",
    "## Exercise 1:\n",
    "\n",
    "What is the mean age of all Monty Python members? (Neglecting for now the exact day of birth, as above!)"
   ]
  },
  {
   "cell_type": "code",
   "execution_count": 8,
   "id": "8543e230-612a-440b-b6c9-6940e87b6665",
   "metadata": {},
   "outputs": [
    {
     "name": "stdout",
     "output_type": "stream",
     "text": [
      "82.66666666666667\n"
     ]
    }
   ],
   "source": [
    "sum_age = (today - johns_birth_year) + (today - grahams_birth_year) + (today - erics_birth_year) + (today - michaels_birth_year) + (today - terry_gilliams_birth_year) + (today - terry_jones_birth_year)\n",
    "mean_age = sum_age / 6\n",
    "print(mean_age)"
   ]
  },
  {
   "cell_type": "markdown",
   "id": "f8cbf5d9-e0e6-4955-8ef8-bb295fe5259d",
   "metadata": {},
   "source": [
    "## Exercise 2:\n",
    "\n",
    "Guess the output and evaluate the following expressions, considering operator precedence:\n",
    "\n",
    "    a) 2 + 3 * 4\n",
    "\n",
    "    b) (2 + 3) * 4\n",
    "\n",
    "    c) 2 * 3 ** 2\n",
    "\n",
    "    d) 2 + 3 // 2\n",
    "\n",
    "    e) 10 / 2 + 5\n",
    "\n",
    "    f) print(10 > 5 and 5 < 3)\n",
    "\n",
    "    g) print(3 + 4 * 5 > 5 * 2 + 3)\n",
    "\n",
    "    h) print(10 != 5 or 3 > 5)\n",
    "\n",
    "    i) print(not (3 < 5 and 2 < 1))"
   ]
  },
  {
   "cell_type": "code",
   "execution_count": 9,
   "id": "63ed4c3b-ce93-4e9e-a654-ca545fe14fc8",
   "metadata": {},
   "outputs": [
    {
     "name": "stdout",
     "output_type": "stream",
     "text": [
      "14\n",
      "20\n",
      "18\n",
      "3\n",
      "10.0\n",
      "False\n",
      "True\n",
      "True\n",
      "True\n"
     ]
    }
   ],
   "source": [
    "print(2 + 3 * 4)\n",
    "\n",
    "print((2 + 3) * 4)\n",
    "\n",
    "print(2 * 3 ** 2)\n",
    "\n",
    "print(2 + 3 // 2)\n",
    "\n",
    "print(10 / 2 + 5)\n",
    "\n",
    "print(10 > 5 and 5 < 3)\n",
    "\n",
    "print(3 + 4 * 5 > 5 * 2 + 3)\n",
    "\n",
    "print(10 != 5 or 3 > 5)\n",
    "\n",
    "print(not (3 < 5 and 2 < 1))"
   ]
  },
  {
   "cell_type": "markdown",
   "id": "9172db20-a5ee-479e-aab5-1b8875f1bed5",
   "metadata": {},
   "source": [
    "## Exercise 3:    \n",
    "\n",
    "Rewrite the following expressions to make them more readable by explicitly specifying the operator precedence using parentheses:\n",
    "\n",
    "    a) result = 3 + 4 * 5 / 2\n",
    "\n",
    "    b) result = 10 > 5 and 5 < 3 or 3 + 4 * 5 > 5 * 2 + 3\n",
    "\n",
    "    c) result = 3 * 2 ** 2 - 1\n",
    "\n",
    "    d) result = 3 + 5 * 2 // 4\n"
   ]
  },
  {
   "cell_type": "code",
   "execution_count": 10,
   "id": "57566e66-9b1f-40f1-a4cd-39d557773391",
   "metadata": {},
   "outputs": [],
   "source": [
    "# a\n",
    "result = (3 + ((4 * 5) / 2))\n",
    "\n",
    "# b\n",
    "result = (((10 > 5) and (5 < 3)) or ((3 + (4 * 5)) > ((5 * 2) + 3)))\n",
    "\n",
    "# c \n",
    "result = ((3 * (2 ** 2)) - 1)\n",
    "\n",
    "# d \n",
    "result = (3 + ((5 * 2) // 4))"
   ]
  },
  {
   "cell_type": "markdown",
   "id": "d4574f73-8d66-4166-b830-7b9e90753f0b",
   "metadata": {},
   "source": [
    "## Exercise 4:\n",
    "\n",
    "What is the result here? Can you guess why?\n",
    "\n",
    "result = terrys_age + (grahams_age < johns_age) "
   ]
  },
  {
   "cell_type": "code",
   "execution_count": 15,
   "id": "5205a871-69bd-48b5-bf43-114f880c1179",
   "metadata": {},
   "outputs": [
    {
     "name": "stdout",
     "output_type": "stream",
     "text": [
      "85\n"
     ]
    }
   ],
   "source": [
    "result = terrys_age + (grahams_age < johns_age) \n",
    "print(result)"
   ]
  },
  {
   "cell_type": "markdown",
   "id": "72107859-eb95-4639-b408-92346538eef7",
   "metadata": {},
   "source": [
    "## Exercise 5:\n",
    "\n",
    "Create a file called \"poem.py\" from the cell below that contains a script that asks your name and then prints out a greeting followed by your favourite poem on screen.\n",
    "\n",
    "Then run it from within this notebook!"
   ]
  },
  {
   "cell_type": "code",
   "execution_count": 29,
   "id": "8366eb74-43e6-44b2-b4ff-b8da72364104",
   "metadata": {},
   "outputs": [],
   "source": [
    "my_file = open(\"poem.py\", \"w\")\n",
    "my_file.write(\"name = input(\\\"What is your name?\\\")\\n\")\n",
    "my_file.write(\"print(\\\"Hello\\\", name)\\n\")\n",
    "my_file.write(\"print(\\\"Beloved gaze in thine own heart,\\\")\\n\")\n",
    "my_file.write(\"print(\\\"the holy tree is growing there.\\\")\\n\")\n",
    "my_file.write(\"print(\\\"From joy the holy brnaches dart\\\")\\n\")\n",
    "my_file.write(\"print(\\\"and all the trembling flowers they bear.\\\")\\n\")\n",
    "my_file.close()"
   ]
  },
  {
   "cell_type": "markdown",
   "id": "0e0165c5-22b9-4939-a8bf-12ab0838c5af",
   "metadata": {},
   "source": [
    "< [1 - Hail Jupyter](Python%20Crash%201%20-%20Hail%20Jupyter.ipynb) | [Contents](Python%20Crash%20ToC.ipynb) | [3 - Am I your type?](Python%20Crash%203%20-%20Am%20I%20your%20type.ipynb) >"
   ]
  }
 ],
 "metadata": {
  "kernelspec": {
   "display_name": "Python 3 (ipykernel)",
   "language": "python",
   "name": "python3"
  },
  "language_info": {
   "codemirror_mode": {
    "name": "ipython",
    "version": 3
   },
   "file_extension": ".py",
   "mimetype": "text/x-python",
   "name": "python",
   "nbconvert_exporter": "python",
   "pygments_lexer": "ipython3",
   "version": "3.11.0"
  }
 },
 "nbformat": 4,
 "nbformat_minor": 5
}
