{
 "cells": [
  {
   "cell_type": "markdown",
   "id": "49049325-9ce3-4e7d-a75e-0590334d1c60",
   "metadata": {},
   "source": [
    "# Python Programming Crash Course \n",
    "# 1 - Hail Jupyter\n",
    "<br>\n",
    "<div>\n",
    "<img src=\"data/Python-logo-notext.svg\" width=\"200\"/>\n",
    "</div>\n"
   ]
  },
  {
   "cell_type": "markdown",
   "id": "ac057646-8750-4497-970b-99bc633ceb50",
   "metadata": {},
   "source": [
    "\n",
    "## Brief Overview of Python\n",
    "\n",
    "#### What is Python?\n",
    "\n",
    "Python is an object-oriented programming (OOP) language created by Guido van Rossum and named after the great Monty Python's Flying Circus \n",
    "\n",
    "<br>\n",
    "<div>\n",
    "<img src=\"data/monty.jpg\" width=\"500\"/>\n",
    "</div>\n",
    "\n",
    "\n",
    " - **general-purpose** - you can do all kinds of crazy shit with it\n",
    " - **modern** - it's modern and being continually developed \n",
    " - **oject-oriented** - everything in Python is an object\n",
    " - **dynamic** - some values, types, functions are determined at runtime rather than during compilation\n",
    " - **robust** - reliable, fault-tolerant, reasonable error-handling\n",
    " - **high level** - it's human-readable\n",
    " - **interpreted** - code can be executed line by line by an interpreter\n",
    "\n",
    "#### What is a programming language?\n",
    "\n",
    "Basically, it's a language. To speak it, you need to know the words, as with all languages.\n",
    "\n",
    "Computers can perform millions of calculations per second, but they require us to tell them exactly what to do. \n",
    "If they do something else than we want them to do the problem is usually that they don't understand our instructions \n",
    "the way we understand them.\n",
    "\n",
    "The only big difference between programming and what you're already familiar with is that instead of clicking buttons we write the instructions what to do using a <font color='green'>**programming language**</font>. \n",
    "Most programming languages consist of English <font color='green'>**words**, **digits**</font> and some special <font color='green'>**characters**</font> that have special meanings.\n",
    "\n",
    "A <font color='green'>**programming language**</font> is a formal language comprising a set of instructions that produce various kinds of output. \n",
    "It is used to create programs that control the behavior of a computer and accomplish specific tasks. \n",
    "Programming languages allow humans to communicate instructions to computers, enabling them to perform operations, manipulate data and solve problems. The instructions we write we call <font color='green'>**code**</font>.\n",
    "\n",
    "Programming languages vary in their _syntax_, _semantics_ and purpose. They can be broadly categorized into <font color='green'>__low-level__</font> languages, which are closely tied to the architecture of a specific computer and <font color='green'>__high-level__</font> languages, which are closer to human language and more readable (e.g. Python, Java, C++).\n",
    "\n",
    "The <font color='green'>**code**</font> we write, usually in a glorified text editor or word processor is usually\n",
    "more or less human-readable.\\\n",
    "This human-readable text has to be translated into something machine-readable, i.e. a set\n",
    "of machine instructions that the computer can understand and execute. \n",
    "\n",
    "The process of translation is called <font color='green'>**compilation**</font> and performed by a special program called <font color='green'>**compiler**</font>. \n",
    "Another type of program that can understand human-readable instructions and do this translation and execute your command is called an <font color='green'>**interpreter**</font> and might look like this in case of Python:\n",
    "\n",
    "<br>\n",
    "<div>\n",
    "<img src=\"data/interpreter.svg\" width=\"600\"/>\n",
    "</div>\n",
    "\n",
    "Each programming language has its strengths and weaknesses, and the choice of language often depends on factors such as the task at hand, performance requirements, available libraries and frameworks, and developer preferences.\n",
    "\n",
    "Python is especially well suited for data exploration and visualization. And basically everything &#128512;\n",
    "\n",
    "#### What can I do with Python?\n",
    "\n",
    "For example:\n",
    "- web development\n",
    "- data science\n",
    "- data analysis\n",
    "- data visualization\n",
    "- scripting and tooling\n",
    "- creating software prototypes\n",
    "- machine learning\n",
    "- game development\n",
    "- and much more\n",
    "\n",
    "#### What do I need?\n",
    "\n",
    "You don't need to be good at math! \n",
    "\n",
    "You need to like Monty Python, obviuosly. \n",
    "\n",
    "Okay, you also need a Python installation (shipped with Anaconda), some sort of text editor or Jupyter and some curiosity.\n"
   ]
  },
  {
   "cell_type": "markdown",
   "id": "98140719-50d7-4807-97f2-7d440e4edca0",
   "metadata": {},
   "source": [
    "## Brief Overview of Jupyter\n",
    "\n",
    "#### What is Jupyter?\n",
    "\n",
    "Jupyter is an open-source project that provides an interactive computing environment for creating and sharing \n",
    "documents that can contain live code (executable), equations, visualizations, tables, and narrative text. \n",
    "\n",
    "Jupyter supports the programming languages Julia, Python and R (hence the name!).\n",
    "\n",
    "#### What is a Jupyter Notebook?\n",
    "\n",
    "Notebooks are the core components of jupyter, the documents that you create. \n",
    "This document is a jupyter notebook.\n",
    "\n",
    "#### Why is Jupyter awesome?\n",
    "\n",
    "Jupyter notebooks ...\n",
    "\n",
    " - are **interactive** - Execute code and see the result immediately\n",
    " - support multiple languages (Julia, Python, R)\n",
    " - allow **rich output** - display plain text, formatted text, Markdown, HTML, images and more\n",
    " - support collaboration and **sharing**\n",
    " - are **extensible**\n",
    " - supports data analysis and visualization\n",
    "\n",
    "#### What are the components of a Jupyter notebook?\n",
    "\n",
    " - <font color='green'>**kernel**</font>: A kernel is a “computational engine” that executes the code contained in a notebook\n",
    " - <font color='green'>**cell**</font>: A cell is a container for text to be displayed in the notebook or code to be executed by the notebook’s kernel.\n",
    "     - <font color='green'>_**code**_</font> cells - contains code to be executed by the kernel\n",
    "     - <font color='green'>_**markdown**_</font> cell - contains text formatted using Markdown (this is a markdown cell!)\n",
    "     - <font color='green'>_**raw NBConvert**_</font> cell - just raw text, the kernel does not interpret this\n",
    " - <font color='green'>**mode**</font>: You can be either in _Edit Mode_ or _Command Mode_\n",
    "     - <font color='green'>_**Edit Mode**_</font> - write text into your cell\n",
    "     - <font color='green'>_**Command Mode**_</font> - manipulate the cell/Notebook itself\n",
    "  \n",
    "#### Example cells:"
   ]
  },
  {
   "cell_type": "code",
   "execution_count": 1,
   "id": "c29cdac0-3db3-4082-b740-3e661b827393",
   "metadata": {},
   "outputs": [
    {
     "name": "stdout",
     "output_type": "stream",
     "text": [
      "something\n"
     ]
    }
   ],
   "source": [
    "# I am a code cell\n",
    "print(\"something\")"
   ]
  },
  {
   "cell_type": "markdown",
   "id": "8fcfc6fc-2953-4422-a323-90fc91fcb398",
   "metadata": {},
   "source": [
    "I am a markdown cell"
   ]
  },
  {
   "cell_type": "raw",
   "id": "99397f01-5963-4ba4-bd27-609ae1b4ef62",
   "metadata": {},
   "source": [
    "I am a raw text cell"
   ]
  },
  {
   "cell_type": "markdown",
   "id": "7a854ad6-cb32-498f-97e1-0fde443007ca",
   "metadata": {},
   "source": [
    "## How to use Jupyter notebook?\n",
    "\n",
    "Open a cell, write your code and execute! it's as simple as that!\n",
    "\n",
    "Some shortcuts might come in handy ... \n",
    "\n",
    " - `<Escape>` - enable <font color='green'>_**Command Mode**_</font>\n",
    " - `<Enter>` - enable <font color='green'>_**Edit Mode**_</font>\n",
    "\n",
    "When in <font color='green'>_**Command Mode**_</font>:\n",
    " - `<A>` - insert cell above\n",
    " - `<B>` - insert cell below\n",
    " - `<C>` - copy cell\n",
    " - `<V>` - Paste cell\n",
    " - `<M>` - switch cell to MarkDown\n",
    " - `<Y>` - switch cell to code \n",
    " - `<D>+<D>` - delete cell\n",
    " - `<Ctrl>+<Enter>` - run cell\n",
    " - `<Shift>+<Enter>` - run cell and select next one\n",
    " - `<Ctrl>+<Shift>+<H>` - show shortcuts\n",
    " - `<Enter>` enable _Edit mode_\n",
    "\n",
    "When in <font color='green'>_**Edit Mode**_</font>:\n",
    "\n",
    " - `<Tab>` - code completion or indent\n",
    " - `<Shift>+<Tab>` - tool tip\n",
    " - `<Ctrl>+<Enter>` - run cell\n",
    " - `<Shift>+<Enter>` - run cell and select next one\n",
    " - `<Escape>` - enable _Command mode_\n",
    "\n",
    "\n",
    "I will add a more comprehensive cheat sheet at the end ... "
   ]
  },
  {
   "cell_type": "code",
   "execution_count": 3,
   "id": "2dcbd85f-7533-4db8-86b3-163a0df6a783",
   "metadata": {},
   "outputs": [
    {
     "name": "stdout",
     "output_type": "stream",
     "text": [
      "Hello there!\n"
     ]
    }
   ],
   "source": [
    "print(\"Hello there!\")"
   ]
  },
  {
   "cell_type": "markdown",
   "id": "dc6d6c14-3cd7-49af-95cf-daf3e1d3c1e9",
   "metadata": {},
   "source": [
    "#### Enough with the talk already, let's do something!"
   ]
  },
  {
   "cell_type": "markdown",
   "id": "4630abe0-e417-46dc-bceb-c7a507093b58",
   "metadata": {},
   "source": [
    "# Diving into Python\n",
    "\n",
    "## 1. Hello World\n",
    "\n",
    "When you have installed a Python environment, the easiest way to use it, is by invoking the Python standard shell, aka REPL (Read-Eval-Print Loop). Here you can type in Python code and execute it immediately:\n",
    "\n",
    "<br>\n",
    "<div>\n",
    "<img src=\"data/drawing.svg\" width=\"600\"/>\n",
    "</div>\n",
    "\n",
    "We can use our code cells in the same manner ....\n",
    "\n",
    "Create a cell below and type in:\n",
    "```Python\n",
    "print('Hello, World!')\n",
    "```\n",
    "Then press `<shift> + <return>` to run the cell.\n"
   ]
  },
  {
   "cell_type": "code",
   "execution_count": 4,
   "id": "89268b71-94ce-440d-904e-c7cc39b8387f",
   "metadata": {},
   "outputs": [
    {
     "name": "stdout",
     "output_type": "stream",
     "text": [
      "Hello, World!\n"
     ]
    }
   ],
   "source": [
    "print(\"Hello, World!\")"
   ]
  },
  {
   "cell_type": "markdown",
   "id": "ec70c967-61fe-4c75-8263-88b12fa178ae",
   "metadata": {},
   "source": [
    "Congrats, you've created your first Python 'program'. What happened?\n",
    "By executing the command, the Python environment we are in \n",
    "immediately compiles whatever you have typed in, runs it and displays the output below.\n",
    "\n",
    "#### What's in it?\n",
    "\n",
    "**`print()`** is a so-called <font color='green'>**function**</font>, a piece of code that tells the computer, what to do. You can tell it's a function, because its followed by parentheses. \n",
    "\n",
    "Some <font color='green'>**functions**</font> are <font color='green'>**build-in**</font>, meaning that they come with each Python installation ready to be invoked or <font color='green'>**called**</font>.\\\n",
    "More <font color='green'>**functions**</font> come with external <font color='green'>**packages**</font>, that contain all kinds of useful stuff. Yet other <font color='green'>**functions**</font> you can create yourself. We will see how that works later!\n",
    "\n",
    "So your statement above is a <font color='green'>**function call**</font> to the <font color='green'>**build-in**</font> **`print()`** <font color='green'>**function**</font>, telling the computer to print whatever is enclosed in the parentheses.\n",
    "\n",
    "Inside the parentheses is a sequence of characters, <font color='salmon'>\"Hello, World!\"</font>, to be printed. \n",
    "This is indicated by quotation marks <font color='salmon'>\"\"</font> or <font color='salmon'>''</font>, so the following is equivalent:\n",
    "\n",
    "```Python\n",
    "print('Hello, World!')\n",
    "print(\"Hello, World!\")\n",
    "```\n",
    "\n",
    "This sequence of characters <font color='salmon'>\"Hello, World!\"</font> that we gave to the **`print()`** function is also called a <font color='green'>**argument**</font> of the function."
   ]
  },
  {
   "cell_type": "code",
   "execution_count": 6,
   "id": "277e85dc-b9cc-4c3d-bf32-3dae92397be0",
   "metadata": {},
   "outputs": [
    {
     "name": "stdout",
     "output_type": "stream",
     "text": [
      "Hello World!\n",
      "Hello World!\n"
     ]
    }
   ],
   "source": [
    "print('Hello World!')\n",
    "print(\"Hello World!\")"
   ]
  },
  {
   "cell_type": "markdown",
   "id": "966a9a12-aaac-4527-ab96-b27e23157fd3",
   "metadata": {},
   "source": [
    "See that each call to **`print()`** prints the output in a new line? \n",
    "\n",
    "That's because print by default ends with a <font color='green'>**newline**</font>, represented by a special character <font color='salmon'>\"\\n\"</font>.\\\n",
    "If you wanted to print several newlines in a single call, you could do this:"
   ]
  },
  {
   "cell_type": "code",
   "execution_count": 7,
   "id": "05b14f06-92f0-4e9d-9200-3a2a4a9adc78",
   "metadata": {},
   "outputs": [
    {
     "name": "stdout",
     "output_type": "stream",
     "text": [
      "John\n",
      "Michael\n",
      "Terry\n",
      "Graham\n",
      "Eric\n",
      "Terry\n",
      "\n"
     ]
    }
   ],
   "source": [
    "print(\"John\\nMichael\\nTerry\\nGraham\\nEric\\nTerry\\n\")"
   ]
  },
  {
   "cell_type": "markdown",
   "id": "c474b980-a71d-4187-8c81-95b75abc9ad1",
   "metadata": {},
   "source": [
    "You can also change this behaviour by telling **`print()`** to use another character at the end of the line.\\\n",
    "This is done by telling it exactly what the end character should be. For this, the function accepts a <font color='green'>**parameter**</font>  named **end** which we can set specifically:"
   ]
  },
  {
   "cell_type": "code",
   "execution_count": 10,
   "id": "cadd8a6e-1309-47de-8306-2313b73e9d4b",
   "metadata": {},
   "outputs": [
    {
     "name": "stdout",
     "output_type": "stream",
     "text": [
      "John Cleese\n"
     ]
    }
   ],
   "source": [
    "print(\"John\", end=\" \")\n",
    "print(\"Cleese\")"
   ]
  },
  {
   "cell_type": "markdown",
   "id": "fe57b18a-024d-47cb-8a41-6b71245ed0d7",
   "metadata": {},
   "source": [
    "You can also give more than one <font color='green'>**argument**</font> to **`print()`**:"
   ]
  },
  {
   "cell_type": "code",
   "execution_count": 12,
   "id": "97bb6dab-a976-4af2-8e6e-6eeb2936df02",
   "metadata": {},
   "outputs": [
    {
     "name": "stdout",
     "output_type": "stream",
     "text": [
      "John Cleese was born in 1939\n"
     ]
    }
   ],
   "source": [
    "print(\"John Cleese\", \"was born in\", 1939)"
   ]
  },
  {
   "cell_type": "markdown",
   "id": "0355c3f2-6a8e-4fd9-a749-9587042cd6f1",
   "metadata": {},
   "source": [
    "More on <font color='green'>**functions**</font> later ..."
   ]
  },
  {
   "cell_type": "markdown",
   "id": "0f49119d-e15e-4bd4-916e-b3035bcb732a",
   "metadata": {},
   "source": [
    "## 2. Comments, Please\n",
    "\n",
    "Okay, usually, a program consists of more than just a single line. \n",
    "\n",
    "When writing multi-line programs, you can easily end up with hundreds of lines of code. It's easy to loose track of what happens in a program. Even worse, since our stone-age brain throws out everything we do not use regularly,\n",
    "we easily forget, what that line of code is supposed to do. \n",
    "\n",
    "Thus, before you can move on to real multi-line programs you'll need to know about the <font color='green'>**comment**</font>. Type the following (and yes, the output is shown):\n",
    "```python\n",
    "# \"We are the knights who say... 'Ni!'\"\n",
    "```"
   ]
  },
  {
   "cell_type": "code",
   "execution_count": 13,
   "id": "4a5387d9-d4bd-4176-a870-2263b3c7d1ed",
   "metadata": {},
   "outputs": [],
   "source": [
    "# \"We are the knights who say... 'Ni!'\""
   ]
  },
  {
   "cell_type": "markdown",
   "id": "75f493ad-9763-4d80-b212-7d8118575ea1",
   "metadata": {},
   "source": [
    "A <font color='green'>**comment**</font> is a piece of code that is not run. In Python, you make something a <font color='green'>**comment**</font> by putting a hash <font color='075e4c'>**#**</font> in front of it. \n",
    "\n",
    "A hash comments everything after it in the line, and nothing before it. So you could type this:\n",
    "\n",
    "```python\n",
    "print(\"And now for something completely different.\") #it's Monty Pythons Flying Circus\n",
    "```"
   ]
  },
  {
   "cell_type": "code",
   "execution_count": 14,
   "id": "ced3fad2-55e7-498b-841d-b731257edce4",
   "metadata": {},
   "outputs": [
    {
     "name": "stdout",
     "output_type": "stream",
     "text": [
      "And now for something completely different.\n"
     ]
    }
   ],
   "source": [
    "print(\"And now for something completely different.\") #it's Monty Pythons Flying Circus"
   ]
  },
  {
   "cell_type": "markdown",
   "id": "40573a4f-1f56-4647-b8e9-5acfea428e70",
   "metadata": {},
   "source": [
    "The result is just the printed message, without the added comment.\n",
    "\n",
    "Now put a hash in front of your print statement:\n",
    "```python\n",
    "# print(\"And now for something completely different.\")\n",
    "```"
   ]
  },
  {
   "cell_type": "code",
   "execution_count": 16,
   "id": "602c715c-5a0d-430e-a15b-fcd392b918cf",
   "metadata": {},
   "outputs": [
    {
     "name": "stdout",
     "output_type": "stream",
     "text": [
      "Hello there\n"
     ]
    }
   ],
   "source": [
    "# print(\"And now for something completely different.\") #it's Monty Pythons Flying Circus\n",
    "print(\"Hello there\")"
   ]
  },
  {
   "cell_type": "markdown",
   "id": "a6aa65ef-a676-421a-8e50-63fa651d953d",
   "metadata": {},
   "source": [
    "You can also create multi-line <font color='green'>**comments**</font> by using triple quotes:\n",
    "\n",
    "```Python\n",
    "\"\"\"\n",
    "This is a comment\n",
    "that spans several\n",
    "lines!\n",
    "\"\"\"\n",
    "```"
   ]
  },
  {
   "cell_type": "code",
   "execution_count": 17,
   "id": "4cb6b1e3-78d3-4940-a1db-be151a8a56d0",
   "metadata": {},
   "outputs": [
    {
     "data": {
      "text/plain": [
       "'\\nThis is a comment\\nthat spans several\\nlines!\\n'"
      ]
     },
     "execution_count": 17,
     "metadata": {},
     "output_type": "execute_result"
    }
   ],
   "source": [
    "\"\"\"\n",
    "This is a comment\n",
    "that spans several\n",
    "lines!\n",
    "\"\"\""
   ]
  },
  {
   "cell_type": "markdown",
   "id": "be7986a8-6f49-438b-8ce8-7b4a08ad2e83",
   "metadata": {},
   "source": [
    "<font color='green'>**Comments**</font> are used to add helpful or necessary information for another programmer to read, but not the computer.\\\n",
    "Don't overdo it but use them to explain a difficult code section, saying what it does or what's wrong with it.\n",
    "\n",
    "You can also use it to comment bits of code that you don't want executed but you don't want to delete either by putting a hash in front.\n",
    "This is called \"commenting out\".\n",
    "\n",
    "<font color='red'>**USE COMMENTS! YOU WILL THANK YOURSELF LATER FOR DOING SO!**</font>"
   ]
  },
  {
   "cell_type": "markdown",
   "id": "651fb636-98cc-4c40-9b5c-a1c48b1ea19d",
   "metadata": {},
   "source": [
    "## 3. A glorified calculator"
   ]
  },
  {
   "cell_type": "markdown",
   "id": "e798a104-71ec-4ef6-88f3-be182a9024d3",
   "metadata": {},
   "source": [
    "This is called an <font color='green'>**expression**</font>: \n",
    "```python\n",
    "1 + 1\n",
    "```\n",
    "Type it in and execute the code."
   ]
  },
  {
   "cell_type": "code",
   "execution_count": 18,
   "id": "63220894-7421-4676-9a94-c71898aeea33",
   "metadata": {},
   "outputs": [
    {
     "data": {
      "text/plain": [
       "2"
      ]
     },
     "execution_count": 18,
     "metadata": {},
     "output_type": "execute_result"
    }
   ],
   "source": [
    "1+1"
   ]
  },
  {
   "cell_type": "markdown",
   "id": "097e7d50-1f9d-439d-a9ed-70a5df51d2eb",
   "metadata": {
    "tags": []
   },
   "source": [
    "What happens?\n",
    "\n",
    "<details>\n",
    "    <summary><font color=\"orange\"><b>Click me!</b></font></summary>\n",
    "  \n",
    "Behold, the power of addition!\n",
    "\n",
    "We can perform simple calculation by using arithmetic <font color='#a71ed9'>**operators**</font>.\n",
    "</details>"
   ]
  },
  {
   "cell_type": "code",
   "execution_count": 19,
   "id": "0cc83d91-1cfe-4b16-b341-c8ab77a030ed",
   "metadata": {},
   "outputs": [
    {
     "data": {
      "text/plain": [
       "0"
      ]
     },
     "execution_count": 19,
     "metadata": {},
     "output_type": "execute_result"
    }
   ],
   "source": [
    "1-1"
   ]
  },
  {
   "cell_type": "markdown",
   "id": "5bd9c5fb-e502-4eee-95ab-f4f90f5ff0ea",
   "metadata": {},
   "source": [
    "Try some more operators: <font color='#a71ed9'>*</font>."
   ]
  },
  {
   "cell_type": "code",
   "execution_count": 20,
   "id": "5e881c2d-537e-4f61-8d54-6bef4b139281",
   "metadata": {
    "tags": []
   },
   "outputs": [
    {
     "data": {
      "text/plain": [
       "6"
      ]
     },
     "execution_count": 20,
     "metadata": {},
     "output_type": "execute_result"
    }
   ],
   "source": [
    "2*3"
   ]
  },
  {
   "cell_type": "markdown",
   "id": "3e680ac5-17c2-4b78-9262-d310369728df",
   "metadata": {},
   "source": [
    "What happens?\n",
    "\n",
    "<details>\n",
    "    <summary><font color=\"orange\"><b>Click me!</b></font></summary>\n",
    "  Yay, <font color='#a71ed9'>*</font> means multiplication!\n",
    "</details>"
   ]
  },
  {
   "cell_type": "markdown",
   "id": "971d430d-2272-406a-9012-7ad313586d7e",
   "metadata": {},
   "source": [
    "Try these: <font color='#a71ed9'>/</font>, <font color='#a71ed9'>//</font> and <font color='#a71ed9'>%</font>."
   ]
  },
  {
   "cell_type": "code",
   "execution_count": 21,
   "id": "95d6e878-10b1-4d5b-85bb-914df2544166",
   "metadata": {
    "tags": []
   },
   "outputs": [
    {
     "data": {
      "text/plain": [
       "2.5"
      ]
     },
     "execution_count": 21,
     "metadata": {},
     "output_type": "execute_result"
    }
   ],
   "source": [
    "# /\n",
    "5 / 2"
   ]
  },
  {
   "cell_type": "code",
   "execution_count": 22,
   "id": "d4e3595f-a856-4c19-9401-645dfb738c3f",
   "metadata": {},
   "outputs": [
    {
     "data": {
      "text/plain": [
       "2"
      ]
     },
     "execution_count": 22,
     "metadata": {},
     "output_type": "execute_result"
    }
   ],
   "source": [
    "# //\n",
    "5 // 2"
   ]
  },
  {
   "cell_type": "code",
   "execution_count": 23,
   "id": "a53592b1-9a2a-416d-bba0-9b82c33a8be2",
   "metadata": {},
   "outputs": [
    {
     "data": {
      "text/plain": [
       "1"
      ]
     },
     "execution_count": 23,
     "metadata": {},
     "output_type": "execute_result"
    }
   ],
   "source": [
    "# %\n",
    "5 % 2"
   ]
  },
  {
   "cell_type": "markdown",
   "id": "fd67f8a8-44d4-4b4b-a023-5188c88222ee",
   "metadata": {},
   "source": [
    "What happens?\n",
    "\n",
    "<details>\n",
    "    <summary><font color=\"orange\"><b>Click me!</b></font></summary>\n",
    "\n",
    "With <font color='#a71ed9'>/</font>, we executed a division.\n",
    "\n",
    "With <font color='#a71ed9'>//</font>, we execute a division without remainder.\n",
    "\n",
    "With <font color='#a71ed9'>%</font>, we get the remainder or modulo instead.\n",
    "    \n",
    "</details>"
   ]
  },
  {
   "cell_type": "markdown",
   "id": "d84222f3-b5bd-4f11-8bc2-e43bfdd84aea",
   "metadata": {},
   "source": [
    "Finally <font color='#a71ed9'>**</font>."
   ]
  },
  {
   "cell_type": "code",
   "execution_count": 24,
   "id": "6370c4f3-0896-4475-830d-106bd5926418",
   "metadata": {},
   "outputs": [
    {
     "data": {
      "text/plain": [
       "27"
      ]
     },
     "execution_count": 24,
     "metadata": {},
     "output_type": "execute_result"
    }
   ],
   "source": [
    "# **\n",
    "3 **3"
   ]
  },
  {
   "cell_type": "markdown",
   "id": "d2ad723f-bb59-4e94-b9bb-866d645eb24a",
   "metadata": {},
   "source": [
    "What happens?\n",
    "\n",
    "<details>\n",
    "    <summary><font color=\"orange\"><b>Click me!</b></font></summary>\n",
    "    The operator <font color='#a71ed9'>**</font> is the exponentiation operator.</details>"
   ]
  },
  {
   "cell_type": "markdown",
   "id": "b113689d-5734-4cd5-a20f-234a338af687",
   "metadata": {},
   "source": [
    "# "
   ]
  },
  {
   "cell_type": "markdown",
   "id": "36f6b5ea-b6d8-497f-b094-48eacfdc8053",
   "metadata": {},
   "source": [
    "# Some other useful hints (for later)\n",
    "\n",
    "### Python help\n",
    "\n",
    "If you need help on some object, Python offers a <font color='green'>**build-in function**</font> called **`help()`** that will show you an help text on certain objects.\n",
    "\n",
    "Example:\n",
    "```Python\n",
    "help(print)\n",
    "```"
   ]
  },
  {
   "cell_type": "code",
   "execution_count": 25,
   "id": "2c3b9b18-8d2d-4162-8b32-15f22a3737eb",
   "metadata": {},
   "outputs": [
    {
     "name": "stdout",
     "output_type": "stream",
     "text": [
      "Help on built-in function print in module builtins:\n",
      "\n",
      "print(*args, sep=' ', end='\\n', file=None, flush=False)\n",
      "    Prints the values to a stream, or to sys.stdout by default.\n",
      "    \n",
      "    sep\n",
      "      string inserted between values, default a space.\n",
      "    end\n",
      "      string appended after the last value, default a newline.\n",
      "    file\n",
      "      a file-like object (stream); defaults to the current sys.stdout.\n",
      "    flush\n",
      "      whether to forcibly flush the stream.\n",
      "\n"
     ]
    }
   ],
   "source": [
    "help(print)"
   ]
  },
  {
   "cell_type": "markdown",
   "id": "2a28ce02-0b8e-4572-8240-adaa74edcadd",
   "metadata": {},
   "source": [
    "### How to execute shell commands from within a notebook\n",
    "\n",
    "When you type in code in a code cell and press the run button, the kernel will execute your code inside the notebook.\n",
    "But you can also execute commands of your underlying operating system from within jupyter by prepending `!`.\n",
    "\n",
    "Example:\n",
    "```\n",
    "!pwd\n",
    "```"
   ]
  },
  {
   "cell_type": "markdown",
   "id": "298e2677-cf32-4541-b9d8-b731a6d0ccdc",
   "metadata": {},
   "source": [
    "### How to get a help text in Jupyter\n",
    "\n",
    "You can get a help text (a.k.a. docstring) for most Python objects in jupyter by prepending `?`.\n",
    "\n",
    "Example:\n",
    "```\n",
    "?print\n",
    "```"
   ]
  },
  {
   "cell_type": "code",
   "execution_count": 26,
   "id": "86cf7e1f-b831-478a-9f38-cbfe79929e2d",
   "metadata": {},
   "outputs": [
    {
     "data": {
      "text/plain": [
       "\u001b[0;31mSignature:\u001b[0m \u001b[0mprint\u001b[0m\u001b[0;34m(\u001b[0m\u001b[0;34m*\u001b[0m\u001b[0margs\u001b[0m\u001b[0;34m,\u001b[0m \u001b[0msep\u001b[0m\u001b[0;34m=\u001b[0m\u001b[0;34m' '\u001b[0m\u001b[0;34m,\u001b[0m \u001b[0mend\u001b[0m\u001b[0;34m=\u001b[0m\u001b[0;34m'\\n'\u001b[0m\u001b[0;34m,\u001b[0m \u001b[0mfile\u001b[0m\u001b[0;34m=\u001b[0m\u001b[0;32mNone\u001b[0m\u001b[0;34m,\u001b[0m \u001b[0mflush\u001b[0m\u001b[0;34m=\u001b[0m\u001b[0;32mFalse\u001b[0m\u001b[0;34m)\u001b[0m\u001b[0;34m\u001b[0m\u001b[0;34m\u001b[0m\u001b[0m\n",
       "\u001b[0;31mDocstring:\u001b[0m\n",
       "Prints the values to a stream, or to sys.stdout by default.\n",
       "\n",
       "sep\n",
       "  string inserted between values, default a space.\n",
       "end\n",
       "  string appended after the last value, default a newline.\n",
       "file\n",
       "  a file-like object (stream); defaults to the current sys.stdout.\n",
       "flush\n",
       "  whether to forcibly flush the stream.\n",
       "\u001b[0;31mType:\u001b[0m      builtin_function_or_method\n"
      ]
     },
     "metadata": {},
     "output_type": "display_data"
    }
   ],
   "source": [
    "?print"
   ]
  },
  {
   "cell_type": "markdown",
   "id": "fc863b13-8adb-4ef5-90be-eade6ceef643",
   "metadata": {},
   "source": [
    "### Jupyter magic functions\n",
    "\n",
    "Jupyter notebooks offer some convenient \"magic\" functions, that we might use.\n",
    "Those magic functions start with a <font color=\"orange\">%</font> followed by a certain word. Since we might use some of them, here are a couple of useful ones:\n",
    "\n",
    "|command| what it does|\n",
    "|-|-|\n",
    "|%pwd | print your current directory (in case you don't know where your files are)|\n",
    "|%run <some_file>| runs an external script as if you call it from the command line|\n",
    "|%pip install [pkgs]| install a Python package via pip|\n",
    "|%conda install [pkgs]| install a Python package via conda|\n",
    "|%writefile <some_file> | write the content of a cell to file|\n",
    "|%cd | change current working directory|\n",
    "|%who| list all the variables currently existing|\n",
    "|%slmagic| show all magic commands|"
   ]
  },
  {
   "cell_type": "code",
   "execution_count": 27,
   "id": "36c02596-ab75-44de-aef9-24c4065014bd",
   "metadata": {},
   "outputs": [
    {
     "data": {
      "text/plain": [
       "'/talizorah/projects/fun_with_python/empty cells/fun_with_python'"
      ]
     },
     "execution_count": 27,
     "metadata": {},
     "output_type": "execute_result"
    }
   ],
   "source": [
    "%pwd"
   ]
  },
  {
   "cell_type": "markdown",
   "id": "0a8e50f6-9064-4154-a085-b9d14856d6e7",
   "metadata": {},
   "source": [
    "# Summary\n",
    "\n",
    "So now you should know:\n",
    "\n",
    " - What is Python? What is a programming language?\n",
    " - What is an interpreter?\n",
    " - What are functions, build-in functions\n",
    " - What is a jupyter notebook?\n",
    " - How to start a jupyter notebook, how to navigate it and work with it\n",
    " - How to start/restart a kernel\n",
    " - What is a cell? What can I do with it?\n",
    " - How to write your first \"Hello World!\" program\n",
    " - How to use print statements\n",
    " - What is an argument? What is a parameter?\n",
    " - What are comments and why do they matter\n",
    " - How to use Python as a glorified calculator\n",
    " - How to get help, when all other lights go out\n",
    " "
   ]
  },
  {
   "cell_type": "markdown",
   "id": "646bfcbf-3197-4c9b-b8d5-cc7c5f19f826",
   "metadata": {},
   "source": [
    "# Exercises\n",
    "\n",
    "## Exercise 1:\n",
    "\n",
    "Write an expression below that calculates what time (p.m.!) it will be exactly 6 hours after 10 a.m. in the morning."
   ]
  },
  {
   "cell_type": "code",
   "execution_count": null,
   "id": "afd34f7c-6146-4ecc-b938-55d165b0789b",
   "metadata": {},
   "outputs": [],
   "source": []
  },
  {
   "cell_type": "markdown",
   "id": "d626f193-a5e5-400e-a97b-e508d87cceab",
   "metadata": {},
   "source": [
    "## Exercise 2:\n",
    "\n",
    "Type in the cell below an expression to find out how many seconds are there in a 365-day year."
   ]
  },
  {
   "cell_type": "code",
   "execution_count": null,
   "id": "8543e230-612a-440b-b6c9-6940e87b6665",
   "metadata": {},
   "outputs": [],
   "source": []
  },
  {
   "cell_type": "markdown",
   "id": "d3259860-f985-4cf0-b75c-cd1b72db06e0",
   "metadata": {},
   "source": [
    "## Exercise 3:\n",
    "\n",
    "The Earth can be approximated as a sphere with a radius of 6370 km. Use the cell below to find out the volume of such a shape in cubic meters."
   ]
  },
  {
   "cell_type": "code",
   "execution_count": null,
   "id": "79459e4c-2d7c-4ac9-be71-1e97b189e988",
   "metadata": {},
   "outputs": [],
   "source": []
  },
  {
   "cell_type": "markdown",
   "id": "752de0ba-6309-467a-b6c7-1bf595ff0969",
   "metadata": {},
   "source": [
    "## Exercise 4:\n",
    "    \n",
    "Get the answer of the following expression, using the cell below:\n",
    "\n",
    "$$\\frac{1}{2}+\\frac{\\frac{1}{3}}{\\frac{1}{4}+\\frac{1}{5}}$$"
   ]
  },
  {
   "cell_type": "code",
   "execution_count": null,
   "id": "feeda453-b1db-4c17-83a6-e4578dd997ef",
   "metadata": {},
   "outputs": [],
   "source": []
  },
  {
   "cell_type": "markdown",
   "id": "0e0165c5-22b9-4939-a8bf-12ab0838c5af",
   "metadata": {},
   "source": [
    "## A more comprehensive cheat sheet at the end &#x1F600;\n",
    "\n",
    "<br>\n",
    "<div>\n",
    "<img src=\"data/cheatsheet.png\" width=\"700\"/>\n",
    "</div>"
   ]
  },
  {
   "cell_type": "markdown",
   "id": "b7ad63bb-af85-4d50-bd52-45c416b70fd1",
   "metadata": {},
   "source": [
    "< [Contents](Python%20Crash%20ToC.ipynb) | [2 - Literally variable](Python%20Crash%202%20-%20Literally%20variable.ipynb) >"
   ]
  }
 ],
 "metadata": {
  "kernelspec": {
   "display_name": "Python 3 (ipykernel)",
   "language": "python",
   "name": "python3"
  },
  "language_info": {
   "codemirror_mode": {
    "name": "ipython",
    "version": 3
   },
   "file_extension": ".py",
   "mimetype": "text/x-python",
   "name": "python",
   "nbconvert_exporter": "python",
   "pygments_lexer": "ipython3",
   "version": "3.12.3"
  }
 },
 "nbformat": 4,
 "nbformat_minor": 5
}
